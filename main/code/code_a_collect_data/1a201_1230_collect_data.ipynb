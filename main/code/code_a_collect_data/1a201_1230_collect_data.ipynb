{
 "cells": [
  {
   "cell_type": "code",
   "execution_count": null,
   "id": "0f5a5272",
   "metadata": {
    "canvas": {
     "comments": [],
     "componentType": "CodeCell",
     "copiedOriginId": null,
     "diskcache": false,
     "headerColor": "none",
     "id": "55f81917-ef2c-4fa8-94e3-96a87231d70d",
     "isComponent": false,
     "name": "",
     "parents": []
    },
    "tags": []
   },
   "outputs": [],
   "source": [
    "import pandas as pd\n",
    "import numpy as np\n",
    "import dataframe_image as dfi\n",
    "\n",
    "import pickle"
   ]
  },
  {
   "cell_type": "code",
   "execution_count": null,
   "id": "1500cc81",
   "metadata": {},
   "outputs": [],
   "source": [
    "# 데이터프레임을 그림 파일로 저장\n",
    "option = 3 # 1 : dfi / 2 : df2img / 3 : do nothing\n",
    "import df2img\n",
    "def savedf(df, path):\n",
    "    if option == 1:\n",
    "        dfi.export(df, path)\n",
    "    if option == 2:\n",
    "        df2img.save_dataframe(fig=df2img.plot_dataframe(df), filename=path)\n",
    "    if option == 3:\n",
    "        pass"
   ]
  },
  {
   "attachments": {},
   "cell_type": "markdown",
   "id": "75a835a5",
   "metadata": {},
   "source": [
    "# 경기도 42개 지역(시, 군, 구) 선정"
   ]
  },
  {
   "cell_type": "code",
   "execution_count": null,
   "id": "9bd68d67",
   "metadata": {
    "canvas": {
     "comments": [],
     "componentType": "CodeCell",
     "copiedOriginId": null,
     "diskcache": false,
     "headerColor": "none",
     "id": "74c9f54c-374f-4c3c-b90b-fae859732167",
     "isComponent": false,
     "name": "",
     "parents": []
    }
   },
   "outputs": [],
   "source": [
    "# 행정구역상 경기도에 소속되어 있는 지역들 중\n",
    "# 구(區)가 존재하지 않는 시(市)의 경우에는 시를\n",
    "# 구가 존재하는 시는 구를 고려하면, 총 42개의 지역을 선정할 수 있다.\n",
    "# 출처 : https://www.gg.go.kr/contents/contents.do?ciIdx=468&menuId=1831\n",
    "regions = pd.read_csv(\"../../data/data_b_raw/2b200_1230_rows.csv\")"
   ]
  },
  {
   "cell_type": "code",
   "execution_count": null,
   "id": "3985ae4d-a3c7-42e2-b124-cbd219f50ad1",
   "metadata": {
    "canvas": {
     "comments": [],
     "componentType": "CodeCell",
     "copiedOriginId": null,
     "diskcache": false,
     "headerColor": "inherit",
     "id": "c7bd68f7-df3e-41aa-9a1f-9cde6b90ae48",
     "isComponent": false,
     "name": "",
     "parents": []
    }
   },
   "outputs": [],
   "source": [
    "# 지역목록 1 ; \"xx시\", \"xx군\", \"xx시 xx구\"\n",
    "regions = sorted(list(regions['지역']))\n",
    "print(regions)"
   ]
  },
  {
   "cell_type": "code",
   "execution_count": null,
   "id": "6357b6b8-fd12-4149-bb39-e34964a8c902",
   "metadata": {
    "canvas": {
     "comments": [],
     "componentType": "CodeCell",
     "copiedOriginId": null,
     "diskcache": false,
     "headerColor": "inherit",
     "id": "1dfd5dc9-1102-4683-be9b-d1bf664e59e7",
     "isComponent": false,
     "name": "",
     "parents": []
    }
   },
   "outputs": [],
   "source": [
    "# 지역목록 2 ; \"xx시\", \"xx군\", \"xx구\"\n",
    "regions_shortened = [i.split() for i in regions] # list of lists\n",
    "regions_shortened = sum(regions_shortened, []) # flattening\n",
    "regions_shortened = [region for region in regions_shortened if region not in ['고양시', '성남시', '수원시', '안산시', '안양시', '용인시']]\n",
    "print(regions_shortened)"
   ]
  },
  {
   "cell_type": "code",
   "execution_count": null,
   "id": "19c5693b-1f87-4502-8b05-73e5918ebd29",
   "metadata": {
    "canvas": {
     "comments": [],
     "componentType": "CodeCell",
     "copiedOriginId": null,
     "diskcache": false,
     "headerColor": "inherit",
     "id": "c4475a49-d468-4f5e-be5d-41e3a6fc5ae6",
     "isComponent": false,
     "name": "",
     "parents": []
    }
   },
   "outputs": [],
   "source": [
    "shorten = dict(zip(regions, regions_shortened)) # \"xx시 xx구\"를 \"xx구\"로 바꾼다.\n",
    "lengthen = dict(zip(regions_shortened, regions)) # \"xx구\"를 \"xx시 xx구\"로 바꾼다.\n",
    "print(shorten['수원시 팔달구'])\n",
    "print(lengthen['팔달구'])"
   ]
  },
  {
   "cell_type": "code",
   "execution_count": null,
   "id": "3efe676a",
   "metadata": {},
   "outputs": [],
   "source": [
    "np.array(regions)[np.array([len(region.split()) for region in regions])==1]\n",
    "np.array(regions)[np.array([len(region.split()) for region in regions])==2]\n"
   ]
  },
  {
   "cell_type": "code",
   "execution_count": null,
   "id": "01383dc7",
   "metadata": {
    "canvas": {
     "comments": [],
     "componentType": "CodeCell",
     "copiedOriginId": null,
     "diskcache": false,
     "headerColor": "none",
     "id": "1ea10314-0f44-49a9-80b5-4f58926c5716",
     "isComponent": false,
     "name": "",
     "parents": []
    }
   },
   "outputs": [],
   "source": [
    "# 시 목록 # 25개\n",
    "city_list = np.array(regions)[np.array([len(region.split()) for region in regions])==1]\n",
    "# 구 목록 1 # 17개\n",
    "district_list = np.array(regions)[np.array([len(region.split()) for region in regions])==2]\n",
    "# # 구 목록 2 # 17개\n",
    "district_list_ = [shorten[region] for region in district_list]\n",
    "print(\"시 목록(\"+str(len(city_list))+\"개) : \")\n",
    "print(city_list)\n",
    "print(\"구 목록(\"+str(len(district_list))+\"개) : \")\n",
    "print(district_list)\n",
    "print(district_list_)"
   ]
  },
  {
   "attachments": {},
   "cell_type": "markdown",
   "id": "ff685da1",
   "metadata": {},
   "source": [
    "## 지역별 위도, 경도"
   ]
  },
  {
   "cell_type": "code",
   "execution_count": null,
   "id": "d4e93f84",
   "metadata": {},
   "outputs": [],
   "source": [
    "locations = pd.read_csv(\"../../data/data_b_raw/2b205_0110_locations.csv\")\n",
    "locations.set_index(\"지역\", inplace=True)\n",
    "locations.rename(columns={'latitude':'위도', 'longitude':'경도'}, inplace=True)\n",
    "locations.head()"
   ]
  },
  {
   "attachments": {},
   "cell_type": "markdown",
   "id": "9903ad7e",
   "metadata": {
    "canvas": {
     "comments": [],
     "componentType": "CodeCell",
     "copiedOriginId": null,
     "diskcache": false,
     "headerColor": "none",
     "id": "a13bb361-9a20-430f-8e99-042a7d428c21",
     "isComponent": false,
     "name": "",
     "parents": []
    }
   },
   "source": [
    "# 각 feature별 데이터 수집"
   ]
  },
  {
   "cell_type": "markdown",
   "id": "e9508326",
   "metadata": {
    "canvas": {
     "comments": [],
     "componentType": "CodeCell",
     "copiedOriginId": null,
     "diskcache": false,
     "headerColor": "none",
     "id": "6ab45911-2383-40e2-b5e3-4701fa505655",
     "isComponent": false,
     "name": "",
     "parents": []
    }
   },
   "source": [
    "## 쏘카존 수 : `zcount`"
   ]
  },
  {
   "cell_type": "code",
   "execution_count": null,
   "id": "06496c9a",
   "metadata": {},
   "outputs": [],
   "source": [
    "remove_u3000 = { \n",
    "    '수원시\\u3000팔달구':'수원시 팔달구', '수원시\\u3000영통구':'수원시 영통구', '용인시\\u3000기흥구':'용인시 기흥구',\n",
    "    '고양시\\u3000일산동구':'고양시 일산동구', '안양시\\u3000동안구':'안양시 동안구', '고양시\\u3000일산서구':'고양시 일산서구',\n",
    "    '성남시\\u3000수정구':'성남시 수정구', '수원시\\u3000장안구':'수원시 장안구', '성남시\\u3000중원구':'성남시 중원구',\n",
    "    '안산시\\u3000단원구':'안산시 단원구', '용인시\\u3000수지구':'용인시 수지구', '고양시\\u3000덕양구':'고양시 덕양구',\n",
    "    '용인시\\u3000처인구':'용인시 처인구', '안양시\\u3000만안구':'안양시 만안구', '성남시\\u3000분당구':'성남시 분당구',\n",
    "    '수원시\\u3000권선구':'수원시 권선구', '안산시\\u3000상록구':'안산시 상록구'}\n",
    "with open('results/1b203_0208_remove_u3000.pkl', 'wb') as f:\n",
    "    pickle.dump(remove_u3000, f)\n"
   ]
  },
  {
   "cell_type": "code",
   "execution_count": null,
   "id": "05597a9c",
   "metadata": {
    "canvas": {
     "comments": [],
     "componentType": "CodeCell",
     "copiedOriginId": null,
     "diskcache": false,
     "headerColor": "none",
     "id": "2af4647c-af8b-4416-b4f3-e000614bb199",
     "isComponent": false,
     "name": "",
     "parents": []
    }
   },
   "outputs": [],
   "source": [
    "# 쏘카존 갯수 데이터(김선중)\n",
    "# 출처 : (aiffel, going deeper 4-6)\n",
    "zones = pd.read_csv(\"../../data/data_b_raw/2b201_1228_20210823_socar_zone.csv\")\n",
    "zones = zones[zones['region1']==\"경기도\"] # 경기도 자료만 자르기\n",
    "zones = zones.reset_index(drop=True)\n",
    "zones['region2'].replace(remove_u3000, inplace=True)\n",
    "zones.head()"
   ]
  },
  {
   "cell_type": "code",
   "execution_count": null,
   "id": "9890069f",
   "metadata": {
    "canvas": {
     "comments": [],
     "componentType": "CodeCell",
     "copiedOriginId": null,
     "diskcache": false,
     "headerColor": "none",
     "id": "df049917-f236-4f67-aee0-203cab0c9c42",
     "isComponent": false,
     "name": "",
     "parents": []
    }
   },
   "outputs": [],
   "source": [
    "# 각 지역별 쏘카존 수 데이터 생성\n",
    "zcount = pd.DataFrame(zones['region2'].value_counts())\n",
    "zcount.columns = ['쏘카존 수']\n",
    "zcount = zcount.reindex(regions)\n",
    "zcount.head()"
   ]
  },
  {
   "cell_type": "markdown",
   "id": "da7e1d5b",
   "metadata": {
    "canvas": {
     "comments": [],
     "componentType": "CodeCell",
     "copiedOriginId": null,
     "diskcache": false,
     "headerColor": "none",
     "id": "0d8ad814-11ae-4696-bbf6-da95fc141721",
     "isComponent": false,
     "name": "",
     "parents": []
    }
   },
   "source": [
    "## 토지용도 : `land_use_`"
   ]
  },
  {
   "cell_type": "code",
   "execution_count": null,
   "id": "48dc1e04",
   "metadata": {
    "canvas": {
     "comments": [],
     "componentType": "CodeCell",
     "copiedOriginId": null,
     "diskcache": false,
     "headerColor": "none",
     "id": "ecfb8561-6dce-4d79-bcfd-bfe663019f93",
     "isComponent": false,
     "name": "",
     "parents": []
    }
   },
   "outputs": [],
   "source": [
    "# 동, 면별 토지용도 데이터 1(윤겸님)\n",
    "# 데이터를 얻은 곳 : http://gris.gg.go.kr/ost/oneStopView.do?pnu=4150010300104450002\n",
    "land_use1 = pd.read_csv(\"../../data/data_b_raw/2b202_1228_토지이용계획_차윤겸_최종.csv\", encoding='CP949')\n",
    "land_use2 = pd.read_csv(\"../../data/data_b_raw/2b203_1228_토지이용계획_김선중_최종.csv\",encoding='CP949')\n",
    "mask = land_use1['시, 구'].isin(list(set(land_use1['시, 구']).intersection(land_use2['시, 구'])))\n",
    "land_use1 = land_use1[~mask]\n",
    "land_use = pd.concat([land_use1,land_use2])\n",
    "land_use.reset_index(inplace=True, drop=True)\n",
    "land_use"
   ]
  },
  {
   "cell_type": "code",
   "execution_count": null,
   "id": "8d916181",
   "metadata": {
    "canvas": {
     "comments": [],
     "componentType": "CodeCell",
     "copiedOriginId": null,
     "diskcache": false,
     "headerColor": "none",
     "id": "ef5f70ac-89fc-4cf1-8127-a2f4b30f86c3",
     "isComponent": false,
     "name": "",
     "parents": []
    }
   },
   "outputs": [],
   "source": [
    "land_use_ = pd.DataFrame(index = regions)\n",
    "nature_list = []\n",
    "dwell_list = []\n",
    "industry_list = []\n",
    "commerce_list = []\n",
    "for region in regions:\n",
    "    ratio_region = land_use[land_use['시, 구']==region]\n",
    "    total_number = len(ratio_region)\n",
    "    nature_list.append(sum(ratio_region['토지용도']=='녹지')/total_number)\n",
    "    dwell_list.append(sum(ratio_region['토지용도']=='주거')/total_number)\n",
    "    industry_list.append(sum(ratio_region['토지용도']=='공업')/total_number)\n",
    "    commerce_list.append(sum(ratio_region['토지용도']=='상업')/total_number)\n",
    "# 각 지역별 녹지/주거/공업/상업의 동/면 비율 데이터 생성\n",
    "land_use_['녹지'] = nature_list\n",
    "land_use_['주거'] = dwell_list\n",
    "land_use_['공업'] = industry_list\n",
    "land_use_['상업'] = commerce_list\n",
    "land_use_.head()"
   ]
  },
  {
   "cell_type": "markdown",
   "id": "f87b1668",
   "metadata": {
    "canvas": {
     "comments": [],
     "componentType": "CodeCell",
     "copiedOriginId": null,
     "diskcache": false,
     "headerColor": "none",
     "id": "87fae655-f1ed-4225-821a-a9f722d49cc8",
     "isComponent": false,
     "name": "",
     "parents": []
    }
   },
   "source": [
    "## 인구 : `pop`"
   ]
  },
  {
   "cell_type": "code",
   "execution_count": null,
   "id": "18ce86d4",
   "metadata": {
    "canvas": {
     "comments": [],
     "componentType": "CodeCell",
     "copiedOriginId": null,
     "diskcache": false,
     "headerColor": "none",
     "id": "93bf10a2-7923-48ec-a206-6c273d24a68c",
     "isComponent": false,
     "name": "",
     "parents": []
    }
   },
   "outputs": [],
   "source": [
    "# 경기지역 행정구역별 인구 데이터(연수님)\n",
    "# 데이터를 얻은 곳 : [출처필요]\n",
    "pop = pd.read_csv(\"../../data/data_b_raw/2b301_1227_행정구역_시군구_별__성별_인구수.csv\", encoding='cp949')\n",
    "pop.head()"
   ]
  },
  {
   "cell_type": "code",
   "execution_count": null,
   "id": "7380d2f5",
   "metadata": {
    "canvas": {
     "comments": [],
     "componentType": "CodeCell",
     "copiedOriginId": null,
     "diskcache": false,
     "headerColor": "none",
     "id": "d29b0633-d2b2-4271-b1eb-da4de5b43a25",
     "isComponent": false,
     "name": "",
     "parents": []
    }
   },
   "outputs": [],
   "source": [
    "pop.set_index('행정구역(시군구)별',inplace=True)\n",
    "pop.drop(['행정구역(시군구)별', '경기도', '수원시', '성남시', '안양시', '송탄출장소', '안중출장소', '안산시', '고양시',\n",
    "           '풍양출장소', '용인시', '화성시동부출장소', '화성시동탄출장소'], inplace=True)\n",
    "pop = pd.DataFrame(pop['2022.11'])\n",
    "pop.reset_index(inplace=True)\n",
    "pop['행정구역(시군구)별'].replace(lengthen, inplace=True) # \"xx구\"를 \"xx시 xx구\"로 바꾼다.\n",
    "pop.rename(columns={'2022.11':'인구'},inplace=True)\n",
    "pop.set_index('행정구역(시군구)별',inplace=True)\n",
    "pop = pop.reindex(regions)\n",
    "pop.head()"
   ]
  },
  {
   "cell_type": "code",
   "execution_count": null,
   "id": "d9bb2ec6",
   "metadata": {
    "canvas": {
     "comments": [],
     "componentType": "CodeCell",
     "copiedOriginId": null,
     "diskcache": false,
     "headerColor": "none",
     "id": "da39da4e-f2d3-4ec5-9c21-a428116c6139",
     "isComponent": false,
     "name": "",
     "parents": []
    }
   },
   "outputs": [],
   "source": [
    "sorted(pop.index.unique()) == regions # 앞서 선정한 42개 지역 목록과 일치한다."
   ]
  },
  {
   "cell_type": "markdown",
   "id": "435486f4",
   "metadata": {
    "canvas": {
     "comments": [],
     "componentType": "CodeCell",
     "copiedOriginId": null,
     "diskcache": false,
     "headerColor": "none",
     "id": "8bef1d4c-9968-40f0-a4ad-6eb28b443287",
     "isComponent": false,
     "name": "",
     "parents": []
    }
   },
   "source": [
    "## 대학교 수 : `univ_`"
   ]
  },
  {
   "cell_type": "code",
   "execution_count": null,
   "id": "bcbef0c8",
   "metadata": {
    "canvas": {
     "comments": [],
     "componentType": "CodeCell",
     "copiedOriginId": null,
     "diskcache": false,
     "headerColor": "none",
     "id": "95dd30bf-8e43-41f4-94d4-11c081e3f476",
     "isComponent": false,
     "name": "",
     "parents": []
    }
   },
   "outputs": [],
   "source": [
    "# 경기지역 대학교 목록(연수님)\n",
    "# 데이터를 얻은 곳 : [출처필요]\n",
    "univ = pd.read_csv(\"../../data/data_b_raw/2b302_1229_경기대학교.csv\", encoding='cp949')\n",
    "univ.head()"
   ]
  },
  {
   "cell_type": "code",
   "execution_count": null,
   "id": "9ce1135a",
   "metadata": {
    "canvas": {
     "comments": [],
     "componentType": "CodeCell",
     "copiedOriginId": null,
     "diskcache": false,
     "headerColor": "none",
     "id": "83f6ac57-c0da-45fe-afbf-a6b4bf74f393",
     "isComponent": false,
     "name": "",
     "parents": []
    }
   },
   "outputs": [],
   "source": [
    "univ = univ[['Unnamed: 13', 'Unnamed: 14', 'Unnamed: 15']]\n",
    "univ.dropna(inplace=True)\n",
    "univ.rename(columns={'Unnamed: 13':'도', 'Unnamed: 14':'시', 'Unnamed: 15':'세부'}, inplace=True) # 세부 : 구, 읍, 면, 로, 길\n",
    "univ.head()"
   ]
  },
  {
   "cell_type": "code",
   "execution_count": null,
   "id": "cae4a25e",
   "metadata": {
    "canvas": {
     "comments": [],
     "componentType": "CodeCell",
     "copiedOriginId": null,
     "diskcache": false,
     "headerColor": "none",
     "id": "5ecf7b5d-8c84-4590-b537-570368f8912e",
     "isComponent": false,
     "name": "",
     "parents": []
    }
   },
   "outputs": [],
   "source": [
    "print('도 :', univ['도'].unique())\n",
    "print('시 :', univ['시'].unique())\n",
    "print('세부 :', univ['세부'].unique())"
   ]
  },
  {
   "cell_type": "code",
   "execution_count": null,
   "id": "0b7ae065",
   "metadata": {
    "canvas": {
     "comments": [],
     "componentType": "CodeCell",
     "copiedOriginId": null,
     "diskcache": false,
     "headerColor": "none",
     "id": "3474f4d1-6ced-4095-8f73-f8a457542542",
     "isComponent": false,
     "name": "",
     "parents": []
    }
   },
   "outputs": [],
   "source": [
    "# sanity check\n",
    "city = set(np.where(univ['시'].isin(city_list))[0]) # 시(city_list)에 속해있는 대학교들의 index\n",
    "district = set(np.where(univ['세부'].isin(district_list_))[0]) # 구(district_list)에 속해있는 대학교들의 index\n",
    "print(set.intersection(city,district)) # city와 district는 겹치지 않는다.\n",
    "print(set(np.arange(248)) == set.union(city,district)) # city와 district를 합치면 248개가 다 나온다."
   ]
  },
  {
   "cell_type": "code",
   "execution_count": null,
   "id": "37bc591d",
   "metadata": {
    "canvas": {
     "comments": [],
     "componentType": "CodeCell",
     "copiedOriginId": null,
     "diskcache": false,
     "headerColor": "none",
     "id": "0e47691b-8f4e-4d5a-9eef-79ac16b3f631",
     "isComponent": false,
     "name": "",
     "parents": []
    }
   },
   "outputs": [],
   "source": [
    "# 지역 컬럼 생성 : 구가 없는 시면 시 이름을, 구가 있는 시면 구 이름을 배정한다.\n",
    "city_series = univ['시'][univ['시'].isin(city_list)]\n",
    "district_series = univ['세부'][univ['세부'].isin(district_list_)]\n",
    "univ['지역'] = pd.concat([city_series, district_series])\n",
    "univ.head()"
   ]
  },
  {
   "cell_type": "code",
   "execution_count": null,
   "id": "35b2d207",
   "metadata": {
    "canvas": {
     "comments": [],
     "componentType": "CodeCell",
     "copiedOriginId": null,
     "diskcache": false,
     "headerColor": "none",
     "id": "69dd512f-2bad-4502-962b-9e85f6b61481",
     "isComponent": false,
     "name": "",
     "parents": []
    }
   },
   "outputs": [],
   "source": [
    "# 앞서 선정한 42개 지역 목록에 포함된다. 즉, 일치하지는 않는다. 왜냐하면, 대학교가 없는 지역이 존재하기 때문이다.\n",
    "print(sorted(univ['지역'].unique())==regions_shortened)\n",
    "print(len(univ['지역'].unique()))\n",
    "print(set(univ['지역'].unique()).issubset(set(regions_shortened)))"
   ]
  },
  {
   "cell_type": "code",
   "execution_count": null,
   "id": "c7371b11",
   "metadata": {
    "canvas": {
     "comments": [],
     "componentType": "CodeCell",
     "copiedOriginId": null,
     "diskcache": false,
     "headerColor": "none",
     "id": "2e1f4f43-4be7-4e2e-8db1-33f5b33d4691",
     "isComponent": false,
     "name": "",
     "parents": []
    }
   },
   "outputs": [],
   "source": [
    "# 지역 컬럼의 이름을 regions에서의 양식과 일치시킨다.\n",
    "univ['지역'].replace(shorten, inplace=True) \n",
    "univ.head()"
   ]
  },
  {
   "cell_type": "code",
   "execution_count": null,
   "id": "98662faa",
   "metadata": {
    "canvas": {
     "comments": [],
     "componentType": "CodeCell",
     "copiedOriginId": null,
     "diskcache": false,
     "headerColor": "none",
     "id": "421c5fb0-0af6-4ec8-97d1-322d258d01a3",
     "isComponent": false,
     "name": "",
     "parents": []
    }
   },
   "outputs": [],
   "source": [
    "# 각 지역별 대학교의 개수 데이터 생성\n",
    "univ_ = pd.DataFrame(index = regions)\n",
    "univ_['대학교 수'] = [sum(univ['지역']==region) for region in regions]\n",
    "univ_.head()"
   ]
  },
  {
   "cell_type": "markdown",
   "id": "d393b31d",
   "metadata": {
    "canvas": {
     "comments": [],
     "componentType": "CodeCell",
     "copiedOriginId": null,
     "diskcache": false,
     "headerColor": "none",
     "id": "5732802a-08f6-441e-80f1-bd5cedff133e",
     "isComponent": false,
     "name": "",
     "parents": []
    }
   },
   "source": [
    "## 아파트 수 : `apartment`"
   ]
  },
  {
   "cell_type": "code",
   "execution_count": null,
   "id": "8f3f66bd",
   "metadata": {
    "canvas": {
     "comments": [],
     "componentType": "CodeCell",
     "copiedOriginId": null,
     "diskcache": false,
     "headerColor": "none",
     "id": "6db0fc8f-fb0f-49e7-b257-08b477c34c04",
     "isComponent": false,
     "name": "",
     "parents": []
    }
   },
   "outputs": [],
   "source": [
    "apartment = pd.read_csv(\"../../data/data_b_raw/2b101_1229_경기도 아파트 현황.csv\")\n",
    "sorted(apartment['경기도 아파트현황'].unique()) == regions # 앞서 선정한 42개 지역 목록과 일치한다.\n",
    "# 경기지역 아파트 목록(윤겸님)\n",
    "# 데이터를 얻은 곳 : https://data.gg.go.kr/portal/data/service/selectServicePage.do?infId=VUPYJVKMYEYIKOQDILSR30099546&infSeq=1"
   ]
  },
  {
   "cell_type": "code",
   "execution_count": null,
   "id": "972e97d6",
   "metadata": {
    "canvas": {
     "comments": [],
     "componentType": "CodeCell",
     "copiedOriginId": null,
     "diskcache": false,
     "headerColor": "none",
     "id": "30c6093c-e046-43db-a837-ded66b9d2d41",
     "isComponent": false,
     "name": "",
     "parents": []
    }
   },
   "outputs": [],
   "source": [
    "apartment.rename(columns={'경기도 아파트현황':'지역', '아파트수':'아파트 수'}, inplace=True)\n",
    "apartment.set_index('지역',inplace=True)\n",
    "apartment = apartment.reindex(regions)\n",
    "apartment.head()"
   ]
  },
  {
   "cell_type": "markdown",
   "id": "cbe7e4c6-d939-41b9-862d-3793e14bdeb3",
   "metadata": {
    "canvas": {
     "comments": [],
     "componentType": "CodeCell",
     "copiedOriginId": null,
     "diskcache": false,
     "headerColor": "inherit",
     "id": "d5c3617c-3ef2-41d6-97ec-352f2cb34acb",
     "isComponent": false,
     "name": "",
     "parents": []
    }
   },
   "source": [
    "## 지하철역 수 : `subway_`"
   ]
  },
  {
   "cell_type": "code",
   "execution_count": null,
   "id": "f3b8f634-ab48-470a-868d-1532d4b753ec",
   "metadata": {
    "canvas": {
     "comments": [],
     "componentType": "CodeCell",
     "copiedOriginId": null,
     "diskcache": false,
     "headerColor": "inherit",
     "id": "e2070b4c-6f0e-4f45-aec2-63db178352c9",
     "isComponent": false,
     "name": "",
     "parents": []
    }
   },
   "outputs": [],
   "source": [
    "subway = pd.read_csv(\"../../data/data_b_raw/2b204_1229_국가철도공단_1_9_경전철.csv\", encoding='CP949')\n",
    "subway.head()\n",
    "# 경기지역 지하철역 목록(연수님)\n",
    "# 데이터를 얻은 곳 : https://www.data.go.kr/data/15041113/fileData.do 등 다수"
   ]
  },
  {
   "cell_type": "code",
   "execution_count": null,
   "id": "be516626-7bbe-4497-a7b4-d1af9e8891fb",
   "metadata": {
    "canvas": {
     "comments": [],
     "componentType": "CodeCell",
     "copiedOriginId": null,
     "diskcache": false,
     "headerColor": "inherit",
     "id": "a6881b2f-4c25-474f-b743-18e208084021",
     "isComponent": false,
     "name": "",
     "parents": []
    }
   },
   "outputs": [],
   "source": [
    "cmask = subway.isin(regions+regions_shortened).any(axis='rows') # column mask\n",
    "# subway의 원소들 중 '42개 지역'을 하나라도 포함하고 있는 열들에 대한 mask\n",
    "cmask = np.where(cmask)[0] # [5,6,7]\n",
    "subway = subway.iloc[:,cmask] # subway에서 5, 6, 7번에 해당하는 열들만 추린다.\n",
    "subway.head()"
   ]
  },
  {
   "cell_type": "code",
   "execution_count": null,
   "id": "59e3bab9-377d-447f-bd10-3103f2ce2ea1",
   "metadata": {
    "canvas": {
     "comments": [],
     "componentType": "CodeCell",
     "copiedOriginId": null,
     "diskcache": false,
     "headerColor": "inherit",
     "id": "2f42c6e8-7860-4d08-8ef2-e8cf2d513458",
     "isComponent": false,
     "name": "",
     "parents": []
    }
   },
   "outputs": [],
   "source": [
    "rmask = subway.isin(regions+regions_shortened).any(axis='columns') # row mask\n",
    "# subway의 원소들 중 '42개 지역'을 하나라도 포함하고 있는 행들에 대한 mask\n",
    "subway = subway[rmask] # subway에서 '42개 지역'을 하나라도 포함하고 있는 행들만 추린다.\n",
    "subway.rename(columns={'Unnamed: 5':'도', 'Unnamed: 6':'시', 'Unnamed: 7':'세부'}, inplace=True) # 컬럼 명을 '도'와 '시', '세부'로 변경\n",
    "subway.head()"
   ]
  },
  {
   "cell_type": "code",
   "execution_count": null,
   "id": "dec1005d-b11f-4c7f-abeb-96b33e68bf71",
   "metadata": {
    "canvas": {
     "comments": [],
     "componentType": "CodeCell",
     "copiedOriginId": "46485b7f-2a1f-462a-bd4e-e1f739f5b693",
     "diskcache": false,
     "headerColor": "inherit",
     "id": "a9a2f3b9-57ae-4a9f-991f-356082cf6acd",
     "isComponent": false,
     "name": "",
     "parents": []
    }
   },
   "outputs": [],
   "source": [
    "# sanity check\n",
    "# 244 = 2+166+76 = 2+(144+22)+76, 잘 됐다.\n",
    "print(subway.isin(regions+regions_shortened)[\"도\"].sum()) # 2\n",
    "print(subway.isin(regions+regions_shortened)[\"시\"].sum()) # 166\n",
    "print(subway.isin(regions+regions_shortened)[\"세부\"].sum()) # 76\n",
    "print(subway.isin(city_list)[\"도\"].sum()) # 2\n",
    "print(subway.isin(city_list)[\"시\"].sum()) # 144\n",
    "print(subway.isin(district_list)[\"시\"].sum()) # 22\n",
    "print(subway.isin(district_list)[\"세부\"].sum()) # 76"
   ]
  },
  {
   "cell_type": "code",
   "execution_count": null,
   "id": "5aa1b0af-c049-49f8-9c1c-a2552a4aa15b",
   "metadata": {
    "canvas": {
     "comments": [],
     "componentType": "CodeCell",
     "copiedOriginId": null,
     "diskcache": false,
     "headerColor": "inherit",
     "id": "293fad08-b7ba-49b0-844f-1ff70e028331",
     "isComponent": false,
     "name": "",
     "parents": []
    }
   },
   "outputs": [],
   "source": [
    "city1 = set(np.where(subway['도'].isin(city_list))[0])\n",
    "city2 = set(np.where(subway['시'].isin(city_list))[0])\n",
    "city = set.union(city1,city2) # '시'에 속해있는 지하철역들의 index\n",
    "district1 = set(np.where(subway['시'].isin(district_list))[0])\n",
    "district2 = set(np.where(subway['세부'].isin(district_list))[0])\n",
    "district = set.union(district1, district2) # '구'에 속해있는 지하철역들의 index\n",
    "print(set.intersection(city,district)) # city와 district는 겹치지 않는다.\n",
    "print(set(np.arange(244)) == set.union(city,district)) # city와 district를 합치면 244개가 다 나온다."
   ]
  },
  {
   "cell_type": "code",
   "execution_count": null,
   "id": "bcd01fbf-2558-4b4c-b980-9ddfc3ad268c",
   "metadata": {
    "canvas": {
     "comments": [],
     "componentType": "CodeCell",
     "copiedOriginId": null,
     "diskcache": false,
     "headerColor": "inherit",
     "id": "9f08e2fa-7596-4b04-8805-cb25c48e6e32",
     "isComponent": false,
     "name": "",
     "parents": []
    }
   },
   "outputs": [],
   "source": [
    "# 지역 컬럼 생성 : 구가 없는 시면 시 이름을, 구가 있는 시면 구 이름을 배정한다.\n",
    "city_series1 = subway['도'][subway['도'].isin(city_list)]\n",
    "city_series2 = subway['시'][subway['시'].isin(city_list)]\n",
    "district_series1 = subway['시'][subway['시'].isin(district_list_)]\n",
    "district_series2 = subway['세부'][subway['세부'].isin(district_list_)]\n",
    "subway['지역'] = pd.concat([city_series1, city_series2, district_series1, district_series2])\n",
    "subway"
   ]
  },
  {
   "cell_type": "code",
   "execution_count": null,
   "id": "e51bf99e-9a34-45d6-b32a-1a8faa6ba934",
   "metadata": {
    "canvas": {
     "comments": [],
     "componentType": "CodeCell",
     "copiedOriginId": "69dd512f-2bad-4502-962b-9e85f6b61481",
     "diskcache": false,
     "headerColor": "none",
     "id": "055226b9-79f4-490c-a854-dbcbf83701a4",
     "isComponent": false,
     "name": "",
     "parents": []
    }
   },
   "outputs": [],
   "source": [
    "# 앞서 선정한 42개 지역 목록에 포함된다. 즉, 일치하지는 않는다. 왜냐하면, 대학교가 없는 지역이 존재하기 때문이다.\n",
    "print(sorted(subway['지역'].unique())==regions_shortened)\n",
    "print(len(subway['지역'].unique()))\n",
    "print(set(subway['지역'].unique()).issubset(set(regions_shortened)))"
   ]
  },
  {
   "cell_type": "code",
   "execution_count": null,
   "id": "bb3274d6-8d09-4e59-9b6a-872ee9b61f59",
   "metadata": {
    "canvas": {
     "comments": [],
     "componentType": "CodeCell",
     "copiedOriginId": "2e1f4f43-4be7-4e2e-8db1-33f5b33d4691",
     "diskcache": false,
     "headerColor": "none",
     "id": "f7851b64-06e7-4e7f-b8c2-46bf815aab9f",
     "isComponent": false,
     "name": "",
     "parents": []
    }
   },
   "outputs": [],
   "source": [
    "# 지역 컬럼의 이름을 regions에서의 양식과 일치시킨다.\n",
    "subway['지역'].replace(lengthen, inplace=True) \n",
    "subway.head()"
   ]
  },
  {
   "cell_type": "code",
   "execution_count": null,
   "id": "fb83ea33-99d5-4293-b955-9ac381d0e4fc",
   "metadata": {
    "canvas": {
     "comments": [],
     "componentType": "CodeCell",
     "copiedOriginId": "421c5fb0-0af6-4ec8-97d1-322d258d01a3",
     "diskcache": false,
     "headerColor": "none",
     "id": "7e1e461f-516f-435f-bf1a-e2319fc4de42",
     "isComponent": false,
     "name": "",
     "parents": []
    }
   },
   "outputs": [],
   "source": [
    "# 각 지역별 지하철역 개수 데이터 생성\n",
    "subway_ = pd.DataFrame(index = regions)\n",
    "subway_['지하철역 수'] = [sum(subway['지역']==region) for region in regions]\n",
    "subway_.head()"
   ]
  },
  {
   "cell_type": "markdown",
   "id": "459e65bc",
   "metadata": {},
   "source": [
    "## 버스정류장 수 : `busstop`"
   ]
  },
  {
   "cell_type": "code",
   "execution_count": null,
   "id": "f3b8f634-ab48-470a-868d-1532d4b753ec",
   "metadata": {
    "canvas": {
     "comments": [],
     "componentType": "CodeCell",
     "copiedOriginId": null,
     "diskcache": false,
     "headerColor": "inherit",
     "id": "e2070b4c-6f0e-4f45-aec2-63db178352c9",
     "isComponent": false,
     "name": "",
     "parents": []
    }
   },
   "outputs": [],
   "source": [
    "busstop = pd.read_csv(\"../../data/data_b_raw/2b401_0104_Bus_Stop_final.csv\", encoding='CP949')\n",
    "busstop.rename(columns={'Unnamed: 0':'지역','정류장수':'정류장 수'}, inplace=True)\n",
    "busstop.head()\n",
    "# 경기지역 버스정류장 목록(현우님)\n",
    "# 데이터를 얻은 곳 : [출처필요]"
   ]
  },
  {
   "cell_type": "code",
   "execution_count": null,
   "id": "92d517b1",
   "metadata": {},
   "outputs": [],
   "source": [
    "regions_temp = list(busstop['지역'])\n",
    "# regions == [region.replace('_', ' ') for region in regions_temp] # True\n",
    "busstop['지역'].replace(dict(zip(regions_temp, regions)), inplace=True)\n",
    "busstop.set_index('지역', inplace=True)\n",
    "busstop.head()"
   ]
  },
  {
   "attachments": {},
   "cell_type": "markdown",
   "id": "e3b92032",
   "metadata": {},
   "source": [
    "## 환승역 수 : transfer"
   ]
  },
  {
   "cell_type": "code",
   "execution_count": null,
   "id": "94bc33e9",
   "metadata": {},
   "outputs": [],
   "source": [
    "transfer = pd.read_csv(\"../../data/data_b_raw/2b501_0104_환승역.csv\", encoding='CP949')\n",
    "transfer.set_index('지역', inplace=True)\n",
    "transfer.head()"
   ]
  },
  {
   "attachments": {},
   "cell_type": "markdown",
   "id": "6204f6d2",
   "metadata": {},
   "source": [
    "## 행복주택 : `happyhouse_`"
   ]
  },
  {
   "cell_type": "code",
   "execution_count": null,
   "id": "e5849cbc",
   "metadata": {},
   "outputs": [],
   "source": [
    "happyhouse = pd.read_csv(\"../../data/data_b_raw/2b206_0111_경기도 행복주택주거지현황.csv\")\n",
    "# set(happy['지역']).issubset(set(regions)) # True\n",
    "# happy['지역'].nunique() # 25\n",
    "happyhouse.head()"
   ]
  },
  {
   "cell_type": "code",
   "execution_count": null,
   "id": "773bc500",
   "metadata": {},
   "outputs": [],
   "source": [
    "happyhouse_ = pd.DataFrame(index=regions)\n",
    "happyhouse_['행복주택 수'] = happyhouse['지역'].value_counts()\n",
    "happyhouse_ = happyhouse_.fillna(0)\n",
    "happyhouse_['행복주택 수'] = happyhouse_['행복주택 수'].astype(int)\n",
    "happyhouse_.head()"
   ]
  },
  {
   "attachments": {},
   "cell_type": "markdown",
   "id": "c5358e6b",
   "metadata": {},
   "source": [
    "## 20-30대 인구, 대학생 수"
   ]
  },
  {
   "cell_type": "code",
   "execution_count": null,
   "id": "192e7157",
   "metadata": {},
   "outputs": [],
   "source": [
    "undergraduate = pd.read_csv(\"../../data/data_b_raw/2b106_0120_대학생수.csv\", index_col='지역')\n",
    "undergraduate.columns = ['대학생 수']\n",
    "undergraduate.head()"
   ]
  },
  {
   "cell_type": "code",
   "execution_count": null,
   "id": "7c746e00",
   "metadata": {},
   "outputs": [],
   "source": [
    "pop2030 = pd.read_csv(\"../../data/data_b_raw/2b105_0120_2030인구.csv\", encoding='cp949', index_col='지역')\n",
    "pop2030.head()"
   ]
  },
  {
   "cell_type": "code",
   "execution_count": null,
   "id": "537f3f2b",
   "metadata": {},
   "outputs": [],
   "source": [
    "pop2030 = pop2030[['구별 인구']]\n",
    "pop2030.columns = ['2030인구']\n",
    "pop2030['2030인구'].astype(int)\n",
    "pop2030.head()"
   ]
  },
  {
   "attachments": {},
   "cell_type": "markdown",
   "id": "cbcc9435",
   "metadata": {},
   "source": [
    "## 면적"
   ]
  },
  {
   "cell_type": "code",
   "execution_count": null,
   "id": "fb4eae15",
   "metadata": {},
   "outputs": [],
   "source": [
    "areas = pd.read_excel(\"../../data/data_b_raw/2b512_0131_areas.xls\")\n",
    "areas.columns = ['지역', '면적']\n",
    "areas['면적'] = areas['면적'].apply(lambda Str:Str[:len(Str)-1])\n",
    "areas['면적'] = areas['면적'].apply(lambda x:float(x))\n",
    "areas.set_index('지역', inplace=True)\n",
    "areas.head()"
   ]
  },
  {
   "attachments": {},
   "cell_type": "markdown",
   "id": "b0ea01e9",
   "metadata": {
    "canvas": {
     "comments": [],
     "componentType": "CodeCell",
     "copiedOriginId": null,
     "diskcache": false,
     "headerColor": "none",
     "id": "6cb385c8-6d1c-48d0-a02b-3a5c199329ef",
     "isComponent": false,
     "name": "",
     "parents": []
    }
   },
   "source": [
    "# feature 데이터를 하나로 통합"
   ]
  },
  {
   "cell_type": "code",
   "execution_count": null,
   "id": "71f834e6",
   "metadata": {
    "canvas": {
     "comments": [],
     "componentType": "CodeCell",
     "copiedOriginId": null,
     "diskcache": false,
     "headerColor": "none",
     "id": "e5907618-a261-414c-8a05-c218171c7a0f",
     "isComponent": false,
     "name": "",
     "parents": []
    }
   },
   "outputs": [],
   "source": [
    "collected_data = pd.concat([locations, zcount, land_use_, pop, univ_, apartment, subway_, busstop, transfer, happyhouse_,\n",
    "                            undergraduate, pop2030, areas], axis = 1)\n",
    "collected_data.index.name = '지역'\n",
    "collected_data.head()"
   ]
  },
  {
   "cell_type": "code",
   "execution_count": null,
   "id": "a829af28",
   "metadata": {},
   "outputs": [],
   "source": [
    "\n",
    "collected_data = collected_data.reindex(columns = ['쏘카존 수', '인구', '2030인구', '아파트 수', '행복주택 수', '지하철역 수', '환승역 수', '정류장 수', '대학교 수', '대학생 수',\n",
    "                                                   '녹지', '주거', '공업', '상업', '위도', '경도', '면적'])\n",
    "collected_data"
   ]
  },
  {
   "cell_type": "code",
   "execution_count": null,
   "id": "35e40f4a",
   "metadata": {},
   "outputs": [],
   "source": [
    "collected_data.shape"
   ]
  },
  {
   "cell_type": "code",
   "execution_count": null,
   "id": "1ebbd567",
   "metadata": {
    "canvas": {
     "comments": [],
     "componentType": "CodeCell",
     "copiedOriginId": null,
     "diskcache": false,
     "headerColor": "none",
     "id": "f124a3cd-d9fa-4ece-b11f-e83e14dd74db",
     "isComponent": false,
     "name": "",
     "parents": []
    }
   },
   "outputs": [],
   "source": [
    "collected_data.to_csv(\"../../data/data_c_final/2c201_1230_collected_data.csv\", encoding=\"utf-8-sig\")\n",
    "savedf(collected_data, \"../../data/data_c_final/2c202_1230_collected_data.png\")\n",
    "collected_data.to_csv(\"results/1b201_1230_collected_data.csv\", encoding=\"utf-8-sig\")\n",
    "savedf(collected_data, \"results/1b202_1230_collected_data.png\")"
   ]
  }
 ],
 "metadata": {
  "canvas": {
   "colorPalette": [
    "inherit",
    "inherit",
    "inherit",
    "inherit",
    "inherit",
    "inherit",
    "inherit",
    "inherit",
    "inherit",
    "inherit"
   ],
   "parameters": [],
   "version": "1.0"
  },
  "kernelspec": {
   "display_name": "Python 3",
   "language": "python",
   "name": "python3"
  },
  "language_info": {
   "codemirror_mode": {
    "name": "ipython",
    "version": 3
   },
   "file_extension": ".py",
   "mimetype": "text/x-python",
   "name": "python",
   "nbconvert_exporter": "python",
   "pygments_lexer": "ipython3",
   "version": "3.9.15"
  },
  "toc": {
   "base_numbering": 1,
   "nav_menu": {},
   "number_sections": true,
   "sideBar": true,
   "skip_h1_title": false,
   "title_cell": "Table of Contents",
   "title_sidebar": "Contents",
   "toc_cell": false,
   "toc_position": {
    "height": "calc(100% - 180px)",
    "left": "10px",
    "top": "150px",
    "width": "384px"
   },
   "toc_section_display": true,
   "toc_window_display": true
  },
  "toc-autonumbering": true,
  "varInspector": {
   "cols": {
    "lenName": 16,
    "lenType": 16,
    "lenVar": 40
   },
   "kernels_config": {
    "python": {
     "delete_cmd_postfix": "",
     "delete_cmd_prefix": "del ",
     "library": "var_list.py",
     "varRefreshCmd": "print(var_dic_list())"
    },
    "r": {
     "delete_cmd_postfix": ") ",
     "delete_cmd_prefix": "rm(",
     "library": "var_list.r",
     "varRefreshCmd": "cat(var_dic_list()) "
    }
   },
   "types_to_exclude": [
    "module",
    "function",
    "builtin_function_or_method",
    "instance",
    "_Feature"
   ],
   "window_display": false
  },
  "vscode": {
   "interpreter": {
    "hash": "b7a60c8f2c8d29e3138bb6141818b2f9370cc55944ffe85f7c0c63df44a79ba1"
   }
  }
 },
 "nbformat": 4,
 "nbformat_minor": 5
}
