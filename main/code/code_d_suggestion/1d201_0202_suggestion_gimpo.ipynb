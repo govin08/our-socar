{
 "cells": [
  {
   "attachments": {},
   "cell_type": "markdown",
   "id": "f501c37f",
   "metadata": {},
   "source": [
    "지역\n",
    "- 김포시\n",
    "- A군, 수요 데이터 있음\n",
    "\n",
    "중심점\n",
    "- 행복주택\n",
    "\n",
    "고려한 요소들\n",
    "- 공영주차장\n",
    "- 쏘카존\n",
    "- 지하철\n",
    "\n",
    "스케일링\n",
    "- 하지 않음"
   ]
  },
  {
   "cell_type": "code",
   "execution_count": 1,
   "id": "0f5a5272",
   "metadata": {
    "canvas": {
     "comments": [],
     "componentType": "CodeCell",
     "copiedOriginId": null,
     "diskcache": false,
     "headerColor": "none",
     "id": "55f81917-ef2c-4fa8-94e3-96a87231d70d",
     "isComponent": false,
     "name": "",
     "parents": []
    },
    "tags": []
   },
   "outputs": [],
   "source": [
    "import pandas as pd\n",
    "import numpy as np\n",
    "import dataframe_image as dfi"
   ]
  },
  {
   "cell_type": "code",
   "execution_count": 2,
   "id": "1500cc81",
   "metadata": {},
   "outputs": [],
   "source": [
    "# 데이터프레임을 그림 파일로 저장\n",
    "save_option = 1 # 1 : dfi / 2 : df2img / 3 : do nothing\n",
    "import df2img\n",
    "def save(df, path):\n",
    "    if save_option == 1:\n",
    "        dfi.export(df, path)\n",
    "    if save_option == 2:\n",
    "        df2img.save_dataframe(fig=df2img.plot_dataframe(df), filename=path)\n",
    "    if save_option == 3:\n",
    "        pass"
   ]
  },
  {
   "attachments": {},
   "cell_type": "markdown",
   "id": "cb92d460",
   "metadata": {},
   "source": [
    "각 군집별 도시들\n",
    "- cluster A : ['고양시 덕양구', '김포시', '성남시 분당구', '시흥시', '용인시 기흥구', '의정부시', '파주시']\n",
    "- cluster B : ['구리시', '군포시', '성남시 수정구', '성남시 중원구', '수원시 장안구', '수원시 팔달구', '안성시', '안양시 만안구', '양주시', '오산시', '용인시 처인구', '의왕시', '이천시']\n",
    "- cluster C : ['남양주시', '부천시', '화성시']\n",
    "- cluster D : ['가평군', '과천시', '동두천시', '양평군', '여주시', '연천군', '포천시']\n",
    "- cluster E : ['고양시 일산동구', '고양시 일산서구', '광명시', '광주시', '수원시 권선구', '수원시 영통구', '안산시 단원구', '안산시 상록구', '안양시 동안구', '용인시 수지구', '하남시']\n",
    "- cluster F : ['평택시']\n",
    "\n",
    "각 군집별 (수요 데이터가 있는) 도시들\n",
    "- Cluster A : ['고양시 덕양구', '김포시', '성남시 분당구', '의정부시']\n",
    "- Cluster B : ['구리시', '성남시 수정구', '성남시 중원구', '안양시 만안구']\n",
    "- Cluster C : ['남양주시', '화성시']\n",
    "- Cluster D : ['양평군']\n",
    "- Cluster E : ['고양시 일산동구', '고양시 일산서구', '광명시', '안양시 동안구', '하남시']\n",
    "- Cluster F : []\n",
    "\n",
    "김포시는 A군에 속해있고, 수요데이터도 있는 도시이다."
   ]
  },
  {
   "attachments": {},
   "cell_type": "markdown",
   "id": "81fbec43",
   "metadata": {},
   "source": [
    "# 데이터 작업"
   ]
  },
  {
   "attachments": {},
   "cell_type": "markdown",
   "id": "6204f6d2",
   "metadata": {},
   "source": [
    "## 행복주택"
   ]
  },
  {
   "cell_type": "code",
   "execution_count": 3,
   "id": "e5849cbc",
   "metadata": {},
   "outputs": [
    {
     "data": {
      "text/plain": [
       "(7, 2)"
      ]
     },
     "execution_count": 3,
     "metadata": {},
     "output_type": "execute_result"
    }
   ],
   "source": [
    "happys = pd.read_csv(\"../../data/data_b_raw/2b206_0111_경기도 행복주택주거지현황.csv\")\n",
    "happys.rename(columns={'주소':'행복주택 주소'}, inplace=True)\n",
    "happys = happys[happys['지역']=='김포시'].reset_index(drop=True)\n",
    "happy_names = happys[['행복주택 주소']]\n",
    "happys = happys[['경도', '위도']].rename(columns={'경도':'x', '위도':'y'})\n",
    "happys = happys.values\n",
    "happys.shape"
   ]
  },
  {
   "attachments": {},
   "cell_type": "markdown",
   "id": "390d056f",
   "metadata": {},
   "source": [
    "## 공영주차장"
   ]
  },
  {
   "cell_type": "code",
   "execution_count": 4,
   "id": "e10fc6d7",
   "metadata": {},
   "outputs": [
    {
     "data": {
      "text/plain": [
       "(38, 2)"
      ]
     },
     "execution_count": 4,
     "metadata": {},
     "output_type": "execute_result"
    }
   ],
   "source": [
    "parks = pd.read_csv(\"../../data/data_b_raw/2b208_0202_한국교통안전공단_전국공영주차장정보_20191224.csv\", encoding='CP949')\n",
    "parks.rename(columns={'주차장지번주소':'주차장 주소'}, inplace=True)\n",
    "parks = parks[parks['지역구분']=='경기도']\n",
    "parks = parks[parks['지역구분_sub']=='김포시'].reset_index(drop=True)\n",
    "park_names = parks[['주차장 주소']]\n",
    "parks = parks[['경도', '위도']].rename(columns={'경도':'x','위도':'y'})\n",
    "parks = parks.values\n",
    "parks.shape"
   ]
  },
  {
   "attachments": {},
   "cell_type": "markdown",
   "id": "e9508326",
   "metadata": {
    "canvas": {
     "comments": [],
     "componentType": "CodeCell",
     "copiedOriginId": null,
     "diskcache": false,
     "headerColor": "none",
     "id": "6ab45911-2383-40e2-b5e3-4701fa505655",
     "isComponent": false,
     "name": "",
     "parents": []
    }
   },
   "source": [
    "## 쏘카존"
   ]
  },
  {
   "cell_type": "code",
   "execution_count": 5,
   "id": "05597a9c",
   "metadata": {
    "canvas": {
     "comments": [],
     "componentType": "CodeCell",
     "copiedOriginId": null,
     "diskcache": false,
     "headerColor": "none",
     "id": "2af4647c-af8b-4416-b4f3-e000614bb199",
     "isComponent": false,
     "name": "",
     "parents": []
    }
   },
   "outputs": [
    {
     "data": {
      "text/plain": [
       "(55, 2)"
      ]
     },
     "execution_count": 5,
     "metadata": {},
     "output_type": "execute_result"
    }
   ],
   "source": [
    "# 쏘카존 갯수 데이터(김선중)\n",
    "# 출처 : https://d3s0tskafalll9.cloudfront.net/media/documents/20210823_socar_zone.csv (going deeper 4-6)\n",
    "zones = pd.read_csv(\"../../data/data_b_raw/2b201_1228_20210823_socar_zone.csv\")\n",
    "zones.rename(columns={'zone_name':'존 이름'}, inplace=True)\n",
    "zones = zones[zones['region2']=='김포시'].reset_index(drop=True)\n",
    "zone_names = zones[['존 이름']]\n",
    "zones = zones[['lng','lat']]\n",
    "zones.rename(columns={'lng':'x','lat':'y'}, inplace=True)\n",
    "zones = zones.values\n",
    "zones.shape"
   ]
  },
  {
   "attachments": {},
   "cell_type": "markdown",
   "id": "cbe7e4c6-d939-41b9-862d-3793e14bdeb3",
   "metadata": {
    "canvas": {
     "comments": [],
     "componentType": "CodeCell",
     "copiedOriginId": null,
     "diskcache": false,
     "headerColor": "inherit",
     "id": "d5c3617c-3ef2-41d6-97ec-352f2cb34acb",
     "isComponent": false,
     "name": "",
     "parents": []
    }
   },
   "source": [
    "## 지하철역"
   ]
  },
  {
   "cell_type": "code",
   "execution_count": 6,
   "id": "8d9a3cf5",
   "metadata": {},
   "outputs": [],
   "source": [
    "subways = pd.read_csv(\"../../data/data_b_raw/2b207_0202_서울시 역사마스터 정보.csv\", encoding='CP949')\n",
    "subways.rename(columns={'역사명':'역 이름'}, inplace=True)\n",
    "subways = subways[subways['호선']=='김포골드라인'].reset_index(drop=True)\n",
    "subways = subways[1:]\n",
    "subway_names = subways[['역 이름']]\n",
    "subways = subways[['위도', '경도']].rename(columns={'위도':'x','경도':'y'})\n",
    "subways = subways.values"
   ]
  },
  {
   "attachments": {},
   "cell_type": "markdown",
   "id": "bdb3cc05",
   "metadata": {},
   "source": [
    "# 제안"
   ]
  },
  {
   "cell_type": "code",
   "execution_count": 7,
   "id": "d6839c36",
   "metadata": {},
   "outputs": [
    {
     "name": "stdout",
     "output_type": "stream",
     "text": [
      "n_happyhouses : 7\n",
      "n_parks : 38\n",
      "n_zones : 55\n",
      "n_subways : 9\n"
     ]
    }
   ],
   "source": [
    "n_happys = len(happys)\n",
    "n_parks = len(parks)\n",
    "n_zones = len(zones)\n",
    "n_subways = len(subways)\n",
    "print(\"n_happyhouses :\",n_happys)\n",
    "print(\"n_parks :\",n_parks)\n",
    "print(\"n_zones :\",n_zones)\n",
    "print(\"n_subways :\",n_subways)"
   ]
  },
  {
   "cell_type": "code",
   "execution_count": 8,
   "id": "4caf57c3",
   "metadata": {},
   "outputs": [
    {
     "data": {
      "text/plain": [
       "5.0"
      ]
     },
     "execution_count": 8,
     "metadata": {},
     "output_type": "execute_result"
    }
   ],
   "source": [
    "# euclidean distance\n",
    "def d(x:np.array, y:np.array) -> float:\n",
    "    return np.linalg.norm(x-y)\n",
    "x = np.array([0,3])\n",
    "y = np.array([4,0])\n",
    "d(x,y)"
   ]
  },
  {
   "attachments": {},
   "cell_type": "markdown",
   "id": "a01b627a",
   "metadata": {},
   "source": [
    "## score 설정"
   ]
  },
  {
   "attachments": {},
   "cell_type": "markdown",
   "id": "7e401a99",
   "metadata": {},
   "source": [
    "임의의 위치 $X$에 대하여, 다음과 같은 사실들을 가정한다.\n",
    "- 가정1 : $X$에서 공영주차장이 가까이 위치할 수록 $X$의 근처에 쏘카존을 제안할 만하다. [subscript : P]\n",
    "- 가정2 : $X$에서 쏘카존이 멀리 위치할 수록 $X$의 근처에 쏘카존을 제안할 만하다. [subscript : Z]\n",
    "- 가정3 : $X$에서 지하철역이 멀리 위치할 수록 $X$의 근처에 쏘카존을 제안할 만하다. [subscript : S]\n",
    "(지하철이 있으면, 지하철을 타지 쏘카를 타지는 않을 것이다.)\n",
    "- 가정3 : $X$의 근처에 아파트가 많을수록 $X$의 근처에 쏘카존을 제안할 만하다. [subscript : A]\n",
    "(상관분석 결과 반영)\n",
    "\n",
    "위치 $X$에 대하여, 해당 위치 근처에 쏘카존을 제안할 만한지를 나타내는 score (score function)를 $f(X)$라고 하자.\n",
    "<!-- (일반적인 목적함수 e.g. loss function/cost function/error function는 목적함수의 값을 최소화하는 것이 목적이지만, 이번 목적함수는 최대화하는 것이 목적이다.) -->\n",
    "\n",
    "\\begin{align*}\n",
    "f(X)&=\\alpha_P f_P(X) + \\alpha_Z f_Z(X) + \\alpha_S f_S(X) + \\alpha_A f_A(X)\\\\\n",
    "f_P(X)&:-(\\text{가장 가까운 공영주차장까지의 거리})\\\\\n",
    "f_Z(X)&:(\\text{가장 가까운 쏘카존까지의 거리})\\\\\n",
    "f_S(X)&:(\\text{가장 가까운 지하철역까지의 거리})\\\\\n",
    "f_A(X)&:(\\text{반경 1km 이내의 아파트의 개수})\n",
    "\\end{align*}\n",
    "\n",
    "단, $\\alpha_P$, $\\alpha_Z$, $\\alpha_S$, $\\alpha_A$는 각각의 additive subfunction에 대한 가중치로, 해당 feature들을 어느 정도의 중요도로 반영할지를 나타내는 값이다.\n",
    "가중치가 모두 1이면, score는 다음과 같은 비교적 간단한 식이 된다.\n",
    "\n",
    "\\begin{align*}\n",
    "f(X)\n",
    "= &-(\\text{가장 가까운 공영주차장까지의 거리}) + (\\text{가장 가까운 쏘카존까지의 거리})\\\\\n",
    "&+ (\\text{가장 가까운 지하철역까지의 거리}) + (\\text{반경 1km 이내의 아파트의 개수})\n",
    "\\end{align*}"
   ]
  },
  {
   "attachments": {},
   "cell_type": "markdown",
   "id": "7f1fe654",
   "metadata": {},
   "source": [
    "## 계산"
   ]
  },
  {
   "cell_type": "code",
   "execution_count": 9,
   "id": "845dc7eb",
   "metadata": {},
   "outputs": [
    {
     "data": {
      "text/plain": [
       "array([[7.02302362e-03, 3.20000000e+01],\n",
       "       [8.32297016e-03, 3.50000000e+01],\n",
       "       [3.90377479e-02, 3.20000000e+01],\n",
       "       [7.75676226e-03, 3.50000000e+01],\n",
       "       [4.09918655e-02, 3.20000000e+01],\n",
       "       [8.05112399e-03, 3.20000000e+01],\n",
       "       [4.73909828e-02, 3.20000000e+01]])"
      ]
     },
     "execution_count": 9,
     "metadata": {},
     "output_type": "execute_result"
    }
   ],
   "source": [
    "# distances : the distances of the happy house and every parking lot\n",
    "# park_info : the list of (min,index) pair for every happy houses.\n",
    "parks_info = []\n",
    "for happy in happys:\n",
    "    distances = [d(happy, park) for park in parks]\n",
    "    parks_info.append(np.array([np.min(distances),np.argmin(distances)]))\n",
    "parks_info = np.array(parks_info)\n",
    "parks_info"
   ]
  },
  {
   "cell_type": "code",
   "execution_count": 10,
   "id": "84b7e576",
   "metadata": {},
   "outputs": [
    {
     "data": {
      "text/html": [
       "<div>\n",
       "<style scoped>\n",
       "    .dataframe tbody tr th:only-of-type {\n",
       "        vertical-align: middle;\n",
       "    }\n",
       "\n",
       "    .dataframe tbody tr th {\n",
       "        vertical-align: top;\n",
       "    }\n",
       "\n",
       "    .dataframe thead th {\n",
       "        text-align: right;\n",
       "    }\n",
       "</style>\n",
       "<table border=\"1\" class=\"dataframe\">\n",
       "  <thead>\n",
       "    <tr style=\"text-align: right;\">\n",
       "      <th></th>\n",
       "      <th>주차장 최소거리</th>\n",
       "      <th>index</th>\n",
       "      <th>주차장 주소</th>\n",
       "    </tr>\n",
       "  </thead>\n",
       "  <tbody>\n",
       "    <tr>\n",
       "      <th>0</th>\n",
       "      <td>0.007023</td>\n",
       "      <td>32</td>\n",
       "      <td>경기도 김포시 장기동 1796</td>\n",
       "    </tr>\n",
       "    <tr>\n",
       "      <th>1</th>\n",
       "      <td>0.008323</td>\n",
       "      <td>35</td>\n",
       "      <td>경기도 김포시 통진읍 서암리 756-8번지</td>\n",
       "    </tr>\n",
       "    <tr>\n",
       "      <th>2</th>\n",
       "      <td>0.039038</td>\n",
       "      <td>32</td>\n",
       "      <td>경기도 김포시 장기동 1796</td>\n",
       "    </tr>\n",
       "    <tr>\n",
       "      <th>3</th>\n",
       "      <td>0.007757</td>\n",
       "      <td>35</td>\n",
       "      <td>경기도 김포시 통진읍 서암리 756-8번지</td>\n",
       "    </tr>\n",
       "    <tr>\n",
       "      <th>4</th>\n",
       "      <td>0.040992</td>\n",
       "      <td>32</td>\n",
       "      <td>경기도 김포시 장기동 1796</td>\n",
       "    </tr>\n",
       "    <tr>\n",
       "      <th>5</th>\n",
       "      <td>0.008051</td>\n",
       "      <td>32</td>\n",
       "      <td>경기도 김포시 장기동 1796</td>\n",
       "    </tr>\n",
       "    <tr>\n",
       "      <th>6</th>\n",
       "      <td>0.047391</td>\n",
       "      <td>32</td>\n",
       "      <td>경기도 김포시 장기동 1796</td>\n",
       "    </tr>\n",
       "  </tbody>\n",
       "</table>\n",
       "</div>"
      ],
      "text/plain": [
       "   주차장 최소거리  index                   주차장 주소\n",
       "0  0.007023     32         경기도 김포시 장기동 1796\n",
       "1  0.008323     35  경기도 김포시 통진읍 서암리 756-8번지\n",
       "2  0.039038     32         경기도 김포시 장기동 1796\n",
       "3  0.007757     35  경기도 김포시 통진읍 서암리 756-8번지\n",
       "4  0.040992     32         경기도 김포시 장기동 1796\n",
       "5  0.008051     32         경기도 김포시 장기동 1796\n",
       "6  0.047391     32         경기도 김포시 장기동 1796"
      ]
     },
     "execution_count": 10,
     "metadata": {},
     "output_type": "execute_result"
    }
   ],
   "source": [
    "parks_info_ = pd.DataFrame({'주차장 최소거리':parks_info[:,0], 'index':np.round(parks_info[:,1]).astype(int)})\n",
    "parks_info_['주차장 주소'] = parks_info_['index'].replace(park_names['주차장 주소'].to_dict())\n",
    "parks_info_"
   ]
  },
  {
   "cell_type": "code",
   "execution_count": 11,
   "id": "16d0324d",
   "metadata": {},
   "outputs": [
    {
     "data": {
      "text/plain": [
       "array([[1.82318331e-03, 8.00000000e+00],\n",
       "       [8.78407592e-03, 4.00000000e+01],\n",
       "       [2.62267413e-03, 3.10000000e+01],\n",
       "       [8.75833728e-03, 4.00000000e+01],\n",
       "       [3.59447557e-03, 3.10000000e+01],\n",
       "       [4.17918161e-03, 8.00000000e+00],\n",
       "       [3.04129485e-03, 3.70000000e+01]])"
      ]
     },
     "execution_count": 11,
     "metadata": {},
     "output_type": "execute_result"
    }
   ],
   "source": [
    "# distances : the distances of the happy house and every zone\n",
    "# zone_info : the list of (min,index) pair for every happy houses.\n",
    "zones_info = []\n",
    "for happy in happys:\n",
    "    distances = [d(happy, zone) for zone in zones]\n",
    "    zones_info.append(np.array([np.min(distances),np.argmin(distances)]))\n",
    "zones_info = np.array(zones_info)\n",
    "zones_info"
   ]
  },
  {
   "cell_type": "code",
   "execution_count": 12,
   "id": "e2b4c648",
   "metadata": {},
   "outputs": [
    {
     "data": {
      "text/html": [
       "<div>\n",
       "<style scoped>\n",
       "    .dataframe tbody tr th:only-of-type {\n",
       "        vertical-align: middle;\n",
       "    }\n",
       "\n",
       "    .dataframe tbody tr th {\n",
       "        vertical-align: top;\n",
       "    }\n",
       "\n",
       "    .dataframe thead th {\n",
       "        text-align: right;\n",
       "    }\n",
       "</style>\n",
       "<table border=\"1\" class=\"dataframe\">\n",
       "  <thead>\n",
       "    <tr style=\"text-align: right;\">\n",
       "      <th></th>\n",
       "      <th>쏘카존 최소거리</th>\n",
       "      <th>index</th>\n",
       "      <th>존 이름</th>\n",
       "    </tr>\n",
       "  </thead>\n",
       "  <tbody>\n",
       "    <tr>\n",
       "      <th>0</th>\n",
       "      <td>0.001823</td>\n",
       "      <td>8</td>\n",
       "      <td>중흥S클래스 리버티아파트 318동</td>\n",
       "    </tr>\n",
       "    <tr>\n",
       "      <th>1</th>\n",
       "      <td>0.008784</td>\n",
       "      <td>40</td>\n",
       "      <td>김포통진 성원프라자</td>\n",
       "    </tr>\n",
       "    <tr>\n",
       "      <th>2</th>\n",
       "      <td>0.002623</td>\n",
       "      <td>31</td>\n",
       "      <td>곡촌마을 앞</td>\n",
       "    </tr>\n",
       "    <tr>\n",
       "      <th>3</th>\n",
       "      <td>0.008758</td>\n",
       "      <td>40</td>\n",
       "      <td>김포통진 성원프라자</td>\n",
       "    </tr>\n",
       "    <tr>\n",
       "      <th>4</th>\n",
       "      <td>0.003594</td>\n",
       "      <td>31</td>\n",
       "      <td>곡촌마을 앞</td>\n",
       "    </tr>\n",
       "    <tr>\n",
       "      <th>5</th>\n",
       "      <td>0.004179</td>\n",
       "      <td>8</td>\n",
       "      <td>중흥S클래스 리버티아파트 318동</td>\n",
       "    </tr>\n",
       "    <tr>\n",
       "      <th>6</th>\n",
       "      <td>0.003041</td>\n",
       "      <td>37</td>\n",
       "      <td>메가박스 김포한강신도시점</td>\n",
       "    </tr>\n",
       "  </tbody>\n",
       "</table>\n",
       "</div>"
      ],
      "text/plain": [
       "   쏘카존 최소거리  index                존 이름\n",
       "0  0.001823      8  중흥S클래스 리버티아파트 318동\n",
       "1  0.008784     40          김포통진 성원프라자\n",
       "2  0.002623     31              곡촌마을 앞\n",
       "3  0.008758     40          김포통진 성원프라자\n",
       "4  0.003594     31              곡촌마을 앞\n",
       "5  0.004179      8  중흥S클래스 리버티아파트 318동\n",
       "6  0.003041     37      메가박스 김포한강신도시점 "
      ]
     },
     "execution_count": 12,
     "metadata": {},
     "output_type": "execute_result"
    }
   ],
   "source": [
    "zones_info_ = pd.DataFrame({'쏘카존 최소거리':zones_info[:,0], 'index':np.round(zones_info[:,1]).astype(int)})\n",
    "zones_info_['존 이름'] = zones_info_['index'].replace(zone_names['존 이름'].to_dict())\n",
    "zones_info_"
   ]
  },
  {
   "cell_type": "code",
   "execution_count": 13,
   "id": "d1c097b1",
   "metadata": {},
   "outputs": [
    {
     "data": {
      "text/plain": [
       "array([[7.24102738e-03, 5.00000000e+00],\n",
       "       [4.66810068e-02, 8.00000000e+00],\n",
       "       [1.36764503e-02, 7.00000000e+00],\n",
       "       [4.76031302e-02, 8.00000000e+00],\n",
       "       [1.53283998e-02, 7.00000000e+00],\n",
       "       [8.68483737e-03, 5.00000000e+00],\n",
       "       [7.46409666e-03, 8.00000000e+00]])"
      ]
     },
     "execution_count": 13,
     "metadata": {},
     "output_type": "execute_result"
    }
   ],
   "source": [
    "# distances : the distances of the happy house and every subway\n",
    "# subway_info : the list of (min,index) pair for every happy houses.\n",
    "subways_info = []\n",
    "for happy in happys:\n",
    "    distances = [d(happy, subway) for subway in subways]\n",
    "    subways_info.append(np.array([np.min(distances),np.argmin(distances)]))\n",
    "subways_info = np.array(subways_info)\n",
    "subways_info"
   ]
  },
  {
   "cell_type": "code",
   "execution_count": 14,
   "id": "e294d401",
   "metadata": {},
   "outputs": [
    {
     "data": {
      "text/html": [
       "<div>\n",
       "<style scoped>\n",
       "    .dataframe tbody tr th:only-of-type {\n",
       "        vertical-align: middle;\n",
       "    }\n",
       "\n",
       "    .dataframe tbody tr th {\n",
       "        vertical-align: top;\n",
       "    }\n",
       "\n",
       "    .dataframe thead th {\n",
       "        text-align: right;\n",
       "    }\n",
       "</style>\n",
       "<table border=\"1\" class=\"dataframe\">\n",
       "  <thead>\n",
       "    <tr style=\"text-align: right;\">\n",
       "      <th></th>\n",
       "      <th>지하철 최소거리</th>\n",
       "      <th>index</th>\n",
       "      <th>역 이름</th>\n",
       "    </tr>\n",
       "  </thead>\n",
       "  <tbody>\n",
       "    <tr>\n",
       "      <th>0</th>\n",
       "      <td>0.007241</td>\n",
       "      <td>5</td>\n",
       "      <td>운양</td>\n",
       "    </tr>\n",
       "    <tr>\n",
       "      <th>1</th>\n",
       "      <td>0.046681</td>\n",
       "      <td>8</td>\n",
       "      <td>구래</td>\n",
       "    </tr>\n",
       "    <tr>\n",
       "      <th>2</th>\n",
       "      <td>0.013676</td>\n",
       "      <td>7</td>\n",
       "      <td>마산</td>\n",
       "    </tr>\n",
       "    <tr>\n",
       "      <th>3</th>\n",
       "      <td>0.047603</td>\n",
       "      <td>8</td>\n",
       "      <td>구래</td>\n",
       "    </tr>\n",
       "    <tr>\n",
       "      <th>4</th>\n",
       "      <td>0.015328</td>\n",
       "      <td>7</td>\n",
       "      <td>마산</td>\n",
       "    </tr>\n",
       "    <tr>\n",
       "      <th>5</th>\n",
       "      <td>0.008685</td>\n",
       "      <td>5</td>\n",
       "      <td>운양</td>\n",
       "    </tr>\n",
       "    <tr>\n",
       "      <th>6</th>\n",
       "      <td>0.007464</td>\n",
       "      <td>8</td>\n",
       "      <td>구래</td>\n",
       "    </tr>\n",
       "  </tbody>\n",
       "</table>\n",
       "</div>"
      ],
      "text/plain": [
       "   지하철 최소거리  index 역 이름\n",
       "0  0.007241      5   운양\n",
       "1  0.046681      8   구래\n",
       "2  0.013676      7   마산\n",
       "3  0.047603      8   구래\n",
       "4  0.015328      7   마산\n",
       "5  0.008685      5   운양\n",
       "6  0.007464      8   구래"
      ]
     },
     "execution_count": 14,
     "metadata": {},
     "output_type": "execute_result"
    }
   ],
   "source": [
    "subways_info_ = pd.DataFrame({'지하철 최소거리':subways_info[:,0], 'index':np.round(subways_info[:,1]).astype(int)})\n",
    "subways_info_['역 이름'] = subways_info_['index'].replace(subway_names['역 이름'].to_dict())\n",
    "subways_info_"
   ]
  },
  {
   "cell_type": "code",
   "execution_count": 15,
   "id": "6c14dbf1",
   "metadata": {},
   "outputs": [
    {
     "data": {
      "text/plain": [
       "(   주차장 최소거리                   주차장 주소\n",
       " 0  0.007023         경기도 김포시 장기동 1796\n",
       " 1  0.008323  경기도 김포시 통진읍 서암리 756-8번지\n",
       " 2  0.039038         경기도 김포시 장기동 1796\n",
       " 3  0.007757  경기도 김포시 통진읍 서암리 756-8번지\n",
       " 4  0.040992         경기도 김포시 장기동 1796\n",
       " 5  0.008051         경기도 김포시 장기동 1796\n",
       " 6  0.047391         경기도 김포시 장기동 1796,\n",
       "    쏘카존 최소거리                존 이름\n",
       " 0  0.001823  중흥S클래스 리버티아파트 318동\n",
       " 1  0.008784          김포통진 성원프라자\n",
       " 2  0.002623              곡촌마을 앞\n",
       " 3  0.008758          김포통진 성원프라자\n",
       " 4  0.003594              곡촌마을 앞\n",
       " 5  0.004179  중흥S클래스 리버티아파트 318동\n",
       " 6  0.003041      메가박스 김포한강신도시점 ,\n",
       "    지하철 최소거리 역 이름\n",
       " 0  0.007241   운양\n",
       " 1  0.046681   구래\n",
       " 2  0.013676   마산\n",
       " 3  0.047603   구래\n",
       " 4  0.015328   마산\n",
       " 5  0.008685   운양\n",
       " 6  0.007464   구래)"
      ]
     },
     "execution_count": 15,
     "metadata": {},
     "output_type": "execute_result"
    }
   ],
   "source": [
    "parks_info_.drop('index', axis=1), zones_info_.drop('index', axis=1), subways_info_.drop('index', axis=1)"
   ]
  },
  {
   "cell_type": "code",
   "execution_count": 20,
   "id": "3a4bd26f",
   "metadata": {},
   "outputs": [
    {
     "data": {
      "text/html": [
       "<div>\n",
       "<style scoped>\n",
       "    .dataframe tbody tr th:only-of-type {\n",
       "        vertical-align: middle;\n",
       "    }\n",
       "\n",
       "    .dataframe tbody tr th {\n",
       "        vertical-align: top;\n",
       "    }\n",
       "\n",
       "    .dataframe thead th {\n",
       "        text-align: right;\n",
       "    }\n",
       "</style>\n",
       "<table border=\"1\" class=\"dataframe\">\n",
       "  <thead>\n",
       "    <tr style=\"text-align: right;\">\n",
       "      <th></th>\n",
       "      <th>행복주택 주소</th>\n",
       "      <th>주차장 최소거리</th>\n",
       "      <th>가까운 주차장 주소</th>\n",
       "      <th>쏘카존 최소거리</th>\n",
       "      <th>가까운 존 이름</th>\n",
       "      <th>지하철 최소거리</th>\n",
       "      <th>가까운 역 이름</th>\n",
       "      <th>스코어</th>\n",
       "    </tr>\n",
       "  </thead>\n",
       "  <tbody>\n",
       "    <tr>\n",
       "      <th>3</th>\n",
       "      <td>경기도 김포시 통진읍 율마로450번길 51</td>\n",
       "      <td>0.007757</td>\n",
       "      <td>경기도 김포시 통진읍 서암리 756-8번지</td>\n",
       "      <td>0.008758</td>\n",
       "      <td>김포통진 성원프라자</td>\n",
       "      <td>0.047603</td>\n",
       "      <td>구래</td>\n",
       "      <td>0.048605</td>\n",
       "    </tr>\n",
       "    <tr>\n",
       "      <th>1</th>\n",
       "      <td>경기도 김포시 통진읍 율마로438번길 51</td>\n",
       "      <td>0.008323</td>\n",
       "      <td>경기도 김포시 통진읍 서암리 756-8번지</td>\n",
       "      <td>0.008784</td>\n",
       "      <td>김포통진 성원프라자</td>\n",
       "      <td>0.046681</td>\n",
       "      <td>구래</td>\n",
       "      <td>0.047142</td>\n",
       "    </tr>\n",
       "    <tr>\n",
       "      <th>5</th>\n",
       "      <td>경기도 김포시 김포한강3로237번길 33</td>\n",
       "      <td>0.008051</td>\n",
       "      <td>경기도 김포시 장기동 1796</td>\n",
       "      <td>0.004179</td>\n",
       "      <td>중흥S클래스 리버티아파트 318동</td>\n",
       "      <td>0.008685</td>\n",
       "      <td>운양</td>\n",
       "      <td>0.004813</td>\n",
       "    </tr>\n",
       "    <tr>\n",
       "      <th>0</th>\n",
       "      <td>경기도 김포시 허산길 50</td>\n",
       "      <td>0.007023</td>\n",
       "      <td>경기도 김포시 장기동 1796</td>\n",
       "      <td>0.001823</td>\n",
       "      <td>중흥S클래스 리버티아파트 318동</td>\n",
       "      <td>0.007241</td>\n",
       "      <td>운양</td>\n",
       "      <td>0.002041</td>\n",
       "    </tr>\n",
       "    <tr>\n",
       "      <th>4</th>\n",
       "      <td>경기도 김포시 양촌읍 양곡4로197번길 11</td>\n",
       "      <td>0.040992</td>\n",
       "      <td>경기도 김포시 장기동 1796</td>\n",
       "      <td>0.003594</td>\n",
       "      <td>곡촌마을 앞</td>\n",
       "      <td>0.015328</td>\n",
       "      <td>마산</td>\n",
       "      <td>-0.022069</td>\n",
       "    </tr>\n",
       "    <tr>\n",
       "      <th>2</th>\n",
       "      <td>경기도 김포시 양촌읍 양곡2로80번길 61</td>\n",
       "      <td>0.039038</td>\n",
       "      <td>경기도 김포시 장기동 1796</td>\n",
       "      <td>0.002623</td>\n",
       "      <td>곡촌마을 앞</td>\n",
       "      <td>0.013676</td>\n",
       "      <td>마산</td>\n",
       "      <td>-0.022739</td>\n",
       "    </tr>\n",
       "    <tr>\n",
       "      <th>6</th>\n",
       "      <td>경기도 김포시 김포한강4로 564</td>\n",
       "      <td>0.047391</td>\n",
       "      <td>경기도 김포시 장기동 1796</td>\n",
       "      <td>0.003041</td>\n",
       "      <td>메가박스 김포한강신도시점</td>\n",
       "      <td>0.007464</td>\n",
       "      <td>구래</td>\n",
       "      <td>-0.036886</td>\n",
       "    </tr>\n",
       "  </tbody>\n",
       "</table>\n",
       "</div>"
      ],
      "text/plain": [
       "                    행복주택 주소  주차장 최소거리               가까운 주차장 주소  쏘카존 최소거리  \\\n",
       "3   경기도 김포시 통진읍 율마로450번길 51  0.007757  경기도 김포시 통진읍 서암리 756-8번지  0.008758   \n",
       "1   경기도 김포시 통진읍 율마로438번길 51  0.008323  경기도 김포시 통진읍 서암리 756-8번지  0.008784   \n",
       "5    경기도 김포시 김포한강3로237번길 33  0.008051         경기도 김포시 장기동 1796  0.004179   \n",
       "0            경기도 김포시 허산길 50  0.007023         경기도 김포시 장기동 1796  0.001823   \n",
       "4  경기도 김포시 양촌읍 양곡4로197번길 11  0.040992         경기도 김포시 장기동 1796  0.003594   \n",
       "2   경기도 김포시 양촌읍 양곡2로80번길 61  0.039038         경기도 김포시 장기동 1796  0.002623   \n",
       "6        경기도 김포시 김포한강4로 564  0.047391         경기도 김포시 장기동 1796  0.003041   \n",
       "\n",
       "             가까운 존 이름  지하철 최소거리 가까운 역 이름       스코어  \n",
       "3          김포통진 성원프라자  0.047603       구래  0.048605  \n",
       "1          김포통진 성원프라자  0.046681       구래  0.047142  \n",
       "5  중흥S클래스 리버티아파트 318동  0.008685       운양  0.004813  \n",
       "0  중흥S클래스 리버티아파트 318동  0.007241       운양  0.002041  \n",
       "4              곡촌마을 앞  0.015328       마산 -0.022069  \n",
       "2              곡촌마을 앞  0.013676       마산 -0.022739  \n",
       "6      메가박스 김포한강신도시점   0.007464       구래 -0.036886  "
      ]
     },
     "execution_count": 20,
     "metadata": {},
     "output_type": "execute_result"
    }
   ],
   "source": [
    "scores = pd.concat([happy_names, parks_info_.drop('index', axis=1), zones_info_.drop('index', axis=1), subways_info_.drop('index', axis=1)], axis=1)\n",
    "scores['스코어'] = -scores['주차장 최소거리'] + scores['쏘카존 최소거리'] + scores['지하철 최소거리']\n",
    "scores.sort_values(by='스코어', ascending=False, inplace=True)\n",
    "scores = scores.rename(columns={'주차장 주소':'가까운 주차장 주소','존 이름':'가까운 존 이름','역 이름':'가까운 역 이름'})\n",
    "scores"
   ]
  },
  {
   "cell_type": "code",
   "execution_count": 21,
   "id": "0860d0b7",
   "metadata": {},
   "outputs": [],
   "source": [
    "save(scores, \"results/1d201_0202_scores_김포.png\")"
   ]
  }
 ],
 "metadata": {
  "canvas": {
   "colorPalette": [
    "inherit",
    "inherit",
    "inherit",
    "inherit",
    "inherit",
    "inherit",
    "inherit",
    "inherit",
    "inherit",
    "inherit"
   ],
   "parameters": [],
   "version": "1.0"
  },
  "kernelspec": {
   "display_name": "Python 3",
   "language": "python",
   "name": "python3"
  },
  "language_info": {
   "codemirror_mode": {
    "name": "ipython",
    "version": 3
   },
   "file_extension": ".py",
   "mimetype": "text/x-python",
   "name": "python",
   "nbconvert_exporter": "python",
   "pygments_lexer": "ipython3",
   "version": "3.9.15"
  },
  "toc": {
   "base_numbering": 1,
   "nav_menu": {},
   "number_sections": true,
   "sideBar": true,
   "skip_h1_title": false,
   "title_cell": "Table of Contents",
   "title_sidebar": "Contents",
   "toc_cell": false,
   "toc_position": {
    "height": "calc(100% - 180px)",
    "left": "10px",
    "top": "150px",
    "width": "384px"
   },
   "toc_section_display": true,
   "toc_window_display": true
  },
  "toc-autonumbering": true,
  "varInspector": {
   "cols": {
    "lenName": 16,
    "lenType": 16,
    "lenVar": 40
   },
   "kernels_config": {
    "python": {
     "delete_cmd_postfix": "",
     "delete_cmd_prefix": "del ",
     "library": "var_list.py",
     "varRefreshCmd": "print(var_dic_list())"
    },
    "r": {
     "delete_cmd_postfix": ") ",
     "delete_cmd_prefix": "rm(",
     "library": "var_list.r",
     "varRefreshCmd": "cat(var_dic_list()) "
    }
   },
   "types_to_exclude": [
    "module",
    "function",
    "builtin_function_or_method",
    "instance",
    "_Feature"
   ],
   "window_display": false
  },
  "vscode": {
   "interpreter": {
    "hash": "b7a60c8f2c8d29e3138bb6141818b2f9370cc55944ffe85f7c0c63df44a79ba1"
   }
  }
 },
 "nbformat": 4,
 "nbformat_minor": 5
}
