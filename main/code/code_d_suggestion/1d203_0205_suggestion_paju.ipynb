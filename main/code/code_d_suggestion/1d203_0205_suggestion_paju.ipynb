{
 "cells": [
  {
   "attachments": {},
   "cell_type": "markdown",
   "id": "e3496404",
   "metadata": {},
   "source": [
    "지역\n",
    "- 파주시\n",
    "- A군, 수요 데이터 없음\n",
    "\n",
    "중심점\n",
    "- 행복주택\n",
    "\n",
    "고려한 요소들\n",
    "- 공영주차장\n",
    "- 쏘카존\n",
    "- 지하철\n",
    "- 아파트\n",
    "\n",
    "스케일링 여부\n",
    "- 평균으로 나눔"
   ]
  },
  {
   "cell_type": "code",
   "execution_count": 1,
   "id": "0f5a5272",
   "metadata": {
    "canvas": {
     "comments": [],
     "componentType": "CodeCell",
     "copiedOriginId": null,
     "diskcache": false,
     "headerColor": "none",
     "id": "55f81917-ef2c-4fa8-94e3-96a87231d70d",
     "isComponent": false,
     "name": "",
     "parents": []
    },
    "tags": []
   },
   "outputs": [],
   "source": [
    "import pandas as pd\n",
    "import numpy as np\n",
    "import dataframe_image as dfi"
   ]
  },
  {
   "cell_type": "code",
   "execution_count": 2,
   "id": "1500cc81",
   "metadata": {},
   "outputs": [],
   "source": [
    "# 데이터프레임을 그림 파일로 저장\n",
    "save_option = 3 # 1 : dfi / 2 : df2img / 3 : do nothing\n",
    "import df2img\n",
    "def save(df, path):\n",
    "    if save_option == 1:\n",
    "        dfi.export(df, path)\n",
    "    if save_option == 2:\n",
    "        df2img.save_dataframe(fig=df2img.plot_dataframe(df), filename=path)\n",
    "    if save_option == 3:\n",
    "        pass"
   ]
  },
  {
   "attachments": {},
   "cell_type": "markdown",
   "id": "bc649db1",
   "metadata": {},
   "source": [
    "각 군집별 도시들\n",
    "- cluster A : ['고양시 덕양구', '김포시', '성남시 분당구', '시흥시', '용인시 기흥구', '의정부시', '파주시']\n",
    "- cluster B : ['구리시', '군포시', '성남시 수정구', '성남시 중원구', '수원시 장안구', '수원시 팔달구', '안성시', '안양시 만안구', '양주시', '오산시', '용인시 처인구', '의왕시', '이천시']\n",
    "- cluster C : ['남양주시', '부천시', '화성시']\n",
    "- cluster D : ['가평군', '과천시', '동두천시', '양평군', '여주시', '연천군', '포천시']\n",
    "- cluster E : ['고양시 일산동구', '고양시 일산서구', '광명시', '광주시', '수원시 권선구', '수원시 영통구', '안산시 단원구', '안산시 상록구', '안양시 동안구', '용인시 수지구', '하남시']\n",
    "- cluster F : ['평택시']\n",
    "\n",
    "각 군집별 (수요 데이터가 있는) 도시들\n",
    "- Cluster A : ['고양시 덕양구', '김포시', '성남시 분당구', '의정부시']\n",
    "- Cluster B : ['구리시', '성남시 수정구', '성남시 중원구', '안양시 만안구']\n",
    "- Cluster C : ['남양주시', '화성시']\n",
    "- Cluster D : ['양평군']\n",
    "- Cluster E : ['고양시 일산동구', '고양시 일산서구', '광명시', '안양시 동안구', '하남시']\n",
    "- Cluster F : []\n",
    "\n",
    "파주시는 A군에 속해있고, 수요데이터는 없는 도시이다."
   ]
  },
  {
   "attachments": {},
   "cell_type": "markdown",
   "id": "81fbec43",
   "metadata": {},
   "source": [
    "# 데이터 작업"
   ]
  },
  {
   "attachments": {},
   "cell_type": "markdown",
   "id": "6204f6d2",
   "metadata": {},
   "source": [
    "## 행복주택"
   ]
  },
  {
   "cell_type": "code",
   "execution_count": 35,
   "id": "e5849cbc",
   "metadata": {},
   "outputs": [
    {
     "data": {
      "text/plain": [
       "array([[126.76816479,  37.73036766],\n",
       "       [126.72139206,  37.70817011],\n",
       "       [126.8776337 ,  37.84718409],\n",
       "       [126.69232552,  37.73169423],\n",
       "       [126.70674563,  37.72692207],\n",
       "       [126.70825863,  37.71424918],\n",
       "       [126.7333745 ,  37.73314793],\n",
       "       [126.71982608,  37.70843444]])"
      ]
     },
     "execution_count": 35,
     "metadata": {},
     "output_type": "execute_result"
    }
   ],
   "source": [
    "happys = pd.read_csv(\"../../data/data_b_raw/2b206_0111_경기도 행복주택주거지현황.csv\")\n",
    "happys.rename(columns={'주소':'행복주택 주소'}, inplace=True)\n",
    "happys = happys[happys['지역']=='파주시'].reset_index(drop=True)\n",
    "happy_names = happys['행복주택 주소']\n",
    "happys = happys[['경도', '위도']].rename(columns={'경도':'x', '위도':'y'})\n",
    "happys = happys.values\n",
    "happys"
   ]
  },
  {
   "attachments": {},
   "cell_type": "markdown",
   "id": "9c021d3d",
   "metadata": {},
   "source": [
    "## 아파트"
   ]
  },
  {
   "cell_type": "code",
   "execution_count": 4,
   "id": "781301bd",
   "metadata": {},
   "outputs": [
    {
     "data": {
      "text/plain": [
       "(216, 2)"
      ]
     },
     "execution_count": 4,
     "metadata": {},
     "output_type": "execute_result"
    }
   ],
   "source": [
    "apartments = pd.read_csv(\"../../data/data_b_raw/2b212_0205_경기도 파주시_공동주택현황_20221109.csv\")\n",
    "apartments = apartments[1:217]\n",
    "apartments.rename(columns={'도로명주소':'아파트 주소', '단지명':'아파트 이름'}, inplace=True)\n",
    "apartment_names = apartments[['아파트 이름', '아파트 주소']]\n",
    "apartments = apartments[['Longitude','Latitude']]\n",
    "apartments.rename(columns={'Longitude':'x', 'Latitude':'y'}, inplace=True)\n",
    "apartments = apartments.astype(float).values\n",
    "apartments.shape"
   ]
  },
  {
   "attachments": {},
   "cell_type": "markdown",
   "id": "390d056f",
   "metadata": {},
   "source": [
    "## 공영주차장"
   ]
  },
  {
   "cell_type": "code",
   "execution_count": 5,
   "id": "e10fc6d7",
   "metadata": {},
   "outputs": [
    {
     "data": {
      "text/plain": [
       "(42, 2)"
      ]
     },
     "execution_count": 5,
     "metadata": {},
     "output_type": "execute_result"
    }
   ],
   "source": [
    "parks = pd.read_csv(\"../../data/data_b_raw/2b208_0202_한국교통안전공단_전국공영주차장정보_20191224.csv\", encoding='CP949')\n",
    "parks.rename(columns={'주차장지번주소':'주차장 주소'}, inplace=True)\n",
    "parks = parks[parks['지역구분']=='경기도'].reset_index(drop=True)\n",
    "parks = parks[parks['지역구분_sub']=='파주시'].reset_index(drop=True)\n",
    "park_names = parks[['주차장 주소']]\n",
    "parks = parks[['경도', '위도']].rename(columns={'경도':'x','위도':'y'})\n",
    "parks = parks.values\n",
    "parks.shape"
   ]
  },
  {
   "attachments": {},
   "cell_type": "markdown",
   "id": "e9508326",
   "metadata": {
    "canvas": {
     "comments": [],
     "componentType": "CodeCell",
     "copiedOriginId": null,
     "diskcache": false,
     "headerColor": "none",
     "id": "6ab45911-2383-40e2-b5e3-4701fa505655",
     "isComponent": false,
     "name": "",
     "parents": []
    }
   },
   "source": [
    "## 쏘카존"
   ]
  },
  {
   "cell_type": "code",
   "execution_count": 6,
   "id": "05597a9c",
   "metadata": {
    "canvas": {
     "comments": [],
     "componentType": "CodeCell",
     "copiedOriginId": null,
     "diskcache": false,
     "headerColor": "none",
     "id": "2af4647c-af8b-4416-b4f3-e000614bb199",
     "isComponent": false,
     "name": "",
     "parents": []
    }
   },
   "outputs": [
    {
     "data": {
      "text/plain": [
       "(36, 2)"
      ]
     },
     "execution_count": 6,
     "metadata": {},
     "output_type": "execute_result"
    }
   ],
   "source": [
    "# 쏘카존 갯수 데이터(김선중)\n",
    "# 출처 : https://d3s0tskafalll9.cloudfront.net/media/documents/20210823_socar_zone.csv (going deeper 4-6)\n",
    "zones = pd.read_csv(\"../../data/data_b_raw/2b201_1228_20210823_socar_zone.csv\")\n",
    "zones.rename(columns={'zone_name':'존 이름'}, inplace=True)\n",
    "zones = zones[zones['region2']=='파주시'].reset_index(drop=True)\n",
    "zone_names = zones[['존 이름']]\n",
    "zones = zones[['lng','lat']]\n",
    "zones.rename(columns={'lng':'x','lat':'y'}, inplace=True)\n",
    "zones = zones.values\n",
    "zones.shape"
   ]
  },
  {
   "attachments": {},
   "cell_type": "markdown",
   "id": "cbe7e4c6-d939-41b9-862d-3793e14bdeb3",
   "metadata": {
    "canvas": {
     "comments": [],
     "componentType": "CodeCell",
     "copiedOriginId": null,
     "diskcache": false,
     "headerColor": "inherit",
     "id": "d5c3617c-3ef2-41d6-97ec-352f2cb34acb",
     "isComponent": false,
     "name": "",
     "parents": []
    }
   },
   "source": [
    "## 지하철역"
   ]
  },
  {
   "cell_type": "code",
   "execution_count": 7,
   "id": "8d9a3cf5",
   "metadata": {},
   "outputs": [
    {
     "data": {
      "text/plain": [
       "array([[126.761535,  37.712749],\n",
       "       [126.767076,  37.725441],\n",
       "       [126.774515,  37.766106],\n",
       "       [126.787531,  37.854565],\n",
       "       [126.769769,  37.880141],\n",
       "       [126.765401,  37.751295],\n",
       "       [126.746777,  37.888364],\n",
       "       [126.792437,  37.81567 ],\n",
       "       [126.792623,  37.796244]])"
      ]
     },
     "execution_count": 7,
     "metadata": {},
     "output_type": "execute_result"
    }
   ],
   "source": [
    "stations = ['야당', '운정', '금릉', '금촌', '월롱', '파주', '문산', '운천', '임진강']\n",
    "subways = pd.read_csv(\"../../data/data_b_raw/2b213_0205_국가철도공단_경의중앙선_역위치_20221122.csv\", encoding='CP949')\n",
    "subways = subways[subways['역명'].isin(stations)]\n",
    "subways.rename(columns={'역명':'역 이름'}, inplace=True)\n",
    "subways = subways[['역 이름', '경도', '위도']].reset_index(drop=True)\n",
    "subways.loc[4] =['운천', 126.769769, 37.880141]\n",
    "subways.loc[7] =['파주', 126.792437, 37.815670]\n",
    "subways.loc[8] =['월롱', 126.792623, 37.796244]\n",
    "subway_names = subways[['역 이름']]\n",
    "subways = subways[['경도', '위도']].rename(columns={'위도':'y','경도':'x'})\n",
    "subways = subways[['x', 'y']].values\n",
    "subways"
   ]
  },
  {
   "attachments": {},
   "cell_type": "markdown",
   "id": "bdb3cc05",
   "metadata": {},
   "source": [
    "# 제안"
   ]
  },
  {
   "cell_type": "code",
   "execution_count": 8,
   "id": "d6839c36",
   "metadata": {},
   "outputs": [
    {
     "name": "stdout",
     "output_type": "stream",
     "text": [
      "n_apartments : 216\n",
      "n_parks : 42\n",
      "n_zones : 36\n",
      "n_subways : 9\n"
     ]
    }
   ],
   "source": [
    "n_apartments = len(apartments)\n",
    "n_parks = len(parks)\n",
    "n_zones = len(zones)\n",
    "n_subways = len(subways)\n",
    "print(\"n_apartments :\",n_apartments)\n",
    "print(\"n_parks :\",n_parks)\n",
    "print(\"n_zones :\",n_zones)\n",
    "print(\"n_subways :\",n_subways)"
   ]
  },
  {
   "cell_type": "code",
   "execution_count": 9,
   "id": "4caf57c3",
   "metadata": {},
   "outputs": [
    {
     "data": {
      "text/plain": [
       "5.0"
      ]
     },
     "execution_count": 9,
     "metadata": {},
     "output_type": "execute_result"
    }
   ],
   "source": [
    "# euclidean distance\n",
    "def d(x:np.array, y:np.array) -> float:\n",
    "    return np.linalg.norm(x-y)\n",
    "x = np.array([0,3])\n",
    "y = np.array([4,0])\n",
    "d(x,y)"
   ]
  },
  {
   "attachments": {},
   "cell_type": "markdown",
   "id": "a01b627a",
   "metadata": {},
   "source": [
    "## score 설정"
   ]
  },
  {
   "attachments": {},
   "cell_type": "markdown",
   "id": "7e401a99",
   "metadata": {},
   "source": [
    "임의의 행복주택 $H$에 대하여, 다음과 같은 사실들을 가정한다.\n",
    "- 가정1 : $H$에서 공영주차장이 가까이 위치할 수록 $H$의 근처에 쏘카존을 제안할 만하다. (subscript : P)\n",
    "- 가정2 : $H$에서 쏘카존이 멀리 위치할 수록 $H$의 근처에 쏘카존을 제안할 만하다. (subscript : Z)\n",
    "- 가정3 : $H$에서 지하철역이 멀리 위치할 수록 $H$의 근처에 쏘카존을 제안할 만하다. (subscript : S)\n",
    "(지하철이 있으면, 지하철을 타지 쏘카를 타지는 않을 것이다.)\n",
    "- 가정3 : $H$의 근처에 아파트가 많을수록 $H$의 근처에 쏘카존을 제안할 만하다. (미반영) (subscript : A)\n",
    "\n",
    "행복주택 $H$에 대하여, 해당 행복주택 근처에 쏘카존을 제안할 만한지를 나타내는 score (score function)를 $f(H)$라고 하자.\n",
    "<!-- (일반적인 목적함수 e.g. loss function/cost function/error function는 목적함수의 값을 최소화하는 것이 목적이지만, 이번 목적함수는 최대화하는 것이 목적이다.) -->\n",
    "\n",
    "\\begin{align*}\n",
    "f(H)&=\\alpha_P f_P(H) + \\alpha_Z f_Z(H) + \\alpha_S f_S(H) + \\alpha_A f_A(H)\\\\\n",
    "f_P(H)&:-(\\text{가장 가까운 공영주차장까지의 거리})\\\\\n",
    "f_Z(H)&:(\\text{가장 가까운 쏘카존까지의 거리})\\\\\n",
    "f_S(H)&:(\\text{가장 가까운 지하철역까지의 거리})\\\\\n",
    "f_A(H)&:(\\text{반경 1km 이내의 아파트의 개수})\n",
    "\\end{align*}\n",
    "\n",
    "단, $\\alpha_P$, $\\alpha_Z$, $\\alpha_S$, $\\alpha_A$는 각각의 additive subfunction에 대한 가중치로, 해당 feature들을 어느 정도의 중요도로 반영할지를 나타내는 값이다.\n",
    "가중치가 모두 1이면, score는 다음과 같은 비교적 간단한 식이 된다.\n",
    "\n",
    "$$f(H) = -(\\text{가장 가까운 공영주차장까지의 거리}) + (\\text{가장 가까운 쏘카존까지의 거리}) + (\\text{가장 가까운 지하철역까지의 거리}) + (\\text{반경 1km 이내의 아파트의 개수})$$"
   ]
  },
  {
   "attachments": {},
   "cell_type": "markdown",
   "id": "7f1fe654",
   "metadata": {},
   "source": [
    "## 계산"
   ]
  },
  {
   "cell_type": "code",
   "execution_count": 10,
   "id": "dfe899e5",
   "metadata": {},
   "outputs": [],
   "source": [
    "# 1 degree of lattitude = 111.1km\n",
    "# 1 km = 1/111.1 degree of lattitude = 0.009 degree of lattitude\n",
    "# 각 아파트 A 마다 A와의 거리가 0.009(1km) 이하인 아파트들의 개수를 구한다."
   ]
  },
  {
   "cell_type": "code",
   "execution_count": 11,
   "id": "a12f4f4e",
   "metadata": {},
   "outputs": [
    {
     "data": {
      "text/plain": [
       "array([4, 0, 6, 0, 6, 3, 3, 0])"
      ]
     },
     "execution_count": 11,
     "metadata": {},
     "output_type": "execute_result"
    }
   ],
   "source": [
    "# distances : the distances of the apartment A and every apartment.\n",
    "# cardinality : the number of apartments which is closer to apartment A than 0.009.\n",
    "# park_info : the list of cardinalities for every apartment.\n",
    "apartments_info = []\n",
    "for happy in happys:\n",
    "    distances = np.array([d(apartment, happy) for apartment in apartments])\n",
    "    cardinality = sum(distances <=0.009)\n",
    "    apartments_info.append(cardinality)\n",
    "apartments_info = np.array(apartments_info)\n",
    "apartments_info"
   ]
  },
  {
   "cell_type": "code",
   "execution_count": 12,
   "id": "39506fbf",
   "metadata": {},
   "outputs": [
    {
     "data": {
      "text/html": [
       "<div>\n",
       "<style scoped>\n",
       "    .dataframe tbody tr th:only-of-type {\n",
       "        vertical-align: middle;\n",
       "    }\n",
       "\n",
       "    .dataframe tbody tr th {\n",
       "        vertical-align: top;\n",
       "    }\n",
       "\n",
       "    .dataframe thead th {\n",
       "        text-align: right;\n",
       "    }\n",
       "</style>\n",
       "<table border=\"1\" class=\"dataframe\">\n",
       "  <thead>\n",
       "    <tr style=\"text-align: right;\">\n",
       "      <th></th>\n",
       "      <th>아파트 이름</th>\n",
       "      <th>아파트 주소</th>\n",
       "    </tr>\n",
       "  </thead>\n",
       "  <tbody>\n",
       "    <tr>\n",
       "      <th>1</th>\n",
       "      <td>문산주공</td>\n",
       "      <td>경기도 파주시 문산읍 문산로26번길 35</td>\n",
       "    </tr>\n",
       "    <tr>\n",
       "      <th>2</th>\n",
       "      <td>동산연립</td>\n",
       "      <td>경기도 파주시 문산읍 독서울5길 5</td>\n",
       "    </tr>\n",
       "    <tr>\n",
       "      <th>3</th>\n",
       "      <td>광탄연립</td>\n",
       "      <td>경기도 파주시 광탄면 왕수물길 50</td>\n",
       "    </tr>\n",
       "    <tr>\n",
       "      <th>4</th>\n",
       "      <td>동산연립</td>\n",
       "      <td>경기도 파주시 금정6길 11(금촌동, 동산연립)</td>\n",
       "    </tr>\n",
       "    <tr>\n",
       "      <th>5</th>\n",
       "      <td>동산연립</td>\n",
       "      <td>경기도 파주시 금정4길 21-6(금촌동, 동산연립)</td>\n",
       "    </tr>\n",
       "    <tr>\n",
       "      <th>...</th>\n",
       "      <td>...</td>\n",
       "      <td>...</td>\n",
       "    </tr>\n",
       "    <tr>\n",
       "      <th>212</th>\n",
       "      <td>운정신도시 IPARK</td>\n",
       "      <td>경기도 파주시 심학산로 384</td>\n",
       "    </tr>\n",
       "    <tr>\n",
       "      <th>213</th>\n",
       "      <td>휴아림</td>\n",
       "      <td>경기도 파주시 해올로 20</td>\n",
       "    </tr>\n",
       "    <tr>\n",
       "      <th>214</th>\n",
       "      <td>별하람마을3단지 서희스타힐스엔에이치에프</td>\n",
       "      <td>경기도 파주시 가람로 109(와동동, 파주운정3 A4블록)</td>\n",
       "    </tr>\n",
       "    <tr>\n",
       "      <th>215</th>\n",
       "      <td>초롱꽃마을10단지</td>\n",
       "      <td>경기도 파주시 숲속노을로 60(와동동, 파주운정3 A25블록)</td>\n",
       "    </tr>\n",
       "    <tr>\n",
       "      <th>216</th>\n",
       "      <td>e편한세상 운정 어반프라임</td>\n",
       "      <td>경기도 파주시 양지로 120(동패동, 파주운정3 A27)</td>\n",
       "    </tr>\n",
       "  </tbody>\n",
       "</table>\n",
       "<p>216 rows × 2 columns</p>\n",
       "</div>"
      ],
      "text/plain": [
       "                    아파트 이름                              아파트 주소\n",
       "1                     문산주공              경기도 파주시 문산읍 문산로26번길 35\n",
       "2                     동산연립                 경기도 파주시 문산읍 독서울5길 5\n",
       "3                     광탄연립                 경기도 파주시 광탄면 왕수물길 50\n",
       "4                     동산연립          경기도 파주시 금정6길 11(금촌동, 동산연립)\n",
       "5                     동산연립        경기도 파주시 금정4길 21-6(금촌동, 동산연립)\n",
       "..                     ...                                 ...\n",
       "212            운정신도시 IPARK                    경기도 파주시 심학산로 384\n",
       "213                    휴아림                      경기도 파주시 해올로 20\n",
       "214  별하람마을3단지 서희스타힐스엔에이치에프    경기도 파주시 가람로 109(와동동, 파주운정3 A4블록)\n",
       "215              초롱꽃마을10단지  경기도 파주시 숲속노을로 60(와동동, 파주운정3 A25블록)\n",
       "216         e편한세상 운정 어반프라임     경기도 파주시 양지로 120(동패동, 파주운정3 A27)\n",
       "\n",
       "[216 rows x 2 columns]"
      ]
     },
     "execution_count": 12,
     "metadata": {},
     "output_type": "execute_result"
    }
   ],
   "source": [
    "apartment_names"
   ]
  },
  {
   "cell_type": "code",
   "execution_count": 13,
   "id": "236b9412",
   "metadata": {},
   "outputs": [
    {
     "data": {
      "text/html": [
       "<div>\n",
       "<style scoped>\n",
       "    .dataframe tbody tr th:only-of-type {\n",
       "        vertical-align: middle;\n",
       "    }\n",
       "\n",
       "    .dataframe tbody tr th {\n",
       "        vertical-align: top;\n",
       "    }\n",
       "\n",
       "    .dataframe thead th {\n",
       "        text-align: right;\n",
       "    }\n",
       "</style>\n",
       "<table border=\"1\" class=\"dataframe\">\n",
       "  <thead>\n",
       "    <tr style=\"text-align: right;\">\n",
       "      <th></th>\n",
       "      <th>근처 아파트 개수</th>\n",
       "    </tr>\n",
       "  </thead>\n",
       "  <tbody>\n",
       "    <tr>\n",
       "      <th>0</th>\n",
       "      <td>4</td>\n",
       "    </tr>\n",
       "    <tr>\n",
       "      <th>1</th>\n",
       "      <td>0</td>\n",
       "    </tr>\n",
       "    <tr>\n",
       "      <th>2</th>\n",
       "      <td>6</td>\n",
       "    </tr>\n",
       "    <tr>\n",
       "      <th>3</th>\n",
       "      <td>0</td>\n",
       "    </tr>\n",
       "    <tr>\n",
       "      <th>4</th>\n",
       "      <td>6</td>\n",
       "    </tr>\n",
       "    <tr>\n",
       "      <th>5</th>\n",
       "      <td>3</td>\n",
       "    </tr>\n",
       "    <tr>\n",
       "      <th>6</th>\n",
       "      <td>3</td>\n",
       "    </tr>\n",
       "    <tr>\n",
       "      <th>7</th>\n",
       "      <td>0</td>\n",
       "    </tr>\n",
       "  </tbody>\n",
       "</table>\n",
       "</div>"
      ],
      "text/plain": [
       "   근처 아파트 개수\n",
       "0          4\n",
       "1          0\n",
       "2          6\n",
       "3          0\n",
       "4          6\n",
       "5          3\n",
       "6          3\n",
       "7          0"
      ]
     },
     "execution_count": 13,
     "metadata": {},
     "output_type": "execute_result"
    }
   ],
   "source": [
    "apartments_info_ = pd.DataFrame({'근처 아파트 개수':apartments_info})\n",
    "apartments_info_"
   ]
  },
  {
   "cell_type": "code",
   "execution_count": 14,
   "id": "845dc7eb",
   "metadata": {},
   "outputs": [
    {
     "data": {
      "text/plain": [
       "(8, 2)"
      ]
     },
     "execution_count": 14,
     "metadata": {},
     "output_type": "execute_result"
    }
   ],
   "source": [
    "# distances : the distances of the apartments and every parking lot\n",
    "# park_info : the list of (min,index) pair for every apartment.\n",
    "parks_info = []\n",
    "for happy in happys:\n",
    "    distances = [d(happy, park) for park in parks]\n",
    "    parks_info.append(np.array([np.min(distances),np.argmin(distances)]))\n",
    "parks_info = np.array(parks_info)\n",
    "parks_info.shape"
   ]
  },
  {
   "cell_type": "code",
   "execution_count": 15,
   "id": "c3b956fe",
   "metadata": {},
   "outputs": [
    {
     "data": {
      "text/html": [
       "<div>\n",
       "<style scoped>\n",
       "    .dataframe tbody tr th:only-of-type {\n",
       "        vertical-align: middle;\n",
       "    }\n",
       "\n",
       "    .dataframe tbody tr th {\n",
       "        vertical-align: top;\n",
       "    }\n",
       "\n",
       "    .dataframe thead th {\n",
       "        text-align: right;\n",
       "    }\n",
       "</style>\n",
       "<table border=\"1\" class=\"dataframe\">\n",
       "  <thead>\n",
       "    <tr style=\"text-align: right;\">\n",
       "      <th></th>\n",
       "      <th>주차장 최소거리</th>\n",
       "      <th>가까운 주차장 주소</th>\n",
       "    </tr>\n",
       "  </thead>\n",
       "  <tbody>\n",
       "    <tr>\n",
       "      <th>0</th>\n",
       "      <td>0.004603</td>\n",
       "      <td>경기도 파주시 와동동 823-194</td>\n",
       "    </tr>\n",
       "    <tr>\n",
       "      <th>1</th>\n",
       "      <td>0.040753</td>\n",
       "      <td>경기도 파주시 야당동 1087</td>\n",
       "    </tr>\n",
       "    <tr>\n",
       "      <th>2</th>\n",
       "      <td>0.001472</td>\n",
       "      <td>경기도 파주시 법원리 431-1</td>\n",
       "    </tr>\n",
       "    <tr>\n",
       "      <th>3</th>\n",
       "      <td>0.057998</td>\n",
       "      <td>경기도 파주시 맥금동 110-2</td>\n",
       "    </tr>\n",
       "    <tr>\n",
       "      <th>4</th>\n",
       "      <td>0.052932</td>\n",
       "      <td>경기도 파주시 맥금동 110-2</td>\n",
       "    </tr>\n",
       "    <tr>\n",
       "      <th>5</th>\n",
       "      <td>0.053426</td>\n",
       "      <td>경기도 파주시 야당동 1087</td>\n",
       "    </tr>\n",
       "    <tr>\n",
       "      <th>6</th>\n",
       "      <td>0.033588</td>\n",
       "      <td>경기도 파주시 와동동 823-194</td>\n",
       "    </tr>\n",
       "    <tr>\n",
       "      <th>7</th>\n",
       "      <td>0.042265</td>\n",
       "      <td>경기도 파주시 야당동 1087</td>\n",
       "    </tr>\n",
       "  </tbody>\n",
       "</table>\n",
       "</div>"
      ],
      "text/plain": [
       "   주차장 최소거리           가까운 주차장 주소\n",
       "0  0.004603  경기도 파주시 와동동 823-194\n",
       "1  0.040753     경기도 파주시 야당동 1087\n",
       "2  0.001472    경기도 파주시 법원리 431-1\n",
       "3  0.057998    경기도 파주시 맥금동 110-2\n",
       "4  0.052932    경기도 파주시 맥금동 110-2\n",
       "5  0.053426     경기도 파주시 야당동 1087\n",
       "6  0.033588  경기도 파주시 와동동 823-194\n",
       "7  0.042265     경기도 파주시 야당동 1087"
      ]
     },
     "execution_count": 15,
     "metadata": {},
     "output_type": "execute_result"
    }
   ],
   "source": [
    "parks_info_ = pd.DataFrame({'주차장 최소거리':parks_info[:,0], 'index':np.round(parks_info[:,1]).astype(int)})\n",
    "parks_info_['가까운 주차장 주소'] = parks_info_['index'].replace(park_names['주차장 주소'].to_dict())\n",
    "parks_info_.drop('index', axis=1, inplace=True)\n",
    "parks_info_"
   ]
  },
  {
   "cell_type": "code",
   "execution_count": 16,
   "id": "16d0324d",
   "metadata": {},
   "outputs": [
    {
     "data": {
      "text/plain": [
       "(8, 2)"
      ]
     },
     "execution_count": 16,
     "metadata": {},
     "output_type": "execute_result"
    }
   ],
   "source": [
    "# distances : the distances of the apartments and every zone\n",
    "# zone_info : the list of (min,index) pair for every apartment.\n",
    "zones_info = []\n",
    "for happy in happys:\n",
    "    distances = [d(happy, zone) for zone in zones]\n",
    "    zones_info.append(np.array([np.min(distances),np.argmin(distances)]))\n",
    "zones_info = np.array(zones_info)\n",
    "zones_info.shape"
   ]
  },
  {
   "cell_type": "code",
   "execution_count": 17,
   "id": "e2b4c648",
   "metadata": {},
   "outputs": [
    {
     "data": {
      "text/html": [
       "<div>\n",
       "<style scoped>\n",
       "    .dataframe tbody tr th:only-of-type {\n",
       "        vertical-align: middle;\n",
       "    }\n",
       "\n",
       "    .dataframe tbody tr th {\n",
       "        vertical-align: top;\n",
       "    }\n",
       "\n",
       "    .dataframe thead th {\n",
       "        text-align: right;\n",
       "    }\n",
       "</style>\n",
       "<table border=\"1\" class=\"dataframe\">\n",
       "  <thead>\n",
       "    <tr style=\"text-align: right;\">\n",
       "      <th></th>\n",
       "      <th>쏘카존 최소거리</th>\n",
       "      <th>가까운 존 이름</th>\n",
       "    </tr>\n",
       "  </thead>\n",
       "  <tbody>\n",
       "    <tr>\n",
       "      <th>0</th>\n",
       "      <td>0.004544</td>\n",
       "      <td>가람도서관 앞</td>\n",
       "    </tr>\n",
       "    <tr>\n",
       "      <th>1</th>\n",
       "      <td>0.016874</td>\n",
       "      <td>파주중앙공원 앞</td>\n",
       "    </tr>\n",
       "    <tr>\n",
       "      <th>2</th>\n",
       "      <td>0.088495</td>\n",
       "      <td>문산어울림아파트 109동</td>\n",
       "    </tr>\n",
       "    <tr>\n",
       "      <th>3</th>\n",
       "      <td>0.013635</td>\n",
       "      <td>롯데프리미엄아울렛 파주점</td>\n",
       "    </tr>\n",
       "    <tr>\n",
       "      <th>4</th>\n",
       "      <td>0.012213</td>\n",
       "      <td>파주중앙공원 앞</td>\n",
       "    </tr>\n",
       "    <tr>\n",
       "      <th>5</th>\n",
       "      <td>0.014929</td>\n",
       "      <td>파주중앙공원 앞</td>\n",
       "    </tr>\n",
       "    <tr>\n",
       "      <th>6</th>\n",
       "      <td>0.000641</td>\n",
       "      <td>청암초등학교 옆</td>\n",
       "    </tr>\n",
       "    <tr>\n",
       "      <th>7</th>\n",
       "      <td>0.016440</td>\n",
       "      <td>파주중앙공원 앞</td>\n",
       "    </tr>\n",
       "  </tbody>\n",
       "</table>\n",
       "</div>"
      ],
      "text/plain": [
       "   쏘카존 최소거리       가까운 존 이름\n",
       "0  0.004544        가람도서관 앞\n",
       "1  0.016874       파주중앙공원 앞\n",
       "2  0.088495  문산어울림아파트 109동\n",
       "3  0.013635  롯데프리미엄아울렛 파주점\n",
       "4  0.012213       파주중앙공원 앞\n",
       "5  0.014929       파주중앙공원 앞\n",
       "6  0.000641       청암초등학교 옆\n",
       "7  0.016440       파주중앙공원 앞"
      ]
     },
     "execution_count": 17,
     "metadata": {},
     "output_type": "execute_result"
    }
   ],
   "source": [
    "zones_info_ = pd.DataFrame({'쏘카존 최소거리':zones_info[:,0], 'index':np.round(zones_info[:,1]).astype(int)})\n",
    "zones_info_['가까운 존 이름'] = zones_info_['index'].replace(zone_names['존 이름'].to_dict())\n",
    "zones_info_.drop('index', axis=1, inplace=True)\n",
    "zones_info_"
   ]
  },
  {
   "cell_type": "code",
   "execution_count": 18,
   "id": "d1c097b1",
   "metadata": {},
   "outputs": [
    {
     "data": {
      "text/plain": [
       "(8, 2)"
      ]
     },
     "execution_count": 18,
     "metadata": {},
     "output_type": "execute_result"
    }
   ],
   "source": [
    "# distances : the distances of the apartments and every subway\n",
    "# subway_info : the list of (min,index) pair for every apartments.\n",
    "subways_info = []\n",
    "for happy in happys:\n",
    "    distances = [d(happy, subway) for subway in subways]\n",
    "    subways_info.append(np.array([np.min(distances),np.argmin(distances)]))\n",
    "subways_info = np.array(subways_info)\n",
    "subways_info.shape"
   ]
  },
  {
   "cell_type": "code",
   "execution_count": 19,
   "id": "9a1fc8a2",
   "metadata": {},
   "outputs": [
    {
     "data": {
      "text/html": [
       "<div>\n",
       "<style scoped>\n",
       "    .dataframe tbody tr th:only-of-type {\n",
       "        vertical-align: middle;\n",
       "    }\n",
       "\n",
       "    .dataframe tbody tr th {\n",
       "        vertical-align: top;\n",
       "    }\n",
       "\n",
       "    .dataframe thead th {\n",
       "        text-align: right;\n",
       "    }\n",
       "</style>\n",
       "<table border=\"1\" class=\"dataframe\">\n",
       "  <thead>\n",
       "    <tr style=\"text-align: right;\">\n",
       "      <th></th>\n",
       "      <th>지하철 최소거리</th>\n",
       "      <th>가까운 역 이름</th>\n",
       "    </tr>\n",
       "  </thead>\n",
       "  <tbody>\n",
       "    <tr>\n",
       "      <th>0</th>\n",
       "      <td>0.005046</td>\n",
       "      <td>운정</td>\n",
       "    </tr>\n",
       "    <tr>\n",
       "      <th>1</th>\n",
       "      <td>0.040403</td>\n",
       "      <td>야당</td>\n",
       "    </tr>\n",
       "    <tr>\n",
       "      <th>2</th>\n",
       "      <td>0.090405</td>\n",
       "      <td>문산</td>\n",
       "    </tr>\n",
       "    <tr>\n",
       "      <th>3</th>\n",
       "      <td>0.071756</td>\n",
       "      <td>야당</td>\n",
       "    </tr>\n",
       "    <tr>\n",
       "      <th>4</th>\n",
       "      <td>0.056593</td>\n",
       "      <td>야당</td>\n",
       "    </tr>\n",
       "    <tr>\n",
       "      <th>5</th>\n",
       "      <td>0.053297</td>\n",
       "      <td>야당</td>\n",
       "    </tr>\n",
       "    <tr>\n",
       "      <th>6</th>\n",
       "      <td>0.034571</td>\n",
       "      <td>운정</td>\n",
       "    </tr>\n",
       "    <tr>\n",
       "      <th>7</th>\n",
       "      <td>0.041931</td>\n",
       "      <td>야당</td>\n",
       "    </tr>\n",
       "  </tbody>\n",
       "</table>\n",
       "</div>"
      ],
      "text/plain": [
       "   지하철 최소거리 가까운 역 이름\n",
       "0  0.005046       운정\n",
       "1  0.040403       야당\n",
       "2  0.090405       문산\n",
       "3  0.071756       야당\n",
       "4  0.056593       야당\n",
       "5  0.053297       야당\n",
       "6  0.034571       운정\n",
       "7  0.041931       야당"
      ]
     },
     "execution_count": 19,
     "metadata": {},
     "output_type": "execute_result"
    }
   ],
   "source": [
    "subways_info_ = pd.DataFrame({'지하철 최소거리':subways_info[:,0], 'index':np.round(subways_info[:,1]).astype(int)})\n",
    "subways_info_['가까운 역 이름'] = subways_info_['index'].replace(subway_names['역 이름'].to_dict())\n",
    "subways_info_.drop('index', axis=1, inplace=True)\n",
    "subways_info_"
   ]
  },
  {
   "cell_type": "code",
   "execution_count": 51,
   "id": "3a4bd26f",
   "metadata": {},
   "outputs": [
    {
     "data": {
      "text/html": [
       "<div>\n",
       "<style scoped>\n",
       "    .dataframe tbody tr th:only-of-type {\n",
       "        vertical-align: middle;\n",
       "    }\n",
       "\n",
       "    .dataframe tbody tr th {\n",
       "        vertical-align: top;\n",
       "    }\n",
       "\n",
       "    .dataframe thead th {\n",
       "        text-align: right;\n",
       "    }\n",
       "</style>\n",
       "<table border=\"1\" class=\"dataframe\">\n",
       "  <thead>\n",
       "    <tr style=\"text-align: right;\">\n",
       "      <th></th>\n",
       "      <th>행복주택 주소</th>\n",
       "      <th>근처 아파트 개수</th>\n",
       "      <th>주차장 최소거리</th>\n",
       "      <th>쏘카존 최소거리</th>\n",
       "      <th>지하철 최소거리</th>\n",
       "      <th>스코어</th>\n",
       "    </tr>\n",
       "  </thead>\n",
       "  <tbody>\n",
       "    <tr>\n",
       "      <th>2</th>\n",
       "      <td>경기도 파주시 법원읍 법원로 12</td>\n",
       "      <td>6</td>\n",
       "      <td>0.001472</td>\n",
       "      <td>0.088495</td>\n",
       "      <td>0.090405</td>\n",
       "      <td>128.603432</td>\n",
       "    </tr>\n",
       "    <tr>\n",
       "      <th>4</th>\n",
       "      <td>경기도 파주시 노을빛로 41</td>\n",
       "      <td>6</td>\n",
       "      <td>0.052932</td>\n",
       "      <td>0.012213</td>\n",
       "      <td>0.056593</td>\n",
       "      <td>124.846403</td>\n",
       "    </tr>\n",
       "    <tr>\n",
       "      <th>0</th>\n",
       "      <td>경기도 파주시 소리천로 203</td>\n",
       "      <td>4</td>\n",
       "      <td>0.004603</td>\n",
       "      <td>0.004544</td>\n",
       "      <td>0.005046</td>\n",
       "      <td>81.583382</td>\n",
       "    </tr>\n",
       "    <tr>\n",
       "      <th>5</th>\n",
       "      <td>경기도 파주시 초롱꽃로 17</td>\n",
       "      <td>3</td>\n",
       "      <td>0.053426</td>\n",
       "      <td>0.014929</td>\n",
       "      <td>0.053297</td>\n",
       "      <td>63.851439</td>\n",
       "    </tr>\n",
       "    <tr>\n",
       "      <th>6</th>\n",
       "      <td>경기도 파주시 교하로 20</td>\n",
       "      <td>3</td>\n",
       "      <td>0.033588</td>\n",
       "      <td>0.000641</td>\n",
       "      <td>0.034571</td>\n",
       "      <td>62.567506</td>\n",
       "    </tr>\n",
       "    <tr>\n",
       "      <th>3</th>\n",
       "      <td>경기도 파주시 문발로 430</td>\n",
       "      <td>0</td>\n",
       "      <td>0.057998</td>\n",
       "      <td>0.013635</td>\n",
       "      <td>0.071756</td>\n",
       "      <td>3.780506</td>\n",
       "    </tr>\n",
       "    <tr>\n",
       "      <th>7</th>\n",
       "      <td>경기도 파주시 숲속노을로 60</td>\n",
       "      <td>0</td>\n",
       "      <td>0.042265</td>\n",
       "      <td>0.016440</td>\n",
       "      <td>0.041931</td>\n",
       "      <td>2.442269</td>\n",
       "    </tr>\n",
       "    <tr>\n",
       "      <th>1</th>\n",
       "      <td>경기도 파주시 양지로 112</td>\n",
       "      <td>0</td>\n",
       "      <td>0.040753</td>\n",
       "      <td>0.016874</td>\n",
       "      <td>0.040403</td>\n",
       "      <td>2.382053</td>\n",
       "    </tr>\n",
       "  </tbody>\n",
       "</table>\n",
       "</div>"
      ],
      "text/plain": [
       "              행복주택 주소  근처 아파트 개수  주차장 최소거리  쏘카존 최소거리  지하철 최소거리         스코어\n",
       "2  경기도 파주시 법원읍 법원로 12          6  0.001472  0.088495  0.090405  128.603432\n",
       "4     경기도 파주시 노을빛로 41          6  0.052932  0.012213  0.056593  124.846403\n",
       "0    경기도 파주시 소리천로 203          4  0.004603  0.004544  0.005046   81.583382\n",
       "5     경기도 파주시 초롱꽃로 17          3  0.053426  0.014929  0.053297   63.851439\n",
       "6      경기도 파주시 교하로 20          3  0.033588  0.000641  0.034571   62.567506\n",
       "3     경기도 파주시 문발로 430          0  0.057998  0.013635  0.071756    3.780506\n",
       "7    경기도 파주시 숲속노을로 60          0  0.042265  0.016440  0.041931    2.442269\n",
       "1     경기도 파주시 양지로 112          0  0.040753  0.016874  0.040403    2.382053"
      ]
     },
     "execution_count": 51,
     "metadata": {},
     "output_type": "execute_result"
    }
   ],
   "source": [
    "scores = pd.concat([apartments_info_, parks_info_['주차장 최소거리'], zones_info_['쏘카존 최소거리'],\n",
    "                    subways_info_['지하철 최소거리']], axis=1)\n",
    "means = scores.describe().loc['mean'].values\n",
    "scores['스코어'] = 1/means[0]*(-scores['주차장 최소거리']) + 1/means[1]*scores['쏘카존 최소거리'] + 1/means[2]*scores['지하철 최소거리'] + 1/means[3]*scores['근처 아파트 개수']\n",
    "scores.insert(0, '행복주택 주소', list(happy_names))\n",
    "scores.sort_values(by='스코어', ascending=False, inplace=True)\n",
    "scores\n"
   ]
  },
  {
   "cell_type": "code",
   "execution_count": 52,
   "id": "0860d0b7",
   "metadata": {},
   "outputs": [],
   "source": [
    "save(scores, \"results/1d203_0203_scores_파주.png\")"
   ]
  }
 ],
 "metadata": {
  "canvas": {
   "colorPalette": [
    "inherit",
    "inherit",
    "inherit",
    "inherit",
    "inherit",
    "inherit",
    "inherit",
    "inherit",
    "inherit",
    "inherit"
   ],
   "parameters": [],
   "version": "1.0"
  },
  "kernelspec": {
   "display_name": "Python 3",
   "language": "python",
   "name": "python3"
  },
  "language_info": {
   "codemirror_mode": {
    "name": "ipython",
    "version": 3
   },
   "file_extension": ".py",
   "mimetype": "text/x-python",
   "name": "python",
   "nbconvert_exporter": "python",
   "pygments_lexer": "ipython3",
   "version": "3.9.15"
  },
  "toc": {
   "base_numbering": 1,
   "nav_menu": {},
   "number_sections": true,
   "sideBar": true,
   "skip_h1_title": false,
   "title_cell": "Table of Contents",
   "title_sidebar": "Contents",
   "toc_cell": false,
   "toc_position": {
    "height": "calc(100% - 180px)",
    "left": "10px",
    "top": "150px",
    "width": "384px"
   },
   "toc_section_display": true,
   "toc_window_display": true
  },
  "toc-autonumbering": true,
  "varInspector": {
   "cols": {
    "lenName": 16,
    "lenType": 16,
    "lenVar": 40
   },
   "kernels_config": {
    "python": {
     "delete_cmd_postfix": "",
     "delete_cmd_prefix": "del ",
     "library": "var_list.py",
     "varRefreshCmd": "print(var_dic_list())"
    },
    "r": {
     "delete_cmd_postfix": ") ",
     "delete_cmd_prefix": "rm(",
     "library": "var_list.r",
     "varRefreshCmd": "cat(var_dic_list()) "
    }
   },
   "types_to_exclude": [
    "module",
    "function",
    "builtin_function_or_method",
    "instance",
    "_Feature"
   ],
   "window_display": false
  },
  "vscode": {
   "interpreter": {
    "hash": "b7a60c8f2c8d29e3138bb6141818b2f9370cc55944ffe85f7c0c63df44a79ba1"
   }
  }
 },
 "nbformat": 4,
 "nbformat_minor": 5
}
