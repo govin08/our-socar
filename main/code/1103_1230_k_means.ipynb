{
 "cells": [
  {
   "cell_type": "markdown",
   "id": "a51e274f",
   "metadata": {},
   "source": [
    "## 예제코드\n",
    "https://zephyrus1111.tistory.com/193"
   ]
  },
  {
   "cell_type": "code",
   "execution_count": 3,
   "id": "efc1a754",
   "metadata": {},
   "outputs": [],
   "source": [
    "import numpy as np\n",
    "import matplotlib.pyplot as plt\n",
    "import warnings\n",
    "warnings.filterwarnings('ignore')\n",
    "from sklearn.cluster import KMeans"
   ]
  },
  {
   "cell_type": "code",
   "execution_count": 6,
   "id": "96acd69c",
   "metadata": {},
   "outputs": [
    {
     "data": {
      "image/png": "[encoded data removed]",
      "text/plain": [
       "<Figure size 504x504 with 1 Axes>"
      ]
     },
     "metadata": {},
     "output_type": "display_data"
    }
   ],
   "source": [
    "np.random.seed(100)\n",
    "num_data = 50\n",
    " \n",
    "x11 = np.linspace(0.3,0.7,20)\n",
    "x12 = np.linspace(1.3,1.8,15)\n",
    "x13 = np.linspace(2.4,3,15)\n",
    "x1 = np.concatenate((x11,x12,x13),axis=None)\n",
    "error = np.random.normal(1,0.5,num_data)\n",
    "x2 = 1.5*x1+2+error\n",
    "\n",
    "fig = plt.figure(figsize=(7,7))\n",
    "fig.set_facecolor('white')\n",
    "plt.scatter(x1, x2, color='k')\n",
    "plt.xlabel('x1')\n",
    "plt.ylabel('x2')\n",
    "plt.show()"
   ]
  },
  {
   "cell_type": "code",
   "execution_count": 19,
   "id": "b4911822",
   "metadata": {},
   "outputs": [
    {
     "data": {
      "text/plain": [
       "array([0, 0, 0, 0, 0, 0, 0, 0, 0, 0, 0, 0, 0, 0, 0, 0, 0, 0, 0, 0, 1, 1,\n",
       "       1, 1, 1, 1, 1, 1, 1, 1, 1, 1, 1, 1, 1, 2, 2, 2, 2, 2, 2, 2, 2, 2,\n",
       "       2, 2, 2, 2, 2, 2])"
      ]
     },
     "execution_count": 19,
     "metadata": {},
     "output_type": "execute_result"
    }
   ],
   "source": [
    "X = np.stack([x1, x2], axis=1)\n",
    "init = np.array([[2. , 4. ], [1. , 5. ], [2.5, 6. ]])\n",
    " \n",
    "kmeans = KMeans(n_clusters=3, init=init)\n",
    "kmeans.fit(X)\n",
    "labels = kmeans.labels_\n",
    "labels"
   ]
  },
  {
   "cell_type": "code",
   "execution_count": 21,
   "id": "6f337f22",
   "metadata": {},
   "outputs": [],
   "source": [
    "def get_silhouette_results(X, labels):\n",
    "    def get_sum_distance(target_x, target_cluster):\n",
    "        res = np.sum([np.linalg.norm(target_x-x) for x in target_cluster])\n",
    "        return res\n",
    "    \n",
    "    '''\n",
    "    각 데이터 포인트를 돌면서 a(i), b(i)를 계산\n",
    "    그리고 s(i)를 계산한다.\n",
    "    \n",
    "    마지막으로 Silhouette(실루엣) Coefficient를 계산한다.\n",
    "    '''\n",
    "    uniq_labels = np.unique(labels)\n",
    "    silhouette_val_list = []\n",
    "    for i in range(len(labels)):\n",
    "        target_data = X[i]\n",
    " \n",
    "        ## calculate a(i)\n",
    "        target_label = labels[i]\n",
    "        target_cluster_data_idx = np.where(labels==target_label)[0]\n",
    "        if len(target_cluster_data_idx) == 1:\n",
    "            silhouette_val_list.append(0)\n",
    "            continue\n",
    "        else:\n",
    "            target_cluster_data = X[target_cluster_data_idx]\n",
    "            temp1 = get_sum_distance(target_data, target_cluster_data)\n",
    "            a_i = temp1/(target_cluster_data.shape[0]-1)\n",
    " \n",
    "        ## calculate b(i)\n",
    "        b_i_list = []\n",
    "        label_list = uniq_labels[np.unique(labels) != target_label]\n",
    "        for ll in label_list:\n",
    "            other_cluster_data_idx = np.where(labels==ll)[0]\n",
    "            other_cluster_data = X[other_cluster_data_idx]\n",
    "            temp2 = get_sum_distance(target_data, other_cluster_data)\n",
    "            temp_b_i = temp2/other_cluster_data.shape[0]\n",
    "            b_i_list.append(temp_b_i)\n",
    " \n",
    "        b_i = min(b_i_list)\n",
    "        s_i = (b_i-a_i)/max(a_i, b_i)\n",
    "        silhouette_val_list.append(s_i)\n",
    " \n",
    "    silhouette_coef_list = []\n",
    "    for ul in uniq_labels:\n",
    "        temp3 = np.mean([s for s, l in zip(silhouette_val_list, labels) if l == ul])\n",
    "        silhouette_coef_list.append(temp3)\n",
    " \n",
    "    silhouette_coef = max(silhouette_coef_list)\n",
    "    return (silhouette_coef, np.array(silhouette_val_list))"
   ]
  },
  {
   "cell_type": "code",
   "execution_count": 22,
   "id": "0028285f",
   "metadata": {},
   "outputs": [
    {
     "name": "stdout",
     "output_type": "stream",
     "text": [
      "0.7434423527756951\n"
     ]
    }
   ],
   "source": [
    "silhouette_coef, silhouette_val_list = get_silhouette_results(X, labels)\n",
    "print(silhouette_coef)"
   ]
  },
  {
   "cell_type": "code",
   "execution_count": 23,
   "id": "d5279431",
   "metadata": {},
   "outputs": [
    {
     "data": {
      "image/png": "[encoded data removed]",
      "text/plain": [
       "<Figure size 432x720 with 1 Axes>"
      ]
     },
     "metadata": {},
     "output_type": "display_data"
    }
   ],
   "source": [
    "import seaborn as sns\n",
    " \n",
    "## 각 클러스터별로 Silhouette(실루엣) 값을 정렬한다.\n",
    "uniq_labels = np.unique(labels)\n",
    "sorted_cluster_svl = []\n",
    "rearr_labels = []\n",
    "for ul in uniq_labels:\n",
    "    labels_idx = np.where(labels==ul)[0]\n",
    "    target_svl = silhouette_val_list[labels_idx]\n",
    "    sorted_cluster_svl += sorted(target_svl)\n",
    "    rearr_labels += [ul]*len(target_svl)\n",
    " \n",
    "colors = sns.color_palette('hls', len(uniq_labels))\n",
    "color_labels = [colors[i] for i in rearr_labels]\n",
    " \n",
    "fig = plt.figure(figsize=(6, 10))\n",
    "fig.set_facecolor('white')\n",
    "plt.barh(range(len(sorted_cluster_svl)), sorted_cluster_svl, color=color_labels)\n",
    "plt.ylabel('Data Index')\n",
    "plt.xlabel('Silhouette Value')\n",
    "plt.show()"
   ]
  },
  {
   "cell_type": "code",
   "execution_count": 24,
   "id": "ea71aac3",
   "metadata": {},
   "outputs": [
    {
     "data": {
      "text/plain": [
       "0.645572616949285"
      ]
     },
     "execution_count": 24,
     "metadata": {},
     "output_type": "execute_result"
    }
   ],
   "source": [
    "from sklearn.metrics import silhouette_score\n",
    " \n",
    "silhouette_score(X, labels, metric='euclidean')"
   ]
  },
  {
   "cell_type": "code",
   "execution_count": 25,
   "id": "0b363c4f",
   "metadata": {},
   "outputs": [
    {
     "data": {
      "text/plain": [
       "0.6455726169492846"
      ]
     },
     "execution_count": 25,
     "metadata": {},
     "output_type": "execute_result"
    }
   ],
   "source": [
    "np.mean(silhouette_val_list)"
   ]
  }
 ],
 "metadata": {
  "kernelspec": {
   "display_name": "Python 3 (ipykernel)",
   "language": "python",
   "name": "python3"
  },
  "language_info": {
   "codemirror_mode": {
    "name": "ipython",
    "version": 3
   },
   "file_extension": ".py",
   "mimetype": "text/x-python",
   "name": "python",
   "nbconvert_exporter": "python",
   "pygments_lexer": "ipython3",
   "version": "3.9.7"
  },
  "toc": {
   "base_numbering": 1,
   "nav_menu": {},
   "number_sections": true,
   "sideBar": true,
   "skip_h1_title": false,
   "title_cell": "Table of Contents",
   "title_sidebar": "Contents",
   "toc_cell": false,
   "toc_position": {},
   "toc_section_display": true,
   "toc_window_display": false
  },
  "varInspector": {
   "cols": {
    "lenName": 16,
    "lenType": 16,
    "lenVar": 40
   },
   "kernels_config": {
    "python": {
     "delete_cmd_postfix": "",
     "delete_cmd_prefix": "del ",
     "library": "var_list.py",
     "varRefreshCmd": "print(var_dic_list())"
    },
    "r": {
     "delete_cmd_postfix": ") ",
     "delete_cmd_prefix": "rm(",
     "library": "var_list.r",
     "varRefreshCmd": "cat(var_dic_list()) "
    }
   },
   "types_to_exclude": [
    "module",
    "function",
    "builtin_function_or_method",
    "instance",
    "_Feature"
   ],
   "window_display": false
  }
 },
 "nbformat": 4,
 "nbformat_minor": 5
}
