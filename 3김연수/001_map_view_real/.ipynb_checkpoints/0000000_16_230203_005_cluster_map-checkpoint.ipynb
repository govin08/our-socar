{
 "cells": [
  {
   "cell_type": "markdown",
   "id": "9da64181",
   "metadata": {},
   "source": [
    "    0000000_16_230203_005_cluster_map\n",
    "     \n",
    "    data :  kyungki_region.json(경계) , 0001_230126_cluster_map_lat.csv(분석대상 좌표)\n",
    "       display : 230203_cluster_map.html\n",
    "       \n",
    "    목차  \n",
    "        1) package load\n",
    "        2) 경기도 경계 \n",
    "        3) 분석대상 경계\n",
    "        4) 시각화 \n",
    "           - base map -> 경기도 시각화 > 분석대상 시각화 -> total map\n",
    "        5) map save"
   ]
  },
  {
   "cell_type": "code",
   "execution_count": 1,
   "id": "97af471c",
   "metadata": {},
   "outputs": [
    {
     "name": "stdout",
     "output_type": "stream",
     "text": [
      "슝~\n"
     ]
    }
   ],
   "source": [
    "#1) package load\n",
    "import requests\n",
    "import json\n",
    "import os\n",
    "import math\n",
    "import time\n",
    "import pandas as pd\n",
    "import numpy as np\n",
    "import geopandas as gpd\n",
    "import folium\n",
    "import matplotlib.pyplot as plt\n",
    "\n",
    "from shapely.geometry import mapping, shape, Point, Polygon, LineString\n",
    "from folium import plugins\n",
    "from folium.plugins import MarkerCluster, HeatMap\n",
    "print('슝~')"
   ]
  },
  {
   "cell_type": "code",
   "execution_count": 2,
   "id": "3b172484",
   "metadata": {},
   "outputs": [
    {
     "name": "stdout",
     "output_type": "stream",
     "text": [
      "슝~\n"
     ]
    }
   ],
   "source": [
    "#2) 경기도 경계 \n",
    "k_geo_data_path = '../002_data_dir/001_map_data/kyungki_region.json'\n",
    "k_geo_data = json.load(\n",
    "    open(k_geo_data_path, encoding=\"utf-8\")\n",
    ")\n",
    "\n",
    "print('슝~')"
   ]
  },
  {
   "cell_type": "code",
   "execution_count": 3,
   "id": "9c4ea49e",
   "metadata": {},
   "outputs": [
    {
     "data": {
      "text/html": [
       "<div>\n",
       "<style scoped>\n",
       "    .dataframe tbody tr th:only-of-type {\n",
       "        vertical-align: middle;\n",
       "    }\n",
       "\n",
       "    .dataframe tbody tr th {\n",
       "        vertical-align: top;\n",
       "    }\n",
       "\n",
       "    .dataframe thead th {\n",
       "        text-align: right;\n",
       "    }\n",
       "</style>\n",
       "<table border=\"1\" class=\"dataframe\">\n",
       "  <thead>\n",
       "    <tr style=\"text-align: right;\">\n",
       "      <th></th>\n",
       "      <th>adm_cd</th>\n",
       "      <th>adm_nm</th>\n",
       "      <th>socar_data</th>\n",
       "      <th>cluster</th>\n",
       "      <th>char</th>\n",
       "      <th>lon</th>\n",
       "      <th>lat</th>\n",
       "    </tr>\n",
       "  </thead>\n",
       "  <tbody>\n",
       "    <tr>\n",
       "      <th>0</th>\n",
       "      <td>41820</td>\n",
       "      <td>가평군</td>\n",
       "      <td>0</td>\n",
       "      <td>NaN</td>\n",
       "      <td>NaN</td>\n",
       "      <td>127.511778</td>\n",
       "      <td>37.828831</td>\n",
       "    </tr>\n",
       "    <tr>\n",
       "      <th>1</th>\n",
       "      <td>41281</td>\n",
       "      <td>고양시 덕양구</td>\n",
       "      <td>1</td>\n",
       "      <td>1.0</td>\n",
       "      <td>A</td>\n",
       "      <td>126.878632</td>\n",
       "      <td>37.655810</td>\n",
       "    </tr>\n",
       "    <tr>\n",
       "      <th>2</th>\n",
       "      <td>41285</td>\n",
       "      <td>고양시 일산동구</td>\n",
       "      <td>1</td>\n",
       "      <td>1.0</td>\n",
       "      <td>A</td>\n",
       "      <td>126.797558</td>\n",
       "      <td>37.679865</td>\n",
       "    </tr>\n",
       "    <tr>\n",
       "      <th>3</th>\n",
       "      <td>41287</td>\n",
       "      <td>고양시 일산서구</td>\n",
       "      <td>1</td>\n",
       "      <td>1.0</td>\n",
       "      <td>A</td>\n",
       "      <td>126.727983</td>\n",
       "      <td>37.680205</td>\n",
       "    </tr>\n",
       "    <tr>\n",
       "      <th>4</th>\n",
       "      <td>41290</td>\n",
       "      <td>과천시</td>\n",
       "      <td>0</td>\n",
       "      <td>NaN</td>\n",
       "      <td>NaN</td>\n",
       "      <td>126.989800</td>\n",
       "      <td>37.426372</td>\n",
       "    </tr>\n",
       "  </tbody>\n",
       "</table>\n",
       "</div>"
      ],
      "text/plain": [
       "  adm_cd    adm_nm  socar_data  cluster char         lon        lat\n",
       "0  41820       가평군           0      NaN  NaN  127.511778  37.828831\n",
       "1  41281   고양시 덕양구           1      1.0    A  126.878632  37.655810\n",
       "2  41285  고양시 일산동구           1      1.0    A  126.797558  37.679865\n",
       "3  41287  고양시 일산서구           1      1.0    A  126.727983  37.680205\n",
       "4  41290       과천시           0      NaN  NaN  126.989800  37.426372"
      ]
     },
     "execution_count": 3,
     "metadata": {},
     "output_type": "execute_result"
    }
   ],
   "source": [
    "#3) 분석대상 경계\n",
    "k_pop_df = pd.read_csv(\"../002_data_dir/003_search_data/0001_230126_cluster_map_lat.csv\")\n",
    "k_pop_df['adm_cd'] = k_pop_df['adm_cd'].astype(str)\n",
    "k_pop_df.head()"
   ]
  },
  {
   "cell_type": "code",
   "execution_count": 4,
   "id": "ccc5cc70",
   "metadata": {},
   "outputs": [
    {
     "name": "stdout",
     "output_type": "stream",
     "text": [
      "슝~\n"
     ]
    }
   ],
   "source": [
    "#4) 시각화 .. base map\n",
    "center = [37.541, 126.986]\n",
    "\n",
    "# map이 서울 중심부에 위치하고, zoom 레벨은 10으로 시작 합니다.\n",
    "map = folium.Map(\n",
    "    location=center,\n",
    "    zoom_start=10,\n",
    "    )\n",
    "\n",
    "print('슝~')"
   ]
  },
  {
   "cell_type": "code",
   "execution_count": 5,
   "id": "1782b479",
   "metadata": {},
   "outputs": [
    {
     "data": {
      "text/plain": [
       "<folium.features.GeoJson at 0x7f0d9f365310>"
      ]
     },
     "execution_count": 5,
     "metadata": {},
     "output_type": "execute_result"
    }
   ],
   "source": [
    "#4) 시각화 .. 경기도 시각화 \n",
    "folium.GeoJson(\n",
    "    k_geo_data,\n",
    "    name='경기도'\n",
    ").add_to(map)"
   ]
  },
  {
   "cell_type": "code",
   "execution_count": 6,
   "id": "56403788",
   "metadata": {},
   "outputs": [
    {
     "data": {
      "text/plain": [
       "<folium.features.Choropleth at 0x7f0d9f356430>"
      ]
     },
     "execution_count": 6,
     "metadata": {},
     "output_type": "execute_result"
    }
   ],
   "source": [
    "#4) 시각화 .. 분석대상  시각화 \n",
    "folium.Choropleth(\n",
    "    geo_data=k_geo_data,\n",
    "    name=\"cluster map\",\n",
    "    data=k_pop_df,\n",
    "    columns=[\"adm_cd\", \"cluster\"],\n",
    "    key_on=\"feature.properties.ADM_SECT_C\",\n",
    "    fill_color='Accent',\n",
    "    fill_opacity=0.7,\n",
    "    line_opacity=0.2,\n",
    "    line_color='white', \n",
    "    nan_fill_color='black',\n",
    "    nan_fill_opacity =0,\n",
    "    line_weight=0,\n",
    "    highlight=False, \n",
    "    smooth_factor=1.0,\n",
    "    legend_name=\"cluster\"\n",
    ").add_to(map)\n",
    "\n"
   ]
  },
  {
   "cell_type": "code",
   "execution_count": 7,
   "id": "11786e3a",
   "metadata": {
    "scrolled": false
   },
   "outputs": [],
   "source": [
    "# #4) 시각화 .. total map\n",
    "# map"
   ]
  },
  {
   "cell_type": "code",
   "execution_count": 8,
   "id": "e7ee39e6",
   "metadata": {},
   "outputs": [],
   "source": [
    "# #5) map save\n",
    "# map.save(\"../003_map_xml/230203_cluster_map.html\")"
   ]
  }
 ],
 "metadata": {
  "kernelspec": {
   "display_name": "Python 3 (ipykernel)",
   "language": "python",
   "name": "python3"
  },
  "language_info": {
   "codemirror_mode": {
    "name": "ipython",
    "version": 3
   },
   "file_extension": ".py",
   "mimetype": "text/x-python",
   "name": "python",
   "nbconvert_exporter": "python",
   "pygments_lexer": "ipython3",
   "version": "3.9.7"
  }
 },
 "nbformat": 4,
 "nbformat_minor": 5
}
