{
 "cells": [
  {
   "cell_type": "markdown",
   "id": "a8a76da0",
   "metadata": {},
   "source": [
    "    00000_16_230125_cluster_map\n",
    "     \n",
    "    data :  kyungki_region.json,region_pop.xls\n",
    "       display : kyungki_pop.html"
   ]
  },
  {
   "cell_type": "code",
   "execution_count": 1,
   "id": "0f075488",
   "metadata": {},
   "outputs": [
    {
     "name": "stdout",
     "output_type": "stream",
     "text": [
      "슝~\n"
     ]
    }
   ],
   "source": [
    "#1. package load\n",
    "import requests\n",
    "import json\n",
    "import os\n",
    "import math\n",
    "import time\n",
    "import pandas as pd\n",
    "import numpy as np\n",
    "import geopandas as gpd\n",
    "import folium\n",
    "import matplotlib.pyplot as plt\n",
    "\n",
    "from shapely.geometry import mapping, shape, Point, Polygon, LineString\n",
    "from folium import plugins\n",
    "from folium.plugins import MarkerCluster, HeatMap\n",
    "print('슝~')"
   ]
  },
  {
   "cell_type": "code",
   "execution_count": 2,
   "id": "71d7870b",
   "metadata": {},
   "outputs": [
    {
     "data": {
      "text/html": [
       "<div>\n",
       "<style scoped>\n",
       "    .dataframe tbody tr th:only-of-type {\n",
       "        vertical-align: middle;\n",
       "    }\n",
       "\n",
       "    .dataframe tbody tr th {\n",
       "        vertical-align: top;\n",
       "    }\n",
       "\n",
       "    .dataframe thead th {\n",
       "        text-align: right;\n",
       "    }\n",
       "</style>\n",
       "<table border=\"1\" class=\"dataframe\">\n",
       "  <thead>\n",
       "    <tr style=\"text-align: right;\">\n",
       "      <th></th>\n",
       "      <th>zone_name</th>\n",
       "      <th>lng</th>\n",
       "      <th>lat</th>\n",
       "      <th>region1</th>\n",
       "      <th>region2</th>\n",
       "      <th>region3</th>\n",
       "    </tr>\n",
       "  </thead>\n",
       "  <tbody>\n",
       "    <tr>\n",
       "      <th>0</th>\n",
       "      <td>비전2 파출소사거리</td>\n",
       "      <td>127.102939</td>\n",
       "      <td>36.995989</td>\n",
       "      <td>경기도</td>\n",
       "      <td>평택시</td>\n",
       "      <td>비전동</td>\n",
       "    </tr>\n",
       "    <tr>\n",
       "      <th>1</th>\n",
       "      <td>수원시청역 9번출구</td>\n",
       "      <td>127.032953</td>\n",
       "      <td>37.262378</td>\n",
       "      <td>경기도</td>\n",
       "      <td>수원시　팔달구</td>\n",
       "      <td>인계동</td>\n",
       "    </tr>\n",
       "    <tr>\n",
       "      <th>2</th>\n",
       "      <td>목포 상동현대아파트 앞</td>\n",
       "      <td>126.415655</td>\n",
       "      <td>34.811289</td>\n",
       "      <td>전라남도</td>\n",
       "      <td>목포시</td>\n",
       "      <td>상동</td>\n",
       "    </tr>\n",
       "    <tr>\n",
       "      <th>3</th>\n",
       "      <td>단국대 산학협력관 앞</td>\n",
       "      <td>127.166626</td>\n",
       "      <td>36.832965</td>\n",
       "      <td>충청남도</td>\n",
       "      <td>천안시　동남구</td>\n",
       "      <td>신부동</td>\n",
       "    </tr>\n",
       "    <tr>\n",
       "      <th>4</th>\n",
       "      <td>목원대학교 앞</td>\n",
       "      <td>127.337858</td>\n",
       "      <td>36.329906</td>\n",
       "      <td>대전광역시</td>\n",
       "      <td>서구</td>\n",
       "      <td>도안동</td>\n",
       "    </tr>\n",
       "  </tbody>\n",
       "</table>\n",
       "</div>"
      ],
      "text/plain": [
       "      zone_name         lng        lat region1  region2 region3\n",
       "0    비전2 파출소사거리  127.102939  36.995989     경기도      평택시     비전동\n",
       "1    수원시청역 9번출구  127.032953  37.262378     경기도  수원시　팔달구     인계동\n",
       "2  목포 상동현대아파트 앞  126.415655  34.811289    전라남도      목포시      상동\n",
       "3   단국대 산학협력관 앞  127.166626  36.832965    충청남도  천안시　동남구     신부동\n",
       "4       목원대학교 앞  127.337858  36.329906   대전광역시       서구     도안동"
      ]
     },
     "execution_count": 2,
     "metadata": {},
     "output_type": "execute_result"
    }
   ],
   "source": [
    "#2. 프로젝트(1)  ... data load\n",
    "\n",
    "path = '../002_data_dir/004_node_data/20210823_socar_zone.csv'\n",
    "\n",
    "socar_zone_info_df = pd.read_csv(path)\n",
    "socar_zone_info_df.head()"
   ]
  },
  {
   "cell_type": "code",
   "execution_count": 3,
   "id": "ba7c1c10",
   "metadata": {},
   "outputs": [],
   "source": [
    "k_socar_zone_df = socar_zone_info_df[socar_zone_info_df['region1'] == '경기도']"
   ]
  },
  {
   "cell_type": "code",
   "execution_count": 4,
   "id": "9033cecf",
   "metadata": {},
   "outputs": [
    {
     "name": "stdout",
     "output_type": "stream",
     "text": [
      "슝~\n"
     ]
    }
   ],
   "source": [
    "#7 서울시 구별 인구수 데이터 수집 및 시각화  .. 데이터 수집 및 전처리 .. 구단위 data\n",
    "k_geo_data_path = '../002_data_dir/001_map_data/kyungki_region.json'\n",
    "k_geo_data = json.load(\n",
    "    open(k_geo_data_path, encoding=\"utf-8\")\n",
    ")\n",
    "\n",
    "print('슝~')"
   ]
  },
  {
   "cell_type": "code",
   "execution_count": 5,
   "id": "1a1d9cf1",
   "metadata": {},
   "outputs": [
    {
     "data": {
      "text/html": [
       "<div>\n",
       "<style scoped>\n",
       "    .dataframe tbody tr th:only-of-type {\n",
       "        vertical-align: middle;\n",
       "    }\n",
       "\n",
       "    .dataframe tbody tr th {\n",
       "        vertical-align: top;\n",
       "    }\n",
       "\n",
       "    .dataframe thead th {\n",
       "        text-align: right;\n",
       "    }\n",
       "</style>\n",
       "<table border=\"1\" class=\"dataframe\">\n",
       "  <thead>\n",
       "    <tr style=\"text-align: right;\">\n",
       "      <th></th>\n",
       "      <th>adm_cd</th>\n",
       "      <th>adm_nm</th>\n",
       "      <th>cluster1</th>\n",
       "      <th>cluster2</th>\n",
       "      <th>cluster3</th>\n",
       "      <th>cluster4</th>\n",
       "      <th>cluster5</th>\n",
       "    </tr>\n",
       "  </thead>\n",
       "  <tbody>\n",
       "    <tr>\n",
       "      <th>0</th>\n",
       "      <td>41820</td>\n",
       "      <td>가평군</td>\n",
       "      <td>1.0</td>\n",
       "      <td>NaN</td>\n",
       "      <td>NaN</td>\n",
       "      <td>NaN</td>\n",
       "      <td>NaN</td>\n",
       "    </tr>\n",
       "    <tr>\n",
       "      <th>1</th>\n",
       "      <td>41281</td>\n",
       "      <td>고양시 덕양구</td>\n",
       "      <td>1.0</td>\n",
       "      <td>NaN</td>\n",
       "      <td>NaN</td>\n",
       "      <td>NaN</td>\n",
       "      <td>NaN</td>\n",
       "    </tr>\n",
       "    <tr>\n",
       "      <th>2</th>\n",
       "      <td>41285</td>\n",
       "      <td>고양시 일산동구</td>\n",
       "      <td>1.0</td>\n",
       "      <td>NaN</td>\n",
       "      <td>NaN</td>\n",
       "      <td>NaN</td>\n",
       "      <td>NaN</td>\n",
       "    </tr>\n",
       "    <tr>\n",
       "      <th>3</th>\n",
       "      <td>41287</td>\n",
       "      <td>고양시 일산서구</td>\n",
       "      <td>1.0</td>\n",
       "      <td>NaN</td>\n",
       "      <td>NaN</td>\n",
       "      <td>NaN</td>\n",
       "      <td>NaN</td>\n",
       "    </tr>\n",
       "    <tr>\n",
       "      <th>4</th>\n",
       "      <td>41290</td>\n",
       "      <td>과천시</td>\n",
       "      <td>1.0</td>\n",
       "      <td>NaN</td>\n",
       "      <td>NaN</td>\n",
       "      <td>NaN</td>\n",
       "      <td>NaN</td>\n",
       "    </tr>\n",
       "  </tbody>\n",
       "</table>\n",
       "</div>"
      ],
      "text/plain": [
       "   adm_cd    adm_nm  cluster1  cluster2  cluster3  cluster4  cluster5\n",
       "0   41820       가평군       1.0       NaN       NaN       NaN       NaN\n",
       "1   41281   고양시 덕양구       1.0       NaN       NaN       NaN       NaN\n",
       "2   41285  고양시 일산동구       1.0       NaN       NaN       NaN       NaN\n",
       "3   41287  고양시 일산서구       1.0       NaN       NaN       NaN       NaN\n",
       "4   41290       과천시       1.0       NaN       NaN       NaN       NaN"
      ]
     },
     "execution_count": 5,
     "metadata": {},
     "output_type": "execute_result"
    }
   ],
   "source": [
    "k_pop_df = pd.read_csv(\"../002_data_dir/003_search_data/230125_cluster_map1.csv\")\n",
    "k_pop_df.head()"
   ]
  },
  {
   "cell_type": "code",
   "execution_count": 6,
   "id": "724c388a",
   "metadata": {},
   "outputs": [
    {
     "name": "stdout",
     "output_type": "stream",
     "text": [
      "<class 'pandas.core.frame.DataFrame'>\n",
      "RangeIndex: 42 entries, 0 to 41\n",
      "Data columns (total 7 columns):\n",
      " #   Column    Non-Null Count  Dtype  \n",
      "---  ------    --------------  -----  \n",
      " 0   adm_cd    42 non-null     int64  \n",
      " 1   adm_nm    42 non-null     object \n",
      " 2   cluster1  10 non-null     float64\n",
      " 3   cluster2  7 non-null      float64\n",
      " 4   cluster3  8 non-null      float64\n",
      " 5   cluster4  9 non-null      float64\n",
      " 6   cluster5  8 non-null      float64\n",
      "dtypes: float64(5), int64(1), object(1)\n",
      "memory usage: 2.4+ KB\n"
     ]
    }
   ],
   "source": [
    "k_pop_df.info()"
   ]
  },
  {
   "cell_type": "code",
   "execution_count": 7,
   "id": "1c65306d",
   "metadata": {},
   "outputs": [],
   "source": [
    "k_pop_df['adm_cd'] = k_pop_df['adm_cd'].astype(str)"
   ]
  },
  {
   "cell_type": "code",
   "execution_count": 8,
   "id": "dedbb935",
   "metadata": {},
   "outputs": [
    {
     "name": "stdout",
     "output_type": "stream",
     "text": [
      "슝~\n"
     ]
    }
   ],
   "source": [
    "#7 서울시 구별 인구수 데이터 수집 및 시각화  .... map center 지정\n",
    "# 서울시 중심부 위도, 경도\n",
    "center = [37.541, 126.986]\n",
    "\n",
    "# map이 서울 중심부에 위치하고, zoom 레벨은 10으로 시작 합니다.\n",
    "map = folium.Map(\n",
    "    location=center,\n",
    "    zoom_start=10,\n",
    "    )\n",
    "\n",
    "print('슝~')"
   ]
  },
  {
   "cell_type": "code",
   "execution_count": 9,
   "id": "43ea63f6",
   "metadata": {},
   "outputs": [
    {
     "name": "stdout",
     "output_type": "stream",
     "text": [
      "슝~\n"
     ]
    }
   ],
   "source": [
    "#2. 프로젝트(1)  # MarkerCluster 객체 \n",
    "marker_cluster = MarkerCluster().add_to(map)\n",
    "\n",
    "#maker 객체 추가\n",
    "for idx, row in k_socar_zone_df.iterrows():\n",
    "    try:\n",
    "#         folium.Marker(\n",
    "#             location=[k_socar_zone_df.loc[idx, \"lat\"], k_socar_zone_df.loc[idx, \"lng\"]],\n",
    "#             popup=k_socar_zone_df.loc[idx, \"zone_name\"],\n",
    "#             icon=folium.Icon(color=\"cadetblue\", icon=\"car\", prefix=\"fa\")            \n",
    "#         ).add_to(marker_cluster)\n",
    "        folium.CircleMarker(\n",
    "            location=[k_socar_zone_df.loc[idx, \"lat\"], k_socar_zone_df.loc[idx, \"lng\"]],\n",
    "            color='tomato',\n",
    "            radius=50,\n",
    "            tooltip = 'zone'           \n",
    "        ).add_to(marker_cluster)\n",
    "    except:\n",
    "        pass\n",
    "\n",
    "print('슝~')"
   ]
  },
  {
   "cell_type": "code",
   "execution_count": 10,
   "id": "7ad45304",
   "metadata": {},
   "outputs": [
    {
     "data": {
      "text/plain": [
       "<folium.features.Choropleth at 0x7fefa62e2520>"
      ]
     },
     "execution_count": 10,
     "metadata": {},
     "output_type": "execute_result"
    }
   ],
   "source": [
    "#7 서울시 구별 인구수 데이터 수집 및 시각화 ..  data add\n",
    "folium.Choropleth(\n",
    "    geo_data=k_geo_data,\n",
    "    name=\"cluster map\",\n",
    "    data=k_pop_df,\n",
    "    columns=[\"adm_cd\", \"cluster1\"],\n",
    "    key_on=\"feature.properties.ADM_SECT_C\",\n",
    "    fill_color='Blues',\n",
    "    fill_opacity=0.7,\n",
    "    line_opacity=0.2,\n",
    "    line_color='white', \n",
    "    nan_fill_color='White',\n",
    "    nan_fill_opacity = 0,\n",
    "    line_weight=0,\n",
    "    highlight=False, \n",
    "    smooth_factor=1.0,\n",
    "    legend_name=\"cluster1\"\n",
    ").add_to(map)\n",
    "\n"
   ]
  },
  {
   "cell_type": "code",
   "execution_count": 11,
   "id": "8dfcef41",
   "metadata": {},
   "outputs": [
    {
     "data": {
      "text/plain": [
       "<folium.features.Choropleth at 0x7fefa7493760>"
      ]
     },
     "execution_count": 11,
     "metadata": {},
     "output_type": "execute_result"
    }
   ],
   "source": [
    "#7 서울시 구별 인구수 데이터 수집 및 시각화 ..  data add\n",
    "folium.Choropleth(\n",
    "    geo_data=k_geo_data,\n",
    "    name=\"cluster map\",\n",
    "    data=k_pop_df,\n",
    "    columns=[\"adm_cd\", \"cluster2\"],\n",
    "    key_on=\"feature.properties.ADM_SECT_C\",\n",
    "    fill_color='Reds',\n",
    "    fill_opacity=0.7,\n",
    "    line_opacity=0.2,\n",
    "    line_color='white', \n",
    "    nan_fill_color='White',\n",
    "    nan_fill_opacity = 0,\n",
    "    line_weight=0,\n",
    "    highlight=False, \n",
    "    smooth_factor=1.0,\n",
    "    legend_name=\"cluster2\"\n",
    ").add_to(map)\n"
   ]
  },
  {
   "cell_type": "code",
   "execution_count": 12,
   "id": "c7d23266",
   "metadata": {},
   "outputs": [
    {
     "data": {
      "text/plain": [
       "<folium.features.Choropleth at 0x7fefa62f9430>"
      ]
     },
     "execution_count": 12,
     "metadata": {},
     "output_type": "execute_result"
    }
   ],
   "source": [
    "#7 서울시 구별 인구수 데이터 수집 및 시각화 ..  data add\n",
    "folium.Choropleth(\n",
    "    geo_data=k_geo_data,\n",
    "    name=\"cluster map\",\n",
    "    data=k_pop_df,\n",
    "    columns=[\"adm_cd\", \"cluster3\"],\n",
    "    key_on=\"feature.properties.ADM_SECT_C\",\n",
    "    fill_color='Greens',\n",
    "    fill_opacity=0.7,\n",
    "    line_opacity=0.2,\n",
    "    line_color='white', \n",
    "    nan_fill_color='White',\n",
    "    nan_fill_opacity = 0,\n",
    "    line_weight=0,\n",
    "    highlight=False, \n",
    "    smooth_factor=1.0,\n",
    "    legend_name=\"cluster3\"\n",
    ").add_to(map)\n"
   ]
  },
  {
   "cell_type": "code",
   "execution_count": 13,
   "id": "b51b94c6",
   "metadata": {},
   "outputs": [
    {
     "data": {
      "text/plain": [
       "<folium.features.Choropleth at 0x7fefa62e2eb0>"
      ]
     },
     "execution_count": 13,
     "metadata": {},
     "output_type": "execute_result"
    }
   ],
   "source": [
    "#7 서울시 구별 인구수 데이터 수집 및 시각화 ..  data add\n",
    "folium.Choropleth(\n",
    "    geo_data=k_geo_data,\n",
    "    name=\"cluster map\",\n",
    "    data=k_pop_df,\n",
    "    columns=[\"adm_cd\", \"cluster4\"],\n",
    "    key_on=\"feature.properties.ADM_SECT_C\",\n",
    "    fill_color='Greys',\n",
    "    fill_opacity=0.7,\n",
    "    line_opacity=0.2,\n",
    "    line_color='white', \n",
    "    nan_fill_opacity = 0,\n",
    "    nan_fill_color='White',\n",
    "    line_weight=0,\n",
    "    highlight=False, \n",
    "    smooth_factor=1.0,\n",
    "    legend_name=\"cluster4\"\n",
    ").add_to(map)\n"
   ]
  },
  {
   "cell_type": "code",
   "execution_count": 14,
   "id": "0032ceda",
   "metadata": {},
   "outputs": [
    {
     "data": {
      "text/plain": [
       "<folium.features.Choropleth at 0x7fefa62f9520>"
      ]
     },
     "execution_count": 14,
     "metadata": {},
     "output_type": "execute_result"
    }
   ],
   "source": [
    "#7 서울시 구별 인구수 데이터 수집 및 시각화 ..  data add\n",
    "folium.Choropleth(\n",
    "    geo_data=k_geo_data,\n",
    "    name=\"cluster map\",\n",
    "    data=k_pop_df,\n",
    "    columns=[\"adm_cd\", \"cluster5\"],\n",
    "    key_on=\"feature.properties.ADM_SECT_C\",\n",
    "    fill_color='Purples',\n",
    "    fill_opacity=0.7,\n",
    "    line_opacity=0.2,\n",
    "    line_color='white',\n",
    "    nan_fill_opacity = 0,\n",
    "    nan_fill_color='White',\n",
    "    line_weight=0,\n",
    "    highlight=False, \n",
    "    smooth_factor=1.0,\n",
    "    legend_name=\"cluster5\"\n",
    ").add_to(map)\n"
   ]
  },
  {
   "cell_type": "code",
   "execution_count": 15,
   "id": "9b36932c",
   "metadata": {
    "scrolled": false
   },
   "outputs": [],
   "source": [
    "#7 서울시 구별 인구수 데이터 수집 및 시각화 . map\n",
    "# map"
   ]
  },
  {
   "cell_type": "code",
   "execution_count": 16,
   "id": "1fab73b1",
   "metadata": {},
   "outputs": [],
   "source": [
    "#map.save(\"../003_map_xml/230125_cluster_pop.html\")"
   ]
  }
 ],
 "metadata": {
  "kernelspec": {
   "display_name": "Python 3 (ipykernel)",
   "language": "python",
   "name": "python3"
  },
  "language_info": {
   "codemirror_mode": {
    "name": "ipython",
    "version": 3
   },
   "file_extension": ".py",
   "mimetype": "text/x-python",
   "name": "python",
   "nbconvert_exporter": "python",
   "pygments_lexer": "ipython3",
   "version": "3.9.7"
  }
 },
 "nbformat": 4,
 "nbformat_minor": 5
}
