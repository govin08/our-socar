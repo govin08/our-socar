{
 "cells": [
  {
   "cell_type": "markdown",
   "id": "469711ba",
   "metadata": {},
   "source": [
    "    0000000_16_230203_001_final_cluster_happy_parking_map_before\n",
    "     \n",
    "    data :  kyungki_region.json(경계), 230128_cluster_map_lat.csv(경계 좌표)\n",
    "            k_happy_df.csv(행복주택),korea_parking.csv(주차장)\n",
    "            \n",
    "    save : kyungki_pop.html\n",
    "           230203_result_before.html\n",
    "           \n",
    "    목차 \n",
    "        0) package load\n",
    "        1) 경기도 시각화 \n",
    "           - 경계 \n",
    "           - 경기도 시구 : 42 개 좌표 -> 분석 대상 : 경기도 16개 좌표\n",
    "\n",
    "        2) 행복주택 data/좌표\n",
    "        3) 전국주차장 data/좌표\n",
    "           - 전국 주차장 -> 경기도 주차장 -> 전처리(reset index)\n",
    "        4) 시각화 \n",
    "           - base map -> 경기도 경계 -> 16개 지구 color map -> 주차장 -> 행복지구 -> 16개지구 중심 원표시 -> total map\n",
    "        5) save"
   ]
  },
  {
   "cell_type": "code",
   "execution_count": 1,
   "id": "a59bd3d6",
   "metadata": {},
   "outputs": [
    {
     "name": "stdout",
     "output_type": "stream",
     "text": [
      "슝~\n"
     ]
    }
   ],
   "source": [
    "#0) package load\n",
    "import requests\n",
    "import json\n",
    "import os\n",
    "import math\n",
    "import time\n",
    "import pandas as pd\n",
    "import numpy as np\n",
    "import geopandas as gpd\n",
    "import folium\n",
    "import matplotlib.pyplot as plt\n",
    "\n",
    "from shapely.geometry import mapping, shape, Point, Polygon, LineString\n",
    "from folium import plugins\n",
    "from folium.plugins import MarkerCluster, HeatMap\n",
    "print('슝~')"
   ]
  },
  {
   "cell_type": "code",
   "execution_count": 2,
   "id": "f5d9149d",
   "metadata": {},
   "outputs": [
    {
     "name": "stdout",
     "output_type": "stream",
     "text": [
      "슝~\n"
     ]
    }
   ],
   "source": [
    "# 1) 경기도 경계 시각화 \n",
    "k_geo_data_path = '../002_data_dir/001_map_data/kyungki_region.json'\n",
    "k_geo_data = json.load(\n",
    "    open(k_geo_data_path, encoding=\"utf-8\")\n",
    ")\n",
    "\n",
    "print('슝~')"
   ]
  },
  {
   "cell_type": "code",
   "execution_count": 3,
   "id": "ad737c98",
   "metadata": {},
   "outputs": [
    {
     "name": "stderr",
     "output_type": "stream",
     "text": [
      "/opt/conda/lib/python3.9/site-packages/pandas/core/indexing.py:1773: SettingWithCopyWarning: \n",
      "A value is trying to be set on a copy of a slice from a DataFrame.\n",
      "Try using .loc[row_indexer,col_indexer] = value instead\n",
      "\n",
      "See the caveats in the documentation: https://pandas.pydata.org/pandas-docs/stable/user_guide/indexing.html#returning-a-view-versus-a-copy\n",
      "  self._setitem_single_column(ilocs[0], value, pi)\n"
     ]
    },
    {
     "data": {
      "text/html": [
       "<div>\n",
       "<style scoped>\n",
       "    .dataframe tbody tr th:only-of-type {\n",
       "        vertical-align: middle;\n",
       "    }\n",
       "\n",
       "    .dataframe tbody tr th {\n",
       "        vertical-align: top;\n",
       "    }\n",
       "\n",
       "    .dataframe thead th {\n",
       "        text-align: right;\n",
       "    }\n",
       "</style>\n",
       "<table border=\"1\" class=\"dataframe\">\n",
       "  <thead>\n",
       "    <tr style=\"text-align: right;\">\n",
       "      <th></th>\n",
       "      <th>adm_cd</th>\n",
       "      <th>adm_nm</th>\n",
       "      <th>socar_data</th>\n",
       "      <th>cluster</th>\n",
       "      <th>char</th>\n",
       "      <th>lon</th>\n",
       "      <th>lat</th>\n",
       "      <th>adm_nm1</th>\n",
       "      <th>adm_nm2</th>\n",
       "    </tr>\n",
       "  </thead>\n",
       "  <tbody>\n",
       "    <tr>\n",
       "      <th>1</th>\n",
       "      <td>41281</td>\n",
       "      <td>고양시 덕양구</td>\n",
       "      <td>1</td>\n",
       "      <td>1.0</td>\n",
       "      <td>A</td>\n",
       "      <td>126.878632</td>\n",
       "      <td>37.655810</td>\n",
       "      <td>고양시</td>\n",
       "      <td>덕양구</td>\n",
       "    </tr>\n",
       "    <tr>\n",
       "      <th>2</th>\n",
       "      <td>41285</td>\n",
       "      <td>고양시 일산동구</td>\n",
       "      <td>1</td>\n",
       "      <td>1.0</td>\n",
       "      <td>A</td>\n",
       "      <td>126.797558</td>\n",
       "      <td>37.679865</td>\n",
       "      <td>고양시</td>\n",
       "      <td>일산동구</td>\n",
       "    </tr>\n",
       "    <tr>\n",
       "      <th>3</th>\n",
       "      <td>41287</td>\n",
       "      <td>고양시 일산서구</td>\n",
       "      <td>1</td>\n",
       "      <td>1.0</td>\n",
       "      <td>A</td>\n",
       "      <td>126.727983</td>\n",
       "      <td>37.680205</td>\n",
       "      <td>고양시</td>\n",
       "      <td>일산서구</td>\n",
       "    </tr>\n",
       "    <tr>\n",
       "      <th>5</th>\n",
       "      <td>41210</td>\n",
       "      <td>광명시</td>\n",
       "      <td>1</td>\n",
       "      <td>2.0</td>\n",
       "      <td>B</td>\n",
       "      <td>126.866708</td>\n",
       "      <td>37.475750</td>\n",
       "      <td>광명시</td>\n",
       "      <td>NaN</td>\n",
       "    </tr>\n",
       "    <tr>\n",
       "      <th>7</th>\n",
       "      <td>41310</td>\n",
       "      <td>구리시</td>\n",
       "      <td>1</td>\n",
       "      <td>2.0</td>\n",
       "      <td>B</td>\n",
       "      <td>127.131864</td>\n",
       "      <td>37.591625</td>\n",
       "      <td>구리시</td>\n",
       "      <td>NaN</td>\n",
       "    </tr>\n",
       "  </tbody>\n",
       "</table>\n",
       "</div>"
      ],
      "text/plain": [
       "  adm_cd    adm_nm  socar_data  cluster char         lon        lat adm_nm1  \\\n",
       "1  41281   고양시 덕양구           1      1.0    A  126.878632  37.655810     고양시   \n",
       "2  41285  고양시 일산동구           1      1.0    A  126.797558  37.679865     고양시   \n",
       "3  41287  고양시 일산서구           1      1.0    A  126.727983  37.680205     고양시   \n",
       "5  41210       광명시           1      2.0    B  126.866708  37.475750     광명시   \n",
       "7  41310       구리시           1      2.0    B  127.131864  37.591625     구리시   \n",
       "\n",
       "  adm_nm2  \n",
       "1     덕양구  \n",
       "2    일산동구  \n",
       "3    일산서구  \n",
       "5     NaN  \n",
       "7     NaN  "
      ]
     },
     "execution_count": 3,
     "metadata": {},
     "output_type": "execute_result"
    }
   ],
   "source": [
    "# 1) 경기도 시구 : 42 개 좌표 -> 분석 대상 : 경기도 16개 좌표\n",
    "k_map_df = pd.read_csv(\"../002_data_dir/003_search_data/230128_cluster_map_lat.csv\")\n",
    "k_16_df = k_map_df[k_map_df['socar_data'] == 1]\n",
    "k_16_df.loc[:,'adm_cd'] = k_16_df.loc[:,'adm_cd'].astype(str)\n",
    "k_16_df.head()"
   ]
  },
  {
   "cell_type": "code",
   "execution_count": 4,
   "id": "6a7d90cc",
   "metadata": {},
   "outputs": [
    {
     "data": {
      "text/html": [
       "<div>\n",
       "<style scoped>\n",
       "    .dataframe tbody tr th:only-of-type {\n",
       "        vertical-align: middle;\n",
       "    }\n",
       "\n",
       "    .dataframe tbody tr th {\n",
       "        vertical-align: top;\n",
       "    }\n",
       "\n",
       "    .dataframe thead th {\n",
       "        text-align: right;\n",
       "    }\n",
       "</style>\n",
       "<table border=\"1\" class=\"dataframe\">\n",
       "  <thead>\n",
       "    <tr style=\"text-align: right;\">\n",
       "      <th></th>\n",
       "      <th>지역</th>\n",
       "      <th>단지</th>\n",
       "      <th>세대수</th>\n",
       "      <th>주소</th>\n",
       "      <th>위도</th>\n",
       "      <th>경도</th>\n",
       "      <th>name1</th>\n",
       "      <th>name2</th>\n",
       "    </tr>\n",
       "  </thead>\n",
       "  <tbody>\n",
       "    <tr>\n",
       "      <th>0</th>\n",
       "      <td>고양시 덕양구</td>\n",
       "      <td>삼송11단지</td>\n",
       "      <td>832</td>\n",
       "      <td>경기도 고양시 덕양구 원흥1로 25</td>\n",
       "      <td>37.650992</td>\n",
       "      <td>126.865491</td>\n",
       "      <td>고양시</td>\n",
       "      <td>덕양구</td>\n",
       "    </tr>\n",
       "    <tr>\n",
       "      <th>1</th>\n",
       "      <td>고양시 덕양구</td>\n",
       "      <td>고양지축 A-1블록 신혼희망타운 행복주택</td>\n",
       "      <td>250</td>\n",
       "      <td>경기도 고양시 덕양구 오부자로 99</td>\n",
       "      <td>37.653331</td>\n",
       "      <td>126.921037</td>\n",
       "      <td>고양시</td>\n",
       "      <td>덕양구</td>\n",
       "    </tr>\n",
       "    <tr>\n",
       "      <th>2</th>\n",
       "      <td>고양시 덕양구</td>\n",
       "      <td>고양지축 A-4BL 행복주택</td>\n",
       "      <td>473</td>\n",
       "      <td>경기도 고양시 덕양구 오부자로 43</td>\n",
       "      <td>37.654038</td>\n",
       "      <td>126.914946</td>\n",
       "      <td>고양시</td>\n",
       "      <td>덕양구</td>\n",
       "    </tr>\n",
       "    <tr>\n",
       "      <th>3</th>\n",
       "      <td>고양시 덕양구</td>\n",
       "      <td>고양삼송 LH원흥마을13단지</td>\n",
       "      <td>947</td>\n",
       "      <td>경기도 고양시 덕양구 원흥1로 35</td>\n",
       "      <td>37.652631</td>\n",
       "      <td>126.868888</td>\n",
       "      <td>고양시</td>\n",
       "      <td>덕양구</td>\n",
       "    </tr>\n",
       "    <tr>\n",
       "      <th>4</th>\n",
       "      <td>고양시 덕양구</td>\n",
       "      <td>서정마을LH12단지</td>\n",
       "      <td>276</td>\n",
       "      <td>경기도 고양시 덕양구 서정마을2로 17</td>\n",
       "      <td>37.621215</td>\n",
       "      <td>126.847648</td>\n",
       "      <td>고양시</td>\n",
       "      <td>덕양구</td>\n",
       "    </tr>\n",
       "  </tbody>\n",
       "</table>\n",
       "</div>"
      ],
      "text/plain": [
       "        지역                      단지  세대수                     주소         위도  \\\n",
       "0  고양시 덕양구                  삼송11단지  832    경기도 고양시 덕양구 원흥1로 25  37.650992   \n",
       "1  고양시 덕양구  고양지축 A-1블록 신혼희망타운 행복주택  250    경기도 고양시 덕양구 오부자로 99  37.653331   \n",
       "2  고양시 덕양구         고양지축 A-4BL 행복주택  473    경기도 고양시 덕양구 오부자로 43  37.654038   \n",
       "3  고양시 덕양구         고양삼송 LH원흥마을13단지  947    경기도 고양시 덕양구 원흥1로 35  37.652631   \n",
       "4  고양시 덕양구              서정마을LH12단지  276  경기도 고양시 덕양구 서정마을2로 17  37.621215   \n",
       "\n",
       "           경도 name1 name2  \n",
       "0  126.865491   고양시   덕양구  \n",
       "1  126.921037   고양시   덕양구  \n",
       "2  126.914946   고양시   덕양구  \n",
       "3  126.868888   고양시   덕양구  \n",
       "4  126.847648   고양시   덕양구  "
      ]
     },
     "execution_count": 4,
     "metadata": {},
     "output_type": "execute_result"
    }
   ],
   "source": [
    "# 2) 행복주택 data\n",
    "path = '../002_data_dir/003_search_data/k_happy_df.csv'\n",
    "happy_house_df = pd.read_csv(path)\n",
    "happy_house_df.head()  "
   ]
  },
  {
   "cell_type": "code",
   "execution_count": 5,
   "id": "5e6b7f54",
   "metadata": {},
   "outputs": [
    {
     "name": "stdout",
     "output_type": "stream",
     "text": [
      "<class 'pandas.core.frame.DataFrame'>\n",
      "RangeIndex: 14178 entries, 0 to 14177\n",
      "Data columns (total 50 columns):\n",
      " #   Column                    Non-Null Count  Dtype  \n",
      "---  ------                    --------------  -----  \n",
      " 0   ID                        14178 non-null  object \n",
      " 1   LCLAS_NM                  14178 non-null  object \n",
      " 2   MLSFC_NM                  14178 non-null  object \n",
      " 3   FCLTY_NM                  14178 non-null  object \n",
      " 4   CTPRVN_NM                 11187 non-null  object \n",
      " 5   SIGNGU_NM                 11124 non-null  object \n",
      " 6   LEGALDONG_CD              11050 non-null  object \n",
      " 7   LEGALDONG_NM              11087 non-null  object \n",
      " 8   ADSTRD_CD                 11041 non-null  object \n",
      " 9   ADSTRD_NM                 11081 non-null  object \n",
      " 10  RDNMADR_CD                11002 non-null  float64\n",
      " 11  RDNMADR_NM                11218 non-null  object \n",
      " 12  ZIP_NO                    10947 non-null  float64\n",
      " 13  GID_CD                    12645 non-null  object \n",
      " 14  FCLTY_LO                  11756 non-null  float64\n",
      " 15  FCLTY_LA                  11768 non-null  float64\n",
      " 16  MANAGE_NO                 14178 non-null  object \n",
      " 17  FLAG_NM                   14178 non-null  object \n",
      " 18  TY_NM                     14178 non-null  object \n",
      " 19  PARKNG_SPCE_CO            14178 non-null  int64  \n",
      " 20  MANAGE_FLAG_NM            14178 non-null  object \n",
      " 21  UTILIIZA_LMTT_FLAG_NM     14178 non-null  object \n",
      " 22  WKDAY_NM                  14178 non-null  object \n",
      " 23  WORKDAY_OPN_BSNS_TIME     14178 non-null  object \n",
      " 24  WORKDAY_CLOS_TIME         14178 non-null  object \n",
      " 25  SAT_OPN_BSNS_TIME         14178 non-null  object \n",
      " 26  SAT_CLOS_TIME             14178 non-null  object \n",
      " 27  SUN_OPN_BSNS_TIME         14178 non-null  object \n",
      " 28  SUN_CLOS_TIME             14178 non-null  object \n",
      " 29  UTILIIZA_CHRGE_CN         14178 non-null  object \n",
      " 30  BASS_TIME                 14178 non-null  float64\n",
      " 31  BASS_PRICE                11762 non-null  float64\n",
      " 32  ADIT_UNIT_TIME            5678 non-null   float64\n",
      " 33  ADIT_UNIT_PRICE           5665 non-null   float64\n",
      " 34  ONE_DAY_PARKNG_VLM_TIME   3902 non-null   float64\n",
      " 35  ONE_DAY_PARKNG_VLM_PRICE  4371 non-null   float64\n",
      " 36  MT_FDRM_PRICE             4242 non-null   float64\n",
      " 37  SETLE_MTH_CN              4548 non-null   object \n",
      " 38  ADIT_DC                   2686 non-null   object \n",
      " 39  MANAGE_INSTT_NM           14178 non-null  object \n",
      " 40  TEL_NO                    11811 non-null  object \n",
      " 41  데이터기준일자                   14178 non-null  object \n",
      " 42  PROVD_INSTT_CD            14178 non-null  object \n",
      " 43  PROVD_INSTT_NM            14178 non-null  object \n",
      " 44  LAST_CHG_DE               14178 non-null  int64  \n",
      " 45  ORIGIN_NM                 14178 non-null  object \n",
      " 46  FILE_NM                   14178 non-null  object \n",
      " 47  BASE_DE                   14178 non-null  int64  \n",
      " 48  PROVD_INSTT_NM1           14178 non-null  object \n",
      " 49  PROVD_INSTT_NM2           12612 non-null  object \n",
      "dtypes: float64(11), int64(3), object(36)\n",
      "memory usage: 5.4+ MB\n"
     ]
    }
   ],
   "source": [
    "# 3) 전국주차장 Data / 좌표\n",
    "paking_station_info_df = pd.read_csv(\"../002_data_dir/003_search_data/korea_parking.csv\")\n",
    "paking_station_info_df.info()"
   ]
  },
  {
   "cell_type": "code",
   "execution_count": 6,
   "id": "67f044d9",
   "metadata": {},
   "outputs": [
    {
     "data": {
      "text/plain": [
       "2164"
      ]
     },
     "execution_count": 6,
     "metadata": {},
     "output_type": "execute_result"
    }
   ],
   "source": [
    "#3) 경기도 주차장 Data / 좌표\n",
    "k_parking = paking_station_info_df[paking_station_info_df['PROVD_INSTT_NM1'] == '경기도']\n",
    "len(k_parking)"
   ]
  },
  {
   "cell_type": "code",
   "execution_count": 7,
   "id": "ae759e2f",
   "metadata": {},
   "outputs": [
    {
     "data": {
      "text/plain": [
       "1937"
      ]
     },
     "execution_count": 7,
     "metadata": {},
     "output_type": "execute_result"
    }
   ],
   "source": [
    "#3) 경기도 주차장 Data 전처리 .. null 제거\n",
    "k_parking = k_parking[k_parking['FCLTY_LO'].notnull()]\n",
    "k_parking = k_parking.reset_index(drop=True)\n",
    "len(k_parking)"
   ]
  },
  {
   "cell_type": "code",
   "execution_count": 8,
   "id": "6a56f7a9",
   "metadata": {},
   "outputs": [
    {
     "name": "stdout",
     "output_type": "stream",
     "text": [
      "슝~\n"
     ]
    }
   ],
   "source": [
    "#4) 시각화 : base map 지정\n",
    "# 중심부 위도, 경도\n",
    "center = [37.541, 126.986]\n",
    "\n",
    "# map이 서울 중심부에 위치하고, zoom 레벨은 10으로 시작 합니다.\n",
    "map = folium.Map(\n",
    "    location=center,\n",
    "    zoom_start=10,\n",
    "    )\n",
    "\n",
    "print('슝~')"
   ]
  },
  {
   "cell_type": "code",
   "execution_count": 9,
   "id": "8f7dfe52",
   "metadata": {},
   "outputs": [
    {
     "data": {
      "text/plain": [
       "<folium.features.GeoJson at 0x7f751580f6a0>"
      ]
     },
     "execution_count": 9,
     "metadata": {},
     "output_type": "execute_result"
    }
   ],
   "source": [
    "#4) 시각화 : 경기도 경계\n",
    "folium.GeoJson(\n",
    "    k_geo_data,\n",
    "    name='경기도'\n",
    ").add_to(map)"
   ]
  },
  {
   "cell_type": "code",
   "execution_count": 10,
   "id": "6de3fc43",
   "metadata": {},
   "outputs": [
    {
     "data": {
      "text/plain": [
       "<folium.features.Choropleth at 0x7f75157a9fd0>"
      ]
     },
     "execution_count": 10,
     "metadata": {},
     "output_type": "execute_result"
    }
   ],
   "source": [
    "#4) 시각화 : 분석대상 16개 지구\n",
    "folium.Choropleth(\n",
    "    geo_data=k_geo_data,\n",
    "    name=\"cluster map\",\n",
    "    data=k_16_df,\n",
    "    columns=[\"adm_cd\", \"cluster\"],\n",
    "    key_on=\"feature.properties.ADM_SECT_C\",\n",
    "    fill_color='Accent',\n",
    "    fill_opacity=0.7,\n",
    "    line_opacity=0.2,\n",
    "    line_color='white', \n",
    "    nan_fill_color='blue',\n",
    "    nan_fill_opacity =0,\n",
    "    line_weight=0,\n",
    "    highlight=False, \n",
    "    smooth_factor=1.0,\n",
    "    legend_name=\"cluster\"\n",
    ").add_to(map)\n"
   ]
  },
  {
   "cell_type": "code",
   "execution_count": 11,
   "id": "3bcd9a5e",
   "metadata": {},
   "outputs": [
    {
     "name": "stdout",
     "output_type": "stream",
     "text": [
      "슝~\n"
     ]
    }
   ],
   "source": [
    "#4) 시각화 : 주차장\n",
    "marker_cluster = MarkerCluster().add_to(map)\n",
    "\n",
    "# 주차장 이름, 위도, 경도를 가져와 maker 객체로 추가\n",
    "for index_num in range(len(k_parking)):\n",
    "    try:\n",
    "        folium.Marker(\n",
    "            location=[k_parking.loc[index_num, \"FCLTY_LA\"], k_parking.loc[index_num, \"FCLTY_LO\"]],\n",
    "            popup=k_parking.loc[index_num, \"FCLTY_NM\"],\n",
    "            icon=folium.Icon(color=\"cadetblue\", icon=\"ok\")\n",
    "        ).add_to(marker_cluster)\n",
    "    except:\n",
    "        pass\n",
    "\n",
    "print('슝~')"
   ]
  },
  {
   "cell_type": "code",
   "execution_count": 12,
   "id": "9aac6338",
   "metadata": {},
   "outputs": [
    {
     "name": "stdout",
     "output_type": "stream",
     "text": [
      "슝~\n"
     ]
    }
   ],
   "source": [
    "#4) 시각화 : 경기도 대상 16개지구 중심에 대한 원표시\n",
    "marker_cluster = MarkerCluster().add_to(map)\n",
    "\n",
    "#maker 객체 추가\n",
    "for idx, row in k_16_df.iterrows():\n",
    "    try:\n",
    "\n",
    "        folium.CircleMarker(\n",
    "            location=[k_16_df.loc[idx, \"lat\"], k_16_df.loc[idx, \"lon\"]],\n",
    "            color='tomato',\n",
    "            radius=50,\n",
    "            tooltip = 'zone'           \n",
    "        ).add_to(marker_cluster)\n",
    "    except:\n",
    "        pass\n",
    "\n",
    "print('슝~')"
   ]
  },
  {
   "cell_type": "code",
   "execution_count": 13,
   "id": "f755a5a4",
   "metadata": {
    "scrolled": false
   },
   "outputs": [],
   "source": [
    "#4) 시각화 :  toal map 표시\n",
    "# map"
   ]
  },
  {
   "cell_type": "code",
   "execution_count": 14,
   "id": "909eafd1",
   "metadata": {},
   "outputs": [],
   "source": [
    "# #5) map save \n",
    "# map.save(\"../003_map_xml/230203_result_before.html\")"
   ]
  }
 ],
 "metadata": {
  "kernelspec": {
   "display_name": "Python 3 (ipykernel)",
   "language": "python",
   "name": "python3"
  },
  "language_info": {
   "codemirror_mode": {
    "name": "ipython",
    "version": 3
   },
   "file_extension": ".py",
   "mimetype": "text/x-python",
   "name": "python",
   "nbconvert_exporter": "python",
   "pygments_lexer": "ipython3",
   "version": "3.9.7"
  }
 },
 "nbformat": 4,
 "nbformat_minor": 5
}
