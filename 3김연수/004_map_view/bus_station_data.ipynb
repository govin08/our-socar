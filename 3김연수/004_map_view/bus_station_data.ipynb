{
 "cells": [
  {
   "cell_type": "markdown",
   "metadata": {
    "id": "9oYTF49HrRxm"
   },
   "source": [
    "# Import"
   ]
  },
  {
   "cell_type": "code",
   "execution_count": 1,
   "metadata": {
    "id": "CgdCqaIUYlwZ"
   },
   "outputs": [],
   "source": [
    "import pandas as pd\n",
    "import folium\n",
    "import json\n",
    "from folium.plugins import MarkerCluster"
   ]
  },
  {
   "cell_type": "markdown",
   "metadata": {
    "id": "EjgKLleurWPm"
   },
   "source": [
    "# Data"
   ]
  },
  {
   "cell_type": "code",
   "execution_count": 2,
   "metadata": {
    "colab": {
     "base_uri": "https://localhost:8080/",
     "height": 658
    },
    "id": "q2WjK4dPSyow",
    "outputId": "459f0411-453c-499a-f755-00583369a42a"
   },
   "outputs": [
    {
     "ename": "FileNotFoundError",
     "evalue": "[Errno 2] No such file or directory: '/aiffel/aiffel/000_aiffelthon_230111/3김연수/002_data_dir/004_node_data/2022년_전국버스정류장 위치정보_데이터.csv'",
     "output_type": "error",
     "traceback": [
      "\u001b[1;31m---------------------------------------------------------------------------\u001b[0m",
      "\u001b[1;31mFileNotFoundError\u001b[0m                         Traceback (most recent call last)",
      "\u001b[1;32m~\\AppData\\Local\\Temp\\ipykernel_21256\\2121210049.py\u001b[0m in \u001b[0;36m<module>\u001b[1;34m\u001b[0m\n\u001b[1;32m----> 1\u001b[1;33m \u001b[0mdf\u001b[0m \u001b[1;33m=\u001b[0m \u001b[0mpd\u001b[0m\u001b[1;33m.\u001b[0m\u001b[0mread_csv\u001b[0m\u001b[1;33m(\u001b[0m\u001b[1;34m'/aiffel/aiffel/000_aiffelthon_230111/3김연수/002_data_dir/004_node_data/2022년_전국버스정류장 위치정보_데이터.csv'\u001b[0m\u001b[1;33m)\u001b[0m\u001b[1;33m\u001b[0m\u001b[1;33m\u001b[0m\u001b[0m\n\u001b[0m\u001b[0;32m      2\u001b[0m \u001b[0mdf\u001b[0m\u001b[1;33m\u001b[0m\u001b[1;33m\u001b[0m\u001b[0m\n",
      "\u001b[1;32m~\\anaconda3\\lib\\site-packages\\pandas\\util\\_decorators.py\u001b[0m in \u001b[0;36mwrapper\u001b[1;34m(*args, **kwargs)\u001b[0m\n\u001b[0;32m    309\u001b[0m                     \u001b[0mstacklevel\u001b[0m\u001b[1;33m=\u001b[0m\u001b[0mstacklevel\u001b[0m\u001b[1;33m,\u001b[0m\u001b[1;33m\u001b[0m\u001b[1;33m\u001b[0m\u001b[0m\n\u001b[0;32m    310\u001b[0m                 )\n\u001b[1;32m--> 311\u001b[1;33m             \u001b[1;32mreturn\u001b[0m \u001b[0mfunc\u001b[0m\u001b[1;33m(\u001b[0m\u001b[1;33m*\u001b[0m\u001b[0margs\u001b[0m\u001b[1;33m,\u001b[0m \u001b[1;33m**\u001b[0m\u001b[0mkwargs\u001b[0m\u001b[1;33m)\u001b[0m\u001b[1;33m\u001b[0m\u001b[1;33m\u001b[0m\u001b[0m\n\u001b[0m\u001b[0;32m    312\u001b[0m \u001b[1;33m\u001b[0m\u001b[0m\n\u001b[0;32m    313\u001b[0m         \u001b[1;32mreturn\u001b[0m \u001b[0mwrapper\u001b[0m\u001b[1;33m\u001b[0m\u001b[1;33m\u001b[0m\u001b[0m\n",
      "\u001b[1;32m~\\anaconda3\\lib\\site-packages\\pandas\\io\\parsers\\readers.py\u001b[0m in \u001b[0;36mread_csv\u001b[1;34m(filepath_or_buffer, sep, delimiter, header, names, index_col, usecols, squeeze, prefix, mangle_dupe_cols, dtype, engine, converters, true_values, false_values, skipinitialspace, skiprows, skipfooter, nrows, na_values, keep_default_na, na_filter, verbose, skip_blank_lines, parse_dates, infer_datetime_format, keep_date_col, date_parser, dayfirst, cache_dates, iterator, chunksize, compression, thousands, decimal, lineterminator, quotechar, quoting, doublequote, escapechar, comment, encoding, encoding_errors, dialect, error_bad_lines, warn_bad_lines, on_bad_lines, delim_whitespace, low_memory, memory_map, float_precision, storage_options)\u001b[0m\n\u001b[0;32m    676\u001b[0m     \u001b[0mkwds\u001b[0m\u001b[1;33m.\u001b[0m\u001b[0mupdate\u001b[0m\u001b[1;33m(\u001b[0m\u001b[0mkwds_defaults\u001b[0m\u001b[1;33m)\u001b[0m\u001b[1;33m\u001b[0m\u001b[1;33m\u001b[0m\u001b[0m\n\u001b[0;32m    677\u001b[0m \u001b[1;33m\u001b[0m\u001b[0m\n\u001b[1;32m--> 678\u001b[1;33m     \u001b[1;32mreturn\u001b[0m \u001b[0m_read\u001b[0m\u001b[1;33m(\u001b[0m\u001b[0mfilepath_or_buffer\u001b[0m\u001b[1;33m,\u001b[0m \u001b[0mkwds\u001b[0m\u001b[1;33m)\u001b[0m\u001b[1;33m\u001b[0m\u001b[1;33m\u001b[0m\u001b[0m\n\u001b[0m\u001b[0;32m    679\u001b[0m \u001b[1;33m\u001b[0m\u001b[0m\n\u001b[0;32m    680\u001b[0m \u001b[1;33m\u001b[0m\u001b[0m\n",
      "\u001b[1;32m~\\anaconda3\\lib\\site-packages\\pandas\\io\\parsers\\readers.py\u001b[0m in \u001b[0;36m_read\u001b[1;34m(filepath_or_buffer, kwds)\u001b[0m\n\u001b[0;32m    573\u001b[0m \u001b[1;33m\u001b[0m\u001b[0m\n\u001b[0;32m    574\u001b[0m     \u001b[1;31m# Create the parser.\u001b[0m\u001b[1;33m\u001b[0m\u001b[1;33m\u001b[0m\u001b[0m\n\u001b[1;32m--> 575\u001b[1;33m     \u001b[0mparser\u001b[0m \u001b[1;33m=\u001b[0m \u001b[0mTextFileReader\u001b[0m\u001b[1;33m(\u001b[0m\u001b[0mfilepath_or_buffer\u001b[0m\u001b[1;33m,\u001b[0m \u001b[1;33m**\u001b[0m\u001b[0mkwds\u001b[0m\u001b[1;33m)\u001b[0m\u001b[1;33m\u001b[0m\u001b[1;33m\u001b[0m\u001b[0m\n\u001b[0m\u001b[0;32m    576\u001b[0m \u001b[1;33m\u001b[0m\u001b[0m\n\u001b[0;32m    577\u001b[0m     \u001b[1;32mif\u001b[0m \u001b[0mchunksize\u001b[0m \u001b[1;32mor\u001b[0m \u001b[0miterator\u001b[0m\u001b[1;33m:\u001b[0m\u001b[1;33m\u001b[0m\u001b[1;33m\u001b[0m\u001b[0m\n",
      "\u001b[1;32m~\\anaconda3\\lib\\site-packages\\pandas\\io\\parsers\\readers.py\u001b[0m in \u001b[0;36m__init__\u001b[1;34m(self, f, engine, **kwds)\u001b[0m\n\u001b[0;32m    930\u001b[0m \u001b[1;33m\u001b[0m\u001b[0m\n\u001b[0;32m    931\u001b[0m         \u001b[0mself\u001b[0m\u001b[1;33m.\u001b[0m\u001b[0mhandles\u001b[0m\u001b[1;33m:\u001b[0m \u001b[0mIOHandles\u001b[0m \u001b[1;33m|\u001b[0m \u001b[1;32mNone\u001b[0m \u001b[1;33m=\u001b[0m \u001b[1;32mNone\u001b[0m\u001b[1;33m\u001b[0m\u001b[1;33m\u001b[0m\u001b[0m\n\u001b[1;32m--> 932\u001b[1;33m         \u001b[0mself\u001b[0m\u001b[1;33m.\u001b[0m\u001b[0m_engine\u001b[0m \u001b[1;33m=\u001b[0m \u001b[0mself\u001b[0m\u001b[1;33m.\u001b[0m\u001b[0m_make_engine\u001b[0m\u001b[1;33m(\u001b[0m\u001b[0mf\u001b[0m\u001b[1;33m,\u001b[0m \u001b[0mself\u001b[0m\u001b[1;33m.\u001b[0m\u001b[0mengine\u001b[0m\u001b[1;33m)\u001b[0m\u001b[1;33m\u001b[0m\u001b[1;33m\u001b[0m\u001b[0m\n\u001b[0m\u001b[0;32m    933\u001b[0m \u001b[1;33m\u001b[0m\u001b[0m\n\u001b[0;32m    934\u001b[0m     \u001b[1;32mdef\u001b[0m \u001b[0mclose\u001b[0m\u001b[1;33m(\u001b[0m\u001b[0mself\u001b[0m\u001b[1;33m)\u001b[0m\u001b[1;33m:\u001b[0m\u001b[1;33m\u001b[0m\u001b[1;33m\u001b[0m\u001b[0m\n",
      "\u001b[1;32m~\\anaconda3\\lib\\site-packages\\pandas\\io\\parsers\\readers.py\u001b[0m in \u001b[0;36m_make_engine\u001b[1;34m(self, f, engine)\u001b[0m\n\u001b[0;32m   1214\u001b[0m             \u001b[1;31m# \"Union[str, PathLike[str], ReadCsvBuffer[bytes], ReadCsvBuffer[str]]\"\u001b[0m\u001b[1;33m\u001b[0m\u001b[1;33m\u001b[0m\u001b[0m\n\u001b[0;32m   1215\u001b[0m             \u001b[1;31m# , \"str\", \"bool\", \"Any\", \"Any\", \"Any\", \"Any\", \"Any\"\u001b[0m\u001b[1;33m\u001b[0m\u001b[1;33m\u001b[0m\u001b[0m\n\u001b[1;32m-> 1216\u001b[1;33m             self.handles = get_handle(  # type: ignore[call-overload]\n\u001b[0m\u001b[0;32m   1217\u001b[0m                 \u001b[0mf\u001b[0m\u001b[1;33m,\u001b[0m\u001b[1;33m\u001b[0m\u001b[1;33m\u001b[0m\u001b[0m\n\u001b[0;32m   1218\u001b[0m                 \u001b[0mmode\u001b[0m\u001b[1;33m,\u001b[0m\u001b[1;33m\u001b[0m\u001b[1;33m\u001b[0m\u001b[0m\n",
      "\u001b[1;32m~\\anaconda3\\lib\\site-packages\\pandas\\io\\common.py\u001b[0m in \u001b[0;36mget_handle\u001b[1;34m(path_or_buf, mode, encoding, compression, memory_map, is_text, errors, storage_options)\u001b[0m\n\u001b[0;32m    784\u001b[0m         \u001b[1;32mif\u001b[0m \u001b[0mioargs\u001b[0m\u001b[1;33m.\u001b[0m\u001b[0mencoding\u001b[0m \u001b[1;32mand\u001b[0m \u001b[1;34m\"b\"\u001b[0m \u001b[1;32mnot\u001b[0m \u001b[1;32min\u001b[0m \u001b[0mioargs\u001b[0m\u001b[1;33m.\u001b[0m\u001b[0mmode\u001b[0m\u001b[1;33m:\u001b[0m\u001b[1;33m\u001b[0m\u001b[1;33m\u001b[0m\u001b[0m\n\u001b[0;32m    785\u001b[0m             \u001b[1;31m# Encoding\u001b[0m\u001b[1;33m\u001b[0m\u001b[1;33m\u001b[0m\u001b[0m\n\u001b[1;32m--> 786\u001b[1;33m             handle = open(\n\u001b[0m\u001b[0;32m    787\u001b[0m                 \u001b[0mhandle\u001b[0m\u001b[1;33m,\u001b[0m\u001b[1;33m\u001b[0m\u001b[1;33m\u001b[0m\u001b[0m\n\u001b[0;32m    788\u001b[0m                 \u001b[0mioargs\u001b[0m\u001b[1;33m.\u001b[0m\u001b[0mmode\u001b[0m\u001b[1;33m,\u001b[0m\u001b[1;33m\u001b[0m\u001b[1;33m\u001b[0m\u001b[0m\n",
      "\u001b[1;31mFileNotFoundError\u001b[0m: [Errno 2] No such file or directory: '/aiffel/aiffel/000_aiffelthon_230111/3김연수/002_data_dir/004_node_data/2022년_전국버스정류장 위치정보_데이터.csv'"
     ]
    }
   ],
   "source": [
    "df = pd.read_csv('/aiffel/aiffel/000_aiffelthon_230111/3김연수/002_data_dir/004_node_data/2022년_전국버스정류장 위치정보_데이터.csv')\n",
    "df"
   ]
  },
  {
   "cell_type": "code",
   "execution_count": null,
   "metadata": {
    "colab": {
     "base_uri": "https://localhost:8080/",
     "height": 424
    },
    "id": "bwHOu8rQj5iJ",
    "outputId": "291937a0-dc47-43a0-9600-47d5c5c1e465"
   },
   "outputs": [],
   "source": [
    "df = df.drop(['정류장번호', '모바일단축번호', '정보수집일시', '관리도시명'], axis = 1)\n",
    "df"
   ]
  },
  {
   "cell_type": "code",
   "execution_count": null,
   "metadata": {
    "colab": {
     "base_uri": "https://localhost:8080/"
    },
    "id": "pxoA-_GunOsW",
    "outputId": "21557c88-ee35-4f93-d944-f781add10f83",
    "scrolled": true
   },
   "outputs": [],
   "source": [
    "df['도시명'].unique()"
   ]
  },
  {
   "cell_type": "code",
   "execution_count": null,
   "metadata": {
    "id": "W5iq9saXomoz"
   },
   "outputs": [],
   "source": [
    "def map(data,m):  \n",
    "  m = folium.Map(location=[37, 127], tiles=\"OpenStreetMap\", zoom_start=9)\n",
    "  geo_data = json.load(open('/aiffel/aiffel/000_aiffelthon_230111/3김연수/002_data_dir/004_node_data/skorea_municipalities_geo_simple.json', encoding='utf-8'))\n",
    "\n",
    "  df_2 = pd.read_csv('/aiffel/aiffel/000_aiffelthon_230111/3김연수/002_data_dir/004_node_data/ddd.csv', encoding='utf-8', dtype={'code':'str'})\n",
    "  folium.Choropleth(geo_data=geo_data,\n",
    "                  data = df_2,\n",
    "                  columns=['sigun', 'avg_income'],\n",
    "                  key_on='feature.properties.name',\n",
    "                  fill_color='YlGnBu',\n",
    "                  fill_opacity=0.8\n",
    "                  ).add_to(m)\n",
    "  coords = data[['위도', '경도']]\n",
    "  marker_cluster = MarkerCluster().add_to(m)\n",
    "  for lat, long in zip(coords['위도'], coords['경도']):\n",
    "    folium.Marker([lat, long], icon = folium.Icon(color = 'blue')).add_to(marker_cluster)\n",
    "  return m"
   ]
  },
  {
   "cell_type": "markdown",
   "metadata": {
    "id": "C8jIw65urbfl"
   },
   "source": [
    "# 수원"
   ]
  },
  {
   "cell_type": "code",
   "execution_count": null,
   "metadata": {
    "colab": {
     "base_uri": "https://localhost:8080/",
     "height": 424
    },
    "id": "d7T-1V5eoDfu",
    "outputId": "5d3cb727-abed-479e-942b-9d0571ca8d97"
   },
   "outputs": [],
   "source": [
    "df_수원시 = df[df['도시명'] == '수원시']\n",
    "df_수원시"
   ]
  },
  {
   "cell_type": "code",
   "execution_count": null,
   "metadata": {},
   "outputs": [],
   "source": [
    "center = [37.541, 126.986]\n",
    "\n",
    "m = folium.Map(\n",
    "    location=center,\n",
    "    zoom_start=12\n",
    "\n",
    ")"
   ]
  },
  {
   "cell_type": "code",
   "execution_count": null,
   "metadata": {
    "colab": {
     "base_uri": "https://localhost:8080/",
     "height": 502
    },
    "id": "wPfVwYo3z0de",
    "outputId": "43ed2d5f-718d-4921-9ecf-4401562761a3"
   },
   "outputs": [],
   "source": [
    "map(df_수원시, m)"
   ]
  },
  {
   "cell_type": "markdown",
   "metadata": {
    "id": "QSpLoxWNqTeO"
   },
   "source": [
    "수원시 장안구: 409\\\n",
    "수원시 권선구: 537\\\n",
    "수원시 팔달구: 185\\\n",
    "수원시 영통구: 380"
   ]
  },
  {
   "cell_type": "markdown",
   "metadata": {
    "id": "-iNI2amarfX1"
   },
   "source": [
    "# 용인시"
   ]
  },
  {
   "cell_type": "code",
   "execution_count": null,
   "metadata": {
    "colab": {
     "base_uri": "https://localhost:8080/",
     "height": 424
    },
    "id": "WVX9PahDrk9z",
    "outputId": "4a17a04c-9168-4a40-d689-123b9b23d456"
   },
   "outputs": [],
   "source": [
    "df_용인시 = df[df['도시명'] == '용인시']\n",
    "df_용인시"
   ]
  },
  {
   "cell_type": "code",
   "execution_count": null,
   "metadata": {
    "colab": {
     "base_uri": "https://localhost:8080/",
     "height": 502
    },
    "id": "EeSwbAoXr2YT",
    "outputId": "a0dff0b7-8a64-4f63-e97d-cdef0755c8bd"
   },
   "outputs": [],
   "source": [
    "map(df_용인시, m)"
   ]
  },
  {
   "cell_type": "markdown",
   "metadata": {
    "id": "Hupp8X-ItJY2"
   },
   "source": [
    "용인시 처인구: 1234\\\n",
    "용인시 기흥구: 1524\\\n",
    "용인시 수지구: 53"
   ]
  },
  {
   "cell_type": "markdown",
   "metadata": {
    "id": "D3Hs5agyutoE"
   },
   "source": [
    "# 성남시"
   ]
  },
  {
   "cell_type": "code",
   "execution_count": null,
   "metadata": {
    "colab": {
     "base_uri": "https://localhost:8080/",
     "height": 424
    },
    "id": "Zec4gYR1uv-b",
    "outputId": "a1cc2282-ac2d-4590-a6a7-450edf01a241"
   },
   "outputs": [],
   "source": [
    "df_성남시 = df[df['도시명'] == '성남시']\n",
    "df_성남시"
   ]
  },
  {
   "cell_type": "code",
   "execution_count": null,
   "metadata": {
    "colab": {
     "base_uri": "https://localhost:8080/",
     "height": 502
    },
    "id": "n7e34Tc4u06F",
    "outputId": "1ccb4c61-3644-4283-afd7-740335c0b940"
   },
   "outputs": [],
   "source": [
    "map(df_성남시, m)"
   ]
  },
  {
   "cell_type": "markdown",
   "metadata": {
    "id": "KBuyYHr2vLJV"
   },
   "source": [
    "성남시 수정구: 436\\\n",
    "성남시 중원구: 251\\\n",
    "성남시 분당구: 694"
   ]
  },
  {
   "cell_type": "markdown",
   "metadata": {
    "id": "1Zp_fqc3vwBE"
   },
   "source": [
    "# 안산시"
   ]
  },
  {
   "cell_type": "code",
   "execution_count": null,
   "metadata": {
    "colab": {
     "base_uri": "https://localhost:8080/",
     "height": 424
    },
    "id": "DvEHfiNRvyep",
    "outputId": "22afc637-2f6b-4f79-8b0d-e321c2a5d233"
   },
   "outputs": [],
   "source": [
    "df_안산시 = df[df['도시명'] == '안산시']\n",
    "df_안산시"
   ]
  },
  {
   "cell_type": "code",
   "execution_count": null,
   "metadata": {
    "colab": {
     "base_uri": "https://localhost:8080/",
     "height": 502
    },
    "id": "JQWigzrpv3dd",
    "outputId": "9375a3c2-35d8-4fb6-8094-aecf04e04856"
   },
   "outputs": [],
   "source": [
    "map(df_안산시, m)"
   ]
  },
  {
   "cell_type": "markdown",
   "metadata": {
    "id": "dI755cgYzOj1"
   },
   "source": [
    "안산시 상록구: 539\\\n",
    "안산시 단원구: 760"
   ]
  },
  {
   "cell_type": "markdown",
   "metadata": {
    "id": "zO2B4sApzuoi"
   },
   "source": [
    "# 안양시"
   ]
  },
  {
   "cell_type": "code",
   "execution_count": null,
   "metadata": {
    "colab": {
     "base_uri": "https://localhost:8080/",
     "height": 424
    },
    "id": "yGzqrB1uzwu1",
    "outputId": "6c50f515-734f-4312-ee69-e8f7a9a30715"
   },
   "outputs": [],
   "source": [
    "df_안양시 = df[df['도시명'] == '안양시']\n",
    "df_안양시"
   ]
  },
  {
   "cell_type": "code",
   "execution_count": null,
   "metadata": {
    "colab": {
     "base_uri": "https://localhost:8080/",
     "height": 502
    },
    "id": "5ns_k1jbz0Dj",
    "outputId": "8b6a563c-5209-41bb-cd9f-4221c78030f1"
   },
   "outputs": [],
   "source": [
    "map(df_안양시, m)"
   ]
  },
  {
   "cell_type": "markdown",
   "metadata": {
    "id": "VzJ61B7N1A81"
   },
   "source": [
    "안양시 만안구: 362\\\n",
    "안양시 동안구: 381"
   ]
  },
  {
   "cell_type": "markdown",
   "metadata": {
    "id": "XsibPDwK1eq0"
   },
   "source": [
    "# 고양시"
   ]
  },
  {
   "cell_type": "code",
   "execution_count": null,
   "metadata": {
    "colab": {
     "base_uri": "https://localhost:8080/",
     "height": 424
    },
    "id": "eSXUFAgn1hyG",
    "outputId": "8a9fae64-68cc-4fb4-bdeb-dc198620d038"
   },
   "outputs": [],
   "source": [
    "df_고양시 = df[df['도시명'] == '고양시']\n",
    "df_고양시"
   ]
  },
  {
   "cell_type": "code",
   "execution_count": null,
   "metadata": {
    "colab": {
     "base_uri": "https://localhost:8080/",
     "height": 502
    },
    "id": "H31XEmYb1nJM",
    "outputId": "402e16f8-a42a-4bb0-c9bd-878362093954"
   },
   "outputs": [],
   "source": [
    "map(df_고양시, m)"
   ]
  },
  {
   "cell_type": "markdown",
   "metadata": {
    "id": "PzLhwcFfI7m_"
   },
   "source": [
    "고양시 덕양구: 1205\\\n",
    "고양시 일산동구: 454\\\n",
    "고양시 일산서구: 635"
   ]
  },
  {
   "cell_type": "code",
   "execution_count": null,
   "metadata": {
    "id": "dU5uYWujKNlV"
   },
   "outputs": [],
   "source": []
  }
 ],
 "metadata": {
  "colab": {
   "provenance": []
  },
  "kernelspec": {
   "display_name": "Python 3 (ipykernel)",
   "language": "python",
   "name": "python3"
  },
  "language_info": {
   "codemirror_mode": {
    "name": "ipython",
    "version": 3
   },
   "file_extension": ".py",
   "mimetype": "text/x-python",
   "name": "python",
   "nbconvert_exporter": "python",
   "pygments_lexer": "ipython3",
   "version": "3.9.13"
  }
 },
 "nbformat": 4,
 "nbformat_minor": 1
}
