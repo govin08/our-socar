{
 "cells": [
  {
   "cell_type": "markdown",
   "id": "e6bfffba",
   "metadata": {},
   "source": [
    "        1_6_230104_016_bus_display\n",
    "         \n",
    "         4-7 section\n",
    "         \n",
    "         data : "
   ]
  },
  {
   "cell_type": "code",
   "execution_count": 1,
   "id": "510ab89a",
   "metadata": {},
   "outputs": [
    {
     "name": "stdout",
     "output_type": "stream",
     "text": [
      "1.4.4\n",
      "0.12.2\n",
      "0.14.0\n"
     ]
    }
   ],
   "source": [
    "#1. package load\n",
    "import requests\n",
    "import json\n",
    "import os\n",
    "import math\n",
    "import time\n",
    "import numpy as np\n",
    "import pandas as pd\n",
    "import geopandas as gpd\n",
    "import folium\n",
    "import matplotlib.pyplot as plt\n",
    "\n",
    "from shapely.geometry import mapping, shape, Point, Polygon, LineString\n",
    "from folium import plugins\n",
    "from folium.plugins import MarkerCluster, HeatMap\n",
    "\n",
    "print(pd.__version__)\n",
    "print(gpd.__version__)\n",
    "print(folium.__version__)"
   ]
  },
  {
   "cell_type": "markdown",
   "id": "c537bb0b",
   "metadata": {},
   "source": [
    "    2. 프로젝트(1) 서울시 쏘카존 데이터를 활용한 시각화\n",
    "       1) data load : socar zone data\n",
    "       2) 시각화\n",
    "          - base nap : 서울시 중심부 위도, 경도\n",
    "          - MarkerCluster 객체 \n",
    "          - map draw"
   ]
  },
  {
   "cell_type": "code",
   "execution_count": 2,
   "id": "1a624176",
   "metadata": {},
   "outputs": [
    {
     "ename": "TypeError",
     "evalue": "unsupported operand type(s) for +: 'NoneType' and 'str'",
     "output_type": "error",
     "traceback": [
      "\u001b[1;31m---------------------------------------------------------------------------\u001b[0m",
      "\u001b[1;31mTypeError\u001b[0m                                 Traceback (most recent call last)",
      "\u001b[1;32m~\\AppData\\Local\\Temp\\ipykernel_47160\\2681201090.py\u001b[0m in \u001b[0;36m<module>\u001b[1;34m\u001b[0m\n\u001b[0;32m      1\u001b[0m \u001b[1;31m#2. 프로젝트(1)  ... data load\u001b[0m\u001b[1;33m\u001b[0m\u001b[1;33m\u001b[0m\u001b[0m\n\u001b[1;32m----> 2\u001b[1;33m \u001b[0mpath\u001b[0m \u001b[1;33m=\u001b[0m \u001b[0mos\u001b[0m\u001b[1;33m.\u001b[0m\u001b[0mgetenv\u001b[0m\u001b[1;33m(\u001b[0m\u001b[1;34m'HOME'\u001b[0m\u001b[1;33m)\u001b[0m \u001b[1;33m+\u001b[0m \u001b[1;34m'/aiffel/socar_gis/data/20210823_socar_zone.csv'\u001b[0m\u001b[1;33m\u001b[0m\u001b[1;33m\u001b[0m\u001b[0m\n\u001b[0m\u001b[0;32m      3\u001b[0m \u001b[1;33m\u001b[0m\u001b[0m\n\u001b[0;32m      4\u001b[0m \u001b[0msocar_zone_info_df\u001b[0m \u001b[1;33m=\u001b[0m \u001b[0mpd\u001b[0m\u001b[1;33m.\u001b[0m\u001b[0mread_csv\u001b[0m\u001b[1;33m(\u001b[0m\u001b[0mpath\u001b[0m\u001b[1;33m)\u001b[0m\u001b[1;33m\u001b[0m\u001b[1;33m\u001b[0m\u001b[0m\n\u001b[0;32m      5\u001b[0m \u001b[0msocar_zone_info_df\u001b[0m\u001b[1;33m.\u001b[0m\u001b[0mhead\u001b[0m\u001b[1;33m(\u001b[0m\u001b[1;33m)\u001b[0m\u001b[1;33m\u001b[0m\u001b[1;33m\u001b[0m\u001b[0m\n",
      "\u001b[1;31mTypeError\u001b[0m: unsupported operand type(s) for +: 'NoneType' and 'str'"
     ]
    }
   ],
   "source": [
    "#2. 프로젝트(1)  ... data load\n",
    "path = os.getenv('HOME') + '/aiffel/socar_gis/data/20210823_socar_zone.csv'\n",
    "\n",
    "socar_zone_info_df = pd.read_csv(path)\n",
    "socar_zone_info_df.head()"
   ]
  },
  {
   "cell_type": "code",
   "execution_count": null,
   "id": "e3ebfd67",
   "metadata": {},
   "outputs": [],
   "source": [
    "#2. 프로젝트(1)  # base nap : 서울시 중심부 위도, 경도\n",
    "center = [37.541, 126.986]\n",
    "\n",
    "map = folium.Map(\n",
    "    location=center,\n",
    "    zoom_start=10,\n",
    "    )\n",
    "print('슝~')"
   ]
  },
  {
   "cell_type": "code",
   "execution_count": null,
   "id": "f4bd0839",
   "metadata": {},
   "outputs": [],
   "source": [
    "#2. 프로젝트(1)  # MarkerCluster 객체 \n",
    "marker_cluster = MarkerCluster().add_to(map)\n",
    "\n",
    "#maker 객체 추가\n",
    "for idx, row in socar_zone_info_df.iterrows():\n",
    "    try:\n",
    "        folium.Marker(\n",
    "            location=[socar_zone_info_df.loc[idx, \"lat\"], socar_zone_info_df.loc[idx, \"lng\"]],\n",
    "            popup=socar_zone_info_df.loc[idx, \"zone_name\"],\n",
    "            icon=folium.Icon(color=\"cadetblue\", icon=\"car\", prefix=\"fa\")            \n",
    "        ).add_to(marker_cluster)\n",
    "    except:\n",
    "        pass\n",
    "\n",
    "print('슝~')"
   ]
  },
  {
   "cell_type": "code",
   "execution_count": null,
   "id": "c9d0a9ad",
   "metadata": {
    "scrolled": false
   },
   "outputs": [],
   "source": [
    "#2. 프로젝트(1)  # map draw\n",
    "map"
   ]
  },
  {
   "cell_type": "markdown",
   "id": "408c6539",
   "metadata": {},
   "source": [
    "    3. 프로젝트(2) 서울시 카페와 버스 정류장 밀도 데이터를 이용한 시각화\n",
    "           1) 카페data 정리\n",
    "              - data load\n",
    "              - 카페data 전처리 : 업종data분류\n",
    "              - 카페 위치데이터 리스트 만들기\n",
    "           2) 버스data 정리\n",
    "              - data load\n",
    "              - 버스data 전처리 .. 컬럼명 변경\n",
    "              - 버스 정류장 위치데이터 리스트 만들기\n",
    "           3) 시각화 \n",
    "              - Folium 초기 Map 객체 생성\n",
    "              - 레이어 적용을 위한 그룹 만들기\n",
    "              - 카페 밀도\n",
    "              - 버스정류장 밀도\n",
    "           4) 생성한 map 확인"
   ]
  },
  {
   "cell_type": "code",
   "execution_count": null,
   "id": "b109c870",
   "metadata": {},
   "outputs": [],
   "source": [
    "#3. 프로젝트(2) ... 2) 버스data load\n",
    "path = os.getenv('HOME') + '/aiffel/socar_gis/data/seoul_bus_line_info.csv'\n",
    "bus_line_info_df =  pd.read_csv(path)\n",
    "bus_line_info_df.head()"
   ]
  },
  {
   "cell_type": "code",
   "execution_count": null,
   "id": "bfed71ed",
   "metadata": {},
   "outputs": [],
   "source": [
    "#3. 프로젝트(2) ... 2) 버스data 전처리 .. 컬럼명 변경\n",
    "bus_line_info_df.rename(\n",
    "    columns={\n",
    "        \"Y좌표\": \"lat\",\n",
    "        \"X좌표\": \"lng\",\n",
    "    },\n",
    "    inplace=True\n",
    ")\n",
    "\n",
    "bus_line_info_df.info()"
   ]
  },
  {
   "cell_type": "code",
   "execution_count": null,
   "id": "ddcd7ef7",
   "metadata": {},
   "outputs": [],
   "source": [
    "#3. 프로젝트(2) ... 2) 버스 정류장 위치데이터 리스트 만들기\n",
    "bus_station_location_data = [[row[\"lat\"], row[\"lng\"]] for _, row in bus_line_info_df.iterrows()]\n",
    "print('슝~')\n",
    "#bus_station_location_data"
   ]
  },
  {
   "cell_type": "code",
   "execution_count": null,
   "id": "c856d374",
   "metadata": {},
   "outputs": [],
   "source": [
    "#3. 프로젝트(2) ... 3)시각화  ... # Folium 초기 Map 객체 생성 \n",
    "\n",
    "center = [37.541, 126.986]\n",
    "\n",
    "map = folium.Map(\n",
    "    location=center,\n",
    "    tiles= \"Stamen Terrain\", \n",
    "    zoom_start= 15\n",
    ")\n",
    "print('슝~')"
   ]
  },
  {
   "cell_type": "code",
   "execution_count": null,
   "id": "b93796b8",
   "metadata": {},
   "outputs": [],
   "source": [
    "#3. 프로젝트(2) ... 3) 시각화 # 레이어 적용을 위한 그룹 만들기\n",
    "# 대표 그룹 만들기\n",
    "fg = folium.FeatureGroup(name=\"groups\")\n",
    "map.add_child(fg)\n",
    "\n",
    "# # 카페 그룹 만들기\n",
    "# cafe = plugins.FeatureGroupSubGroup(fg, \"cafe_density\")\n",
    "# map.add_child(cafe)\n",
    "\n",
    "# 버스정류장 그룹 만들기\n",
    "bus = plugins.FeatureGroupSubGroup(fg, \"bus_group\")\n",
    "map.add_child(bus)\n",
    "\n",
    "# 레이어 콘트롤 박스 만들기\n",
    "folium.LayerControl(collapsed=False).add_to(map)"
   ]
  },
  {
   "cell_type": "code",
   "execution_count": null,
   "id": "de8b4fa7",
   "metadata": {},
   "outputs": [],
   "source": [
    "# #3. 프로젝트(2) ... 3) 시각화 .. # 카페 밀도\n",
    "# plugins.HeatMap(seoul_cafe_location_data).add_to(cafe)"
   ]
  },
  {
   "cell_type": "code",
   "execution_count": null,
   "id": "bfdfbed1",
   "metadata": {},
   "outputs": [],
   "source": [
    "#3. 프로젝트(2) ... 3) 시각화 ... # 버스정류장 밀도\n",
    "plugins.HeatMap(bus_station_location_data).add_to(bus)"
   ]
  },
  {
   "cell_type": "code",
   "execution_count": null,
   "id": "8ac79ed8",
   "metadata": {
    "scrolled": true
   },
   "outputs": [],
   "source": [
    "#3. 프로젝트(2) ... 3) 시각화 ... # 생성한 맵 확인\n",
    "map"
   ]
  }
 ],
 "metadata": {
  "kernelspec": {
   "display_name": "Python 3 (ipykernel)",
   "language": "python",
   "name": "python3"
  },
  "language_info": {
   "codemirror_mode": {
    "name": "ipython",
    "version": 3
   },
   "file_extension": ".py",
   "mimetype": "text/x-python",
   "name": "python",
   "nbconvert_exporter": "python",
   "pygments_lexer": "ipython3",
   "version": "3.9.13"
  }
 },
 "nbformat": 4,
 "nbformat_minor": 5
}
