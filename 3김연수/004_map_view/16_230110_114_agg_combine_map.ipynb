{
 "cells": [
  {
   "cell_type": "markdown",
   "id": "cb1a9d37",
   "metadata": {},
   "source": [
    "    16_230110_114_agg_combine_map\n",
    "        "
   ]
  },
  {
   "cell_type": "code",
   "execution_count": 1,
   "id": "ec3e5778",
   "metadata": {},
   "outputs": [
    {
     "name": "stdout",
     "output_type": "stream",
     "text": [
      "1.4.4\n",
      "0.12.2\n",
      "0.14.0\n"
     ]
    }
   ],
   "source": [
    "#1. package load\n",
    "import requests\n",
    "import json\n",
    "import os\n",
    "import math\n",
    "import time\n",
    "import numpy as np\n",
    "import pandas as pd\n",
    "import geopandas as gpd\n",
    "import pyproj\n",
    "import folium\n",
    "import matplotlib.pyplot as plt\n",
    "import seaborn as sns\n",
    "\n",
    "from shapely.geometry import mapping, shape, Point, Polygon, LineString\n",
    "from folium import plugins\n",
    "from folium.plugins import MarkerCluster, HeatMap\n",
    "\n",
    "import warnings\n",
    "warnings.filterwarnings(action='ignore') \n",
    "\n",
    "print(pd.__version__)\n",
    "print(gpd.__version__)\n",
    "print(folium.__version__)"
   ]
  },
  {
   "cell_type": "code",
   "execution_count": 2,
   "id": "4c1cdc8b",
   "metadata": {},
   "outputs": [
    {
     "ename": "FileNotFoundError",
     "evalue": "[Errno 2] No such file or directory: '/aiffel/aiffel/000_aiffelthon_230111/3김연수/002_data_dir/004_node_data/20210823_socar_zone.csv'",
     "output_type": "error",
     "traceback": [
      "\u001b[1;31m---------------------------------------------------------------------------\u001b[0m",
      "\u001b[1;31mFileNotFoundError\u001b[0m                         Traceback (most recent call last)",
      "\u001b[1;32m~\\AppData\\Local\\Temp\\ipykernel_45744\\3652982772.py\u001b[0m in \u001b[0;36m<module>\u001b[1;34m\u001b[0m\n\u001b[0;32m      3\u001b[0m \u001b[0mpath\u001b[0m \u001b[1;33m=\u001b[0m \u001b[1;34m'/aiffel/aiffel/000_aiffelthon_230111/3김연수/002_data_dir/004_node_data/20210823_socar_zone.csv'\u001b[0m\u001b[1;33m\u001b[0m\u001b[1;33m\u001b[0m\u001b[0m\n\u001b[0;32m      4\u001b[0m \u001b[1;33m\u001b[0m\u001b[0m\n\u001b[1;32m----> 5\u001b[1;33m \u001b[0msocar_zone_info_df\u001b[0m \u001b[1;33m=\u001b[0m \u001b[0mpd\u001b[0m\u001b[1;33m.\u001b[0m\u001b[0mread_csv\u001b[0m\u001b[1;33m(\u001b[0m\u001b[0mpath\u001b[0m\u001b[1;33m)\u001b[0m\u001b[1;33m\u001b[0m\u001b[1;33m\u001b[0m\u001b[0m\n\u001b[0m\u001b[0;32m      6\u001b[0m \u001b[0msocar_zone_info_df\u001b[0m\u001b[1;33m.\u001b[0m\u001b[0mhead\u001b[0m\u001b[1;33m(\u001b[0m\u001b[1;33m)\u001b[0m\u001b[1;33m\u001b[0m\u001b[1;33m\u001b[0m\u001b[0m\n",
      "\u001b[1;32m~\\anaconda3\\lib\\site-packages\\pandas\\util\\_decorators.py\u001b[0m in \u001b[0;36mwrapper\u001b[1;34m(*args, **kwargs)\u001b[0m\n\u001b[0;32m    309\u001b[0m                     \u001b[0mstacklevel\u001b[0m\u001b[1;33m=\u001b[0m\u001b[0mstacklevel\u001b[0m\u001b[1;33m,\u001b[0m\u001b[1;33m\u001b[0m\u001b[1;33m\u001b[0m\u001b[0m\n\u001b[0;32m    310\u001b[0m                 )\n\u001b[1;32m--> 311\u001b[1;33m             \u001b[1;32mreturn\u001b[0m \u001b[0mfunc\u001b[0m\u001b[1;33m(\u001b[0m\u001b[1;33m*\u001b[0m\u001b[0margs\u001b[0m\u001b[1;33m,\u001b[0m \u001b[1;33m**\u001b[0m\u001b[0mkwargs\u001b[0m\u001b[1;33m)\u001b[0m\u001b[1;33m\u001b[0m\u001b[1;33m\u001b[0m\u001b[0m\n\u001b[0m\u001b[0;32m    312\u001b[0m \u001b[1;33m\u001b[0m\u001b[0m\n\u001b[0;32m    313\u001b[0m         \u001b[1;32mreturn\u001b[0m \u001b[0mwrapper\u001b[0m\u001b[1;33m\u001b[0m\u001b[1;33m\u001b[0m\u001b[0m\n",
      "\u001b[1;32m~\\anaconda3\\lib\\site-packages\\pandas\\io\\parsers\\readers.py\u001b[0m in \u001b[0;36mread_csv\u001b[1;34m(filepath_or_buffer, sep, delimiter, header, names, index_col, usecols, squeeze, prefix, mangle_dupe_cols, dtype, engine, converters, true_values, false_values, skipinitialspace, skiprows, skipfooter, nrows, na_values, keep_default_na, na_filter, verbose, skip_blank_lines, parse_dates, infer_datetime_format, keep_date_col, date_parser, dayfirst, cache_dates, iterator, chunksize, compression, thousands, decimal, lineterminator, quotechar, quoting, doublequote, escapechar, comment, encoding, encoding_errors, dialect, error_bad_lines, warn_bad_lines, on_bad_lines, delim_whitespace, low_memory, memory_map, float_precision, storage_options)\u001b[0m\n\u001b[0;32m    676\u001b[0m     \u001b[0mkwds\u001b[0m\u001b[1;33m.\u001b[0m\u001b[0mupdate\u001b[0m\u001b[1;33m(\u001b[0m\u001b[0mkwds_defaults\u001b[0m\u001b[1;33m)\u001b[0m\u001b[1;33m\u001b[0m\u001b[1;33m\u001b[0m\u001b[0m\n\u001b[0;32m    677\u001b[0m \u001b[1;33m\u001b[0m\u001b[0m\n\u001b[1;32m--> 678\u001b[1;33m     \u001b[1;32mreturn\u001b[0m \u001b[0m_read\u001b[0m\u001b[1;33m(\u001b[0m\u001b[0mfilepath_or_buffer\u001b[0m\u001b[1;33m,\u001b[0m \u001b[0mkwds\u001b[0m\u001b[1;33m)\u001b[0m\u001b[1;33m\u001b[0m\u001b[1;33m\u001b[0m\u001b[0m\n\u001b[0m\u001b[0;32m    679\u001b[0m \u001b[1;33m\u001b[0m\u001b[0m\n\u001b[0;32m    680\u001b[0m \u001b[1;33m\u001b[0m\u001b[0m\n",
      "\u001b[1;32m~\\anaconda3\\lib\\site-packages\\pandas\\io\\parsers\\readers.py\u001b[0m in \u001b[0;36m_read\u001b[1;34m(filepath_or_buffer, kwds)\u001b[0m\n\u001b[0;32m    573\u001b[0m \u001b[1;33m\u001b[0m\u001b[0m\n\u001b[0;32m    574\u001b[0m     \u001b[1;31m# Create the parser.\u001b[0m\u001b[1;33m\u001b[0m\u001b[1;33m\u001b[0m\u001b[0m\n\u001b[1;32m--> 575\u001b[1;33m     \u001b[0mparser\u001b[0m \u001b[1;33m=\u001b[0m \u001b[0mTextFileReader\u001b[0m\u001b[1;33m(\u001b[0m\u001b[0mfilepath_or_buffer\u001b[0m\u001b[1;33m,\u001b[0m \u001b[1;33m**\u001b[0m\u001b[0mkwds\u001b[0m\u001b[1;33m)\u001b[0m\u001b[1;33m\u001b[0m\u001b[1;33m\u001b[0m\u001b[0m\n\u001b[0m\u001b[0;32m    576\u001b[0m \u001b[1;33m\u001b[0m\u001b[0m\n\u001b[0;32m    577\u001b[0m     \u001b[1;32mif\u001b[0m \u001b[0mchunksize\u001b[0m \u001b[1;32mor\u001b[0m \u001b[0miterator\u001b[0m\u001b[1;33m:\u001b[0m\u001b[1;33m\u001b[0m\u001b[1;33m\u001b[0m\u001b[0m\n",
      "\u001b[1;32m~\\anaconda3\\lib\\site-packages\\pandas\\io\\parsers\\readers.py\u001b[0m in \u001b[0;36m__init__\u001b[1;34m(self, f, engine, **kwds)\u001b[0m\n\u001b[0;32m    930\u001b[0m \u001b[1;33m\u001b[0m\u001b[0m\n\u001b[0;32m    931\u001b[0m         \u001b[0mself\u001b[0m\u001b[1;33m.\u001b[0m\u001b[0mhandles\u001b[0m\u001b[1;33m:\u001b[0m \u001b[0mIOHandles\u001b[0m \u001b[1;33m|\u001b[0m \u001b[1;32mNone\u001b[0m \u001b[1;33m=\u001b[0m \u001b[1;32mNone\u001b[0m\u001b[1;33m\u001b[0m\u001b[1;33m\u001b[0m\u001b[0m\n\u001b[1;32m--> 932\u001b[1;33m         \u001b[0mself\u001b[0m\u001b[1;33m.\u001b[0m\u001b[0m_engine\u001b[0m \u001b[1;33m=\u001b[0m \u001b[0mself\u001b[0m\u001b[1;33m.\u001b[0m\u001b[0m_make_engine\u001b[0m\u001b[1;33m(\u001b[0m\u001b[0mf\u001b[0m\u001b[1;33m,\u001b[0m \u001b[0mself\u001b[0m\u001b[1;33m.\u001b[0m\u001b[0mengine\u001b[0m\u001b[1;33m)\u001b[0m\u001b[1;33m\u001b[0m\u001b[1;33m\u001b[0m\u001b[0m\n\u001b[0m\u001b[0;32m    933\u001b[0m \u001b[1;33m\u001b[0m\u001b[0m\n\u001b[0;32m    934\u001b[0m     \u001b[1;32mdef\u001b[0m \u001b[0mclose\u001b[0m\u001b[1;33m(\u001b[0m\u001b[0mself\u001b[0m\u001b[1;33m)\u001b[0m\u001b[1;33m:\u001b[0m\u001b[1;33m\u001b[0m\u001b[1;33m\u001b[0m\u001b[0m\n",
      "\u001b[1;32m~\\anaconda3\\lib\\site-packages\\pandas\\io\\parsers\\readers.py\u001b[0m in \u001b[0;36m_make_engine\u001b[1;34m(self, f, engine)\u001b[0m\n\u001b[0;32m   1214\u001b[0m             \u001b[1;31m# \"Union[str, PathLike[str], ReadCsvBuffer[bytes], ReadCsvBuffer[str]]\"\u001b[0m\u001b[1;33m\u001b[0m\u001b[1;33m\u001b[0m\u001b[0m\n\u001b[0;32m   1215\u001b[0m             \u001b[1;31m# , \"str\", \"bool\", \"Any\", \"Any\", \"Any\", \"Any\", \"Any\"\u001b[0m\u001b[1;33m\u001b[0m\u001b[1;33m\u001b[0m\u001b[0m\n\u001b[1;32m-> 1216\u001b[1;33m             self.handles = get_handle(  # type: ignore[call-overload]\n\u001b[0m\u001b[0;32m   1217\u001b[0m                 \u001b[0mf\u001b[0m\u001b[1;33m,\u001b[0m\u001b[1;33m\u001b[0m\u001b[1;33m\u001b[0m\u001b[0m\n\u001b[0;32m   1218\u001b[0m                 \u001b[0mmode\u001b[0m\u001b[1;33m,\u001b[0m\u001b[1;33m\u001b[0m\u001b[1;33m\u001b[0m\u001b[0m\n",
      "\u001b[1;32m~\\anaconda3\\lib\\site-packages\\pandas\\io\\common.py\u001b[0m in \u001b[0;36mget_handle\u001b[1;34m(path_or_buf, mode, encoding, compression, memory_map, is_text, errors, storage_options)\u001b[0m\n\u001b[0;32m    784\u001b[0m         \u001b[1;32mif\u001b[0m \u001b[0mioargs\u001b[0m\u001b[1;33m.\u001b[0m\u001b[0mencoding\u001b[0m \u001b[1;32mand\u001b[0m \u001b[1;34m\"b\"\u001b[0m \u001b[1;32mnot\u001b[0m \u001b[1;32min\u001b[0m \u001b[0mioargs\u001b[0m\u001b[1;33m.\u001b[0m\u001b[0mmode\u001b[0m\u001b[1;33m:\u001b[0m\u001b[1;33m\u001b[0m\u001b[1;33m\u001b[0m\u001b[0m\n\u001b[0;32m    785\u001b[0m             \u001b[1;31m# Encoding\u001b[0m\u001b[1;33m\u001b[0m\u001b[1;33m\u001b[0m\u001b[0m\n\u001b[1;32m--> 786\u001b[1;33m             handle = open(\n\u001b[0m\u001b[0;32m    787\u001b[0m                 \u001b[0mhandle\u001b[0m\u001b[1;33m,\u001b[0m\u001b[1;33m\u001b[0m\u001b[1;33m\u001b[0m\u001b[0m\n\u001b[0;32m    788\u001b[0m                 \u001b[0mioargs\u001b[0m\u001b[1;33m.\u001b[0m\u001b[0mmode\u001b[0m\u001b[1;33m,\u001b[0m\u001b[1;33m\u001b[0m\u001b[1;33m\u001b[0m\u001b[0m\n",
      "\u001b[1;31mFileNotFoundError\u001b[0m: [Errno 2] No such file or directory: '/aiffel/aiffel/000_aiffelthon_230111/3김연수/002_data_dir/004_node_data/20210823_socar_zone.csv'"
     ]
    }
   ],
   "source": [
    "#2. 프로젝트(1)  ... data load\n",
    "#path = os.getenv('HOME') + '/aiffel/socar_gis/data/20210823_socar_zone.csv'\n",
    "path = '/aiffel/aiffel/000_aiffelthon_230111/3김연수/002_data_dir/004_node_data/20210823_socar_zone.csv'\n",
    "\n",
    "socar_zone_info_df = pd.read_csv(path)\n",
    "socar_zone_info_df.head()"
   ]
  },
  {
   "cell_type": "code",
   "execution_count": null,
   "id": "f8df0aaa",
   "metadata": {},
   "outputs": [],
   "source": [
    "socar_zone_info_df[socar_zone_info_df['region1'] == '경기도']"
   ]
  },
  {
   "cell_type": "code",
   "execution_count": null,
   "id": "0e90cdb3",
   "metadata": {},
   "outputs": [],
   "source": [
    "seoul_group_data = socar_zone_info_df.loc[socar_zone_info_df['region1'] == '경기도'].groupby('region2')['region2'].count()\n",
    "seoul_group_data"
   ]
  },
  {
   "cell_type": "markdown",
   "id": "26485524",
   "metadata": {},
   "source": [
    "    2. 프로젝트(1) 서울시 쏘카존 데이터를 활용한 시각화\n",
    "       1) data load : socar zone data\n",
    "       2) 시각화"
   ]
  },
  {
   "cell_type": "code",
   "execution_count": null,
   "id": "f09d200d",
   "metadata": {},
   "outputs": [],
   "source": [
    "#2. 프로젝트(1)  # base nap : 서울시 중심부 위도, 경도\n",
    "center = [37.541, 126.986]\n",
    "\n",
    "map = folium.Map(\n",
    "    location=center,\n",
    "    zoom_start=10,\n",
    "    )\n",
    "print('슝~')"
   ]
  },
  {
   "cell_type": "code",
   "execution_count": null,
   "id": "2a120126",
   "metadata": {
    "scrolled": true
   },
   "outputs": [],
   "source": [
    "#2. 프로젝트(1)  # MarkerCluster 객체 \n",
    "marker_cluster = MarkerCluster().add_to(map)\n",
    "\n",
    "#maker 객체 추가\n",
    "for idx, row in socar_zone_info_df.iterrows():\n",
    "    try:\n",
    "        folium.Marker(\n",
    "            location=[socar_zone_info_df.loc[idx, \"lat\"], socar_zone_info_df.loc[idx, \"lng\"]],\n",
    "            popup=socar_zone_info_df.loc[idx, \"zone_name\"],\n",
    "            icon=folium.Icon(color=\"cadetblue\", icon=\"car\", prefix=\"fa\")            \n",
    "        ).add_to(marker_cluster)\n",
    "    except:\n",
    "        pass\n",
    "\n",
    "print('슝~')"
   ]
  },
  {
   "cell_type": "code",
   "execution_count": null,
   "id": "21f25539",
   "metadata": {
    "scrolled": false
   },
   "outputs": [],
   "source": [
    "#2. 프로젝트(1)  # map draw\n",
    "map"
   ]
  },
  {
   "cell_type": "code",
   "execution_count": null,
   "id": "46f5d115",
   "metadata": {},
   "outputs": [],
   "source": []
  },
  {
   "cell_type": "markdown",
   "id": "ed21af3a",
   "metadata": {},
   "source": [
    "    3. 프로젝트(2) 서울시 카페와 버스 정류장 밀도 데이터를 이용한 시각화\n",
    "           1) 카페data 정리\n",
    "              - data load\n",
    "              - 카페data 전처리 : 업종data분류\n",
    "              - 카페 위치데이터 리스트 만들기\n",
    "           2) 버스data 정리\n",
    "              - data load\n",
    "              - 버스data 전처리 .. 컬럼명 변경\n",
    "              - 버스 정류장 위치데이터 리스트 만들기\n",
    "           3) 시각화 \n",
    "              - Folium 초기 Map 객체 생성\n",
    "              - 레이어 적용을 위한 그룹 만들기\n",
    "              - 카페 밀도\n",
    "              - 버스정류장 밀도\n",
    "           4) 생성한 map 확인"
   ]
  },
  {
   "cell_type": "code",
   "execution_count": null,
   "id": "20ce8a17",
   "metadata": {},
   "outputs": [],
   "source": [
    "#3. 프로젝트(2) ... 1) 카페data load\n",
    "temp_seoul_store_df = pd.read_csv(os. getenv('HOME') + '/aiffel/socar_gis/data/seoul_store_info_202106.csv')\n",
    "\n",
    "temp_seoul_store_df.head(3)"
   ]
  },
  {
   "cell_type": "code",
   "execution_count": null,
   "id": "9c2c78f9",
   "metadata": {},
   "outputs": [],
   "source": [
    "#3. 프로젝트(2) ... 1) 카페data 전처리 \n",
    "seoul_cafe_store_df = temp_seoul_store_df[temp_seoul_store_df[\"상권업종소분류코드\"] == \"Q12A01\"]\n",
    "\n",
    "seoul_cafe_store_df.head()"
   ]
  },
  {
   "cell_type": "code",
   "execution_count": null,
   "id": "06710968",
   "metadata": {},
   "outputs": [],
   "source": [
    "#3. 프로젝트(2) ... 1) 카페data 전처리 확인 \n",
    "seoul_cafe_store_df.info()"
   ]
  },
  {
   "cell_type": "code",
   "execution_count": null,
   "id": "f95f75f3",
   "metadata": {},
   "outputs": [],
   "source": [
    "#3. 프로젝트(2) ... 1) 카페data 전처리 ... # 카페 위치데이터 리스트 만들기\n",
    "seoul_cafe_location_data = [[row[\"위도\"], row[\"경도\"]] for _, row in seoul_cafe_store_df.iterrows()]\n",
    "\n",
    "print(\"슝~\")"
   ]
  },
  {
   "cell_type": "code",
   "execution_count": null,
   "id": "bdba2cd0",
   "metadata": {},
   "outputs": [],
   "source": [
    "#3. 프로젝트(2) ... 2) 버스data load\n",
    "path = os.getenv('HOME') + '/aiffel/socar_gis/data/seoul_bus_line_info.csv'\n",
    "bus_line_info_df =  pd.read_csv(path)\n",
    "bus_line_info_df.head()"
   ]
  },
  {
   "cell_type": "code",
   "execution_count": null,
   "id": "cab16055",
   "metadata": {},
   "outputs": [],
   "source": [
    "#3. 프로젝트(2) ... 2) 버스data 전처리 .. 컬럼명 변경\n",
    "bus_line_info_df.rename(\n",
    "    columns={\n",
    "        \"Y좌표\": \"lat\",\n",
    "        \"X좌표\": \"lng\",\n",
    "    },\n",
    "    inplace=True\n",
    ")\n",
    "\n",
    "bus_line_info_df.info()"
   ]
  },
  {
   "cell_type": "code",
   "execution_count": null,
   "id": "d57d3ac0",
   "metadata": {},
   "outputs": [],
   "source": [
    "#3. 프로젝트(2) ... 2) 버스 정류장 위치데이터 리스트 만들기\n",
    "bus_station_location_data = [[row[\"lat\"], row[\"lng\"]] for _, row in bus_line_info_df.iterrows()]\n",
    "print('슝~')\n",
    "#bus_station_location_data"
   ]
  },
  {
   "cell_type": "code",
   "execution_count": null,
   "id": "0ba9df64",
   "metadata": {},
   "outputs": [],
   "source": [
    "#3. 프로젝트(2) ... 3)시각화  ... # Folium 초기 Map 객체 생성 \n",
    "\n",
    "center = [37.541, 126.986]\n",
    "\n",
    "map = folium.Map(\n",
    "    location=center,\n",
    "    tiles= \"Stamen Terrain\", \n",
    "    zoom_start= 15\n",
    ")\n",
    "print('슝~')"
   ]
  },
  {
   "cell_type": "code",
   "execution_count": null,
   "id": "d7b316ed",
   "metadata": {},
   "outputs": [],
   "source": [
    "#3. 프로젝트(2) ... 3) 시각화 # 레이어 적용을 위한 그룹 만들기\n",
    "# 대표 그룹 만들기\n",
    "fg = folium.FeatureGroup(name=\"groups\")\n",
    "map.add_child(fg)\n",
    "\n",
    "# 카페 그룹 만들기\n",
    "cafe = plugins.FeatureGroupSubGroup(fg, \"cafe_density\")\n",
    "map.add_child(cafe)\n",
    "\n",
    "# 버스정류장 그룹 만들기\n",
    "bus = plugins.FeatureGroupSubGroup(fg, \"bus_group\")\n",
    "map.add_child(bus)\n",
    "\n",
    "# 레이어 콘트롤 박스 만들기\n",
    "folium.LayerControl(collapsed=False).add_to(map)"
   ]
  },
  {
   "cell_type": "code",
   "execution_count": null,
   "id": "c49839b0",
   "metadata": {},
   "outputs": [],
   "source": [
    "#3. 프로젝트(2) ... 3) 시각화 .. # 카페 밀도\n",
    "plugins.HeatMap(seoul_cafe_location_data).add_to(cafe)"
   ]
  },
  {
   "cell_type": "code",
   "execution_count": null,
   "id": "1dfc93f7",
   "metadata": {},
   "outputs": [],
   "source": [
    "#3. 프로젝트(2) ... 3) 시각화 ... # 버스정류장 밀도\n",
    "plugins.HeatMap(bus_station_location_data).add_to(bus)"
   ]
  },
  {
   "cell_type": "code",
   "execution_count": null,
   "id": "96ece343",
   "metadata": {
    "scrolled": false
   },
   "outputs": [],
   "source": [
    "#3. 프로젝트(2) ... 3) 시각화 ... # 생성한 맵 확인\n",
    "map"
   ]
  },
  {
   "cell_type": "markdown",
   "id": "22a6cefa",
   "metadata": {},
   "source": [
    "    4. 프로젝트(3) 시각화 자료에 쏘카존 데이터 추가하기\n",
    "        1) 초기 Map 객체를 생성\n",
    "        2) 레이어 적용을 위한 그룹 만들기\n",
    "        3) 쏘카존 마커 클러스터 만들기\n",
    "        4) 카페 밀도\n",
    "        5) 버스정류장 밀도\n",
    "        6) 생성한 map 확인"
   ]
  },
  {
   "cell_type": "code",
   "execution_count": null,
   "id": "e4edf17b",
   "metadata": {},
   "outputs": [],
   "source": [
    "#4. 프로젝트(3) # 1)Folium 초기 Map 객체를 생성 합니다.\n",
    "\n",
    "# 서울시 중심부 위도, 경도\n",
    "center = [37.541, 126.986]\n",
    "\n",
    "map = folium.Map(\n",
    "    location=center,\n",
    "    zoom_start=10,\n",
    "    )\n",
    "print('슝~')"
   ]
  },
  {
   "cell_type": "code",
   "execution_count": null,
   "id": "738dbbe8",
   "metadata": {},
   "outputs": [],
   "source": [
    "#4. 프로젝트(3)  .. # 2)레이어 적용을 위한 그룹 만들기\n",
    "# 대표 그룹 만들기\n",
    "fg = folium.FeatureGroup(name=\"groups\")\n",
    "map.add_child(fg)\n",
    "\n",
    "# 카페 그룹 만들기\n",
    "cafe = plugins.FeatureGroupSubGroup(fg, \"cafe_density\")\n",
    "map.add_child(cafe)\n",
    "\n",
    "# 버스정류장 그룹 만들기\n",
    "bus = plugins.FeatureGroupSubGroup(fg, \"bus_group\")\n",
    "map.add_child(bus)\n",
    "\n",
    "# 쏘카 그룹 만들기\n",
    "soacr = plugins.FeatureGroupSubGroup(fg, \"socar_zone\")\n",
    "map.add_child(soacr)\n",
    "\n",
    "# 레이어 콘트롤 박스 만들기\n",
    "folium.LayerControl(collapsed=False).add_to(map)"
   ]
  },
  {
   "cell_type": "code",
   "execution_count": null,
   "id": "58f6d2d8",
   "metadata": {},
   "outputs": [],
   "source": [
    "#4. 프로젝트(3)  ..3) 쏘카존 마커 클러스터 만들기\n",
    "socar_zone_data = [[row[\"lat\"], row[\"lng\"]] for _, row in socar_zone_info_df.iterrows()]\n",
    "popups = [socar_zone_info_df.loc[idx, \"zone_name\"] for idx, row in socar_zone_info_df.iterrows()] #popup시 표시 될 주소\n",
    "\n",
    "mg = plugins.MarkerCluster( socar_zone_data, popups=popups,control=False)\n",
    "\n",
    "map.add_child(mg)"
   ]
  },
  {
   "cell_type": "code",
   "execution_count": null,
   "id": "4d39ce04",
   "metadata": {},
   "outputs": [],
   "source": [
    "#4. 프로젝트(3)  ..#4) 카페 밀도\n",
    "plugins.HeatMap(seoul_cafe_location_data).add_to(cafe)"
   ]
  },
  {
   "cell_type": "code",
   "execution_count": null,
   "id": "9dc45c39",
   "metadata": {},
   "outputs": [],
   "source": [
    "#4. 프로젝트(3)  ..#5) 버스정류장 밀도\n",
    "plugins.HeatMap(bus_station_location_data).add_to(bus)"
   ]
  },
  {
   "cell_type": "code",
   "execution_count": null,
   "id": "4bdac8cf",
   "metadata": {
    "scrolled": false
   },
   "outputs": [],
   "source": [
    "#4. 프로젝트(3)  ..6) 생성한 map 확인\n",
    "\n",
    "map"
   ]
  },
  {
   "cell_type": "markdown",
   "id": "1b38131c",
   "metadata": {},
   "source": [
    "    5. socar_zone 분석 : 서울시 분석\n",
    "       1) 서울시 쏘카존 밀도 분석   : 서초구 집중 >> 통,폐합 조정 필요\n",
    "           - 산포도 확인 : bus, 카페, 쏘카존\n",
    "           - 구별 쏘카존 밀도 분석 : 서초구 집중\n",
    "       2) 서울시 구별 인구밀도 분석 : \n",
    "           - 강서구,성동구,송파구 인구밀도가 높음 \n",
    "           - 쏘카존 신설 분석 필요\n",
    "       3) 성동구기준 쏘카존 신설 분석 \n",
    "          - 대단지 아파트에 설치된 쏘카존 분석 결과 다음의 아파트 쏘카존 신설 필요\n",
    "            . 래미안 옥수 리버젠\t ( 서울특별시 성동구 매봉길 15 )\n",
    "            . e편한세상 옥수 파크힐스( 서울특별시 성동구 매봉길 50 )"
   ]
  },
  {
   "cell_type": "code",
   "execution_count": null,
   "id": "6d994331",
   "metadata": {},
   "outputs": [],
   "source": [
    "#5 socar_zone 분석  .. bus scatter\n",
    "bus_station_data = pd.DataFrame(bus_station_location_data,columns=['lat', 'lng'])"
   ]
  },
  {
   "cell_type": "code",
   "execution_count": null,
   "id": "970c5a3d",
   "metadata": {},
   "outputs": [],
   "source": [
    "#5 socar_zone 분석  .. bus scatter\n",
    "ax1 = bus_station_data.plot.scatter(x='lng',y='lat',c='DarkBlue')"
   ]
  },
  {
   "cell_type": "code",
   "execution_count": null,
   "id": "d3b627eb",
   "metadata": {},
   "outputs": [],
   "source": [
    "#5 socar_zone 분석  .. caffe scatter\n",
    "seoul_cafe__data = pd.DataFrame(seoul_cafe_location_data,columns=['lat', 'lng'])"
   ]
  },
  {
   "cell_type": "code",
   "execution_count": null,
   "id": "ca150ebf",
   "metadata": {},
   "outputs": [],
   "source": [
    "#5 socar_zone 분석  .. caffe scatter\n",
    "ax1 = seoul_cafe__data.plot.scatter(x='lng',y='lat',c='DarkBlue')"
   ]
  },
  {
   "cell_type": "code",
   "execution_count": null,
   "id": "321c100b",
   "metadata": {},
   "outputs": [],
   "source": [
    "#5 socar_zone 분석  .. socar scatter\n",
    "socar_data = pd.DataFrame(socar_zone_data,columns=['lat', 'lng'])"
   ]
  },
  {
   "cell_type": "code",
   "execution_count": null,
   "id": "06023d7e",
   "metadata": {},
   "outputs": [],
   "source": [
    "#5 socar_zone 분석  .. socar scatter\n",
    "ax1 = socar_data.plot.scatter(x='lng',y='lat',c='DarkBlue')"
   ]
  },
  {
   "cell_type": "code",
   "execution_count": null,
   "id": "b669cc37",
   "metadata": {},
   "outputs": [],
   "source": [
    "#5 socar_zone 분석  .. 서울시 구별 분석\n",
    "import requests\n",
    "import json\n",
    "\n",
    "# 서울 행정구역 json raw파일(githubcontent)\n",
    "r = requests.get('https://raw.githubusercontent.com/southkorea/seoul-maps/master/kostat/2013/json/seoul_municipalities_geo_simple.json')\n",
    "c = r.content\n",
    "seoul_geo = json.loads(c)"
   ]
  },
  {
   "cell_type": "code",
   "execution_count": null,
   "id": "00cd5e0b",
   "metadata": {},
   "outputs": [],
   "source": [
    "#5 socar_zone 분석  .. 서울시 구별 지도 생성\n",
    "map = folium.Map(\n",
    "    location=[37.559819, 126.963895],\n",
    "    zoom_start=11, \n",
    ")\n",
    "\n",
    "folium.GeoJson(\n",
    "    seoul_geo,\n",
    "    name='지역구'\n",
    ").add_to(map)"
   ]
  },
  {
   "cell_type": "code",
   "execution_count": null,
   "id": "3258b160",
   "metadata": {},
   "outputs": [],
   "source": [
    "#5 socar_zone 분석  .. 서울시 구별 socar 밀도 확인\n",
    "map = folium.Map(\n",
    "    location=[37.559819, 126.963895],\n",
    "    zoom_start=11, \n",
    "    tiles='cartodbpositron'\n",
    ")\n",
    "\n",
    "folium.GeoJson(\n",
    "    seoul_geo,\n",
    "    name='지역구'\n",
    ").add_to(map)\n",
    "\n",
    "map.choropleth(geo_data=seoul_geo,\n",
    "             data=seoul_group_data, \n",
    "             fill_color='YlOrRd', # 색상 변경도 가능하다\n",
    "             fill_opacity=0.5,\n",
    "             line_opacity=0.2,\n",
    "             key_on='properties.name',\n",
    "             legend_name=\"지역구별 socar zone 수\"\n",
    "            )\n",
    "map"
   ]
  },
  {
   "cell_type": "code",
   "execution_count": null,
   "id": "8bed491e",
   "metadata": {},
   "outputs": [],
   "source": [
    "#5 socar_zone 분석  .. 서울시 구별 인구 밀도 확인\n",
    "path = os.getenv('HOME') + '/aiffel/000_going_node/004_221118_gonode4_jone/final_seoul_person.csv'\n",
    "\n",
    "seoul_population_df = pd.read_csv(path)\n",
    "seoul_population_df.head()"
   ]
  },
  {
   "cell_type": "code",
   "execution_count": null,
   "id": "ba1cd552",
   "metadata": {},
   "outputs": [],
   "source": [
    "#5 socar_zone 분석  .. 서울시 구별 인구 밀도 sum\n",
    "seoul_group_data = seoul_population_df.loc[seoul_population_df['gu'] != '서울특별시'].groupby('gu')['person'].sum()"
   ]
  },
  {
   "cell_type": "code",
   "execution_count": null,
   "id": "62f32c7e",
   "metadata": {},
   "outputs": [],
   "source": [
    "#5 socar_zone 분석  .. 서울시 구별 인구 밀도 sum\n",
    "seoul_group_data"
   ]
  },
  {
   "cell_type": "code",
   "execution_count": null,
   "id": "a608effd",
   "metadata": {},
   "outputs": [],
   "source": [
    "#5 socar_zone 분석  .. 서울시 구별 인구 밀도 graph\n",
    "map = folium.Map(\n",
    "    location=[37.559819, 126.963895],\n",
    "    zoom_start=11, \n",
    "    tiles='cartodbpositron'\n",
    ")\n",
    "\n",
    "folium.GeoJson(\n",
    "    seoul_geo,\n",
    "    name='지역구'\n",
    ").add_to(map)\n",
    "\n",
    "map.choropleth(geo_data=seoul_geo,\n",
    "             data=seoul_group_data, \n",
    "             fill_color='YlOrRd', # 색상 변경도 가능하다\n",
    "             fill_opacity=0.5,\n",
    "             line_opacity=0.2,\n",
    "             key_on='properties.name',\n",
    "             legend_name=\"지역구별 인구 수\"\n",
    "            )\n",
    "map\n",
    "#강서구,성동구,송파구 sorcar zone 증설 필요성, 서초구 쏘카 통폐합 조정 필요"
   ]
  },
  {
   "cell_type": "code",
   "execution_count": null,
   "id": "dafcb20b",
   "metadata": {},
   "outputs": [],
   "source": [
    "#5 socar_zone 분석  .. 서울시 구별 인구 밀도 확인\n",
    "path = os.getenv('HOME') + '/aiffel/000_going_node/004_221118_gonode4_jone/sungdong1.csv'\n",
    "\n",
    "sungdong_df = pd.read_csv(path)\n",
    "sungdong_df.head()"
   ]
  },
  {
   "cell_type": "code",
   "execution_count": null,
   "id": "22ef765e",
   "metadata": {},
   "outputs": [],
   "source": [
    "#5 socar_zone 분석  .. 성동구 쏘카존 신설 제안 ### SGIS ACCESS TOKEN을 리턴 해주는 함수\n",
    "def get_access_token(consumer_key, consumer_secret) -> None:\n",
    "    temp_res = requests.get(\n",
    "        url=\"https://sgisapi.kostat.go.kr/OpenAPI3/auth/authentication.json\",\n",
    "        params={\n",
    "            \"consumer_key\": consumer_key,\n",
    "            \"consumer_secret\": consumer_secret\n",
    "        }\n",
    "    )\n",
    "  \n",
    "    access_token = temp_res.json()[\"result\"][\"accessToken\"]\n",
    "  \n",
    "    return access_token\n",
    "\n",
    "print(\"슝~\")"
   ]
  },
  {
   "cell_type": "code",
   "execution_count": null,
   "id": "2cce4323",
   "metadata": {},
   "outputs": [],
   "source": [
    "#5 socar_zone 분석  .. 성동구 쏘카존 신설 제안 ## SGIS access_token 가져오기\n",
    "consumer_key  = '9e3111dfc4de422eac60'\n",
    "consumer_secret = '6fa0e3a98f9143e89904'\n",
    "\n",
    "access_token = get_access_token(consumer_key, consumer_secret)\n",
    "\n",
    "## 주소를 입력해 주소의 데이터를 DataFrame으로 가지고오는 함수\n",
    "def get_adress_info(access_token, address) -> None:\n",
    "    url=\"https://sgisapi.kostat.go.kr/OpenAPI3/addr/geocode.json\"\n",
    "    params={\n",
    "        \"accessToken\": access_token,\n",
    "        \"address\": address\n",
    "    }\n",
    "\n",
    "    temp_res = requests.get(\n",
    "        url=url,\n",
    "        params=params\n",
    "    ).json()[\"result\"][\"resultdata\"]\n",
    "\n",
    "    temp_df = pd.DataFrame(temp_res)\n",
    "\n",
    "    return temp_df\n",
    "\n",
    "print(\"슝~\")"
   ]
  },
  {
   "cell_type": "code",
   "execution_count": null,
   "id": "c74ea3d6",
   "metadata": {},
   "outputs": [],
   "source": [
    "#5 socar_zone 분석  .. 성동구 쏘카존 신설 제안 ### UTM-K 좌표계를 WGS84 좌표계로 변환하는 함수\n",
    "# 좌표계별 EPSG CODE 종류: UTM-K 좌표계(EPSG:5179), WGS84(위/경도 좌표계, EPSG:4326)\n",
    "\n",
    "def utmk_to_wgs84(utmk_x, utmk_y) -> None:\n",
    "    utmk_proj = pyproj.Proj(init=\"EPSG:5179\") # UTM-K 좌표계 정의\n",
    "    wgs84_proj = pyproj.Proj(init=\"EPSG:4326\") # WGS84 좌표계 정의\n",
    "    \n",
    "    # 좌표 변환 수헹\n",
    "    wgs84_x, wgs84_y = pyproj.transform(utmk_proj, wgs84_proj, utmk_x, utmk_y)\n",
    "    # print(f\"UTM-K 위도: {utmk_y} -> WGS84 위도: {wgs84_y} \\nUTM-K 경도: {utmk_x} -> WGS84 경도: {wgs84_x}\")\n",
    "    \n",
    "    \n",
    "    return wgs84_x, wgs84_y\n",
    "\n",
    "print(\"슝~\")"
   ]
  },
  {
   "cell_type": "code",
   "execution_count": null,
   "id": "dc244ea5",
   "metadata": {},
   "outputs": [],
   "source": [
    "#5 socar_zone 분석  .. 성동구 쏘카존 신설 제안  ## SGIS 좌표변환 API를 활용한 좌표변환 함수 정의\n",
    "def get_transcoord(access_token, src, dst, posX, posY) -> None:\n",
    "    url=\"https://sgisapi.kostat.go.kr/OpenAPI3/transformation/transcoord.json\"\n",
    "    params={\n",
    "        \"accessToken\": access_token,\n",
    "        \"src\": src, # 현재 좌표체계\n",
    "        \"dst\": dst, # 변환할 좌표체계\n",
    "        \"posX\": posX, # 변환할 좌표 X값\n",
    "        \"posY\":\tposY # 변환할 좌표 Y값\n",
    "    }\n",
    "\n",
    "    temp_dict = requests.get(\n",
    "        url=url,\n",
    "        params=params\n",
    "    ).json()[\"result\"]\n",
    "\n",
    "    return temp_dict[\"posX\"], temp_dict[\"posY\"] # 변환된 좌푯값 딕셔너리의 value 리턴\n",
    "\n",
    "print(\"슝~\")"
   ]
  },
  {
   "cell_type": "code",
   "execution_count": null,
   "id": "0063f389",
   "metadata": {
    "scrolled": false
   },
   "outputs": [],
   "source": [
    "#5 socar_zone 분석  .. 성동구 쏘카존 신설 제안 .. 대단지 아파트 좌표 \n",
    "\n",
    "sungdong_df.insert(2,\"sido_nm\", \"nan\")\n",
    "sungdong_df.insert(3,\"sgg_nm\", \"nan\")\n",
    "sungdong_df.insert(4,\"adm_nm\", \"nan\")\n",
    "sungdong_df.insert(5,\"x\", \"nan\")\n",
    "sungdong_df.insert(6,\"y\", \"nan\")\n",
    "sungdong_df.insert(7,\"wgs84_x\", \"nan\")\n",
    "sungdong_df.insert(8,\"wgs84_y\", \"nan\")\n",
    "sungdong_df.insert(9,\"transcoord_x\", \"nan\")\n",
    "sungdong_df.insert(10,\"transcoord_y\", \"nan\")\n",
    "\n",
    "for i in range(len(sungdong_df)):\n",
    "    address_df = get_adress_info(access_token, sungdong_df.loc[i]['address'] )\n",
    "\n",
    "    sungdong_df.loc[i][\"sido_nm\"] = address_df.loc[0][\"sido_nm\"]\n",
    "    sungdong_df.loc[i][\"sgg_nm\"]  = address_df.loc[0][\"sgg_nm\"]\n",
    "    sungdong_df.loc[i][\"adm_nm\"]  = address_df.loc[0][\"adm_nm\"]\n",
    "    sungdong_df.loc[i][\"x\"]       = address_df.loc[0][\"x\"]\n",
    "    sungdong_df.loc[i][\"y\"]      = address_df.loc[0][\"y\"]\n",
    "    \n",
    "    # 변환후 데이터 프레임에 변환된 좌표 컬럼 추가하기\n",
    "    sungdong_df.loc[i][[\"wgs84_x\", \"wgs84_y\"]] = utmk_to_wgs84(sungdong_df.loc[i, \"x\"], sungdong_df.loc[i, \"y\"])\n",
    "    sungdong_df.loc[i][[\"transcoord_x\", \"transcoord_y\"]] = get_transcoord(access_token, \"EPSG:5179\", \"EPSG:4326\", sungdong_df.loc[0, \"x\"], sungdong_df.loc[0, \"y\"])\n",
    "\n",
    "sungdong_df"
   ]
  },
  {
   "cell_type": "code",
   "execution_count": null,
   "id": "09473e4d",
   "metadata": {},
   "outputs": [],
   "source": [
    "#5 socar_zone 분석  .. 성동구 쏘카존 신설 제안 ..  # Folium 초기 Map 객체 생성\n",
    "# 초기 Map 메소드에는 초기 중심값 좌표가 들어가야 합니다.  \n",
    "base_map = folium.Map(\n",
    "    location=[37.566345, 126.977893]\n",
    ")\n"
   ]
  },
  {
   "cell_type": "code",
   "execution_count": null,
   "id": "6aa5c38e",
   "metadata": {
    "scrolled": false
   },
   "outputs": [],
   "source": [
    "#5 socar_zone 분석  .. 성동구 쏘카존 신설 제안 .. 대단지 아파트 좌표  # 지도에 Circle 찍기\n",
    "for index_num in range(len(sungdong_df)):\n",
    "    folium.Circle(\n",
    "        location=[sungdong_df.loc[index_num, \"wgs84_y\"], sungdong_df.loc[index_num, \"wgs84_x\"]],\n",
    "        radius=100,\n",
    "        color=\"blue\",\n",
    "        popup=sungdong_df.loc[index_num, \"adm_nm\"]\n",
    "    ).add_to(base_map)\n",
    "\n",
    "base_map"
   ]
  },
  {
   "cell_type": "code",
   "execution_count": null,
   "id": "087790b0",
   "metadata": {},
   "outputs": [],
   "source": [
    "#5 socar_zone 분석  .. 성동구 쏘카존 신설 제안 .. 대단지 아파트 와 쏘카존 비교 \n",
    "marker_cluster = MarkerCluster().add_to(base_map)\n",
    "\n",
    "#maker 객체 추가\n",
    "for idx, row in socar_zone_info_df.iterrows():\n",
    "    try:\n",
    "        folium.Marker(\n",
    "            location=[socar_zone_info_df.loc[idx, \"lat\"], socar_zone_info_df.loc[idx, \"lng\"]],\n",
    "            popup=socar_zone_info_df.loc[idx, \"zone_name\"],\n",
    "            icon=folium.Icon(color=\"cadetblue\", icon=\"car\", prefix=\"fa\")            \n",
    "        ).add_to(marker_cluster)\n",
    "    except:\n",
    "        pass\n",
    "\n"
   ]
  },
  {
   "cell_type": "code",
   "execution_count": null,
   "id": "30391f51",
   "metadata": {},
   "outputs": [],
   "source": [
    "# base_map"
   ]
  },
  {
   "cell_type": "code",
   "execution_count": null,
   "id": "6652a692",
   "metadata": {},
   "outputs": [],
   "source": []
  }
 ],
 "metadata": {
  "kernelspec": {
   "display_name": "Python 3 (ipykernel)",
   "language": "python",
   "name": "python3"
  },
  "language_info": {
   "codemirror_mode": {
    "name": "ipython",
    "version": 3
   },
   "file_extension": ".py",
   "mimetype": "text/x-python",
   "name": "python",
   "nbconvert_exporter": "python",
   "pygments_lexer": "ipython3",
   "version": "3.9.13"
  }
 },
 "nbformat": 4,
 "nbformat_minor": 5
}
