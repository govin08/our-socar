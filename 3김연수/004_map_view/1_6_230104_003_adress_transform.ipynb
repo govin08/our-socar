{
 "cells": [
  {
   "cell_type": "markdown",
   "id": "e9e63e12",
   "metadata": {},
   "source": [
    "    16_230104_003_adress_transform\n",
    "    \n",
    "    data .. 입력"
   ]
  },
  {
   "cell_type": "code",
   "execution_count": 5,
   "id": "a5bc8f40",
   "metadata": {},
   "outputs": [
    {
     "name": "stdout",
     "output_type": "stream",
     "text": [
      "슝~\n"
     ]
    }
   ],
   "source": [
    "# 필요한 라이브러리 import \n",
    "\n",
    "import requests\n",
    "import pprint\n",
    "import json\n",
    "import os\n",
    "import math\n",
    "import time\n",
    "import pandas as pd\n",
    "import numpy as np\n",
    "import geopandas as gpd\n",
    "import pyproj\n",
    "import folium\n",
    "import matplotlib.pyplot as plt\n",
    "\n",
    "from shapely.geometry import mapping, shape, Point, Polygon, LineString\n",
    "from folium import plugins\n",
    "from folium.plugins import MarkerCluster, HeatMap\n",
    "\n",
    "print(\"슝~\")"
   ]
  },
  {
   "cell_type": "code",
   "execution_count": 6,
   "id": "e9b0cb4c",
   "metadata": {},
   "outputs": [
    {
     "name": "stdout",
     "output_type": "stream",
     "text": [
      "access token:  317f84cd-4ecf-4fea-a2cf-5f030cd017bf\n"
     ]
    }
   ],
   "source": [
    "import requests\n",
    "\n",
    "### SGIS ACCESS TOKEN을 리턴 해주는 함수\n",
    "def get_access_token(consumer_key, consumer_secret) -> None:\n",
    "    temp_res = requests.get(\n",
    "        url=\"https://sgisapi.kostat.go.kr/OpenAPI3/auth/authentication.json\",\n",
    "        params={\n",
    "            \"consumer_key\": consumer_key,\n",
    "            \"consumer_secret\": consumer_secret\n",
    "        }\n",
    "    )\n",
    "\n",
    "    access_token = temp_res.json()[\"result\"][\"accessToken\"]\n",
    "  \n",
    "    return access_token\n",
    "\n",
    "# 여러분의 서비스ID, 보안Key 값을 함수에 넣어서 잘 작동하는지 확인해보세요\n",
    "consumer_key = \"2f74504a63224ee09f2b\"   # 서비스ID\n",
    "consumer_secret = \"63a0ffef893e43a48ae2\" # 보안Key\n",
    "\n",
    "# get_access_token('서비스ID', '보안Key')\n",
    "print('access token: ', get_access_token(consumer_key, consumer_secret))"
   ]
  },
  {
   "cell_type": "code",
   "execution_count": 8,
   "id": "ac973f2c",
   "metadata": {},
   "outputs": [
    {
     "name": "stdout",
     "output_type": "stream",
     "text": [
      "슝~\n"
     ]
    }
   ],
   "source": [
    "#4. code 변환\n",
    "## SGIS access_token 가져오기\n",
    "access_token = get_access_token(consumer_key, consumer_secret)\n",
    "\n",
    "## 주소를 입력해 주소의 데이터를 DataFrame으로 가지고오는 함수\n",
    "def get_adress_info(access_token, address) -> None:\n",
    "    url=\"https://sgisapi.kostat.go.kr/OpenAPI3/addr/geocode.json\"\n",
    "    params={\n",
    "        \"accessToken\": access_token,\n",
    "        \"address\": address\n",
    "    }\n",
    "\n",
    "    temp_res = requests.get(\n",
    "        url=url,\n",
    "        params=params\n",
    "    ).json()[\"result\"][\"resultdata\"]\n",
    "\n",
    "    temp_df = pd.DataFrame(temp_res)\n",
    "\n",
    "    return temp_df\n",
    "\n",
    "print(\"슝~\")"
   ]
  },
  {
   "cell_type": "code",
   "execution_count": 9,
   "id": "19b55af8",
   "metadata": {},
   "outputs": [
    {
     "data": {
      "text/html": [
       "<div>\n",
       "<style scoped>\n",
       "    .dataframe tbody tr th:only-of-type {\n",
       "        vertical-align: middle;\n",
       "    }\n",
       "\n",
       "    .dataframe tbody tr th {\n",
       "        vertical-align: top;\n",
       "    }\n",
       "\n",
       "    .dataframe thead th {\n",
       "        text-align: right;\n",
       "    }\n",
       "</style>\n",
       "<table border=\"1\" class=\"dataframe\">\n",
       "  <thead>\n",
       "    <tr style=\"text-align: right;\">\n",
       "      <th></th>\n",
       "      <th>ri_nm</th>\n",
       "      <th>road_nm_sub_no</th>\n",
       "      <th>sgg_cd</th>\n",
       "      <th>adm_cd</th>\n",
       "      <th>road_nm_main_no</th>\n",
       "      <th>leg_cd</th>\n",
       "      <th>road_nm</th>\n",
       "      <th>bd_matches</th>\n",
       "      <th>bd_sub_nm</th>\n",
       "      <th>addr_type</th>\n",
       "      <th>...</th>\n",
       "      <th>road_cd</th>\n",
       "      <th>bd_main_nm</th>\n",
       "      <th>adm_nm</th>\n",
       "      <th>jibun_main_no</th>\n",
       "      <th>origin_xy</th>\n",
       "      <th>jibun_sub_no</th>\n",
       "      <th>ri_cd</th>\n",
       "      <th>y</th>\n",
       "      <th>leg_nm</th>\n",
       "      <th>x</th>\n",
       "    </tr>\n",
       "  </thead>\n",
       "  <tbody>\n",
       "    <tr>\n",
       "      <th>0</th>\n",
       "      <td>null</td>\n",
       "      <td>0</td>\n",
       "      <td>23010</td>\n",
       "      <td>23010640</td>\n",
       "      <td>271</td>\n",
       "      <td>2811014700</td>\n",
       "      <td>공항로</td>\n",
       "      <td>4</td>\n",
       "      <td>null</td>\n",
       "      <td>6</td>\n",
       "      <td>...</td>\n",
       "      <td>3149003</td>\n",
       "      <td>인천국제공항역</td>\n",
       "      <td>운서동</td>\n",
       "      <td>null</td>\n",
       "      <td>BUILD</td>\n",
       "      <td>null</td>\n",
       "      <td>2811014700</td>\n",
       "      <td>1939236.69257386</td>\n",
       "      <td>운서동</td>\n",
       "      <td>907316.512763601</td>\n",
       "    </tr>\n",
       "  </tbody>\n",
       "</table>\n",
       "<p>1 rows × 23 columns</p>\n",
       "</div>"
      ],
      "text/plain": [
       "  ri_nm road_nm_sub_no sgg_cd    adm_cd road_nm_main_no      leg_cd road_nm  \\\n",
       "0  null              0  23010  23010640             271  2811014700     공항로   \n",
       "\n",
       "  bd_matches bd_sub_nm addr_type  ...  road_cd bd_main_nm adm_nm  \\\n",
       "0          4      null         6  ...  3149003    인천국제공항역    운서동   \n",
       "\n",
       "  jibun_main_no origin_xy jibun_sub_no       ri_cd                 y leg_nm  \\\n",
       "0          null     BUILD         null  2811014700  1939236.69257386    운서동   \n",
       "\n",
       "                  x  \n",
       "0  907316.512763601  \n",
       "\n",
       "[1 rows x 23 columns]"
      ]
     },
     "execution_count": 9,
     "metadata": {},
     "output_type": "execute_result"
    }
   ],
   "source": [
    "# 예시) 인천공항 주소 정보 DataFrame으로 가지고 오기\n",
    "# 인천공항 주소: 인천 중구 공항로 271\n",
    "address_df = get_adress_info(access_token, \"인천 중구 공항로 271\")\n",
    "address_df"
   ]
  },
  {
   "cell_type": "code",
   "execution_count": 10,
   "id": "9a1d0bd5",
   "metadata": {},
   "outputs": [
    {
     "name": "stdout",
     "output_type": "stream",
     "text": [
      "<class 'pandas.core.frame.DataFrame'>\n",
      "RangeIndex: 1 entries, 0 to 0\n",
      "Data columns (total 23 columns):\n",
      " #   Column           Non-Null Count  Dtype  \n",
      "---  ------           --------------  -----  \n",
      " 0   ri_nm            1 non-null      object \n",
      " 1   road_nm_sub_no   1 non-null      object \n",
      " 2   sgg_cd           1 non-null      object \n",
      " 3   adm_cd           1 non-null      object \n",
      " 4   road_nm_main_no  1 non-null      object \n",
      " 5   leg_cd           1 non-null      object \n",
      " 6   road_nm          1 non-null      object \n",
      " 7   bd_matches       1 non-null      object \n",
      " 8   bd_sub_nm        1 non-null      object \n",
      " 9   addr_type        1 non-null      object \n",
      " 10  sido_nm          1 non-null      object \n",
      " 11  sgg_nm           1 non-null      object \n",
      " 12  sido_cd          1 non-null      object \n",
      " 13  road_cd          1 non-null      object \n",
      " 14  bd_main_nm       1 non-null      object \n",
      " 15  adm_nm           1 non-null      object \n",
      " 16  jibun_main_no    1 non-null      object \n",
      " 17  origin_xy        1 non-null      object \n",
      " 18  jibun_sub_no     1 non-null      object \n",
      " 19  ri_cd            1 non-null      object \n",
      " 20  y                1 non-null      float64\n",
      " 21  leg_nm           1 non-null      object \n",
      " 22  x                1 non-null      float64\n",
      "dtypes: float64(2), object(21)\n",
      "memory usage: 312.0+ bytes\n"
     ]
    }
   ],
   "source": [
    "## 위도(x), 경도(y)의 데이터 타입을 float으로 변경하기\n",
    "address_df[\"x\"] = address_df[\"x\"].astype(float)\n",
    "address_df[\"y\"] = address_df[\"y\"].astype(float)\n",
    "\n",
    "address_df.info()"
   ]
  },
  {
   "cell_type": "code",
   "execution_count": 11,
   "id": "fe157822",
   "metadata": {},
   "outputs": [
    {
     "data": {
      "text/html": [
       "<div>\n",
       "<style scoped>\n",
       "    .dataframe tbody tr th:only-of-type {\n",
       "        vertical-align: middle;\n",
       "    }\n",
       "\n",
       "    .dataframe tbody tr th {\n",
       "        vertical-align: top;\n",
       "    }\n",
       "\n",
       "    .dataframe thead th {\n",
       "        text-align: right;\n",
       "    }\n",
       "</style>\n",
       "<table border=\"1\" class=\"dataframe\">\n",
       "  <thead>\n",
       "    <tr style=\"text-align: right;\">\n",
       "      <th></th>\n",
       "      <th>bd_main_nm</th>\n",
       "      <th>x</th>\n",
       "      <th>y</th>\n",
       "      <th>geometry</th>\n",
       "    </tr>\n",
       "  </thead>\n",
       "  <tbody>\n",
       "    <tr>\n",
       "      <th>0</th>\n",
       "      <td>인천국제공항역</td>\n",
       "      <td>907316.512764</td>\n",
       "      <td>1.939237e+06</td>\n",
       "      <td>POINT (907316.513 1939236.693)</td>\n",
       "    </tr>\n",
       "  </tbody>\n",
       "</table>\n",
       "</div>"
      ],
      "text/plain": [
       "  bd_main_nm              x             y                        geometry\n",
       "0    인천국제공항역  907316.512764  1.939237e+06  POINT (907316.513 1939236.693)"
      ]
     },
     "execution_count": 11,
     "metadata": {},
     "output_type": "execute_result"
    }
   ],
   "source": [
    "## 주소정보중 위/경도 데이터로 Geometry Point 객체를 생성해서 Geometry 컬럼 생성하기\n",
    "address_df[\"geometry\"] = address_df.apply(lambda row: Point([row[\"x\"], row[\"y\"]]), axis=1)\n",
    "\n",
    "## Geopandas DataFrame으로 DataFrame 생성하기\n",
    "address_geo_df = gpd.GeoDataFrame(address_df, geometry=\"geometry\")\n",
    "address_geo_df[[\"bd_main_nm\", \"x\", \"y\", \"geometry\"]]"
   ]
  },
  {
   "cell_type": "code",
   "execution_count": 12,
   "id": "addbdeff",
   "metadata": {},
   "outputs": [
    {
     "name": "stdout",
     "output_type": "stream",
     "text": [
      "None\n"
     ]
    }
   ],
   "source": [
    "## 좌표계 확인\n",
    "# None 값인 경우 좌표계를 정의 해주어야 합니다.\n",
    "print(address_geo_df.crs)"
   ]
  },
  {
   "cell_type": "code",
   "execution_count": 13,
   "id": "bb5ed63e",
   "metadata": {},
   "outputs": [
    {
     "name": "stderr",
     "output_type": "stream",
     "text": [
      "/opt/conda/lib/python3.9/site-packages/pyproj/crs/crs.py:131: FutureWarning: '+init=<authority>:<code>' syntax is deprecated. '<authority>:<code>' is the preferred initialization method. When making the change, be mindful of axis order changes: https://pyproj4.github.io/pyproj/stable/gotchas.html#axis-order-changes-in-proj-6\n",
      "  in_crs_string = _prepare_from_proj_string(in_crs_string)\n"
     ]
    },
    {
     "data": {
      "text/plain": [
       "<Projected CRS: +init=epsg:5179 +type=crs>\n",
       "Name: Korea 2000 / Unified CS\n",
       "Axis Info [cartesian]:\n",
       "- E[east]: Easting (metre)\n",
       "- N[north]: Northing (metre)\n",
       "Area of Use:\n",
       "- name: Republic of Korea (South Korea) - onshore and offshore.\n",
       "- bounds: (122.71, 28.6, 134.28, 40.27)\n",
       "Coordinate Operation:\n",
       "- name: Korea Unified Belt\n",
       "- method: Transverse Mercator\n",
       "Datum: Geocentric datum of Korea\n",
       "- Ellipsoid: GRS 1980\n",
       "- Prime Meridian: Greenwich"
      ]
     },
     "execution_count": 13,
     "metadata": {},
     "output_type": "execute_result"
    }
   ],
   "source": [
    "## 위/경도 좌표계 정의\n",
    "# SGIS 기본 좌표계 UTM-K 좌표계를 사용합니다.\n",
    "# UTM-K 좌표계의 EPSG코드는 epsg:5179를 사용합니다.\n",
    "address_geo_df.crs = {\"init\": \"epsg:5179\"}\n",
    "address_geo_df.crs"
   ]
  },
  {
   "cell_type": "code",
   "execution_count": 14,
   "id": "c06ed1d1",
   "metadata": {},
   "outputs": [
    {
     "name": "stderr",
     "output_type": "stream",
     "text": [
      "/opt/conda/lib/python3.9/site-packages/pyproj/crs/crs.py:131: FutureWarning: '+init=<authority>:<code>' syntax is deprecated. '<authority>:<code>' is the preferred initialization method. When making the change, be mindful of axis order changes: https://pyproj4.github.io/pyproj/stable/gotchas.html#axis-order-changes-in-proj-6\n",
      "  in_crs_string = _prepare_from_proj_string(in_crs_string)\n"
     ]
    },
    {
     "data": {
      "text/html": [
       "<div>\n",
       "<style scoped>\n",
       "    .dataframe tbody tr th:only-of-type {\n",
       "        vertical-align: middle;\n",
       "    }\n",
       "\n",
       "    .dataframe tbody tr th {\n",
       "        vertical-align: top;\n",
       "    }\n",
       "\n",
       "    .dataframe thead th {\n",
       "        text-align: right;\n",
       "    }\n",
       "</style>\n",
       "<table border=\"1\" class=\"dataframe\">\n",
       "  <thead>\n",
       "    <tr style=\"text-align: right;\">\n",
       "      <th></th>\n",
       "      <th>bd_main_nm</th>\n",
       "      <th>x</th>\n",
       "      <th>y</th>\n",
       "      <th>geometry</th>\n",
       "    </tr>\n",
       "  </thead>\n",
       "  <tbody>\n",
       "    <tr>\n",
       "      <th>0</th>\n",
       "      <td>인천국제공항역</td>\n",
       "      <td>907316.512764</td>\n",
       "      <td>1.939237e+06</td>\n",
       "      <td>POINT (126.45217 37.44768)</td>\n",
       "    </tr>\n",
       "  </tbody>\n",
       "</table>\n",
       "</div>"
      ],
      "text/plain": [
       "  bd_main_nm              x             y                    geometry\n",
       "0    인천국제공항역  907316.512764  1.939237e+06  POINT (126.45217 37.44768)"
      ]
     },
     "execution_count": 14,
     "metadata": {},
     "output_type": "execute_result"
    }
   ],
   "source": [
    "## UTM-K 좌표계 -> WGS84(위/경도) 좌표계 변환\n",
    "address_geo_df = address_geo_df.to_crs({\"init\": \"epsg:4326\"})\n",
    "address_geo_df[[\"bd_main_nm\", \"x\", \"y\", \"geometry\"]]"
   ]
  },
  {
   "cell_type": "code",
   "execution_count": 15,
   "id": "27a15a1a",
   "metadata": {},
   "outputs": [
    {
     "data": {
      "text/html": [
       "<div>\n",
       "<style scoped>\n",
       "    .dataframe tbody tr th:only-of-type {\n",
       "        vertical-align: middle;\n",
       "    }\n",
       "\n",
       "    .dataframe tbody tr th {\n",
       "        vertical-align: top;\n",
       "    }\n",
       "\n",
       "    .dataframe thead th {\n",
       "        text-align: right;\n",
       "    }\n",
       "</style>\n",
       "<table border=\"1\" class=\"dataframe\">\n",
       "  <thead>\n",
       "    <tr style=\"text-align: right;\">\n",
       "      <th></th>\n",
       "      <th>sido_nm</th>\n",
       "      <th>sgg_nm</th>\n",
       "      <th>adm_nm</th>\n",
       "      <th>jibun_main_no</th>\n",
       "      <th>jibun_sub_no</th>\n",
       "      <th>x</th>\n",
       "      <th>y</th>\n",
       "    </tr>\n",
       "  </thead>\n",
       "  <tbody>\n",
       "    <tr>\n",
       "      <th>0</th>\n",
       "      <td>서울특별시</td>\n",
       "      <td>동작구</td>\n",
       "      <td>사당2동</td>\n",
       "      <td>271</td>\n",
       "      <td>18</td>\n",
       "      <td>953475.620000162</td>\n",
       "      <td>1944631.15909765</td>\n",
       "    </tr>\n",
       "  </tbody>\n",
       "</table>\n",
       "</div>"
      ],
      "text/plain": [
       "  sido_nm sgg_nm adm_nm jibun_main_no jibun_sub_no                 x  \\\n",
       "0   서울특별시    동작구   사당2동           271           18  953475.620000162   \n",
       "\n",
       "                  y  \n",
       "0  1944631.15909765  "
      ]
     },
     "execution_count": 15,
     "metadata": {},
     "output_type": "execute_result"
    }
   ],
   "source": [
    "# 예시) 국립 현충원 주소 정보 DataFrame으로 가지고 오기\n",
    "# 국립 현충원 주소: 서울특별시 동작구 동작동 271-18\n",
    "address_df = get_adress_info(access_token, \"서울특별시 동작구 동작동 271-18\")\n",
    "address_df[[\"sido_nm\", \"sgg_nm\", \"adm_nm\", \"jibun_main_no\", \"jibun_sub_no\", \"x\", \"y\"]]"
   ]
  },
  {
   "cell_type": "code",
   "execution_count": 16,
   "id": "80643f1c",
   "metadata": {},
   "outputs": [
    {
     "name": "stdout",
     "output_type": "stream",
     "text": [
      "슝~\n"
     ]
    }
   ],
   "source": [
    "### UTM-K 좌표계를 WGS84 좌표계로 변환하는 함수\n",
    "# 좌표계별 EPSG CODE 종류: UTM-K 좌표계(EPSG:5179), WGS84(위/경도 좌표계, EPSG:4326)\n",
    "\n",
    "def utmk_to_wgs84(utmk_x, utmk_y) -> None:\n",
    "    utmk_proj = pyproj.Proj(init=\"EPSG:5179\") # UTM-K 좌표계 정의\n",
    "    wgs84_proj = pyproj.Proj(init=\"EPSG:4326\") # WGS84 좌표계 정의\n",
    "    \n",
    "    # 좌표 변환 수헹\n",
    "    wgs84_x, wgs84_y = pyproj.transform(utmk_proj, wgs84_proj, utmk_x, utmk_y)\n",
    "    # print(f\"UTM-K 위도: {utmk_y} -> WGS84 위도: {wgs84_y} \\nUTM-K 경도: {utmk_x} -> WGS84 경도: {wgs84_x}\")\n",
    "    \n",
    "    \n",
    "    return wgs84_x, wgs84_y\n",
    "\n",
    "print(\"슝~\")"
   ]
  },
  {
   "cell_type": "code",
   "execution_count": 17,
   "id": "c5394c30",
   "metadata": {},
   "outputs": [
    {
     "name": "stderr",
     "output_type": "stream",
     "text": [
      "/opt/conda/lib/python3.9/site-packages/pyproj/crs/crs.py:131: FutureWarning: '+init=<authority>:<code>' syntax is deprecated. '<authority>:<code>' is the preferred initialization method. When making the change, be mindful of axis order changes: https://pyproj4.github.io/pyproj/stable/gotchas.html#axis-order-changes-in-proj-6\n",
      "  in_crs_string = _prepare_from_proj_string(in_crs_string)\n",
      "/opt/conda/lib/python3.9/site-packages/pyproj/crs/crs.py:131: FutureWarning: '+init=<authority>:<code>' syntax is deprecated. '<authority>:<code>' is the preferred initialization method. When making the change, be mindful of axis order changes: https://pyproj4.github.io/pyproj/stable/gotchas.html#axis-order-changes-in-proj-6\n",
      "  in_crs_string = _prepare_from_proj_string(in_crs_string)\n",
      "/tmp/ipykernel_111/3540108372.py:9: DeprecationWarning: This function is deprecated. See: https://pyproj4.github.io/pyproj/stable/gotchas.html#upgrading-to-pyproj-2-from-pyproj-1\n",
      "  wgs84_x, wgs84_y = pyproj.transform(utmk_proj, wgs84_proj, utmk_x, utmk_y)\n"
     ]
    },
    {
     "data": {
      "text/html": [
       "<div>\n",
       "<style scoped>\n",
       "    .dataframe tbody tr th:only-of-type {\n",
       "        vertical-align: middle;\n",
       "    }\n",
       "\n",
       "    .dataframe tbody tr th {\n",
       "        vertical-align: top;\n",
       "    }\n",
       "\n",
       "    .dataframe thead th {\n",
       "        text-align: right;\n",
       "    }\n",
       "</style>\n",
       "<table border=\"1\" class=\"dataframe\">\n",
       "  <thead>\n",
       "    <tr style=\"text-align: right;\">\n",
       "      <th></th>\n",
       "      <th>sido_nm</th>\n",
       "      <th>sgg_nm</th>\n",
       "      <th>adm_nm</th>\n",
       "      <th>jibun_main_no</th>\n",
       "      <th>jibun_sub_no</th>\n",
       "      <th>x</th>\n",
       "      <th>y</th>\n",
       "      <th>wgs84_x</th>\n",
       "      <th>wgs84_y</th>\n",
       "    </tr>\n",
       "  </thead>\n",
       "  <tbody>\n",
       "    <tr>\n",
       "      <th>0</th>\n",
       "      <td>서울특별시</td>\n",
       "      <td>동작구</td>\n",
       "      <td>사당2동</td>\n",
       "      <td>271</td>\n",
       "      <td>18</td>\n",
       "      <td>953475.620000162</td>\n",
       "      <td>1944631.15909765</td>\n",
       "      <td>126.973651</td>\n",
       "      <td>37.499772</td>\n",
       "    </tr>\n",
       "  </tbody>\n",
       "</table>\n",
       "</div>"
      ],
      "text/plain": [
       "  sido_nm sgg_nm adm_nm jibun_main_no jibun_sub_no                 x  \\\n",
       "0   서울특별시    동작구   사당2동           271           18  953475.620000162   \n",
       "\n",
       "                  y     wgs84_x    wgs84_y  \n",
       "0  1944631.15909765  126.973651  37.499772  "
      ]
     },
     "execution_count": 17,
     "metadata": {},
     "output_type": "execute_result"
    }
   ],
   "source": [
    "# 변환된 좌푯값을 가져와 데이터 프레임에 컬럼으로 추가하기\n",
    "address_df[[\"wgs84_x\", \"wgs84_y\"]] = utmk_to_wgs84(address_df.loc[0, \"x\"], address_df.loc[0, \"y\"])\n",
    "address_df[[\"sido_nm\", \"sgg_nm\", \"adm_nm\", \"jibun_main_no\", \"jibun_sub_no\", \"x\", \"y\", \"wgs84_x\", \"wgs84_y\"]]"
   ]
  },
  {
   "cell_type": "code",
   "execution_count": 18,
   "id": "f379f9fc",
   "metadata": {},
   "outputs": [
    {
     "data": {
      "text/html": [
       "<div>\n",
       "<style scoped>\n",
       "    .dataframe tbody tr th:only-of-type {\n",
       "        vertical-align: middle;\n",
       "    }\n",
       "\n",
       "    .dataframe tbody tr th {\n",
       "        vertical-align: top;\n",
       "    }\n",
       "\n",
       "    .dataframe thead th {\n",
       "        text-align: right;\n",
       "    }\n",
       "</style>\n",
       "<table border=\"1\" class=\"dataframe\">\n",
       "  <thead>\n",
       "    <tr style=\"text-align: right;\">\n",
       "      <th></th>\n",
       "      <th>sido_nm</th>\n",
       "      <th>sgg_nm</th>\n",
       "      <th>adm_nm</th>\n",
       "      <th>jibun_main_no</th>\n",
       "      <th>jibun_sub_no</th>\n",
       "      <th>x</th>\n",
       "      <th>y</th>\n",
       "    </tr>\n",
       "  </thead>\n",
       "  <tbody>\n",
       "    <tr>\n",
       "      <th>0</th>\n",
       "      <td>서울특별시</td>\n",
       "      <td>중구</td>\n",
       "      <td>명동</td>\n",
       "      <td>null</td>\n",
       "      <td>null</td>\n",
       "      <td>953893.87330747</td>\n",
       "      <td>1952017.73064447</td>\n",
       "    </tr>\n",
       "  </tbody>\n",
       "</table>\n",
       "</div>"
      ],
      "text/plain": [
       "  sido_nm sgg_nm adm_nm jibun_main_no jibun_sub_no                x  \\\n",
       "0   서울특별시     중구     명동          null         null  953893.87330747   \n",
       "\n",
       "                  y  \n",
       "0  1952017.73064447  "
      ]
     },
     "execution_count": 18,
     "metadata": {},
     "output_type": "execute_result"
    }
   ],
   "source": [
    "#SGIS API를 활용한 좌표계 변환\n",
    "# 예시) 서울시청 주소 정보 DataFrame으로 가지고 오기\n",
    "# 서울시청 주소: 서울 중구 세종대로 110 서울특별시청\n",
    "address_df = get_adress_info(access_token, \"서울 중구 세종대로 110 서울특별시청\")\n",
    "address_df[[\"sido_nm\", \"sgg_nm\", \"adm_nm\", \"jibun_main_no\", \"jibun_sub_no\", \"x\", \"y\"]]"
   ]
  },
  {
   "cell_type": "code",
   "execution_count": 19,
   "id": "d3bd699c",
   "metadata": {},
   "outputs": [
    {
     "name": "stdout",
     "output_type": "stream",
     "text": [
      "슝~\n"
     ]
    }
   ],
   "source": [
    "## SGIS 좌표변환 API를 활용한 좌표변환 함수 정의\n",
    "def get_transcoord(access_token, src, dst, posX, posY) -> None:\n",
    "    url=\"https://sgisapi.kostat.go.kr/OpenAPI3/transformation/transcoord.json\"\n",
    "    params={\n",
    "        \"accessToken\": access_token,\n",
    "        \"src\": src, # 현재 좌표체계\n",
    "        \"dst\": dst, # 변환할 좌표체계\n",
    "        \"posX\": posX, # 변환할 좌표 X값\n",
    "        \"posY\":\tposY # 변환할 좌표 Y값\n",
    "    }\n",
    "\n",
    "    temp_dict = requests.get(\n",
    "        url=url,\n",
    "        params=params\n",
    "    ).json()[\"result\"]\n",
    "\n",
    "    return temp_dict[\"posX\"], temp_dict[\"posY\"] # 변환된 좌푯값 딕셔너리의 value 리턴\n",
    "\n",
    "print(\"슝~\")"
   ]
  },
  {
   "cell_type": "code",
   "execution_count": 20,
   "id": "b26d6135",
   "metadata": {},
   "outputs": [
    {
     "data": {
      "text/html": [
       "<div>\n",
       "<style scoped>\n",
       "    .dataframe tbody tr th:only-of-type {\n",
       "        vertical-align: middle;\n",
       "    }\n",
       "\n",
       "    .dataframe tbody tr th {\n",
       "        vertical-align: top;\n",
       "    }\n",
       "\n",
       "    .dataframe thead th {\n",
       "        text-align: right;\n",
       "    }\n",
       "</style>\n",
       "<table border=\"1\" class=\"dataframe\">\n",
       "  <thead>\n",
       "    <tr style=\"text-align: right;\">\n",
       "      <th></th>\n",
       "      <th>sido_nm</th>\n",
       "      <th>sgg_nm</th>\n",
       "      <th>adm_nm</th>\n",
       "      <th>jibun_main_no</th>\n",
       "      <th>jibun_sub_no</th>\n",
       "      <th>x</th>\n",
       "      <th>y</th>\n",
       "      <th>transcoord_x</th>\n",
       "      <th>transcoord_y</th>\n",
       "    </tr>\n",
       "  </thead>\n",
       "  <tbody>\n",
       "    <tr>\n",
       "      <th>0</th>\n",
       "      <td>서울특별시</td>\n",
       "      <td>중구</td>\n",
       "      <td>명동</td>\n",
       "      <td>null</td>\n",
       "      <td>null</td>\n",
       "      <td>953893.87330747</td>\n",
       "      <td>1952017.73064447</td>\n",
       "      <td>126.977918</td>\n",
       "      <td>37.56637</td>\n",
       "    </tr>\n",
       "  </tbody>\n",
       "</table>\n",
       "</div>"
      ],
      "text/plain": [
       "  sido_nm sgg_nm adm_nm jibun_main_no jibun_sub_no                x  \\\n",
       "0   서울특별시     중구     명동          null         null  953893.87330747   \n",
       "\n",
       "                  y  transcoord_x  transcoord_y  \n",
       "0  1952017.73064447    126.977918      37.56637  "
      ]
     },
     "execution_count": 20,
     "metadata": {},
     "output_type": "execute_result"
    }
   ],
   "source": [
    "# 변환후 데이터 프레임에 변환된 좌표 컬럼 추가하기\n",
    "address_df[[\"transcoord_x\", \"transcoord_y\"]] = get_transcoord(access_token, \"EPSG:5179\", \"EPSG:4326\", address_df.loc[0, \"x\"], address_df.loc[0, \"y\"])\n",
    "address_df[[\"sido_nm\", \"sgg_nm\", \"adm_nm\", \"jibun_main_no\", \"jibun_sub_no\", \"x\", \"y\", \"transcoord_x\", \"transcoord_y\"]]"
   ]
  },
  {
   "cell_type": "code",
   "execution_count": 21,
   "id": "0af6a9ec",
   "metadata": {},
   "outputs": [
    {
     "data": {
      "text/html": [
       "<div>\n",
       "<style scoped>\n",
       "    .dataframe tbody tr th:only-of-type {\n",
       "        vertical-align: middle;\n",
       "    }\n",
       "\n",
       "    .dataframe tbody tr th {\n",
       "        vertical-align: top;\n",
       "    }\n",
       "\n",
       "    .dataframe thead th {\n",
       "        text-align: right;\n",
       "    }\n",
       "</style>\n",
       "<table border=\"1\" class=\"dataframe\">\n",
       "  <thead>\n",
       "    <tr style=\"text-align: right;\">\n",
       "      <th></th>\n",
       "      <th>sido_nm</th>\n",
       "      <th>sgg_nm</th>\n",
       "      <th>adm_nm</th>\n",
       "      <th>jibun_main_no</th>\n",
       "      <th>jibun_sub_no</th>\n",
       "      <th>x</th>\n",
       "      <th>y</th>\n",
       "    </tr>\n",
       "  </thead>\n",
       "  <tbody>\n",
       "    <tr>\n",
       "      <th>0</th>\n",
       "      <td>제주특별자치도</td>\n",
       "      <td>제주시</td>\n",
       "      <td>용담2동</td>\n",
       "      <td>null</td>\n",
       "      <td>null</td>\n",
       "      <td>906497.939648858</td>\n",
       "      <td>1502114.73637921</td>\n",
       "    </tr>\n",
       "  </tbody>\n",
       "</table>\n",
       "</div>"
      ],
      "text/plain": [
       "   sido_nm sgg_nm adm_nm jibun_main_no jibun_sub_no                 x  \\\n",
       "0  제주특별자치도    제주시   용담2동          null         null  906497.939648858   \n",
       "\n",
       "                  y  \n",
       "0  1502114.73637921  "
      ]
     },
     "execution_count": 21,
     "metadata": {},
     "output_type": "execute_result"
    }
   ],
   "source": [
    "# 예시) 제주공항 주소 정보 DataFrame으로 가지고 오기\n",
    "# 제주공항 주소: 제주 제주시 공항로 2 제주국제공항\n",
    "address_df = get_adress_info(access_token,  \"제주 제주시 공항로 2 제주국제공항\") # 주소입력\n",
    "address_df[[\"sido_nm\", \"sgg_nm\", \"adm_nm\", \"jibun_main_no\", \"jibun_sub_no\", \"x\", \"y\"]]"
   ]
  },
  {
   "cell_type": "code",
   "execution_count": 22,
   "id": "4f44ca1e",
   "metadata": {},
   "outputs": [
    {
     "data": {
      "text/html": [
       "<div>\n",
       "<style scoped>\n",
       "    .dataframe tbody tr th:only-of-type {\n",
       "        vertical-align: middle;\n",
       "    }\n",
       "\n",
       "    .dataframe tbody tr th {\n",
       "        vertical-align: top;\n",
       "    }\n",
       "\n",
       "    .dataframe thead th {\n",
       "        text-align: right;\n",
       "    }\n",
       "</style>\n",
       "<table border=\"1\" class=\"dataframe\">\n",
       "  <thead>\n",
       "    <tr style=\"text-align: right;\">\n",
       "      <th></th>\n",
       "      <th>sido_nm</th>\n",
       "      <th>sgg_nm</th>\n",
       "      <th>adm_nm</th>\n",
       "      <th>jibun_main_no</th>\n",
       "      <th>jibun_sub_no</th>\n",
       "      <th>x</th>\n",
       "      <th>y</th>\n",
       "      <th>transcoord_x</th>\n",
       "      <th>transcoord_y</th>\n",
       "    </tr>\n",
       "  </thead>\n",
       "  <tbody>\n",
       "    <tr>\n",
       "      <th>0</th>\n",
       "      <td>제주특별자치도</td>\n",
       "      <td>제주시</td>\n",
       "      <td>용담2동</td>\n",
       "      <td>null</td>\n",
       "      <td>null</td>\n",
       "      <td>906497.939648858</td>\n",
       "      <td>1502114.73637921</td>\n",
       "      <td>126.493302</td>\n",
       "      <td>33.506828</td>\n",
       "    </tr>\n",
       "  </tbody>\n",
       "</table>\n",
       "</div>"
      ],
      "text/plain": [
       "   sido_nm sgg_nm adm_nm jibun_main_no jibun_sub_no                 x  \\\n",
       "0  제주특별자치도    제주시   용담2동          null         null  906497.939648858   \n",
       "\n",
       "                  y  transcoord_x  transcoord_y  \n",
       "0  1502114.73637921    126.493302     33.506828  "
      ]
     },
     "execution_count": 22,
     "metadata": {},
     "output_type": "execute_result"
    }
   ],
   "source": [
    "# 변환후 데이터 프레임에 변환된 좌표 컬럼 추가하기\n",
    "address_df[[\"transcoord_x\", \"transcoord_y\"]] = get_transcoord(access_token, \"EPSG:5179\", \"EPSG:4326\", address_df.loc[0, \"x\"], address_df.loc[0, \"y\"])  \n",
    "address_df[[\"sido_nm\", \"sgg_nm\", \"adm_nm\", \"jibun_main_no\", \"jibun_sub_no\", \"x\", \"y\", \"transcoord_x\", \"transcoord_y\"]]"
   ]
  }
 ],
 "metadata": {
  "kernelspec": {
   "display_name": "Python 3 (ipykernel)",
   "language": "python",
   "name": "python3"
  },
  "language_info": {
   "codemirror_mode": {
    "name": "ipython",
    "version": 3
   },
   "file_extension": ".py",
   "mimetype": "text/x-python",
   "name": "python",
   "nbconvert_exporter": "python",
   "pygments_lexer": "ipython3",
   "version": "3.9.13"
  }
 },
 "nbformat": 4,
 "nbformat_minor": 5
}
