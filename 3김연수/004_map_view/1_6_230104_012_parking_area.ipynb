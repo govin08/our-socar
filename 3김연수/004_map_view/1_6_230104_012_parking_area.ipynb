{
 "cells": [
  {
   "cell_type": "markdown",
   "id": "ec7f87c6",
   "metadata": {},
   "source": [
    "    1_6_230104_012_parking_area\n",
    "     \n",
    "     4-4 section\n",
    "     \n",
    "     data : 전국주차장정보표준데이터"
   ]
  },
  {
   "cell_type": "code",
   "execution_count": 1,
   "id": "ff833b0b",
   "metadata": {},
   "outputs": [
    {
     "name": "stdout",
     "output_type": "stream",
     "text": [
      "슝~\n"
     ]
    }
   ],
   "source": [
    "#1. package load\n",
    "import requests\n",
    "import json\n",
    "import os\n",
    "import math\n",
    "import time\n",
    "import pandas as pd\n",
    "import numpy as np\n",
    "import geopandas as gpd\n",
    "import folium\n",
    "import matplotlib.pyplot as plt\n",
    "\n",
    "from shapely.geometry import mapping, shape, Point, Polygon, LineString\n",
    "from folium import plugins\n",
    "from folium.plugins import MarkerCluster, HeatMap\n",
    "print('슝~')"
   ]
  },
  {
   "cell_type": "code",
   "execution_count": 2,
   "id": "9a9cfe09",
   "metadata": {},
   "outputs": [],
   "source": [
    "#2. data load  ...SGIS data 가져오기 # SGIS API 사이트의 본인의 consumer_key, consumer_secret를 입력합니다.\n",
    "consumer_key = '2f74504a63224ee09f2b'       # 서비스ID\n",
    "consumer_secret =  '63a0ffef893e43a48ae2' # 보안Key\n"
   ]
  },
  {
   "cell_type": "code",
   "execution_count": 3,
   "id": "16ea2c31",
   "metadata": {},
   "outputs": [
    {
     "name": "stdout",
     "output_type": "stream",
     "text": [
      "슝~\n"
     ]
    }
   ],
   "source": [
    "#2. data load  ... SGIS data 가져오기 # SGIS ACCESS TOKEN을 리턴 해주는 함수\n",
    "def get_access_token(consumer_key, consumer_secret) -> None:\n",
    "    temp_res = requests.get(\n",
    "        url=\"https://sgisapi.kostat.go.kr/OpenAPI3/auth/authentication.json\",\n",
    "        params={\n",
    "            \"consumer_key\": consumer_key,\n",
    "            \"consumer_secret\": consumer_secret\n",
    "        }\n",
    "    )\n",
    "\n",
    "    access_token = temp_res.json()[\"result\"][\"accessToken\"]\n",
    "   \n",
    "    return access_token\n",
    "print('슝~')"
   ]
  },
  {
   "cell_type": "code",
   "execution_count": 4,
   "id": "ee53e4a1",
   "metadata": {},
   "outputs": [
    {
     "ename": "TypeError",
     "evalue": "unsupported operand type(s) for +: 'NoneType' and 'str'",
     "output_type": "error",
     "traceback": [
      "\u001b[1;31m---------------------------------------------------------------------------\u001b[0m",
      "\u001b[1;31mTypeError\u001b[0m                                 Traceback (most recent call last)",
      "\u001b[1;32m~\\AppData\\Local\\Temp\\ipykernel_26532\\2244914825.py\u001b[0m in \u001b[0;36m<module>\u001b[1;34m\u001b[0m\n\u001b[0;32m      1\u001b[0m \u001b[1;31m#6 전국주차장 데이터 시각화  ... data load : 33컬럼\u001b[0m\u001b[1;33m\u001b[0m\u001b[1;33m\u001b[0m\u001b[0m\n\u001b[1;32m----> 2\u001b[1;33m \u001b[0mpaking_station_info_df\u001b[0m \u001b[1;33m=\u001b[0m \u001b[0mpd\u001b[0m\u001b[1;33m.\u001b[0m\u001b[0mread_csv\u001b[0m\u001b[1;33m(\u001b[0m\u001b[0mos\u001b[0m\u001b[1;33m.\u001b[0m\u001b[0mgetenv\u001b[0m\u001b[1;33m(\u001b[0m\u001b[1;34m'HOME'\u001b[0m\u001b[1;33m)\u001b[0m \u001b[1;33m+\u001b[0m \u001b[1;34m\"/aiffel/socar_gis/data/parking_lot.csv\"\u001b[0m\u001b[1;33m,\u001b[0m \u001b[0mencoding\u001b[0m\u001b[1;33m=\u001b[0m\u001b[1;34m\"cp949\"\u001b[0m\u001b[1;33m)\u001b[0m\u001b[1;33m\u001b[0m\u001b[1;33m\u001b[0m\u001b[0m\n\u001b[0m\u001b[0;32m      3\u001b[0m \u001b[0mpaking_station_info_df\u001b[0m\u001b[1;33m.\u001b[0m\u001b[0minfo\u001b[0m\u001b[1;33m(\u001b[0m\u001b[1;33m)\u001b[0m\u001b[1;33m\u001b[0m\u001b[1;33m\u001b[0m\u001b[0m\n",
      "\u001b[1;31mTypeError\u001b[0m: unsupported operand type(s) for +: 'NoneType' and 'str'"
     ]
    }
   ],
   "source": [
    "#6 전국주차장 데이터 시각화  ... data load : 33컬럼\n",
    "paking_station_info_df = pd.read_csv(os.getenv('HOME') + \"/aiffel/socar_gis/data/parking_lot.csv\", encoding=\"cp949\")\n",
    "paking_station_info_df.info()"
   ]
  },
  {
   "cell_type": "code",
   "execution_count": null,
   "id": "dd24410a",
   "metadata": {},
   "outputs": [],
   "source": [
    "# 서울시 중심부 위도, 경도\n",
    "center = [37.541, 126.986]\n",
    "\n",
    "# map이 서울 중심부에 위치하고, zoom 레벨은 10으로 시작합니다.\n",
    "map = folium.Map(\n",
    "    location=center,\n",
    "    zoom_start=10,\n",
    "    )\n",
    "print('슝~')"
   ]
  },
  {
   "cell_type": "code",
   "execution_count": null,
   "id": "c2408f37",
   "metadata": {},
   "outputs": [],
   "source": [
    "# MarkerCluster 객체 만들기\n",
    "marker_cluster = MarkerCluster().add_to(map)\n",
    "\n",
    "# 주차장 이름, 위도, 경도를 가져와 maker 객체로 추가\n",
    "for index_num in range(len(paking_station_info_df)):\n",
    "    try:\n",
    "        folium.Marker(\n",
    "            location=[paking_station_info_df.loc[index_num, \"위도\"], paking_station_info_df.loc[index_num, \"경도\"]],\n",
    "            popup=paking_station_info_df.loc[index_num, \"소재지지번주소\"],\n",
    "            icon=folium.Icon(color=\"cadetblue\", icon=\"ok\")\n",
    "        ).add_to(marker_cluster)\n",
    "    except:\n",
    "        pass\n",
    "\n",
    "print('슝~')"
   ]
  },
  {
   "cell_type": "code",
   "execution_count": null,
   "id": "89cd8a30",
   "metadata": {},
   "outputs": [],
   "source": [
    "# #6 전국주차장 데이터 시각화  ...map\n",
    "# map"
   ]
  },
  {
   "cell_type": "code",
   "execution_count": null,
   "id": "755d6028",
   "metadata": {},
   "outputs": [],
   "source": []
  },
  {
   "cell_type": "code",
   "execution_count": null,
   "id": "82ebc831",
   "metadata": {},
   "outputs": [],
   "source": []
  }
 ],
 "metadata": {
  "kernelspec": {
   "display_name": "Python 3 (ipykernel)",
   "language": "python",
   "name": "python3"
  },
  "language_info": {
   "codemirror_mode": {
    "name": "ipython",
    "version": 3
   },
   "file_extension": ".py",
   "mimetype": "text/x-python",
   "name": "python",
   "nbconvert_exporter": "python",
   "pygments_lexer": "ipython3",
   "version": "3.9.13"
  }
 },
 "nbformat": 4,
 "nbformat_minor": 5
}
