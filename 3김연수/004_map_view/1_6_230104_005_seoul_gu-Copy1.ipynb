{
 "cells": [
  {
   "cell_type": "markdown",
   "id": "e70f9df5",
   "metadata": {},
   "source": [
    "    1_6_230104_005_seoul_gu\n",
    "    \n",
    "    data : /aiffel/socar_gis/data/korea_seoul_sig.json"
   ]
  },
  {
   "cell_type": "code",
   "execution_count": 54,
   "id": "f7ed5788",
   "metadata": {},
   "outputs": [
    {
     "name": "stdout",
     "output_type": "stream",
     "text": [
      "슝~\n"
     ]
    }
   ],
   "source": [
    "# 필요한 라이브러리 import \n",
    "\n",
    "import requests\n",
    "import pprint\n",
    "import json\n",
    "import os\n",
    "import math\n",
    "import time\n",
    "import pandas as pd\n",
    "import numpy as np\n",
    "import geopandas as gpd\n",
    "import pyproj\n",
    "import folium\n",
    "import matplotlib.pyplot as plt\n",
    "\n",
    "from shapely.geometry import mapping, shape, Point, Polygon, LineString\n",
    "from folium import plugins\n",
    "from folium.plugins import MarkerCluster, HeatMap\n",
    "\n",
    "print(\"슝~\")"
   ]
  },
  {
   "cell_type": "code",
   "execution_count": 94,
   "id": "7533489e",
   "metadata": {},
   "outputs": [
    {
     "name": "stdout",
     "output_type": "stream",
     "text": [
      "{'type': 'FeatureCollection', 'features': [{'type': 'Feature', 'id': '강동구', 'properties': {'code': '11250', 'name': '강동구', 'name_eng': 'Gangdong-gu', 'base_year': '2013'}, 'geometry': {'type': 'Polygon', 'coordinates': [[[127.11519584981606, 37.557533180704915], [127.16683184366129, 37.57672487388627], [127.18408792330152, 37.55814280369575], [127.16530984307447, 37.54221851258693], [127.14672806823502, 37.51415680680291], [127.12123165719615, 37.52528270089], [127.1116764203608, 37.540669955324965], [127.11519584981606, 37.557533180704915]]]}}, {'type': 'Feature', 'id': '송파구', 'properties': {'code': '11240', 'name': '송파구', 'name_eng': 'Songpa-gu', 'base_year': '2013'}, 'geometry': {'type': 'Polygon', 'coordinates': [[[127.0690698130372, 37.522279423505026], [127.10087519791962, 37.524841220167055], [127.1116764203608, 37.540669955324965], [127.12123165719615, 37.52528270089], [127.14672806823502, 37.51415680680291], [127.1634944215765, 37.497445406097484], [127.14206058413274, 37.47089819098501], [127.12440571080893, 37.46240445587048], [127.11117085201238, 37.485708381512445], [127.0719146000724, 37.50224013587669], [127.0690698130372, 37.522279423505026]]]}}, {'type': 'Feature', 'id': '강남구', 'properties': {'code': '11230', 'name': '강남구', 'name_eng': 'Gangnam-gu', 'base_year': '2013'}, 'geometry': {'type': 'Polygon', 'coordinates': [[[127.05867359288398, 37.52629974922568], [127.0690698130372, 37.522279423505026], [127.0719146000724, 37.50224013587669], [127.11117085201238, 37.485708381512445], [127.12440571080893, 37.46240445587048], [127.09842759318751, 37.45862253857461], [127.08640440578156, 37.472697935184655], [127.0559170481904, 37.4659228914077], [127.03621915098798, 37.48175802427603], [127.01397119667513, 37.52503988289669], [127.02302831890559, 37.53231899582663], [127.05867359288398, 37.52629974922568]]]}}, {'type': 'Feature', 'id': '서초구', 'properties': {'code': '11220', 'name': '서초구', 'name_eng': 'Seocho-gu', 'base_year': '2013'}, 'geometry': {'type': 'Polygon', 'coordinates': [[[127.01397119667513, 37.52503988289669], [127.03621915098798, 37.48175802427603], [127.0559170481904, 37.4659228914077], [127.08640440578156, 37.472697935184655], [127.09842759318751, 37.45862253857461], [127.09046928565951, 37.44296826114185], [127.06778107605433, 37.426197424057314], [127.04957232987142, 37.42805836845694], [127.03881782597922, 37.45382039851715], [126.99072073195462, 37.455326143310025], [126.98367668291802, 37.473856492692086], [126.98223807916081, 37.509314966770326], [127.01397119667513, 37.52503988289669]]]}}, {'type': 'Feature', 'id': '관악구', 'properties': {'code': '11210', 'name': '관악구', 'name_eng': 'Gwanak-gu', 'base_year': '2013'}, 'geometry': {'type': 'Polygon', 'coordinates': [[[126.98367668291802, 37.473856492692086], [126.99072073195462, 37.455326143310025], [126.96520439085143, 37.438249784006246], [126.95000001010182, 37.43613451165719], [126.93084408056525, 37.447382928333994], [126.9167728146601, 37.45490566423789], [126.90156094129895, 37.47753842789901], [126.90531975801812, 37.48218087575429], [126.94922661389508, 37.49125437495649], [126.9725891850662, 37.472561363278125], [126.98367668291802, 37.473856492692086]]]}}, {'type': 'Feature', 'id': '동작구', 'properties': {'code': '11200', 'name': '동작구', 'name_eng': 'Dongjak-gu', 'base_year': '2013'}, 'geometry': {'type': 'Polygon', 'coordinates': [[[126.98223807916081, 37.509314966770326], [126.98367668291802, 37.473856492692086], [126.9725891850662, 37.472561363278125], [126.94922661389508, 37.49125437495649], [126.90531975801812, 37.48218087575429], [126.92177893174825, 37.494889877415176], [126.92810628828279, 37.51329595732015], [126.95249990298159, 37.51722500741813], [126.98223807916081, 37.509314966770326]]]}}, {'type': 'Feature', 'id': '영등포구', 'properties': {'code': '11190', 'name': '영등포구', 'name_eng': 'Yeongdeungpo-gu', 'base_year': '2013'}, 'geometry': {'type': 'Polygon', 'coordinates': [[[126.89184663862764, 37.547373974997114], [126.94566733083212, 37.526617542453366], [126.95249990298159, 37.51722500741813], [126.92810628828279, 37.51329595732015], [126.92177893174825, 37.494889877415176], [126.90531975801812, 37.48218087575429], [126.89594776782485, 37.504675281309176], [126.88156402353862, 37.513970034765684], [126.88825757860099, 37.54079733630232], [126.89184663862764, 37.547373974997114]]]}}, {'type': 'Feature', 'id': '금천구', 'properties': {'code': '11180', 'name': '금천구', 'name_eng': 'Geumcheon-gu', 'base_year': '2013'}, 'geometry': {'type': 'Polygon', 'coordinates': [[[126.90156094129895, 37.47753842789901], [126.9167728146601, 37.45490566423789], [126.93084408056525, 37.447382928333994], [126.9025831711697, 37.434549366349124], [126.87683271502428, 37.482576591607305], [126.90156094129895, 37.47753842789901]]]}}, {'type': 'Feature', 'id': '구로구', 'properties': {'code': '11170', 'name': '구로구', 'name_eng': 'Guro-gu', 'base_year': '2013'}, 'geometry': {'type': 'Polygon', 'coordinates': [[[126.82688081517314, 37.50548972232896], [126.88156402353862, 37.513970034765684], [126.89594776782485, 37.504675281309176], [126.90531975801812, 37.48218087575429], [126.90156094129895, 37.47753842789901], [126.87683271502428, 37.482576591607305], [126.84762676054953, 37.47146723936323], [126.83549485076196, 37.474098236975095], [126.82264796791348, 37.4878476492147], [126.82504736331406, 37.50302612640443], [126.82688081517314, 37.50548972232896]]]}}, {'type': 'Feature', 'id': '강서구', 'properties': {'code': '11160', 'name': '강서구', 'name_eng': 'Gangseo-gu', 'base_year': '2013'}, 'geometry': {'type': 'Polygon', 'coordinates': [[[126.79575768552907, 37.57881087633202], [126.80702115023597, 37.60123001013228], [126.82251438477105, 37.5880430810082], [126.85984199399667, 37.571847855292745], [126.89184663862764, 37.547373974997114], [126.88825757860099, 37.54079733630232], [126.86637464321238, 37.54859191094823], [126.86610073476395, 37.52699964144669], [126.84257291943153, 37.52373707805596], [126.8242331426722, 37.53788078753248], [126.77324417717703, 37.5459123450554], [126.76979180579352, 37.55139183008809], [126.79575768552907, 37.57881087633202]]]}}, {'type': 'Feature', 'id': '양천구', 'properties': {'code': '11150', 'name': '양천구', 'name_eng': 'Yangcheon-gu', 'base_year': '2013'}, 'geometry': {'type': 'Polygon', 'coordinates': [[[126.8242331426722, 37.53788078753248], [126.84257291943153, 37.52373707805596], [126.86610073476395, 37.52699964144669], [126.86637464321238, 37.54859191094823], [126.88825757860099, 37.54079733630232], [126.88156402353862, 37.513970034765684], [126.82688081517314, 37.50548972232896], [126.8242331426722, 37.53788078753248]]]}}, {'type': 'Feature', 'id': '마포구', 'properties': {'code': '11140', 'name': '마포구', 'name_eng': 'Mapo-gu', 'base_year': '2013'}, 'geometry': {'type': 'Polygon', 'coordinates': [[[126.90522065831053, 37.57409700522574], [126.93898161798973, 37.552310003728124], [126.96358226710812, 37.55605635475154], [126.96448570553055, 37.548705692021635], [126.94566733083212, 37.526617542453366], [126.89184663862764, 37.547373974997114], [126.85984199399667, 37.571847855292745], [126.88433284773288, 37.588143322880526], [126.90522065831053, 37.57409700522574]]]}}, {'type': 'Feature', 'id': '서대문구', 'properties': {'code': '11130', 'name': '서대문구', 'name_eng': 'Seodaemun-gu', 'base_year': '2013'}, 'geometry': {'type': 'Polygon', 'coordinates': [[[126.9524752030572, 37.60508692737045], [126.95565425846463, 37.576080790881456], [126.96873633279075, 37.56313604690827], [126.96358226710812, 37.55605635475154], [126.93898161798973, 37.552310003728124], [126.90522065831053, 37.57409700522574], [126.9524752030572, 37.60508692737045]]]}}, {'type': 'Feature', 'id': '은평구', 'properties': {'code': '11120', 'name': '은평구', 'name_eng': 'Eunpyeong-gu', 'base_year': '2013'}, 'geometry': {'type': 'Polygon', 'coordinates': [[[126.9738864128702, 37.62949634786888], [126.95427017006129, 37.622033431339425], [126.9524752030572, 37.60508692737045], [126.90522065831053, 37.57409700522574], [126.88433284773288, 37.588143322880526], [126.90396681003595, 37.59227403419942], [126.90303066177668, 37.609977911401344], [126.91455481429648, 37.64150050996935], [126.956473797387, 37.652480737339445], [126.9738864128702, 37.62949634786888]]]}}, {'type': 'Feature', 'id': '노원구', 'properties': {'code': '11110', 'name': '노원구', 'name_eng': 'Nowon-gu', 'base_year': '2013'}, 'geometry': {'type': 'Polygon', 'coordinates': [[[127.0838752703195, 37.69359534202034], [127.09706391309695, 37.686383719372294], [127.09440766298717, 37.64713490473045], [127.11326795855199, 37.639622905315925], [127.10782277688129, 37.61804244241069], [127.07351243825278, 37.61283660342313], [127.05209373568619, 37.62164065487782], [127.04358800895609, 37.62848931298715], [127.05800075220091, 37.64318263878276], [127.05288479710485, 37.68423857084347], [127.0838752703195, 37.69359534202034]]]}}, {'type': 'Feature', 'id': '도봉구', 'properties': {'code': '11100', 'name': '도봉구', 'name_eng': 'Dobong-gu', 'base_year': '2013'}, 'geometry': {'type': 'Polygon', 'coordinates': [[[127.05288479710485, 37.68423857084347], [127.05800075220091, 37.64318263878276], [127.04358800895609, 37.62848931298715], [127.01465935892466, 37.64943687496812], [127.02062116141389, 37.667173575971205], [127.01039666042071, 37.681894589603594], [127.01795099203432, 37.69824412775662], [127.05288479710485, 37.68423857084347]]]}}, {'type': 'Feature', 'id': '강북구', 'properties': {'code': '11090', 'name': '강북구', 'name_eng': 'Gangbuk-gu', 'base_year': '2013'}, 'geometry': {'type': 'Polygon', 'coordinates': [[[126.99383903424, 37.676681761199085], [127.01039666042071, 37.681894589603594], [127.02062116141389, 37.667173575971205], [127.01465935892466, 37.64943687496812], [127.04358800895609, 37.62848931298715], [127.05209373568619, 37.62164065487782], [127.03892400992301, 37.609715611023816], [127.0128154749523, 37.613652243470256], [126.98672705513869, 37.63377641288196], [126.9817452676551, 37.65209769387776], [126.99383903424, 37.676681761199085]]]}}, {'type': 'Feature', 'id': '성북구', 'properties': {'code': '11080', 'name': '성북구', 'name_eng': 'Seongbuk-gu', 'base_year': '2013'}, 'geometry': {'type': 'Polygon', 'coordinates': [[[126.977175406416, 37.62859715400388], [126.98672705513869, 37.63377641288196], [127.0128154749523, 37.613652243470256], [127.03892400992301, 37.609715611023816], [127.05209373568619, 37.62164065487782], [127.07351243825278, 37.61283660342313], [127.07382707099227, 37.60401928986419], [127.042705222094, 37.59239437593391], [127.02527254528003, 37.57524616245249], [126.99348293358314, 37.588565457216156], [126.98879865992384, 37.6118927319756], [126.977175406416, 37.62859715400388]]]}}, {'type': 'Feature', 'id': '중랑구', 'properties': {'code': '11070', 'name': '중랑구', 'name_eng': 'Jungnang-gu', 'base_year': '2013'}, 'geometry': {'type': 'Polygon', 'coordinates': [[[127.07351243825278, 37.61283660342313], [127.10782277688129, 37.61804244241069], [127.1201246020114, 37.60178457598188], [127.10304174249214, 37.57076342290955], [127.08068541280403, 37.56906425519017], [127.07382707099227, 37.60401928986419], [127.07351243825278, 37.61283660342313]]]}}, {'type': 'Feature', 'id': '동대문구', 'properties': {'code': '11060', 'name': '동대문구', 'name_eng': 'Dongdaemun-gu', 'base_year': '2013'}, 'geometry': {'type': 'Polygon', 'coordinates': [[[127.02527254528003, 37.57524616245249], [127.042705222094, 37.59239437593391], [127.07382707099227, 37.60401928986419], [127.08068541280403, 37.56906425519017], [127.07421053024362, 37.55724769712085], [127.05005601081567, 37.567577612590846], [127.02547266349976, 37.568943552237734], [127.02527254528003, 37.57524616245249]]]}}, {'type': 'Feature', 'id': '광진구', 'properties': {'code': '11050', 'name': '광진구', 'name_eng': 'Gwangjin-gu', 'base_year': '2013'}, 'geometry': {'type': 'Polygon', 'coordinates': [[[127.08068541280403, 37.56906425519017], [127.10304174249214, 37.57076342290955], [127.11519584981606, 37.557533180704915], [127.1116764203608, 37.540669955324965], [127.10087519791962, 37.524841220167055], [127.0690698130372, 37.522279423505026], [127.05867359288398, 37.52629974922568], [127.07421053024362, 37.55724769712085], [127.08068541280403, 37.56906425519017]]]}}, {'type': 'Feature', 'id': '성동구', 'properties': {'code': '11040', 'name': '성동구', 'name_eng': 'Seongdong-gu', 'base_year': '2013'}, 'geometry': {'type': 'Polygon', 'coordinates': [[[127.02547266349976, 37.568943552237734], [127.05005601081567, 37.567577612590846], [127.07421053024362, 37.55724769712085], [127.05867359288398, 37.52629974922568], [127.02302831890559, 37.53231899582663], [127.01070894177482, 37.54118048964762], [127.02547266349976, 37.568943552237734]]]}}, {'type': 'Feature', 'id': '용산구', 'properties': {'code': '11030', 'name': '용산구', 'name_eng': 'Yongsan-gu', 'base_year': '2013'}, 'geometry': {'type': 'Polygon', 'coordinates': [[[127.01070894177482, 37.54118048964762], [127.02302831890559, 37.53231899582663], [127.01397119667513, 37.52503988289669], [126.98223807916081, 37.509314966770326], [126.95249990298159, 37.51722500741813], [126.94566733083212, 37.526617542453366], [126.96448570553055, 37.548705692021635], [126.98752996903328, 37.55094818807139], [127.01070894177482, 37.54118048964762]]]}}, {'type': 'Feature', 'id': '중구', 'properties': {'code': '11020', 'name': '중구', 'name_eng': 'Jung-gu', 'base_year': '2013'}, 'geometry': {'type': 'Polygon', 'coordinates': [[[127.02547266349976, 37.568943552237734], [127.01070894177482, 37.54118048964762], [126.98752996903328, 37.55094818807139], [126.96448570553055, 37.548705692021635], [126.96358226710812, 37.55605635475154], [126.96873633279075, 37.56313604690827], [127.02547266349976, 37.568943552237734]]]}}, {'type': 'Feature', 'id': '종로구', 'properties': {'code': '11010', 'name': '종로구', 'name_eng': 'Jongno-gu', 'base_year': '2013'}, 'geometry': {'type': 'Polygon', 'coordinates': [[[126.9738864128702, 37.62949634786888], [126.977175406416, 37.62859715400388], [126.98879865992384, 37.6118927319756], [126.99348293358314, 37.588565457216156], [127.02527254528003, 37.57524616245249], [127.02547266349976, 37.568943552237734], [126.96873633279075, 37.56313604690827], [126.95565425846463, 37.576080790881456], [126.9524752030572, 37.60508692737045], [126.95427017006129, 37.622033431339425], [126.9738864128702, 37.62949634786888]]]}}]}\n"
     ]
    }
   ],
   "source": [
    "import json\n",
    "\n",
    "file_name = 'c:/users/user/000_my_jupyter/900_aiffel/0000_AIFFELTHON/3김연수/002_data_dir/004_node_data/korea_seoul_sig.json'\n",
    "\n",
    "with open(file_name, 'r', encoding='utf-8') as f:\n",
    "    my_data = json.load(f)\n",
    "\n",
    "    print(my_data)  # 👉️ {"
   ]
  },
  {
   "cell_type": "code",
   "execution_count": 97,
   "id": "eed9bc04",
   "metadata": {},
   "outputs": [],
   "source": [
    "tst_list = list(my_data)"
   ]
  },
  {
   "cell_type": "code",
   "execution_count": 107,
   "id": "2484e288",
   "metadata": {},
   "outputs": [
    {
     "ename": "TypeError",
     "evalue": "'builtin_function_or_method' object is not subscriptable",
     "output_type": "error",
     "traceback": [
      "\u001b[1;31m---------------------------------------------------------------------------\u001b[0m",
      "\u001b[1;31mTypeError\u001b[0m                                 Traceback (most recent call last)",
      "\u001b[1;32m~\\AppData\\Local\\Temp\\ipykernel_9196\\2419609549.py\u001b[0m in \u001b[0;36m<module>\u001b[1;34m\u001b[0m\n\u001b[1;32m----> 1\u001b[1;33m \u001b[0mprint\u001b[0m\u001b[1;33m(\u001b[0m\u001b[0mmy_data\u001b[0m\u001b[1;33m.\u001b[0m\u001b[0mitems\u001b[0m\u001b[1;33m[\u001b[0m\u001b[1;34m'type'\u001b[0m\u001b[1;33m]\u001b[0m\u001b[1;33m)\u001b[0m\u001b[1;33m\u001b[0m\u001b[1;33m\u001b[0m\u001b[0m\n\u001b[0m",
      "\u001b[1;31mTypeError\u001b[0m: 'builtin_function_or_method' object is not subscriptable"
     ]
    }
   ],
   "source": [
    "print(my_data.items['type'])"
   ]
  },
  {
   "cell_type": "code",
   "execution_count": 95,
   "id": "10ca1778",
   "metadata": {},
   "outputs": [],
   "source": [
    "df = pd.DataFrame.from_dict(data=my_data, orient='columns')"
   ]
  },
  {
   "cell_type": "code",
   "execution_count": 96,
   "id": "9968eb55",
   "metadata": {},
   "outputs": [
    {
     "name": "stdout",
     "output_type": "stream",
     "text": [
      "<class 'pandas.core.frame.DataFrame'>\n",
      "RangeIndex: 25 entries, 0 to 24\n",
      "Data columns (total 2 columns):\n",
      " #   Column    Non-Null Count  Dtype \n",
      "---  ------    --------------  ----- \n",
      " 0   type      25 non-null     object\n",
      " 1   features  25 non-null     object\n",
      "dtypes: object(2)\n",
      "memory usage: 528.0+ bytes\n"
     ]
    }
   ],
   "source": [
    "df.info()"
   ]
  },
  {
   "cell_type": "code",
   "execution_count": 2,
   "id": "ed79fac0",
   "metadata": {},
   "outputs": [
    {
     "name": "stdout",
     "output_type": "stream",
     "text": [
      "슝~\n"
     ]
    }
   ],
   "source": [
    "# # 서울시 구단위 경계 데이터 불러오기\n",
    "\n",
    "# seoul_sig_geo_data_path = os.getenv(\"HOME\") + \"/aiffel/socar_gis/data/korea_seoul_sig.json\"\n",
    "# seoul_sig_geo_data = json.load(\n",
    "#     open(seoul_sig_geo_data_path, encoding=\"utf-8\")\n",
    "# )\n",
    "\n",
    "\n",
    "# print(\"슝~\")"
   ]
  },
  {
   "cell_type": "code",
   "execution_count": 2,
   "id": "a7690c0c",
   "metadata": {},
   "outputs": [],
   "source": [
    "open('파일경로', 'rt', encoding='UTF8')\n",
    "df = pd.read_json('c:/users/user/000_my_jupyter/900_aiffel/0000_AIFFELTHON/3김연수/002_data_dir/004_node_data/korea_seoul_sig.json') "
   ]
  },
  {
   "cell_type": "code",
   "execution_count": 75,
   "id": "8399f419",
   "metadata": {},
   "outputs": [],
   "source": [
    "json_file_path=\"c:/users/user/000_my_jupyter/900_aiffel/0000_AIFFELTHON/3김연수/002_data_dir/001_map_data/kyungki_region.json\" # 파일로드 (파일명 : NY.GDP.MKTP.CD.json )\n",
    "\n",
    "with open(json_file_path,'rt',encoding='UTF8') as j:\n",
    "    contents=json.loads(j.read())  # open : r - 읽기모드, w-쓰기모드, a-추가모드"
   ]
  },
  {
   "cell_type": "code",
   "execution_count": 58,
   "id": "ef62abd1",
   "metadata": {},
   "outputs": [],
   "source": [
    "k_geo_data_path = \"c:/users/user/000_my_jupyter/900_aiffel/0000_AIFFELTHON/3김연수/002_data_dir/001_map_data/kyungki_region.json\"\n",
    "k_geo_data = json.load(\n",
    "    open(k_geo_data_path, encoding=\"utf-8\")\n",
    ")"
   ]
  },
  {
   "cell_type": "code",
   "execution_count": 88,
   "id": "649fa5eb",
   "metadata": {},
   "outputs": [],
   "source": [
    "temp_res = requests.get(\n",
    "    url=\"http://localhost:8888/edit/000_my_jupyter/900_aiffel/0000_AIFFELTHON/3%EA%B9%80%EC%97%B0%EC%88%98/002_data_dir/001_map_data/kyungki_region.json\")"
   ]
  },
  {
   "cell_type": "code",
   "execution_count": 93,
   "id": "db4709cf",
   "metadata": {},
   "outputs": [
    {
     "ename": "JSONDecodeError",
     "evalue": "Expecting value: line 1 column 1 (char 0)",
     "output_type": "error",
     "traceback": [
      "\u001b[1;31m---------------------------------------------------------------------------\u001b[0m",
      "\u001b[1;31mJSONDecodeError\u001b[0m                           Traceback (most recent call last)",
      "\u001b[1;32m~\\anaconda3\\lib\\site-packages\\requests\\models.py\u001b[0m in \u001b[0;36mjson\u001b[1;34m(self, **kwargs)\u001b[0m\n\u001b[0;32m    970\u001b[0m         \u001b[1;32mtry\u001b[0m\u001b[1;33m:\u001b[0m\u001b[1;33m\u001b[0m\u001b[1;33m\u001b[0m\u001b[0m\n\u001b[1;32m--> 971\u001b[1;33m             \u001b[1;32mreturn\u001b[0m \u001b[0mcomplexjson\u001b[0m\u001b[1;33m.\u001b[0m\u001b[0mloads\u001b[0m\u001b[1;33m(\u001b[0m\u001b[0mself\u001b[0m\u001b[1;33m.\u001b[0m\u001b[0mtext\u001b[0m\u001b[1;33m,\u001b[0m \u001b[1;33m**\u001b[0m\u001b[0mkwargs\u001b[0m\u001b[1;33m)\u001b[0m\u001b[1;33m\u001b[0m\u001b[1;33m\u001b[0m\u001b[0m\n\u001b[0m\u001b[0;32m    972\u001b[0m         \u001b[1;32mexcept\u001b[0m \u001b[0mJSONDecodeError\u001b[0m \u001b[1;32mas\u001b[0m \u001b[0me\u001b[0m\u001b[1;33m:\u001b[0m\u001b[1;33m\u001b[0m\u001b[1;33m\u001b[0m\u001b[0m\n",
      "\u001b[1;32m~\\anaconda3\\lib\\json\\__init__.py\u001b[0m in \u001b[0;36mloads\u001b[1;34m(s, cls, object_hook, parse_float, parse_int, parse_constant, object_pairs_hook, **kw)\u001b[0m\n\u001b[0;32m    345\u001b[0m             parse_constant is None and object_pairs_hook is None and not kw):\n\u001b[1;32m--> 346\u001b[1;33m         \u001b[1;32mreturn\u001b[0m \u001b[0m_default_decoder\u001b[0m\u001b[1;33m.\u001b[0m\u001b[0mdecode\u001b[0m\u001b[1;33m(\u001b[0m\u001b[0ms\u001b[0m\u001b[1;33m)\u001b[0m\u001b[1;33m\u001b[0m\u001b[1;33m\u001b[0m\u001b[0m\n\u001b[0m\u001b[0;32m    347\u001b[0m     \u001b[1;32mif\u001b[0m \u001b[0mcls\u001b[0m \u001b[1;32mis\u001b[0m \u001b[1;32mNone\u001b[0m\u001b[1;33m:\u001b[0m\u001b[1;33m\u001b[0m\u001b[1;33m\u001b[0m\u001b[0m\n",
      "\u001b[1;32m~\\anaconda3\\lib\\json\\decoder.py\u001b[0m in \u001b[0;36mdecode\u001b[1;34m(self, s, _w)\u001b[0m\n\u001b[0;32m    336\u001b[0m         \"\"\"\n\u001b[1;32m--> 337\u001b[1;33m         \u001b[0mobj\u001b[0m\u001b[1;33m,\u001b[0m \u001b[0mend\u001b[0m \u001b[1;33m=\u001b[0m \u001b[0mself\u001b[0m\u001b[1;33m.\u001b[0m\u001b[0mraw_decode\u001b[0m\u001b[1;33m(\u001b[0m\u001b[0ms\u001b[0m\u001b[1;33m,\u001b[0m \u001b[0midx\u001b[0m\u001b[1;33m=\u001b[0m\u001b[0m_w\u001b[0m\u001b[1;33m(\u001b[0m\u001b[0ms\u001b[0m\u001b[1;33m,\u001b[0m \u001b[1;36m0\u001b[0m\u001b[1;33m)\u001b[0m\u001b[1;33m.\u001b[0m\u001b[0mend\u001b[0m\u001b[1;33m(\u001b[0m\u001b[1;33m)\u001b[0m\u001b[1;33m)\u001b[0m\u001b[1;33m\u001b[0m\u001b[1;33m\u001b[0m\u001b[0m\n\u001b[0m\u001b[0;32m    338\u001b[0m         \u001b[0mend\u001b[0m \u001b[1;33m=\u001b[0m \u001b[0m_w\u001b[0m\u001b[1;33m(\u001b[0m\u001b[0ms\u001b[0m\u001b[1;33m,\u001b[0m \u001b[0mend\u001b[0m\u001b[1;33m)\u001b[0m\u001b[1;33m.\u001b[0m\u001b[0mend\u001b[0m\u001b[1;33m(\u001b[0m\u001b[1;33m)\u001b[0m\u001b[1;33m\u001b[0m\u001b[1;33m\u001b[0m\u001b[0m\n",
      "\u001b[1;32m~\\anaconda3\\lib\\json\\decoder.py\u001b[0m in \u001b[0;36mraw_decode\u001b[1;34m(self, s, idx)\u001b[0m\n\u001b[0;32m    354\u001b[0m         \u001b[1;32mexcept\u001b[0m \u001b[0mStopIteration\u001b[0m \u001b[1;32mas\u001b[0m \u001b[0merr\u001b[0m\u001b[1;33m:\u001b[0m\u001b[1;33m\u001b[0m\u001b[1;33m\u001b[0m\u001b[0m\n\u001b[1;32m--> 355\u001b[1;33m             \u001b[1;32mraise\u001b[0m \u001b[0mJSONDecodeError\u001b[0m\u001b[1;33m(\u001b[0m\u001b[1;34m\"Expecting value\"\u001b[0m\u001b[1;33m,\u001b[0m \u001b[0ms\u001b[0m\u001b[1;33m,\u001b[0m \u001b[0merr\u001b[0m\u001b[1;33m.\u001b[0m\u001b[0mvalue\u001b[0m\u001b[1;33m)\u001b[0m \u001b[1;32mfrom\u001b[0m \u001b[1;32mNone\u001b[0m\u001b[1;33m\u001b[0m\u001b[1;33m\u001b[0m\u001b[0m\n\u001b[0m\u001b[0;32m    356\u001b[0m         \u001b[1;32mreturn\u001b[0m \u001b[0mobj\u001b[0m\u001b[1;33m,\u001b[0m \u001b[0mend\u001b[0m\u001b[1;33m\u001b[0m\u001b[1;33m\u001b[0m\u001b[0m\n",
      "\u001b[1;31mJSONDecodeError\u001b[0m: Expecting value: line 1 column 1 (char 0)",
      "\nDuring handling of the above exception, another exception occurred:\n",
      "\u001b[1;31mJSONDecodeError\u001b[0m                           Traceback (most recent call last)",
      "\u001b[1;32m~\\AppData\\Local\\Temp\\ipykernel_9196\\3025056786.py\u001b[0m in \u001b[0;36m<module>\u001b[1;34m\u001b[0m\n\u001b[1;32m----> 1\u001b[1;33m \u001b[0msungdong_gu_dong_gpd\u001b[0m \u001b[1;33m=\u001b[0m \u001b[0mgpd\u001b[0m\u001b[1;33m.\u001b[0m\u001b[0mGeoDataFrame\u001b[0m\u001b[1;33m(\u001b[0m\u001b[1;33m)\u001b[0m\u001b[1;33m.\u001b[0m\u001b[0mfrom_features\u001b[0m\u001b[1;33m(\u001b[0m\u001b[0mtemp_res\u001b[0m\u001b[1;33m.\u001b[0m\u001b[0mjson\u001b[0m\u001b[1;33m(\u001b[0m\u001b[1;33m)\u001b[0m\u001b[1;33m[\u001b[0m\u001b[1;36m1\u001b[0m\u001b[1;33m]\u001b[0m\u001b[1;33m)\u001b[0m\u001b[1;33m\u001b[0m\u001b[1;33m\u001b[0m\u001b[0m\n\u001b[0m\u001b[0;32m      2\u001b[0m \u001b[0msungdong_gu_dong_gpd\u001b[0m\u001b[1;33m.\u001b[0m\u001b[0mhead\u001b[0m\u001b[1;33m(\u001b[0m\u001b[1;33m)\u001b[0m\u001b[1;33m\u001b[0m\u001b[1;33m\u001b[0m\u001b[0m\n",
      "\u001b[1;32m~\\anaconda3\\lib\\site-packages\\requests\\models.py\u001b[0m in \u001b[0;36mjson\u001b[1;34m(self, **kwargs)\u001b[0m\n\u001b[0;32m    973\u001b[0m             \u001b[1;31m# Catch JSON-related errors and raise as requests.JSONDecodeError\u001b[0m\u001b[1;33m\u001b[0m\u001b[1;33m\u001b[0m\u001b[0m\n\u001b[0;32m    974\u001b[0m             \u001b[1;31m# This aliases json.JSONDecodeError and simplejson.JSONDecodeError\u001b[0m\u001b[1;33m\u001b[0m\u001b[1;33m\u001b[0m\u001b[0m\n\u001b[1;32m--> 975\u001b[1;33m             \u001b[1;32mraise\u001b[0m \u001b[0mRequestsJSONDecodeError\u001b[0m\u001b[1;33m(\u001b[0m\u001b[0me\u001b[0m\u001b[1;33m.\u001b[0m\u001b[0mmsg\u001b[0m\u001b[1;33m,\u001b[0m \u001b[0me\u001b[0m\u001b[1;33m.\u001b[0m\u001b[0mdoc\u001b[0m\u001b[1;33m,\u001b[0m \u001b[0me\u001b[0m\u001b[1;33m.\u001b[0m\u001b[0mpos\u001b[0m\u001b[1;33m)\u001b[0m\u001b[1;33m\u001b[0m\u001b[1;33m\u001b[0m\u001b[0m\n\u001b[0m\u001b[0;32m    976\u001b[0m \u001b[1;33m\u001b[0m\u001b[0m\n\u001b[0;32m    977\u001b[0m     \u001b[1;33m@\u001b[0m\u001b[0mproperty\u001b[0m\u001b[1;33m\u001b[0m\u001b[1;33m\u001b[0m\u001b[0m\n",
      "\u001b[1;31mJSONDecodeError\u001b[0m: Expecting value: line 1 column 1 (char 0)"
     ]
    }
   ],
   "source": [
    "sungdong_gu_dong_gpd = gpd.GeoDataFrame().from_features(temp_res.json()[1])\n",
    "sungdong_gu_dong_gpd.head()"
   ]
  },
  {
   "cell_type": "code",
   "execution_count": 87,
   "id": "045f87ca",
   "metadata": {},
   "outputs": [
    {
     "ename": "JSONDecodeError",
     "evalue": "Expecting value: line 1 column 1 (char 0)",
     "output_type": "error",
     "traceback": [
      "\u001b[1;31m---------------------------------------------------------------------------\u001b[0m",
      "\u001b[1;31mJSONDecodeError\u001b[0m                           Traceback (most recent call last)",
      "\u001b[1;32m~\\anaconda3\\lib\\site-packages\\requests\\models.py\u001b[0m in \u001b[0;36mjson\u001b[1;34m(self, **kwargs)\u001b[0m\n\u001b[0;32m    970\u001b[0m         \u001b[1;32mtry\u001b[0m\u001b[1;33m:\u001b[0m\u001b[1;33m\u001b[0m\u001b[1;33m\u001b[0m\u001b[0m\n\u001b[1;32m--> 971\u001b[1;33m             \u001b[1;32mreturn\u001b[0m \u001b[0mcomplexjson\u001b[0m\u001b[1;33m.\u001b[0m\u001b[0mloads\u001b[0m\u001b[1;33m(\u001b[0m\u001b[0mself\u001b[0m\u001b[1;33m.\u001b[0m\u001b[0mtext\u001b[0m\u001b[1;33m,\u001b[0m \u001b[1;33m**\u001b[0m\u001b[0mkwargs\u001b[0m\u001b[1;33m)\u001b[0m\u001b[1;33m\u001b[0m\u001b[1;33m\u001b[0m\u001b[0m\n\u001b[0m\u001b[0;32m    972\u001b[0m         \u001b[1;32mexcept\u001b[0m \u001b[0mJSONDecodeError\u001b[0m \u001b[1;32mas\u001b[0m \u001b[0me\u001b[0m\u001b[1;33m:\u001b[0m\u001b[1;33m\u001b[0m\u001b[1;33m\u001b[0m\u001b[0m\n",
      "\u001b[1;32m~\\anaconda3\\lib\\json\\__init__.py\u001b[0m in \u001b[0;36mloads\u001b[1;34m(s, cls, object_hook, parse_float, parse_int, parse_constant, object_pairs_hook, **kw)\u001b[0m\n\u001b[0;32m    345\u001b[0m             parse_constant is None and object_pairs_hook is None and not kw):\n\u001b[1;32m--> 346\u001b[1;33m         \u001b[1;32mreturn\u001b[0m \u001b[0m_default_decoder\u001b[0m\u001b[1;33m.\u001b[0m\u001b[0mdecode\u001b[0m\u001b[1;33m(\u001b[0m\u001b[0ms\u001b[0m\u001b[1;33m)\u001b[0m\u001b[1;33m\u001b[0m\u001b[1;33m\u001b[0m\u001b[0m\n\u001b[0m\u001b[0;32m    347\u001b[0m     \u001b[1;32mif\u001b[0m \u001b[0mcls\u001b[0m \u001b[1;32mis\u001b[0m \u001b[1;32mNone\u001b[0m\u001b[1;33m:\u001b[0m\u001b[1;33m\u001b[0m\u001b[1;33m\u001b[0m\u001b[0m\n",
      "\u001b[1;32m~\\anaconda3\\lib\\json\\decoder.py\u001b[0m in \u001b[0;36mdecode\u001b[1;34m(self, s, _w)\u001b[0m\n\u001b[0;32m    336\u001b[0m         \"\"\"\n\u001b[1;32m--> 337\u001b[1;33m         \u001b[0mobj\u001b[0m\u001b[1;33m,\u001b[0m \u001b[0mend\u001b[0m \u001b[1;33m=\u001b[0m \u001b[0mself\u001b[0m\u001b[1;33m.\u001b[0m\u001b[0mraw_decode\u001b[0m\u001b[1;33m(\u001b[0m\u001b[0ms\u001b[0m\u001b[1;33m,\u001b[0m \u001b[0midx\u001b[0m\u001b[1;33m=\u001b[0m\u001b[0m_w\u001b[0m\u001b[1;33m(\u001b[0m\u001b[0ms\u001b[0m\u001b[1;33m,\u001b[0m \u001b[1;36m0\u001b[0m\u001b[1;33m)\u001b[0m\u001b[1;33m.\u001b[0m\u001b[0mend\u001b[0m\u001b[1;33m(\u001b[0m\u001b[1;33m)\u001b[0m\u001b[1;33m)\u001b[0m\u001b[1;33m\u001b[0m\u001b[1;33m\u001b[0m\u001b[0m\n\u001b[0m\u001b[0;32m    338\u001b[0m         \u001b[0mend\u001b[0m \u001b[1;33m=\u001b[0m \u001b[0m_w\u001b[0m\u001b[1;33m(\u001b[0m\u001b[0ms\u001b[0m\u001b[1;33m,\u001b[0m \u001b[0mend\u001b[0m\u001b[1;33m)\u001b[0m\u001b[1;33m.\u001b[0m\u001b[0mend\u001b[0m\u001b[1;33m(\u001b[0m\u001b[1;33m)\u001b[0m\u001b[1;33m\u001b[0m\u001b[1;33m\u001b[0m\u001b[0m\n",
      "\u001b[1;32m~\\anaconda3\\lib\\json\\decoder.py\u001b[0m in \u001b[0;36mraw_decode\u001b[1;34m(self, s, idx)\u001b[0m\n\u001b[0;32m    354\u001b[0m         \u001b[1;32mexcept\u001b[0m \u001b[0mStopIteration\u001b[0m \u001b[1;32mas\u001b[0m \u001b[0merr\u001b[0m\u001b[1;33m:\u001b[0m\u001b[1;33m\u001b[0m\u001b[1;33m\u001b[0m\u001b[0m\n\u001b[1;32m--> 355\u001b[1;33m             \u001b[1;32mraise\u001b[0m \u001b[0mJSONDecodeError\u001b[0m\u001b[1;33m(\u001b[0m\u001b[1;34m\"Expecting value\"\u001b[0m\u001b[1;33m,\u001b[0m \u001b[0ms\u001b[0m\u001b[1;33m,\u001b[0m \u001b[0merr\u001b[0m\u001b[1;33m.\u001b[0m\u001b[0mvalue\u001b[0m\u001b[1;33m)\u001b[0m \u001b[1;32mfrom\u001b[0m \u001b[1;32mNone\u001b[0m\u001b[1;33m\u001b[0m\u001b[1;33m\u001b[0m\u001b[0m\n\u001b[0m\u001b[0;32m    356\u001b[0m         \u001b[1;32mreturn\u001b[0m \u001b[0mobj\u001b[0m\u001b[1;33m,\u001b[0m \u001b[0mend\u001b[0m\u001b[1;33m\u001b[0m\u001b[1;33m\u001b[0m\u001b[0m\n",
      "\u001b[1;31mJSONDecodeError\u001b[0m: Expecting value: line 1 column 1 (char 0)",
      "\nDuring handling of the above exception, another exception occurred:\n",
      "\u001b[1;31mJSONDecodeError\u001b[0m                           Traceback (most recent call last)",
      "\u001b[1;32m~\\AppData\\Local\\Temp\\ipykernel_9196\\1846489685.py\u001b[0m in \u001b[0;36m<module>\u001b[1;34m\u001b[0m\n\u001b[1;32m----> 1\u001b[1;33m \u001b[0mtemp_1\u001b[0m \u001b[1;33m=\u001b[0m \u001b[0mtemp_res\u001b[0m\u001b[1;33m.\u001b[0m\u001b[0mjson\u001b[0m\u001b[1;33m(\u001b[0m\u001b[1;33m)\u001b[0m\u001b[1;33m[\u001b[0m\u001b[1;34m\"features\"\u001b[0m\u001b[1;33m]\u001b[0m\u001b[1;33m[\u001b[0m\u001b[1;34m\"id\"\u001b[0m\u001b[1;33m]\u001b[0m\u001b[1;33m\u001b[0m\u001b[1;33m\u001b[0m\u001b[0m\n\u001b[0m\u001b[0;32m      2\u001b[0m \u001b[0mtemp_df\u001b[0m \u001b[1;33m=\u001b[0m \u001b[0mpd\u001b[0m\u001b[1;33m.\u001b[0m\u001b[0mDataFrame\u001b[0m\u001b[1;33m(\u001b[0m\u001b[0mtemp_1\u001b[0m\u001b[1;33m)\u001b[0m\u001b[1;33m\u001b[0m\u001b[1;33m\u001b[0m\u001b[0m\n",
      "\u001b[1;32m~\\anaconda3\\lib\\site-packages\\requests\\models.py\u001b[0m in \u001b[0;36mjson\u001b[1;34m(self, **kwargs)\u001b[0m\n\u001b[0;32m    973\u001b[0m             \u001b[1;31m# Catch JSON-related errors and raise as requests.JSONDecodeError\u001b[0m\u001b[1;33m\u001b[0m\u001b[1;33m\u001b[0m\u001b[0m\n\u001b[0;32m    974\u001b[0m             \u001b[1;31m# This aliases json.JSONDecodeError and simplejson.JSONDecodeError\u001b[0m\u001b[1;33m\u001b[0m\u001b[1;33m\u001b[0m\u001b[0m\n\u001b[1;32m--> 975\u001b[1;33m             \u001b[1;32mraise\u001b[0m \u001b[0mRequestsJSONDecodeError\u001b[0m\u001b[1;33m(\u001b[0m\u001b[0me\u001b[0m\u001b[1;33m.\u001b[0m\u001b[0mmsg\u001b[0m\u001b[1;33m,\u001b[0m \u001b[0me\u001b[0m\u001b[1;33m.\u001b[0m\u001b[0mdoc\u001b[0m\u001b[1;33m,\u001b[0m \u001b[0me\u001b[0m\u001b[1;33m.\u001b[0m\u001b[0mpos\u001b[0m\u001b[1;33m)\u001b[0m\u001b[1;33m\u001b[0m\u001b[1;33m\u001b[0m\u001b[0m\n\u001b[0m\u001b[0;32m    976\u001b[0m \u001b[1;33m\u001b[0m\u001b[0m\n\u001b[0;32m    977\u001b[0m     \u001b[1;33m@\u001b[0m\u001b[0mproperty\u001b[0m\u001b[1;33m\u001b[0m\u001b[1;33m\u001b[0m\u001b[0m\n",
      "\u001b[1;31mJSONDecodeError\u001b[0m: Expecting value: line 1 column 1 (char 0)"
     ]
    }
   ],
   "source": [
    "temp_1 = temp_res.json()[\"features\"][\"id\"]\n",
    "temp_df = pd.DataFrame(temp_1)\n"
   ]
  },
  {
   "cell_type": "code",
   "execution_count": null,
   "id": "99b8a98d",
   "metadata": {},
   "outputs": [],
   "source": [
    "temp = k_geo_data['regions']\n",
    "\n",
    " cm = ChainMap(*temp)\n",
    "\n",
    "temp0 = cm['points'][0]\n",
    "\n"
   ]
  },
  {
   "cell_type": "code",
   "execution_count": null,
   "id": "feee5e1a",
   "metadata": {},
   "outputs": [],
   "source": [
    "temp0 = pr['properties']\n",
    "temp0_1 = ChainMap(*temp0)"
   ]
  },
  {
   "cell_type": "code",
   "execution_count": 69,
   "id": "07acc7c1",
   "metadata": {},
   "outputs": [],
   "source": [
    " temp_df = pd.DataFrame(k_geo_data)"
   ]
  },
  {
   "cell_type": "code",
   "execution_count": 70,
   "id": "75fc90d5",
   "metadata": {},
   "outputs": [
    {
     "data": {
      "text/html": [
       "<div>\n",
       "<style scoped>\n",
       "    .dataframe tbody tr th:only-of-type {\n",
       "        vertical-align: middle;\n",
       "    }\n",
       "\n",
       "    .dataframe tbody tr th {\n",
       "        vertical-align: top;\n",
       "    }\n",
       "\n",
       "    .dataframe thead th {\n",
       "        text-align: right;\n",
       "    }\n",
       "</style>\n",
       "<table border=\"1\" class=\"dataframe\">\n",
       "  <thead>\n",
       "    <tr style=\"text-align: right;\">\n",
       "      <th></th>\n",
       "      <th>type</th>\n",
       "      <th>features</th>\n",
       "    </tr>\n",
       "  </thead>\n",
       "  <tbody>\n",
       "    <tr>\n",
       "      <th>0</th>\n",
       "      <td>FeatureCollection</td>\n",
       "      <td>{'type': 'Feature', 'geometry': {'type': 'Poly...</td>\n",
       "    </tr>\n",
       "    <tr>\n",
       "      <th>1</th>\n",
       "      <td>FeatureCollection</td>\n",
       "      <td>{'type': 'Feature', 'geometry': {'type': 'Poly...</td>\n",
       "    </tr>\n",
       "    <tr>\n",
       "      <th>2</th>\n",
       "      <td>FeatureCollection</td>\n",
       "      <td>{'type': 'Feature', 'geometry': {'type': 'Mult...</td>\n",
       "    </tr>\n",
       "    <tr>\n",
       "      <th>3</th>\n",
       "      <td>FeatureCollection</td>\n",
       "      <td>{'type': 'Feature', 'geometry': {'type': 'Poly...</td>\n",
       "    </tr>\n",
       "    <tr>\n",
       "      <th>4</th>\n",
       "      <td>FeatureCollection</td>\n",
       "      <td>{'type': 'Feature', 'geometry': {'type': 'Poly...</td>\n",
       "    </tr>\n",
       "  </tbody>\n",
       "</table>\n",
       "</div>"
      ],
      "text/plain": [
       "                type                                           features\n",
       "0  FeatureCollection  {'type': 'Feature', 'geometry': {'type': 'Poly...\n",
       "1  FeatureCollection  {'type': 'Feature', 'geometry': {'type': 'Poly...\n",
       "2  FeatureCollection  {'type': 'Feature', 'geometry': {'type': 'Mult...\n",
       "3  FeatureCollection  {'type': 'Feature', 'geometry': {'type': 'Poly...\n",
       "4  FeatureCollection  {'type': 'Feature', 'geometry': {'type': 'Poly..."
      ]
     },
     "execution_count": 70,
     "metadata": {},
     "output_type": "execute_result"
    }
   ],
   "source": [
    "temp_df.head()"
   ]
  },
  {
   "cell_type": "code",
   "execution_count": null,
   "id": "d67f001a",
   "metadata": {},
   "outputs": [],
   "source": [
    "type=[]\n",
    "id=[]\n",
    "properties_code=[]\n",
    "obs_status=[]\n",
    "decimal=[]\n",
    "for i in range(len(contents[1])):\n",
    "    date.append(contents[1][i][\"date\"])\n",
    "    value.append(contents[1][i][\"value\"])\n",
    "    unit.append(contents[1][i][\"unit\"])\n",
    "    obs_status.append(contents[1][i][\"obs_status\"])\n",
    "    decimal.append(contents[1][i][\"decimal\"])"
   ]
  },
  {
   "cell_type": "code",
   "execution_count": 28,
   "id": "b43b7351",
   "metadata": {},
   "outputs": [
    {
     "data": {
      "text/plain": [
       "<function dict.values>"
      ]
     },
     "execution_count": 28,
     "metadata": {},
     "output_type": "execute_result"
    }
   ],
   "source": [
    "contents.values"
   ]
  },
  {
   "cell_type": "code",
   "execution_count": 72,
   "id": "603b01a7",
   "metadata": {},
   "outputs": [],
   "source": [
    "from collections import ChainMap\n",
    "\n",
    "temp = contents['features']\n",
    "\n",
    "pr = ChainMap(*temp)"
   ]
  },
  {
   "cell_type": "code",
   "execution_count": 73,
   "id": "b5bb377d",
   "metadata": {},
   "outputs": [
    {
     "name": "stderr",
     "output_type": "stream",
     "text": [
      "IOPub data rate exceeded.\n",
      "The notebook server will temporarily stop sending output\n",
      "to the client in order to avoid crashing it.\n",
      "To change this limit, set the config variable\n",
      "`--NotebookApp.iopub_data_rate_limit`.\n",
      "\n",
      "Current values:\n",
      "NotebookApp.iopub_data_rate_limit=1000000.0 (bytes/sec)\n",
      "NotebookApp.rate_limit_window=3.0 (secs)\n",
      "\n"
     ]
    }
   ],
   "source": [
    "print(pr)"
   ]
  },
  {
   "cell_type": "code",
   "execution_count": 51,
   "id": "b169631c",
   "metadata": {},
   "outputs": [
    {
     "data": {
      "text/plain": [
       "{'type': 'FeatureCollection',\n",
       " 'features': [{'type': 'Feature',\n",
       "   'id': '강동구',\n",
       "   'properties': {'code': '11250',\n",
       "    'name': '강동구',\n",
       "    'name_eng': 'Gangdong-gu',\n",
       "    'base_year': '2013'},\n",
       "   'geometry': {'type': 'Polygon',\n",
       "    'coordinates': [[[127.11519584981606, 37.557533180704915],\n",
       "      [127.16683184366129, 37.57672487388627],\n",
       "      [127.18408792330152, 37.55814280369575],\n",
       "      [127.16530984307447, 37.54221851258693],\n",
       "      [127.14672806823502, 37.51415680680291],\n",
       "      [127.12123165719615, 37.52528270089],\n",
       "      [127.1116764203608, 37.540669955324965],\n",
       "      [127.11519584981606, 37.557533180704915]]]}},\n",
       "  {'type': 'Feature',\n",
       "   'id': '송파구',\n",
       "   'properties': {'code': '11240',\n",
       "    'name': '송파구',\n",
       "    'name_eng': 'Songpa-gu',\n",
       "    'base_year': '2013'},\n",
       "   'geometry': {'type': 'Polygon',\n",
       "    'coordinates': [[[127.0690698130372, 37.522279423505026],\n",
       "      [127.10087519791962, 37.524841220167055],\n",
       "      [127.1116764203608, 37.540669955324965],\n",
       "      [127.12123165719615, 37.52528270089],\n",
       "      [127.14672806823502, 37.51415680680291],\n",
       "      [127.1634944215765, 37.497445406097484],\n",
       "      [127.14206058413274, 37.47089819098501],\n",
       "      [127.12440571080893, 37.46240445587048],\n",
       "      [127.11117085201238, 37.485708381512445],\n",
       "      [127.0719146000724, 37.50224013587669],\n",
       "      [127.0690698130372, 37.522279423505026]]]}},\n",
       "  {'type': 'Feature',\n",
       "   'id': '강남구',\n",
       "   'properties': {'code': '11230',\n",
       "    'name': '강남구',\n",
       "    'name_eng': 'Gangnam-gu',\n",
       "    'base_year': '2013'},\n",
       "   'geometry': {'type': 'Polygon',\n",
       "    'coordinates': [[[127.05867359288398, 37.52629974922568],\n",
       "      [127.0690698130372, 37.522279423505026],\n",
       "      [127.0719146000724, 37.50224013587669],\n",
       "      [127.11117085201238, 37.485708381512445],\n",
       "      [127.12440571080893, 37.46240445587048],\n",
       "      [127.09842759318751, 37.45862253857461],\n",
       "      [127.08640440578156, 37.472697935184655],\n",
       "      [127.0559170481904, 37.4659228914077],\n",
       "      [127.03621915098798, 37.48175802427603],\n",
       "      [127.01397119667513, 37.52503988289669],\n",
       "      [127.02302831890559, 37.53231899582663],\n",
       "      [127.05867359288398, 37.52629974922568]]]}},\n",
       "  {'type': 'Feature',\n",
       "   'id': '서초구',\n",
       "   'properties': {'code': '11220',\n",
       "    'name': '서초구',\n",
       "    'name_eng': 'Seocho-gu',\n",
       "    'base_year': '2013'},\n",
       "   'geometry': {'type': 'Polygon',\n",
       "    'coordinates': [[[127.01397119667513, 37.52503988289669],\n",
       "      [127.03621915098798, 37.48175802427603],\n",
       "      [127.0559170481904, 37.4659228914077],\n",
       "      [127.08640440578156, 37.472697935184655],\n",
       "      [127.09842759318751, 37.45862253857461],\n",
       "      [127.09046928565951, 37.44296826114185],\n",
       "      [127.06778107605433, 37.426197424057314],\n",
       "      [127.04957232987142, 37.42805836845694],\n",
       "      [127.03881782597922, 37.45382039851715],\n",
       "      [126.99072073195462, 37.455326143310025],\n",
       "      [126.98367668291802, 37.473856492692086],\n",
       "      [126.98223807916081, 37.509314966770326],\n",
       "      [127.01397119667513, 37.52503988289669]]]}},\n",
       "  {'type': 'Feature',\n",
       "   'id': '관악구',\n",
       "   'properties': {'code': '11210',\n",
       "    'name': '관악구',\n",
       "    'name_eng': 'Gwanak-gu',\n",
       "    'base_year': '2013'},\n",
       "   'geometry': {'type': 'Polygon',\n",
       "    'coordinates': [[[126.98367668291802, 37.473856492692086],\n",
       "      [126.99072073195462, 37.455326143310025],\n",
       "      [126.96520439085143, 37.438249784006246],\n",
       "      [126.95000001010182, 37.43613451165719],\n",
       "      [126.93084408056525, 37.447382928333994],\n",
       "      [126.9167728146601, 37.45490566423789],\n",
       "      [126.90156094129895, 37.47753842789901],\n",
       "      [126.90531975801812, 37.48218087575429],\n",
       "      [126.94922661389508, 37.49125437495649],\n",
       "      [126.9725891850662, 37.472561363278125],\n",
       "      [126.98367668291802, 37.473856492692086]]]}},\n",
       "  {'type': 'Feature',\n",
       "   'id': '동작구',\n",
       "   'properties': {'code': '11200',\n",
       "    'name': '동작구',\n",
       "    'name_eng': 'Dongjak-gu',\n",
       "    'base_year': '2013'},\n",
       "   'geometry': {'type': 'Polygon',\n",
       "    'coordinates': [[[126.98223807916081, 37.509314966770326],\n",
       "      [126.98367668291802, 37.473856492692086],\n",
       "      [126.9725891850662, 37.472561363278125],\n",
       "      [126.94922661389508, 37.49125437495649],\n",
       "      [126.90531975801812, 37.48218087575429],\n",
       "      [126.92177893174825, 37.494889877415176],\n",
       "      [126.92810628828279, 37.51329595732015],\n",
       "      [126.95249990298159, 37.51722500741813],\n",
       "      [126.98223807916081, 37.509314966770326]]]}},\n",
       "  {'type': 'Feature',\n",
       "   'id': '영등포구',\n",
       "   'properties': {'code': '11190',\n",
       "    'name': '영등포구',\n",
       "    'name_eng': 'Yeongdeungpo-gu',\n",
       "    'base_year': '2013'},\n",
       "   'geometry': {'type': 'Polygon',\n",
       "    'coordinates': [[[126.89184663862764, 37.547373974997114],\n",
       "      [126.94566733083212, 37.526617542453366],\n",
       "      [126.95249990298159, 37.51722500741813],\n",
       "      [126.92810628828279, 37.51329595732015],\n",
       "      [126.92177893174825, 37.494889877415176],\n",
       "      [126.90531975801812, 37.48218087575429],\n",
       "      [126.89594776782485, 37.504675281309176],\n",
       "      [126.88156402353862, 37.513970034765684],\n",
       "      [126.88825757860099, 37.54079733630232],\n",
       "      [126.89184663862764, 37.547373974997114]]]}},\n",
       "  {'type': 'Feature',\n",
       "   'id': '금천구',\n",
       "   'properties': {'code': '11180',\n",
       "    'name': '금천구',\n",
       "    'name_eng': 'Geumcheon-gu',\n",
       "    'base_year': '2013'},\n",
       "   'geometry': {'type': 'Polygon',\n",
       "    'coordinates': [[[126.90156094129895, 37.47753842789901],\n",
       "      [126.9167728146601, 37.45490566423789],\n",
       "      [126.93084408056525, 37.447382928333994],\n",
       "      [126.9025831711697, 37.434549366349124],\n",
       "      [126.87683271502428, 37.482576591607305],\n",
       "      [126.90156094129895, 37.47753842789901]]]}},\n",
       "  {'type': 'Feature',\n",
       "   'id': '구로구',\n",
       "   'properties': {'code': '11170',\n",
       "    'name': '구로구',\n",
       "    'name_eng': 'Guro-gu',\n",
       "    'base_year': '2013'},\n",
       "   'geometry': {'type': 'Polygon',\n",
       "    'coordinates': [[[126.82688081517314, 37.50548972232896],\n",
       "      [126.88156402353862, 37.513970034765684],\n",
       "      [126.89594776782485, 37.504675281309176],\n",
       "      [126.90531975801812, 37.48218087575429],\n",
       "      [126.90156094129895, 37.47753842789901],\n",
       "      [126.87683271502428, 37.482576591607305],\n",
       "      [126.84762676054953, 37.47146723936323],\n",
       "      [126.83549485076196, 37.474098236975095],\n",
       "      [126.82264796791348, 37.4878476492147],\n",
       "      [126.82504736331406, 37.50302612640443],\n",
       "      [126.82688081517314, 37.50548972232896]]]}},\n",
       "  {'type': 'Feature',\n",
       "   'id': '강서구',\n",
       "   'properties': {'code': '11160',\n",
       "    'name': '강서구',\n",
       "    'name_eng': 'Gangseo-gu',\n",
       "    'base_year': '2013'},\n",
       "   'geometry': {'type': 'Polygon',\n",
       "    'coordinates': [[[126.79575768552907, 37.57881087633202],\n",
       "      [126.80702115023597, 37.60123001013228],\n",
       "      [126.82251438477105, 37.5880430810082],\n",
       "      [126.85984199399667, 37.571847855292745],\n",
       "      [126.89184663862764, 37.547373974997114],\n",
       "      [126.88825757860099, 37.54079733630232],\n",
       "      [126.86637464321238, 37.54859191094823],\n",
       "      [126.86610073476395, 37.52699964144669],\n",
       "      [126.84257291943153, 37.52373707805596],\n",
       "      [126.8242331426722, 37.53788078753248],\n",
       "      [126.77324417717703, 37.5459123450554],\n",
       "      [126.76979180579352, 37.55139183008809],\n",
       "      [126.79575768552907, 37.57881087633202]]]}},\n",
       "  {'type': 'Feature',\n",
       "   'id': '양천구',\n",
       "   'properties': {'code': '11150',\n",
       "    'name': '양천구',\n",
       "    'name_eng': 'Yangcheon-gu',\n",
       "    'base_year': '2013'},\n",
       "   'geometry': {'type': 'Polygon',\n",
       "    'coordinates': [[[126.8242331426722, 37.53788078753248],\n",
       "      [126.84257291943153, 37.52373707805596],\n",
       "      [126.86610073476395, 37.52699964144669],\n",
       "      [126.86637464321238, 37.54859191094823],\n",
       "      [126.88825757860099, 37.54079733630232],\n",
       "      [126.88156402353862, 37.513970034765684],\n",
       "      [126.82688081517314, 37.50548972232896],\n",
       "      [126.8242331426722, 37.53788078753248]]]}},\n",
       "  {'type': 'Feature',\n",
       "   'id': '마포구',\n",
       "   'properties': {'code': '11140',\n",
       "    'name': '마포구',\n",
       "    'name_eng': 'Mapo-gu',\n",
       "    'base_year': '2013'},\n",
       "   'geometry': {'type': 'Polygon',\n",
       "    'coordinates': [[[126.90522065831053, 37.57409700522574],\n",
       "      [126.93898161798973, 37.552310003728124],\n",
       "      [126.96358226710812, 37.55605635475154],\n",
       "      [126.96448570553055, 37.548705692021635],\n",
       "      [126.94566733083212, 37.526617542453366],\n",
       "      [126.89184663862764, 37.547373974997114],\n",
       "      [126.85984199399667, 37.571847855292745],\n",
       "      [126.88433284773288, 37.588143322880526],\n",
       "      [126.90522065831053, 37.57409700522574]]]}},\n",
       "  {'type': 'Feature',\n",
       "   'id': '서대문구',\n",
       "   'properties': {'code': '11130',\n",
       "    'name': '서대문구',\n",
       "    'name_eng': 'Seodaemun-gu',\n",
       "    'base_year': '2013'},\n",
       "   'geometry': {'type': 'Polygon',\n",
       "    'coordinates': [[[126.9524752030572, 37.60508692737045],\n",
       "      [126.95565425846463, 37.576080790881456],\n",
       "      [126.96873633279075, 37.56313604690827],\n",
       "      [126.96358226710812, 37.55605635475154],\n",
       "      [126.93898161798973, 37.552310003728124],\n",
       "      [126.90522065831053, 37.57409700522574],\n",
       "      [126.9524752030572, 37.60508692737045]]]}},\n",
       "  {'type': 'Feature',\n",
       "   'id': '은평구',\n",
       "   'properties': {'code': '11120',\n",
       "    'name': '은평구',\n",
       "    'name_eng': 'Eunpyeong-gu',\n",
       "    'base_year': '2013'},\n",
       "   'geometry': {'type': 'Polygon',\n",
       "    'coordinates': [[[126.9738864128702, 37.62949634786888],\n",
       "      [126.95427017006129, 37.622033431339425],\n",
       "      [126.9524752030572, 37.60508692737045],\n",
       "      [126.90522065831053, 37.57409700522574],\n",
       "      [126.88433284773288, 37.588143322880526],\n",
       "      [126.90396681003595, 37.59227403419942],\n",
       "      [126.90303066177668, 37.609977911401344],\n",
       "      [126.91455481429648, 37.64150050996935],\n",
       "      [126.956473797387, 37.652480737339445],\n",
       "      [126.9738864128702, 37.62949634786888]]]}},\n",
       "  {'type': 'Feature',\n",
       "   'id': '노원구',\n",
       "   'properties': {'code': '11110',\n",
       "    'name': '노원구',\n",
       "    'name_eng': 'Nowon-gu',\n",
       "    'base_year': '2013'},\n",
       "   'geometry': {'type': 'Polygon',\n",
       "    'coordinates': [[[127.0838752703195, 37.69359534202034],\n",
       "      [127.09706391309695, 37.686383719372294],\n",
       "      [127.09440766298717, 37.64713490473045],\n",
       "      [127.11326795855199, 37.639622905315925],\n",
       "      [127.10782277688129, 37.61804244241069],\n",
       "      [127.07351243825278, 37.61283660342313],\n",
       "      [127.05209373568619, 37.62164065487782],\n",
       "      [127.04358800895609, 37.62848931298715],\n",
       "      [127.05800075220091, 37.64318263878276],\n",
       "      [127.05288479710485, 37.68423857084347],\n",
       "      [127.0838752703195, 37.69359534202034]]]}},\n",
       "  {'type': 'Feature',\n",
       "   'id': '도봉구',\n",
       "   'properties': {'code': '11100',\n",
       "    'name': '도봉구',\n",
       "    'name_eng': 'Dobong-gu',\n",
       "    'base_year': '2013'},\n",
       "   'geometry': {'type': 'Polygon',\n",
       "    'coordinates': [[[127.05288479710485, 37.68423857084347],\n",
       "      [127.05800075220091, 37.64318263878276],\n",
       "      [127.04358800895609, 37.62848931298715],\n",
       "      [127.01465935892466, 37.64943687496812],\n",
       "      [127.02062116141389, 37.667173575971205],\n",
       "      [127.01039666042071, 37.681894589603594],\n",
       "      [127.01795099203432, 37.69824412775662],\n",
       "      [127.05288479710485, 37.68423857084347]]]}},\n",
       "  {'type': 'Feature',\n",
       "   'id': '강북구',\n",
       "   'properties': {'code': '11090',\n",
       "    'name': '강북구',\n",
       "    'name_eng': 'Gangbuk-gu',\n",
       "    'base_year': '2013'},\n",
       "   'geometry': {'type': 'Polygon',\n",
       "    'coordinates': [[[126.99383903424, 37.676681761199085],\n",
       "      [127.01039666042071, 37.681894589603594],\n",
       "      [127.02062116141389, 37.667173575971205],\n",
       "      [127.01465935892466, 37.64943687496812],\n",
       "      [127.04358800895609, 37.62848931298715],\n",
       "      [127.05209373568619, 37.62164065487782],\n",
       "      [127.03892400992301, 37.609715611023816],\n",
       "      [127.0128154749523, 37.613652243470256],\n",
       "      [126.98672705513869, 37.63377641288196],\n",
       "      [126.9817452676551, 37.65209769387776],\n",
       "      [126.99383903424, 37.676681761199085]]]}},\n",
       "  {'type': 'Feature',\n",
       "   'id': '성북구',\n",
       "   'properties': {'code': '11080',\n",
       "    'name': '성북구',\n",
       "    'name_eng': 'Seongbuk-gu',\n",
       "    'base_year': '2013'},\n",
       "   'geometry': {'type': 'Polygon',\n",
       "    'coordinates': [[[126.977175406416, 37.62859715400388],\n",
       "      [126.98672705513869, 37.63377641288196],\n",
       "      [127.0128154749523, 37.613652243470256],\n",
       "      [127.03892400992301, 37.609715611023816],\n",
       "      [127.05209373568619, 37.62164065487782],\n",
       "      [127.07351243825278, 37.61283660342313],\n",
       "      [127.07382707099227, 37.60401928986419],\n",
       "      [127.042705222094, 37.59239437593391],\n",
       "      [127.02527254528003, 37.57524616245249],\n",
       "      [126.99348293358314, 37.588565457216156],\n",
       "      [126.98879865992384, 37.6118927319756],\n",
       "      [126.977175406416, 37.62859715400388]]]}},\n",
       "  {'type': 'Feature',\n",
       "   'id': '중랑구',\n",
       "   'properties': {'code': '11070',\n",
       "    'name': '중랑구',\n",
       "    'name_eng': 'Jungnang-gu',\n",
       "    'base_year': '2013'},\n",
       "   'geometry': {'type': 'Polygon',\n",
       "    'coordinates': [[[127.07351243825278, 37.61283660342313],\n",
       "      [127.10782277688129, 37.61804244241069],\n",
       "      [127.1201246020114, 37.60178457598188],\n",
       "      [127.10304174249214, 37.57076342290955],\n",
       "      [127.08068541280403, 37.56906425519017],\n",
       "      [127.07382707099227, 37.60401928986419],\n",
       "      [127.07351243825278, 37.61283660342313]]]}},\n",
       "  {'type': 'Feature',\n",
       "   'id': '동대문구',\n",
       "   'properties': {'code': '11060',\n",
       "    'name': '동대문구',\n",
       "    'name_eng': 'Dongdaemun-gu',\n",
       "    'base_year': '2013'},\n",
       "   'geometry': {'type': 'Polygon',\n",
       "    'coordinates': [[[127.02527254528003, 37.57524616245249],\n",
       "      [127.042705222094, 37.59239437593391],\n",
       "      [127.07382707099227, 37.60401928986419],\n",
       "      [127.08068541280403, 37.56906425519017],\n",
       "      [127.07421053024362, 37.55724769712085],\n",
       "      [127.05005601081567, 37.567577612590846],\n",
       "      [127.02547266349976, 37.568943552237734],\n",
       "      [127.02527254528003, 37.57524616245249]]]}},\n",
       "  {'type': 'Feature',\n",
       "   'id': '광진구',\n",
       "   'properties': {'code': '11050',\n",
       "    'name': '광진구',\n",
       "    'name_eng': 'Gwangjin-gu',\n",
       "    'base_year': '2013'},\n",
       "   'geometry': {'type': 'Polygon',\n",
       "    'coordinates': [[[127.08068541280403, 37.56906425519017],\n",
       "      [127.10304174249214, 37.57076342290955],\n",
       "      [127.11519584981606, 37.557533180704915],\n",
       "      [127.1116764203608, 37.540669955324965],\n",
       "      [127.10087519791962, 37.524841220167055],\n",
       "      [127.0690698130372, 37.522279423505026],\n",
       "      [127.05867359288398, 37.52629974922568],\n",
       "      [127.07421053024362, 37.55724769712085],\n",
       "      [127.08068541280403, 37.56906425519017]]]}},\n",
       "  {'type': 'Feature',\n",
       "   'id': '성동구',\n",
       "   'properties': {'code': '11040',\n",
       "    'name': '성동구',\n",
       "    'name_eng': 'Seongdong-gu',\n",
       "    'base_year': '2013'},\n",
       "   'geometry': {'type': 'Polygon',\n",
       "    'coordinates': [[[127.02547266349976, 37.568943552237734],\n",
       "      [127.05005601081567, 37.567577612590846],\n",
       "      [127.07421053024362, 37.55724769712085],\n",
       "      [127.05867359288398, 37.52629974922568],\n",
       "      [127.02302831890559, 37.53231899582663],\n",
       "      [127.01070894177482, 37.54118048964762],\n",
       "      [127.02547266349976, 37.568943552237734]]]}},\n",
       "  {'type': 'Feature',\n",
       "   'id': '용산구',\n",
       "   'properties': {'code': '11030',\n",
       "    'name': '용산구',\n",
       "    'name_eng': 'Yongsan-gu',\n",
       "    'base_year': '2013'},\n",
       "   'geometry': {'type': 'Polygon',\n",
       "    'coordinates': [[[127.01070894177482, 37.54118048964762],\n",
       "      [127.02302831890559, 37.53231899582663],\n",
       "      [127.01397119667513, 37.52503988289669],\n",
       "      [126.98223807916081, 37.509314966770326],\n",
       "      [126.95249990298159, 37.51722500741813],\n",
       "      [126.94566733083212, 37.526617542453366],\n",
       "      [126.96448570553055, 37.548705692021635],\n",
       "      [126.98752996903328, 37.55094818807139],\n",
       "      [127.01070894177482, 37.54118048964762]]]}},\n",
       "  {'type': 'Feature',\n",
       "   'id': '중구',\n",
       "   'properties': {'code': '11020',\n",
       "    'name': '중구',\n",
       "    'name_eng': 'Jung-gu',\n",
       "    'base_year': '2013'},\n",
       "   'geometry': {'type': 'Polygon',\n",
       "    'coordinates': [[[127.02547266349976, 37.568943552237734],\n",
       "      [127.01070894177482, 37.54118048964762],\n",
       "      [126.98752996903328, 37.55094818807139],\n",
       "      [126.96448570553055, 37.548705692021635],\n",
       "      [126.96358226710812, 37.55605635475154],\n",
       "      [126.96873633279075, 37.56313604690827],\n",
       "      [127.02547266349976, 37.568943552237734]]]}},\n",
       "  {'type': 'Feature',\n",
       "   'id': '종로구',\n",
       "   'properties': {'code': '11010',\n",
       "    'name': '종로구',\n",
       "    'name_eng': 'Jongno-gu',\n",
       "    'base_year': '2013'},\n",
       "   'geometry': {'type': 'Polygon',\n",
       "    'coordinates': [[[126.9738864128702, 37.62949634786888],\n",
       "      [126.977175406416, 37.62859715400388],\n",
       "      [126.98879865992384, 37.6118927319756],\n",
       "      [126.99348293358314, 37.588565457216156],\n",
       "      [127.02527254528003, 37.57524616245249],\n",
       "      [127.02547266349976, 37.568943552237734],\n",
       "      [126.96873633279075, 37.56313604690827],\n",
       "      [126.95565425846463, 37.576080790881456],\n",
       "      [126.9524752030572, 37.60508692737045],\n",
       "      [126.95427017006129, 37.622033431339425],\n",
       "      [126.9738864128702, 37.62949634786888]]]}}]}"
      ]
     },
     "execution_count": 51,
     "metadata": {},
     "output_type": "execute_result"
    }
   ],
   "source": [
    "contents"
   ]
  },
  {
   "cell_type": "code",
   "execution_count": 47,
   "id": "46770eba",
   "metadata": {},
   "outputs": [],
   "source": [
    "temp0_1_1 = ChainMap(*temp0_1)"
   ]
  },
  {
   "cell_type": "code",
   "execution_count": 46,
   "id": "bb6983ae",
   "metadata": {},
   "outputs": [
    {
     "data": {
      "text/plain": [
       "ChainMap('code', 'name', 'name_eng', 'base_year')"
      ]
     },
     "execution_count": 46,
     "metadata": {},
     "output_type": "execute_result"
    }
   ],
   "source": [
    "temp0_1"
   ]
  },
  {
   "cell_type": "code",
   "execution_count": 48,
   "id": "8d2beaeb",
   "metadata": {},
   "outputs": [
    {
     "data": {
      "text/plain": [
       "ChainMap('b', 'a', 's', 'e', '_', 'y', 'r', 'n', 'm', 'g', 'c', 'o', 'd')"
      ]
     },
     "execution_count": 48,
     "metadata": {},
     "output_type": "execute_result"
    }
   ],
   "source": [
    "temp0_1_1"
   ]
  },
  {
   "cell_type": "code",
   "execution_count": 21,
   "id": "b7c809e3",
   "metadata": {},
   "outputs": [
    {
     "data": {
      "text/plain": [
       "{'type': 'Feature',\n",
       " 'id': '송파구',\n",
       " 'properties': {'code': '11240',\n",
       "  'name': '송파구',\n",
       "  'name_eng': 'Songpa-gu',\n",
       "  'base_year': '2013'},\n",
       " 'geometry': {'type': 'Polygon',\n",
       "  'coordinates': [[[127.0690698130372, 37.522279423505026],\n",
       "    [127.10087519791962, 37.524841220167055],\n",
       "    [127.1116764203608, 37.540669955324965],\n",
       "    [127.12123165719615, 37.52528270089],\n",
       "    [127.14672806823502, 37.51415680680291],\n",
       "    [127.1634944215765, 37.497445406097484],\n",
       "    [127.14206058413274, 37.47089819098501],\n",
       "    [127.12440571080893, 37.46240445587048],\n",
       "    [127.11117085201238, 37.485708381512445],\n",
       "    [127.0719146000724, 37.50224013587669],\n",
       "    [127.0690698130372, 37.522279423505026]]]}}"
      ]
     },
     "execution_count": 21,
     "metadata": {},
     "output_type": "execute_result"
    }
   ],
   "source": [
    "df['features'][1]"
   ]
  },
  {
   "cell_type": "code",
   "execution_count": 50,
   "id": "af7dc776",
   "metadata": {},
   "outputs": [
    {
     "name": "stdout",
     "output_type": "stream",
     "text": [
      "<class 'pandas.core.frame.DataFrame'>\n",
      "RangeIndex: 25 entries, 0 to 24\n",
      "Data columns (total 2 columns):\n",
      " #   Column    Non-Null Count  Dtype \n",
      "---  ------    --------------  ----- \n",
      " 0   type      25 non-null     object\n",
      " 1   features  25 non-null     object\n",
      "dtypes: object(2)\n",
      "memory usage: 528.0+ bytes\n"
     ]
    }
   ],
   "source": [
    "df.info()"
   ]
  },
  {
   "cell_type": "code",
   "execution_count": 3,
   "id": "dd9ce658",
   "metadata": {},
   "outputs": [
    {
     "name": "stdout",
     "output_type": "stream",
     "text": [
      "슝~\n"
     ]
    }
   ],
   "source": [
    "# 서울시 중심부 위도, 경도\n",
    "center = [37.541, 126.986]\n",
    "\n",
    "# map이 서울 중심부에 위치하고, zoom 레벨은 10으로 시작 합니다.\n",
    "map = folium.Map(\n",
    "    location=center,\n",
    "    zoom_start=10,\n",
    "    )\n",
    "\n",
    "print(\"슝~\")"
   ]
  },
  {
   "cell_type": "code",
   "execution_count": 4,
   "id": "49f259f7",
   "metadata": {},
   "outputs": [
    {
     "data": {
      "text/plain": [
       "<folium.features.GeoJson at 0x7fd193716c70>"
      ]
     },
     "execution_count": 4,
     "metadata": {},
     "output_type": "execute_result"
    }
   ],
   "source": [
    "# map 객체에 서울시 구 단위 경계 데이터 올리기\n",
    "folium.GeoJson(\n",
    "    seoul_sig_geo_data,\n",
    "    name=\"seoul_gu\"\n",
    ").add_to(map)"
   ]
  },
  {
   "cell_type": "code",
   "execution_count": 5,
   "id": "a7ac0c9f",
   "metadata": {},
   "outputs": [
    {
     "data": {
      "text/html": [
       "<div style=\"width:100%;\"><div style=\"position:relative;width:100%;height:0;padding-bottom:60%;\"><span style=\"color:#565656\">Make this Notebook Trusted to load map: File -> Trust Notebook</span><iframe src=\"about:blank\" style=\"position:absolute;width:100%;height:100%;left:0;top:0;border:none !important;\" data-html=%3C%21DOCTYPE%20html%3E%0A%3Chead%3E%20%20%20%20%0A%20%20%20%20%3Cmeta%20http-equiv%3D%22content-type%22%20content%3D%22text/html%3B%20charset%3DUTF-8%22%20/%3E%0A%20%20%20%20%0A%20%20%20%20%20%20%20%20%3Cscript%3E%0A%20%20%20%20%20%20%20%20%20%20%20%20L_NO_TOUCH%20%3D%20false%3B%0A%20%20%20%20%20%20%20%20%20%20%20%20L_DISABLE_3D%20%3D%20false%3B%0A%20%20%20%20%20%20%20%20%3C/script%3E%0A%20%20%20%20%0A%20%20%20%20%3Cstyle%3Ehtml%2C%20body%20%7Bwidth%3A%20100%25%3Bheight%3A%20100%25%3Bmargin%3A%200%3Bpadding%3A%200%3B%7D%3C/style%3E%0A%20%20%20%20%3Cstyle%3E%23map%20%7Bposition%3Aabsolute%3Btop%3A0%3Bbottom%3A0%3Bright%3A0%3Bleft%3A0%3B%7D%3C/style%3E%0A%20%20%20%20%3Cscript%20src%3D%22https%3A//cdn.jsdelivr.net/npm/leaflet%401.6.0/dist/leaflet.js%22%3E%3C/script%3E%0A%20%20%20%20%3Cscript%20src%3D%22https%3A//code.jquery.com/jquery-1.12.4.min.js%22%3E%3C/script%3E%0A%20%20%20%20%3Cscript%20src%3D%22https%3A//maxcdn.bootstrapcdn.com/bootstrap/3.2.0/js/bootstrap.min.js%22%3E%3C/script%3E%0A%20%20%20%20%3Cscript%20src%3D%22https%3A//cdnjs.cloudflare.com/ajax/libs/Leaflet.awesome-markers/2.0.2/leaflet.awesome-markers.js%22%3E%3C/script%3E%0A%20%20%20%20%3Clink%20rel%3D%22stylesheet%22%20href%3D%22https%3A//cdn.jsdelivr.net/npm/leaflet%401.6.0/dist/leaflet.css%22/%3E%0A%20%20%20%20%3Clink%20rel%3D%22stylesheet%22%20href%3D%22https%3A//maxcdn.bootstrapcdn.com/bootstrap/3.2.0/css/bootstrap.min.css%22/%3E%0A%20%20%20%20%3Clink%20rel%3D%22stylesheet%22%20href%3D%22https%3A//maxcdn.bootstrapcdn.com/bootstrap/3.2.0/css/bootstrap-theme.min.css%22/%3E%0A%20%20%20%20%3Clink%20rel%3D%22stylesheet%22%20href%3D%22https%3A//maxcdn.bootstrapcdn.com/font-awesome/4.6.3/css/font-awesome.min.css%22/%3E%0A%20%20%20%20%3Clink%20rel%3D%22stylesheet%22%20href%3D%22https%3A//cdnjs.cloudflare.com/ajax/libs/Leaflet.awesome-markers/2.0.2/leaflet.awesome-markers.css%22/%3E%0A%20%20%20%20%3Clink%20rel%3D%22stylesheet%22%20href%3D%22https%3A//cdn.jsdelivr.net/gh/python-visualization/folium/folium/templates/leaflet.awesome.rotate.min.css%22/%3E%0A%20%20%20%20%0A%20%20%20%20%20%20%20%20%20%20%20%20%3Cmeta%20name%3D%22viewport%22%20content%3D%22width%3Ddevice-width%2C%0A%20%20%20%20%20%20%20%20%20%20%20%20%20%20%20%20initial-scale%3D1.0%2C%20maximum-scale%3D1.0%2C%20user-scalable%3Dno%22%20/%3E%0A%20%20%20%20%20%20%20%20%20%20%20%20%3Cstyle%3E%0A%20%20%20%20%20%20%20%20%20%20%20%20%20%20%20%20%23map_c55b0af8c2454e918d07537b24e70114%20%7B%0A%20%20%20%20%20%20%20%20%20%20%20%20%20%20%20%20%20%20%20%20position%3A%20relative%3B%0A%20%20%20%20%20%20%20%20%20%20%20%20%20%20%20%20%20%20%20%20width%3A%20100.0%25%3B%0A%20%20%20%20%20%20%20%20%20%20%20%20%20%20%20%20%20%20%20%20height%3A%20100.0%25%3B%0A%20%20%20%20%20%20%20%20%20%20%20%20%20%20%20%20%20%20%20%20left%3A%200.0%25%3B%0A%20%20%20%20%20%20%20%20%20%20%20%20%20%20%20%20%20%20%20%20top%3A%200.0%25%3B%0A%20%20%20%20%20%20%20%20%20%20%20%20%20%20%20%20%7D%0A%20%20%20%20%20%20%20%20%20%20%20%20%3C/style%3E%0A%20%20%20%20%20%20%20%20%0A%3C/head%3E%0A%3Cbody%3E%20%20%20%20%0A%20%20%20%20%0A%20%20%20%20%20%20%20%20%20%20%20%20%3Cdiv%20class%3D%22folium-map%22%20id%3D%22map_c55b0af8c2454e918d07537b24e70114%22%20%3E%3C/div%3E%0A%20%20%20%20%20%20%20%20%0A%3C/body%3E%0A%3Cscript%3E%20%20%20%20%0A%20%20%20%20%0A%20%20%20%20%20%20%20%20%20%20%20%20var%20map_c55b0af8c2454e918d07537b24e70114%20%3D%20L.map%28%0A%20%20%20%20%20%20%20%20%20%20%20%20%20%20%20%20%22map_c55b0af8c2454e918d07537b24e70114%22%2C%0A%20%20%20%20%20%20%20%20%20%20%20%20%20%20%20%20%7B%0A%20%20%20%20%20%20%20%20%20%20%20%20%20%20%20%20%20%20%20%20center%3A%20%5B37.541%2C%20126.986%5D%2C%0A%20%20%20%20%20%20%20%20%20%20%20%20%20%20%20%20%20%20%20%20crs%3A%20L.CRS.EPSG3857%2C%0A%20%20%20%20%20%20%20%20%20%20%20%20%20%20%20%20%20%20%20%20zoom%3A%2010%2C%0A%20%20%20%20%20%20%20%20%20%20%20%20%20%20%20%20%20%20%20%20zoomControl%3A%20true%2C%0A%20%20%20%20%20%20%20%20%20%20%20%20%20%20%20%20%20%20%20%20preferCanvas%3A%20false%2C%0A%20%20%20%20%20%20%20%20%20%20%20%20%20%20%20%20%7D%0A%20%20%20%20%20%20%20%20%20%20%20%20%29%3B%0A%0A%20%20%20%20%20%20%20%20%20%20%20%20%0A%0A%20%20%20%20%20%20%20%20%0A%20%20%20%20%0A%20%20%20%20%20%20%20%20%20%20%20%20var%20tile_layer_214cf07b5b6f4e5c8f987e0ae493e609%20%3D%20L.tileLayer%28%0A%20%20%20%20%20%20%20%20%20%20%20%20%20%20%20%20%22https%3A//%7Bs%7D.tile.openstreetmap.org/%7Bz%7D/%7Bx%7D/%7By%7D.png%22%2C%0A%20%20%20%20%20%20%20%20%20%20%20%20%20%20%20%20%7B%22attribution%22%3A%20%22Data%20by%20%5Cu0026copy%3B%20%5Cu003ca%20href%3D%5C%22http%3A//openstreetmap.org%5C%22%5Cu003eOpenStreetMap%5Cu003c/a%5Cu003e%2C%20under%20%5Cu003ca%20href%3D%5C%22http%3A//www.openstreetmap.org/copyright%5C%22%5Cu003eODbL%5Cu003c/a%5Cu003e.%22%2C%20%22detectRetina%22%3A%20false%2C%20%22maxNativeZoom%22%3A%2018%2C%20%22maxZoom%22%3A%2018%2C%20%22minZoom%22%3A%200%2C%20%22noWrap%22%3A%20false%2C%20%22opacity%22%3A%201%2C%20%22subdomains%22%3A%20%22abc%22%2C%20%22tms%22%3A%20false%7D%0A%20%20%20%20%20%20%20%20%20%20%20%20%29.addTo%28map_c55b0af8c2454e918d07537b24e70114%29%3B%0A%20%20%20%20%20%20%20%20%0A%20%20%20%20%0A%0A%20%20%20%20%20%20%20%20function%20geo_json_219662f1a52e49c481b9d98f5577280f_onEachFeature%28feature%2C%20layer%29%20%7B%0A%20%20%20%20%20%20%20%20%20%20%20%20layer.on%28%7B%0A%20%20%20%20%20%20%20%20%20%20%20%20%7D%29%3B%0A%20%20%20%20%20%20%20%20%7D%3B%0A%20%20%20%20%20%20%20%20var%20geo_json_219662f1a52e49c481b9d98f5577280f%20%3D%20L.geoJson%28null%2C%20%7B%0A%20%20%20%20%20%20%20%20%20%20%20%20%20%20%20%20onEachFeature%3A%20geo_json_219662f1a52e49c481b9d98f5577280f_onEachFeature%2C%0A%20%20%20%20%20%20%20%20%20%20%20%20%0A%20%20%20%20%20%20%20%20%7D%29%3B%0A%0A%20%20%20%20%20%20%20%20function%20geo_json_219662f1a52e49c481b9d98f5577280f_add%20%28data%29%20%7B%0A%20%20%20%20%20%20%20%20%20%20%20%20geo_json_219662f1a52e49c481b9d98f5577280f%0A%20%20%20%20%20%20%20%20%20%20%20%20%20%20%20%20.addData%28data%29%0A%20%20%20%20%20%20%20%20%20%20%20%20%20%20%20%20.addTo%28map_c55b0af8c2454e918d07537b24e70114%29%3B%0A%20%20%20%20%20%20%20%20%7D%0A%20%20%20%20%20%20%20%20%20%20%20%20geo_json_219662f1a52e49c481b9d98f5577280f_add%28%7B%22features%22%3A%20%5B%7B%22geometry%22%3A%20%7B%22coordinates%22%3A%20%5B%5B%5B127.11519584981606%2C%2037.557533180704915%5D%2C%20%5B127.16683184366129%2C%2037.57672487388627%5D%2C%20%5B127.18408792330152%2C%2037.55814280369575%5D%2C%20%5B127.16530984307447%2C%2037.54221851258693%5D%2C%20%5B127.14672806823502%2C%2037.51415680680291%5D%2C%20%5B127.12123165719615%2C%2037.52528270089%5D%2C%20%5B127.1116764203608%2C%2037.540669955324965%5D%2C%20%5B127.11519584981606%2C%2037.557533180704915%5D%5D%5D%2C%20%22type%22%3A%20%22Polygon%22%7D%2C%20%22id%22%3A%20%22%5Cuac15%5Cub3d9%5Cuad6c%22%2C%20%22properties%22%3A%20%7B%22base_year%22%3A%20%222013%22%2C%20%22code%22%3A%20%2211250%22%2C%20%22name%22%3A%20%22%5Cuac15%5Cub3d9%5Cuad6c%22%2C%20%22name_eng%22%3A%20%22Gangdong-gu%22%7D%2C%20%22type%22%3A%20%22Feature%22%7D%2C%20%7B%22geometry%22%3A%20%7B%22coordinates%22%3A%20%5B%5B%5B127.0690698130372%2C%2037.522279423505026%5D%2C%20%5B127.10087519791962%2C%2037.524841220167055%5D%2C%20%5B127.1116764203608%2C%2037.540669955324965%5D%2C%20%5B127.12123165719615%2C%2037.52528270089%5D%2C%20%5B127.14672806823502%2C%2037.51415680680291%5D%2C%20%5B127.1634944215765%2C%2037.497445406097484%5D%2C%20%5B127.14206058413274%2C%2037.47089819098501%5D%2C%20%5B127.12440571080893%2C%2037.46240445587048%5D%2C%20%5B127.11117085201238%2C%2037.485708381512445%5D%2C%20%5B127.0719146000724%2C%2037.50224013587669%5D%2C%20%5B127.0690698130372%2C%2037.522279423505026%5D%5D%5D%2C%20%22type%22%3A%20%22Polygon%22%7D%2C%20%22id%22%3A%20%22%5Cuc1a1%5Cud30c%5Cuad6c%22%2C%20%22properties%22%3A%20%7B%22base_year%22%3A%20%222013%22%2C%20%22code%22%3A%20%2211240%22%2C%20%22name%22%3A%20%22%5Cuc1a1%5Cud30c%5Cuad6c%22%2C%20%22name_eng%22%3A%20%22Songpa-gu%22%7D%2C%20%22type%22%3A%20%22Feature%22%7D%2C%20%7B%22geometry%22%3A%20%7B%22coordinates%22%3A%20%5B%5B%5B127.05867359288398%2C%2037.52629974922568%5D%2C%20%5B127.0690698130372%2C%2037.522279423505026%5D%2C%20%5B127.0719146000724%2C%2037.50224013587669%5D%2C%20%5B127.11117085201238%2C%2037.485708381512445%5D%2C%20%5B127.12440571080893%2C%2037.46240445587048%5D%2C%20%5B127.09842759318751%2C%2037.45862253857461%5D%2C%20%5B127.08640440578156%2C%2037.472697935184655%5D%2C%20%5B127.0559170481904%2C%2037.4659228914077%5D%2C%20%5B127.03621915098798%2C%2037.48175802427603%5D%2C%20%5B127.01397119667513%2C%2037.52503988289669%5D%2C%20%5B127.02302831890559%2C%2037.53231899582663%5D%2C%20%5B127.05867359288398%2C%2037.52629974922568%5D%5D%5D%2C%20%22type%22%3A%20%22Polygon%22%7D%2C%20%22id%22%3A%20%22%5Cuac15%5Cub0a8%5Cuad6c%22%2C%20%22properties%22%3A%20%7B%22base_year%22%3A%20%222013%22%2C%20%22code%22%3A%20%2211230%22%2C%20%22name%22%3A%20%22%5Cuac15%5Cub0a8%5Cuad6c%22%2C%20%22name_eng%22%3A%20%22Gangnam-gu%22%7D%2C%20%22type%22%3A%20%22Feature%22%7D%2C%20%7B%22geometry%22%3A%20%7B%22coordinates%22%3A%20%5B%5B%5B127.01397119667513%2C%2037.52503988289669%5D%2C%20%5B127.03621915098798%2C%2037.48175802427603%5D%2C%20%5B127.0559170481904%2C%2037.4659228914077%5D%2C%20%5B127.08640440578156%2C%2037.472697935184655%5D%2C%20%5B127.09842759318751%2C%2037.45862253857461%5D%2C%20%5B127.09046928565951%2C%2037.44296826114185%5D%2C%20%5B127.06778107605433%2C%2037.426197424057314%5D%2C%20%5B127.04957232987142%2C%2037.42805836845694%5D%2C%20%5B127.03881782597922%2C%2037.45382039851715%5D%2C%20%5B126.99072073195462%2C%2037.455326143310025%5D%2C%20%5B126.98367668291802%2C%2037.473856492692086%5D%2C%20%5B126.98223807916081%2C%2037.509314966770326%5D%2C%20%5B127.01397119667513%2C%2037.52503988289669%5D%5D%5D%2C%20%22type%22%3A%20%22Polygon%22%7D%2C%20%22id%22%3A%20%22%5Cuc11c%5Cucd08%5Cuad6c%22%2C%20%22properties%22%3A%20%7B%22base_year%22%3A%20%222013%22%2C%20%22code%22%3A%20%2211220%22%2C%20%22name%22%3A%20%22%5Cuc11c%5Cucd08%5Cuad6c%22%2C%20%22name_eng%22%3A%20%22Seocho-gu%22%7D%2C%20%22type%22%3A%20%22Feature%22%7D%2C%20%7B%22geometry%22%3A%20%7B%22coordinates%22%3A%20%5B%5B%5B126.98367668291802%2C%2037.473856492692086%5D%2C%20%5B126.99072073195462%2C%2037.455326143310025%5D%2C%20%5B126.96520439085143%2C%2037.438249784006246%5D%2C%20%5B126.95000001010182%2C%2037.43613451165719%5D%2C%20%5B126.93084408056525%2C%2037.447382928333994%5D%2C%20%5B126.9167728146601%2C%2037.45490566423789%5D%2C%20%5B126.90156094129895%2C%2037.47753842789901%5D%2C%20%5B126.90531975801812%2C%2037.48218087575429%5D%2C%20%5B126.94922661389508%2C%2037.49125437495649%5D%2C%20%5B126.9725891850662%2C%2037.472561363278125%5D%2C%20%5B126.98367668291802%2C%2037.473856492692086%5D%5D%5D%2C%20%22type%22%3A%20%22Polygon%22%7D%2C%20%22id%22%3A%20%22%5Cuad00%5Cuc545%5Cuad6c%22%2C%20%22properties%22%3A%20%7B%22base_year%22%3A%20%222013%22%2C%20%22code%22%3A%20%2211210%22%2C%20%22name%22%3A%20%22%5Cuad00%5Cuc545%5Cuad6c%22%2C%20%22name_eng%22%3A%20%22Gwanak-gu%22%7D%2C%20%22type%22%3A%20%22Feature%22%7D%2C%20%7B%22geometry%22%3A%20%7B%22coordinates%22%3A%20%5B%5B%5B126.98223807916081%2C%2037.509314966770326%5D%2C%20%5B126.98367668291802%2C%2037.473856492692086%5D%2C%20%5B126.9725891850662%2C%2037.472561363278125%5D%2C%20%5B126.94922661389508%2C%2037.49125437495649%5D%2C%20%5B126.90531975801812%2C%2037.48218087575429%5D%2C%20%5B126.92177893174825%2C%2037.494889877415176%5D%2C%20%5B126.92810628828279%2C%2037.51329595732015%5D%2C%20%5B126.95249990298159%2C%2037.51722500741813%5D%2C%20%5B126.98223807916081%2C%2037.509314966770326%5D%5D%5D%2C%20%22type%22%3A%20%22Polygon%22%7D%2C%20%22id%22%3A%20%22%5Cub3d9%5Cuc791%5Cuad6c%22%2C%20%22properties%22%3A%20%7B%22base_year%22%3A%20%222013%22%2C%20%22code%22%3A%20%2211200%22%2C%20%22name%22%3A%20%22%5Cub3d9%5Cuc791%5Cuad6c%22%2C%20%22name_eng%22%3A%20%22Dongjak-gu%22%7D%2C%20%22type%22%3A%20%22Feature%22%7D%2C%20%7B%22geometry%22%3A%20%7B%22coordinates%22%3A%20%5B%5B%5B126.89184663862764%2C%2037.547373974997114%5D%2C%20%5B126.94566733083212%2C%2037.526617542453366%5D%2C%20%5B126.95249990298159%2C%2037.51722500741813%5D%2C%20%5B126.92810628828279%2C%2037.51329595732015%5D%2C%20%5B126.92177893174825%2C%2037.494889877415176%5D%2C%20%5B126.90531975801812%2C%2037.48218087575429%5D%2C%20%5B126.89594776782485%2C%2037.504675281309176%5D%2C%20%5B126.88156402353862%2C%2037.513970034765684%5D%2C%20%5B126.88825757860099%2C%2037.54079733630232%5D%2C%20%5B126.89184663862764%2C%2037.547373974997114%5D%5D%5D%2C%20%22type%22%3A%20%22Polygon%22%7D%2C%20%22id%22%3A%20%22%5Cuc601%5Cub4f1%5Cud3ec%5Cuad6c%22%2C%20%22properties%22%3A%20%7B%22base_year%22%3A%20%222013%22%2C%20%22code%22%3A%20%2211190%22%2C%20%22name%22%3A%20%22%5Cuc601%5Cub4f1%5Cud3ec%5Cuad6c%22%2C%20%22name_eng%22%3A%20%22Yeongdeungpo-gu%22%7D%2C%20%22type%22%3A%20%22Feature%22%7D%2C%20%7B%22geometry%22%3A%20%7B%22coordinates%22%3A%20%5B%5B%5B126.90156094129895%2C%2037.47753842789901%5D%2C%20%5B126.9167728146601%2C%2037.45490566423789%5D%2C%20%5B126.93084408056525%2C%2037.447382928333994%5D%2C%20%5B126.9025831711697%2C%2037.434549366349124%5D%2C%20%5B126.87683271502428%2C%2037.482576591607305%5D%2C%20%5B126.90156094129895%2C%2037.47753842789901%5D%5D%5D%2C%20%22type%22%3A%20%22Polygon%22%7D%2C%20%22id%22%3A%20%22%5Cuae08%5Cucc9c%5Cuad6c%22%2C%20%22properties%22%3A%20%7B%22base_year%22%3A%20%222013%22%2C%20%22code%22%3A%20%2211180%22%2C%20%22name%22%3A%20%22%5Cuae08%5Cucc9c%5Cuad6c%22%2C%20%22name_eng%22%3A%20%22Geumcheon-gu%22%7D%2C%20%22type%22%3A%20%22Feature%22%7D%2C%20%7B%22geometry%22%3A%20%7B%22coordinates%22%3A%20%5B%5B%5B126.82688081517314%2C%2037.50548972232896%5D%2C%20%5B126.88156402353862%2C%2037.513970034765684%5D%2C%20%5B126.89594776782485%2C%2037.504675281309176%5D%2C%20%5B126.90531975801812%2C%2037.48218087575429%5D%2C%20%5B126.90156094129895%2C%2037.47753842789901%5D%2C%20%5B126.87683271502428%2C%2037.482576591607305%5D%2C%20%5B126.84762676054953%2C%2037.47146723936323%5D%2C%20%5B126.83549485076196%2C%2037.474098236975095%5D%2C%20%5B126.82264796791348%2C%2037.4878476492147%5D%2C%20%5B126.82504736331406%2C%2037.50302612640443%5D%2C%20%5B126.82688081517314%2C%2037.50548972232896%5D%5D%5D%2C%20%22type%22%3A%20%22Polygon%22%7D%2C%20%22id%22%3A%20%22%5Cuad6c%5Cub85c%5Cuad6c%22%2C%20%22properties%22%3A%20%7B%22base_year%22%3A%20%222013%22%2C%20%22code%22%3A%20%2211170%22%2C%20%22name%22%3A%20%22%5Cuad6c%5Cub85c%5Cuad6c%22%2C%20%22name_eng%22%3A%20%22Guro-gu%22%7D%2C%20%22type%22%3A%20%22Feature%22%7D%2C%20%7B%22geometry%22%3A%20%7B%22coordinates%22%3A%20%5B%5B%5B126.79575768552907%2C%2037.57881087633202%5D%2C%20%5B126.80702115023597%2C%2037.60123001013228%5D%2C%20%5B126.82251438477105%2C%2037.5880430810082%5D%2C%20%5B126.85984199399667%2C%2037.571847855292745%5D%2C%20%5B126.89184663862764%2C%2037.547373974997114%5D%2C%20%5B126.88825757860099%2C%2037.54079733630232%5D%2C%20%5B126.86637464321238%2C%2037.54859191094823%5D%2C%20%5B126.86610073476395%2C%2037.52699964144669%5D%2C%20%5B126.84257291943153%2C%2037.52373707805596%5D%2C%20%5B126.8242331426722%2C%2037.53788078753248%5D%2C%20%5B126.77324417717703%2C%2037.5459123450554%5D%2C%20%5B126.76979180579352%2C%2037.55139183008809%5D%2C%20%5B126.79575768552907%2C%2037.57881087633202%5D%5D%5D%2C%20%22type%22%3A%20%22Polygon%22%7D%2C%20%22id%22%3A%20%22%5Cuac15%5Cuc11c%5Cuad6c%22%2C%20%22properties%22%3A%20%7B%22base_year%22%3A%20%222013%22%2C%20%22code%22%3A%20%2211160%22%2C%20%22name%22%3A%20%22%5Cuac15%5Cuc11c%5Cuad6c%22%2C%20%22name_eng%22%3A%20%22Gangseo-gu%22%7D%2C%20%22type%22%3A%20%22Feature%22%7D%2C%20%7B%22geometry%22%3A%20%7B%22coordinates%22%3A%20%5B%5B%5B126.8242331426722%2C%2037.53788078753248%5D%2C%20%5B126.84257291943153%2C%2037.52373707805596%5D%2C%20%5B126.86610073476395%2C%2037.52699964144669%5D%2C%20%5B126.86637464321238%2C%2037.54859191094823%5D%2C%20%5B126.88825757860099%2C%2037.54079733630232%5D%2C%20%5B126.88156402353862%2C%2037.513970034765684%5D%2C%20%5B126.82688081517314%2C%2037.50548972232896%5D%2C%20%5B126.8242331426722%2C%2037.53788078753248%5D%5D%5D%2C%20%22type%22%3A%20%22Polygon%22%7D%2C%20%22id%22%3A%20%22%5Cuc591%5Cucc9c%5Cuad6c%22%2C%20%22properties%22%3A%20%7B%22base_year%22%3A%20%222013%22%2C%20%22code%22%3A%20%2211150%22%2C%20%22name%22%3A%20%22%5Cuc591%5Cucc9c%5Cuad6c%22%2C%20%22name_eng%22%3A%20%22Yangcheon-gu%22%7D%2C%20%22type%22%3A%20%22Feature%22%7D%2C%20%7B%22geometry%22%3A%20%7B%22coordinates%22%3A%20%5B%5B%5B126.90522065831053%2C%2037.57409700522574%5D%2C%20%5B126.93898161798973%2C%2037.552310003728124%5D%2C%20%5B126.96358226710812%2C%2037.55605635475154%5D%2C%20%5B126.96448570553055%2C%2037.548705692021635%5D%2C%20%5B126.94566733083212%2C%2037.526617542453366%5D%2C%20%5B126.89184663862764%2C%2037.547373974997114%5D%2C%20%5B126.85984199399667%2C%2037.571847855292745%5D%2C%20%5B126.88433284773288%2C%2037.588143322880526%5D%2C%20%5B126.90522065831053%2C%2037.57409700522574%5D%5D%5D%2C%20%22type%22%3A%20%22Polygon%22%7D%2C%20%22id%22%3A%20%22%5Cub9c8%5Cud3ec%5Cuad6c%22%2C%20%22properties%22%3A%20%7B%22base_year%22%3A%20%222013%22%2C%20%22code%22%3A%20%2211140%22%2C%20%22name%22%3A%20%22%5Cub9c8%5Cud3ec%5Cuad6c%22%2C%20%22name_eng%22%3A%20%22Mapo-gu%22%7D%2C%20%22type%22%3A%20%22Feature%22%7D%2C%20%7B%22geometry%22%3A%20%7B%22coordinates%22%3A%20%5B%5B%5B126.9524752030572%2C%2037.60508692737045%5D%2C%20%5B126.95565425846463%2C%2037.576080790881456%5D%2C%20%5B126.96873633279075%2C%2037.56313604690827%5D%2C%20%5B126.96358226710812%2C%2037.55605635475154%5D%2C%20%5B126.93898161798973%2C%2037.552310003728124%5D%2C%20%5B126.90522065831053%2C%2037.57409700522574%5D%2C%20%5B126.9524752030572%2C%2037.60508692737045%5D%5D%5D%2C%20%22type%22%3A%20%22Polygon%22%7D%2C%20%22id%22%3A%20%22%5Cuc11c%5Cub300%5Cubb38%5Cuad6c%22%2C%20%22properties%22%3A%20%7B%22base_year%22%3A%20%222013%22%2C%20%22code%22%3A%20%2211130%22%2C%20%22name%22%3A%20%22%5Cuc11c%5Cub300%5Cubb38%5Cuad6c%22%2C%20%22name_eng%22%3A%20%22Seodaemun-gu%22%7D%2C%20%22type%22%3A%20%22Feature%22%7D%2C%20%7B%22geometry%22%3A%20%7B%22coordinates%22%3A%20%5B%5B%5B126.9738864128702%2C%2037.62949634786888%5D%2C%20%5B126.95427017006129%2C%2037.622033431339425%5D%2C%20%5B126.9524752030572%2C%2037.60508692737045%5D%2C%20%5B126.90522065831053%2C%2037.57409700522574%5D%2C%20%5B126.88433284773288%2C%2037.588143322880526%5D%2C%20%5B126.90396681003595%2C%2037.59227403419942%5D%2C%20%5B126.90303066177668%2C%2037.609977911401344%5D%2C%20%5B126.91455481429648%2C%2037.64150050996935%5D%2C%20%5B126.956473797387%2C%2037.652480737339445%5D%2C%20%5B126.9738864128702%2C%2037.62949634786888%5D%5D%5D%2C%20%22type%22%3A%20%22Polygon%22%7D%2C%20%22id%22%3A%20%22%5Cuc740%5Cud3c9%5Cuad6c%22%2C%20%22properties%22%3A%20%7B%22base_year%22%3A%20%222013%22%2C%20%22code%22%3A%20%2211120%22%2C%20%22name%22%3A%20%22%5Cuc740%5Cud3c9%5Cuad6c%22%2C%20%22name_eng%22%3A%20%22Eunpyeong-gu%22%7D%2C%20%22type%22%3A%20%22Feature%22%7D%2C%20%7B%22geometry%22%3A%20%7B%22coordinates%22%3A%20%5B%5B%5B127.0838752703195%2C%2037.69359534202034%5D%2C%20%5B127.09706391309695%2C%2037.686383719372294%5D%2C%20%5B127.09440766298717%2C%2037.64713490473045%5D%2C%20%5B127.11326795855199%2C%2037.639622905315925%5D%2C%20%5B127.10782277688129%2C%2037.61804244241069%5D%2C%20%5B127.07351243825278%2C%2037.61283660342313%5D%2C%20%5B127.05209373568619%2C%2037.62164065487782%5D%2C%20%5B127.04358800895609%2C%2037.62848931298715%5D%2C%20%5B127.05800075220091%2C%2037.64318263878276%5D%2C%20%5B127.05288479710485%2C%2037.68423857084347%5D%2C%20%5B127.0838752703195%2C%2037.69359534202034%5D%5D%5D%2C%20%22type%22%3A%20%22Polygon%22%7D%2C%20%22id%22%3A%20%22%5Cub178%5Cuc6d0%5Cuad6c%22%2C%20%22properties%22%3A%20%7B%22base_year%22%3A%20%222013%22%2C%20%22code%22%3A%20%2211110%22%2C%20%22name%22%3A%20%22%5Cub178%5Cuc6d0%5Cuad6c%22%2C%20%22name_eng%22%3A%20%22Nowon-gu%22%7D%2C%20%22type%22%3A%20%22Feature%22%7D%2C%20%7B%22geometry%22%3A%20%7B%22coordinates%22%3A%20%5B%5B%5B127.05288479710485%2C%2037.68423857084347%5D%2C%20%5B127.05800075220091%2C%2037.64318263878276%5D%2C%20%5B127.04358800895609%2C%2037.62848931298715%5D%2C%20%5B127.01465935892466%2C%2037.64943687496812%5D%2C%20%5B127.02062116141389%2C%2037.667173575971205%5D%2C%20%5B127.01039666042071%2C%2037.681894589603594%5D%2C%20%5B127.01795099203432%2C%2037.69824412775662%5D%2C%20%5B127.05288479710485%2C%2037.68423857084347%5D%5D%5D%2C%20%22type%22%3A%20%22Polygon%22%7D%2C%20%22id%22%3A%20%22%5Cub3c4%5Cubd09%5Cuad6c%22%2C%20%22properties%22%3A%20%7B%22base_year%22%3A%20%222013%22%2C%20%22code%22%3A%20%2211100%22%2C%20%22name%22%3A%20%22%5Cub3c4%5Cubd09%5Cuad6c%22%2C%20%22name_eng%22%3A%20%22Dobong-gu%22%7D%2C%20%22type%22%3A%20%22Feature%22%7D%2C%20%7B%22geometry%22%3A%20%7B%22coordinates%22%3A%20%5B%5B%5B126.99383903424%2C%2037.676681761199085%5D%2C%20%5B127.01039666042071%2C%2037.681894589603594%5D%2C%20%5B127.02062116141389%2C%2037.667173575971205%5D%2C%20%5B127.01465935892466%2C%2037.64943687496812%5D%2C%20%5B127.04358800895609%2C%2037.62848931298715%5D%2C%20%5B127.05209373568619%2C%2037.62164065487782%5D%2C%20%5B127.03892400992301%2C%2037.609715611023816%5D%2C%20%5B127.0128154749523%2C%2037.613652243470256%5D%2C%20%5B126.98672705513869%2C%2037.63377641288196%5D%2C%20%5B126.9817452676551%2C%2037.65209769387776%5D%2C%20%5B126.99383903424%2C%2037.676681761199085%5D%5D%5D%2C%20%22type%22%3A%20%22Polygon%22%7D%2C%20%22id%22%3A%20%22%5Cuac15%5Cubd81%5Cuad6c%22%2C%20%22properties%22%3A%20%7B%22base_year%22%3A%20%222013%22%2C%20%22code%22%3A%20%2211090%22%2C%20%22name%22%3A%20%22%5Cuac15%5Cubd81%5Cuad6c%22%2C%20%22name_eng%22%3A%20%22Gangbuk-gu%22%7D%2C%20%22type%22%3A%20%22Feature%22%7D%2C%20%7B%22geometry%22%3A%20%7B%22coordinates%22%3A%20%5B%5B%5B126.977175406416%2C%2037.62859715400388%5D%2C%20%5B126.98672705513869%2C%2037.63377641288196%5D%2C%20%5B127.0128154749523%2C%2037.613652243470256%5D%2C%20%5B127.03892400992301%2C%2037.609715611023816%5D%2C%20%5B127.05209373568619%2C%2037.62164065487782%5D%2C%20%5B127.07351243825278%2C%2037.61283660342313%5D%2C%20%5B127.07382707099227%2C%2037.60401928986419%5D%2C%20%5B127.042705222094%2C%2037.59239437593391%5D%2C%20%5B127.02527254528003%2C%2037.57524616245249%5D%2C%20%5B126.99348293358314%2C%2037.588565457216156%5D%2C%20%5B126.98879865992384%2C%2037.6118927319756%5D%2C%20%5B126.977175406416%2C%2037.62859715400388%5D%5D%5D%2C%20%22type%22%3A%20%22Polygon%22%7D%2C%20%22id%22%3A%20%22%5Cuc131%5Cubd81%5Cuad6c%22%2C%20%22properties%22%3A%20%7B%22base_year%22%3A%20%222013%22%2C%20%22code%22%3A%20%2211080%22%2C%20%22name%22%3A%20%22%5Cuc131%5Cubd81%5Cuad6c%22%2C%20%22name_eng%22%3A%20%22Seongbuk-gu%22%7D%2C%20%22type%22%3A%20%22Feature%22%7D%2C%20%7B%22geometry%22%3A%20%7B%22coordinates%22%3A%20%5B%5B%5B127.07351243825278%2C%2037.61283660342313%5D%2C%20%5B127.10782277688129%2C%2037.61804244241069%5D%2C%20%5B127.1201246020114%2C%2037.60178457598188%5D%2C%20%5B127.10304174249214%2C%2037.57076342290955%5D%2C%20%5B127.08068541280403%2C%2037.56906425519017%5D%2C%20%5B127.07382707099227%2C%2037.60401928986419%5D%2C%20%5B127.07351243825278%2C%2037.61283660342313%5D%5D%5D%2C%20%22type%22%3A%20%22Polygon%22%7D%2C%20%22id%22%3A%20%22%5Cuc911%5Cub791%5Cuad6c%22%2C%20%22properties%22%3A%20%7B%22base_year%22%3A%20%222013%22%2C%20%22code%22%3A%20%2211070%22%2C%20%22name%22%3A%20%22%5Cuc911%5Cub791%5Cuad6c%22%2C%20%22name_eng%22%3A%20%22Jungnang-gu%22%7D%2C%20%22type%22%3A%20%22Feature%22%7D%2C%20%7B%22geometry%22%3A%20%7B%22coordinates%22%3A%20%5B%5B%5B127.02527254528003%2C%2037.57524616245249%5D%2C%20%5B127.042705222094%2C%2037.59239437593391%5D%2C%20%5B127.07382707099227%2C%2037.60401928986419%5D%2C%20%5B127.08068541280403%2C%2037.56906425519017%5D%2C%20%5B127.07421053024362%2C%2037.55724769712085%5D%2C%20%5B127.05005601081567%2C%2037.567577612590846%5D%2C%20%5B127.02547266349976%2C%2037.568943552237734%5D%2C%20%5B127.02527254528003%2C%2037.57524616245249%5D%5D%5D%2C%20%22type%22%3A%20%22Polygon%22%7D%2C%20%22id%22%3A%20%22%5Cub3d9%5Cub300%5Cubb38%5Cuad6c%22%2C%20%22properties%22%3A%20%7B%22base_year%22%3A%20%222013%22%2C%20%22code%22%3A%20%2211060%22%2C%20%22name%22%3A%20%22%5Cub3d9%5Cub300%5Cubb38%5Cuad6c%22%2C%20%22name_eng%22%3A%20%22Dongdaemun-gu%22%7D%2C%20%22type%22%3A%20%22Feature%22%7D%2C%20%7B%22geometry%22%3A%20%7B%22coordinates%22%3A%20%5B%5B%5B127.08068541280403%2C%2037.56906425519017%5D%2C%20%5B127.10304174249214%2C%2037.57076342290955%5D%2C%20%5B127.11519584981606%2C%2037.557533180704915%5D%2C%20%5B127.1116764203608%2C%2037.540669955324965%5D%2C%20%5B127.10087519791962%2C%2037.524841220167055%5D%2C%20%5B127.0690698130372%2C%2037.522279423505026%5D%2C%20%5B127.05867359288398%2C%2037.52629974922568%5D%2C%20%5B127.07421053024362%2C%2037.55724769712085%5D%2C%20%5B127.08068541280403%2C%2037.56906425519017%5D%5D%5D%2C%20%22type%22%3A%20%22Polygon%22%7D%2C%20%22id%22%3A%20%22%5Cuad11%5Cuc9c4%5Cuad6c%22%2C%20%22properties%22%3A%20%7B%22base_year%22%3A%20%222013%22%2C%20%22code%22%3A%20%2211050%22%2C%20%22name%22%3A%20%22%5Cuad11%5Cuc9c4%5Cuad6c%22%2C%20%22name_eng%22%3A%20%22Gwangjin-gu%22%7D%2C%20%22type%22%3A%20%22Feature%22%7D%2C%20%7B%22geometry%22%3A%20%7B%22coordinates%22%3A%20%5B%5B%5B127.02547266349976%2C%2037.568943552237734%5D%2C%20%5B127.05005601081567%2C%2037.567577612590846%5D%2C%20%5B127.07421053024362%2C%2037.55724769712085%5D%2C%20%5B127.05867359288398%2C%2037.52629974922568%5D%2C%20%5B127.02302831890559%2C%2037.53231899582663%5D%2C%20%5B127.01070894177482%2C%2037.54118048964762%5D%2C%20%5B127.02547266349976%2C%2037.568943552237734%5D%5D%5D%2C%20%22type%22%3A%20%22Polygon%22%7D%2C%20%22id%22%3A%20%22%5Cuc131%5Cub3d9%5Cuad6c%22%2C%20%22properties%22%3A%20%7B%22base_year%22%3A%20%222013%22%2C%20%22code%22%3A%20%2211040%22%2C%20%22name%22%3A%20%22%5Cuc131%5Cub3d9%5Cuad6c%22%2C%20%22name_eng%22%3A%20%22Seongdong-gu%22%7D%2C%20%22type%22%3A%20%22Feature%22%7D%2C%20%7B%22geometry%22%3A%20%7B%22coordinates%22%3A%20%5B%5B%5B127.01070894177482%2C%2037.54118048964762%5D%2C%20%5B127.02302831890559%2C%2037.53231899582663%5D%2C%20%5B127.01397119667513%2C%2037.52503988289669%5D%2C%20%5B126.98223807916081%2C%2037.509314966770326%5D%2C%20%5B126.95249990298159%2C%2037.51722500741813%5D%2C%20%5B126.94566733083212%2C%2037.526617542453366%5D%2C%20%5B126.96448570553055%2C%2037.548705692021635%5D%2C%20%5B126.98752996903328%2C%2037.55094818807139%5D%2C%20%5B127.01070894177482%2C%2037.54118048964762%5D%5D%5D%2C%20%22type%22%3A%20%22Polygon%22%7D%2C%20%22id%22%3A%20%22%5Cuc6a9%5Cuc0b0%5Cuad6c%22%2C%20%22properties%22%3A%20%7B%22base_year%22%3A%20%222013%22%2C%20%22code%22%3A%20%2211030%22%2C%20%22name%22%3A%20%22%5Cuc6a9%5Cuc0b0%5Cuad6c%22%2C%20%22name_eng%22%3A%20%22Yongsan-gu%22%7D%2C%20%22type%22%3A%20%22Feature%22%7D%2C%20%7B%22geometry%22%3A%20%7B%22coordinates%22%3A%20%5B%5B%5B127.02547266349976%2C%2037.568943552237734%5D%2C%20%5B127.01070894177482%2C%2037.54118048964762%5D%2C%20%5B126.98752996903328%2C%2037.55094818807139%5D%2C%20%5B126.96448570553055%2C%2037.548705692021635%5D%2C%20%5B126.96358226710812%2C%2037.55605635475154%5D%2C%20%5B126.96873633279075%2C%2037.56313604690827%5D%2C%20%5B127.02547266349976%2C%2037.568943552237734%5D%5D%5D%2C%20%22type%22%3A%20%22Polygon%22%7D%2C%20%22id%22%3A%20%22%5Cuc911%5Cuad6c%22%2C%20%22properties%22%3A%20%7B%22base_year%22%3A%20%222013%22%2C%20%22code%22%3A%20%2211020%22%2C%20%22name%22%3A%20%22%5Cuc911%5Cuad6c%22%2C%20%22name_eng%22%3A%20%22Jung-gu%22%7D%2C%20%22type%22%3A%20%22Feature%22%7D%2C%20%7B%22geometry%22%3A%20%7B%22coordinates%22%3A%20%5B%5B%5B126.9738864128702%2C%2037.62949634786888%5D%2C%20%5B126.977175406416%2C%2037.62859715400388%5D%2C%20%5B126.98879865992384%2C%2037.6118927319756%5D%2C%20%5B126.99348293358314%2C%2037.588565457216156%5D%2C%20%5B127.02527254528003%2C%2037.57524616245249%5D%2C%20%5B127.02547266349976%2C%2037.568943552237734%5D%2C%20%5B126.96873633279075%2C%2037.56313604690827%5D%2C%20%5B126.95565425846463%2C%2037.576080790881456%5D%2C%20%5B126.9524752030572%2C%2037.60508692737045%5D%2C%20%5B126.95427017006129%2C%2037.622033431339425%5D%2C%20%5B126.9738864128702%2C%2037.62949634786888%5D%5D%5D%2C%20%22type%22%3A%20%22Polygon%22%7D%2C%20%22id%22%3A%20%22%5Cuc885%5Cub85c%5Cuad6c%22%2C%20%22properties%22%3A%20%7B%22base_year%22%3A%20%222013%22%2C%20%22code%22%3A%20%2211010%22%2C%20%22name%22%3A%20%22%5Cuc885%5Cub85c%5Cuad6c%22%2C%20%22name_eng%22%3A%20%22Jongno-gu%22%7D%2C%20%22type%22%3A%20%22Feature%22%7D%5D%2C%20%22type%22%3A%20%22FeatureCollection%22%7D%29%3B%0A%0A%20%20%20%20%20%20%20%20%0A%3C/script%3E onload=\"this.contentDocument.open();this.contentDocument.write(    decodeURIComponent(this.getAttribute('data-html')));this.contentDocument.close();\" allowfullscreen webkitallowfullscreen mozallowfullscreen></iframe></div></div>"
      ],
      "text/plain": [
       "<folium.folium.Map at 0x7fd1d86fe4c0>"
      ]
     },
     "execution_count": 5,
     "metadata": {},
     "output_type": "execute_result"
    }
   ],
   "source": [
    "map # folium을 이용해 생성한 map 객체 실행"
   ]
  }
 ],
 "metadata": {
  "kernelspec": {
   "display_name": "Python 3 (ipykernel)",
   "language": "python",
   "name": "python3"
  },
  "language_info": {
   "codemirror_mode": {
    "name": "ipython",
    "version": 3
   },
   "file_extension": ".py",
   "mimetype": "text/x-python",
   "name": "python",
   "nbconvert_exporter": "python",
   "pygments_lexer": "ipython3",
   "version": "3.9.13"
  }
 },
 "nbformat": 4,
 "nbformat_minor": 5
}
