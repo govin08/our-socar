{
 "cells": [
  {
   "cell_type": "markdown",
   "id": "fa05284d",
   "metadata": {},
   "source": [
    "    004_221118_gonode4_socar_zone_report\n",
    "    \n",
    "         data : /aiffel/aiffel/000_aiffelthon_230111/3김연수/002_data_dir/004_node_data/20210823_socar_zone.csv"
   ]
  },
  {
   "cell_type": "code",
   "execution_count": 1,
   "id": "603b03ba",
   "metadata": {},
   "outputs": [
    {
     "name": "stdout",
     "output_type": "stream",
     "text": [
      "1.4.4\n",
      "0.12.2\n",
      "0.14.0\n"
     ]
    }
   ],
   "source": [
    "#1. package load\n",
    "import requests\n",
    "import json\n",
    "import os\n",
    "import math\n",
    "import time\n",
    "import numpy as np\n",
    "import pandas as pd\n",
    "import geopandas as gpd\n",
    "import pyproj\n",
    "import folium\n",
    "import matplotlib.pyplot as plt\n",
    "import seaborn as sns\n",
    "\n",
    "from shapely.geometry import mapping, shape, Point, Polygon, LineString\n",
    "from folium import plugins\n",
    "from folium.plugins import MarkerCluster, HeatMap\n",
    "\n",
    "import warnings\n",
    "warnings.filterwarnings(action='ignore') \n",
    "\n",
    "print(pd.__version__)\n",
    "print(gpd.__version__)\n",
    "print(folium.__version__)"
   ]
  },
  {
   "cell_type": "markdown",
   "id": "b1587b86",
   "metadata": {},
   "source": [
    "    2. 프로젝트(1) 서울시 쏘카존 데이터를 활용한 시각화\n",
    "       1) data load : socar zone data\n",
    "       2) 시각화\n",
    "          - base nap : 서울시 중심부 위도, 경도\n",
    "          - MarkerCluster 객체 \n",
    "          - map draw"
   ]
  },
  {
   "cell_type": "code",
   "execution_count": 2,
   "id": "d9d480b5",
   "metadata": {},
   "outputs": [
    {
     "ename": "FileNotFoundError",
     "evalue": "[Errno 2] No such file or directory: '/aiffel/aiffel/000_aiffelthon_230111/3김연수/002_data_dir/004_node_data/20210823_socar_zone.csv'",
     "output_type": "error",
     "traceback": [
      "\u001b[1;31m---------------------------------------------------------------------------\u001b[0m",
      "\u001b[1;31mFileNotFoundError\u001b[0m                         Traceback (most recent call last)",
      "\u001b[1;32m~\\AppData\\Local\\Temp\\ipykernel_44084\\501509219.py\u001b[0m in \u001b[0;36m<module>\u001b[1;34m\u001b[0m\n\u001b[0;32m      4\u001b[0m \u001b[1;33m\u001b[0m\u001b[0m\n\u001b[0;32m      5\u001b[0m \u001b[1;33m\u001b[0m\u001b[0m\n\u001b[1;32m----> 6\u001b[1;33m \u001b[0msocar_zone_info_df\u001b[0m \u001b[1;33m=\u001b[0m \u001b[0mpd\u001b[0m\u001b[1;33m.\u001b[0m\u001b[0mread_csv\u001b[0m\u001b[1;33m(\u001b[0m\u001b[0mpath\u001b[0m\u001b[1;33m)\u001b[0m\u001b[1;33m\u001b[0m\u001b[1;33m\u001b[0m\u001b[0m\n\u001b[0m\u001b[0;32m      7\u001b[0m \u001b[0msocar_zone_info_df\u001b[0m\u001b[1;33m.\u001b[0m\u001b[0mhead\u001b[0m\u001b[1;33m(\u001b[0m\u001b[1;33m)\u001b[0m\u001b[1;33m\u001b[0m\u001b[1;33m\u001b[0m\u001b[0m\n",
      "\u001b[1;32m~\\anaconda3\\lib\\site-packages\\pandas\\util\\_decorators.py\u001b[0m in \u001b[0;36mwrapper\u001b[1;34m(*args, **kwargs)\u001b[0m\n\u001b[0;32m    309\u001b[0m                     \u001b[0mstacklevel\u001b[0m\u001b[1;33m=\u001b[0m\u001b[0mstacklevel\u001b[0m\u001b[1;33m,\u001b[0m\u001b[1;33m\u001b[0m\u001b[1;33m\u001b[0m\u001b[0m\n\u001b[0;32m    310\u001b[0m                 )\n\u001b[1;32m--> 311\u001b[1;33m             \u001b[1;32mreturn\u001b[0m \u001b[0mfunc\u001b[0m\u001b[1;33m(\u001b[0m\u001b[1;33m*\u001b[0m\u001b[0margs\u001b[0m\u001b[1;33m,\u001b[0m \u001b[1;33m**\u001b[0m\u001b[0mkwargs\u001b[0m\u001b[1;33m)\u001b[0m\u001b[1;33m\u001b[0m\u001b[1;33m\u001b[0m\u001b[0m\n\u001b[0m\u001b[0;32m    312\u001b[0m \u001b[1;33m\u001b[0m\u001b[0m\n\u001b[0;32m    313\u001b[0m         \u001b[1;32mreturn\u001b[0m \u001b[0mwrapper\u001b[0m\u001b[1;33m\u001b[0m\u001b[1;33m\u001b[0m\u001b[0m\n",
      "\u001b[1;32m~\\anaconda3\\lib\\site-packages\\pandas\\io\\parsers\\readers.py\u001b[0m in \u001b[0;36mread_csv\u001b[1;34m(filepath_or_buffer, sep, delimiter, header, names, index_col, usecols, squeeze, prefix, mangle_dupe_cols, dtype, engine, converters, true_values, false_values, skipinitialspace, skiprows, skipfooter, nrows, na_values, keep_default_na, na_filter, verbose, skip_blank_lines, parse_dates, infer_datetime_format, keep_date_col, date_parser, dayfirst, cache_dates, iterator, chunksize, compression, thousands, decimal, lineterminator, quotechar, quoting, doublequote, escapechar, comment, encoding, encoding_errors, dialect, error_bad_lines, warn_bad_lines, on_bad_lines, delim_whitespace, low_memory, memory_map, float_precision, storage_options)\u001b[0m\n\u001b[0;32m    676\u001b[0m     \u001b[0mkwds\u001b[0m\u001b[1;33m.\u001b[0m\u001b[0mupdate\u001b[0m\u001b[1;33m(\u001b[0m\u001b[0mkwds_defaults\u001b[0m\u001b[1;33m)\u001b[0m\u001b[1;33m\u001b[0m\u001b[1;33m\u001b[0m\u001b[0m\n\u001b[0;32m    677\u001b[0m \u001b[1;33m\u001b[0m\u001b[0m\n\u001b[1;32m--> 678\u001b[1;33m     \u001b[1;32mreturn\u001b[0m \u001b[0m_read\u001b[0m\u001b[1;33m(\u001b[0m\u001b[0mfilepath_or_buffer\u001b[0m\u001b[1;33m,\u001b[0m \u001b[0mkwds\u001b[0m\u001b[1;33m)\u001b[0m\u001b[1;33m\u001b[0m\u001b[1;33m\u001b[0m\u001b[0m\n\u001b[0m\u001b[0;32m    679\u001b[0m \u001b[1;33m\u001b[0m\u001b[0m\n\u001b[0;32m    680\u001b[0m \u001b[1;33m\u001b[0m\u001b[0m\n",
      "\u001b[1;32m~\\anaconda3\\lib\\site-packages\\pandas\\io\\parsers\\readers.py\u001b[0m in \u001b[0;36m_read\u001b[1;34m(filepath_or_buffer, kwds)\u001b[0m\n\u001b[0;32m    573\u001b[0m \u001b[1;33m\u001b[0m\u001b[0m\n\u001b[0;32m    574\u001b[0m     \u001b[1;31m# Create the parser.\u001b[0m\u001b[1;33m\u001b[0m\u001b[1;33m\u001b[0m\u001b[0m\n\u001b[1;32m--> 575\u001b[1;33m     \u001b[0mparser\u001b[0m \u001b[1;33m=\u001b[0m \u001b[0mTextFileReader\u001b[0m\u001b[1;33m(\u001b[0m\u001b[0mfilepath_or_buffer\u001b[0m\u001b[1;33m,\u001b[0m \u001b[1;33m**\u001b[0m\u001b[0mkwds\u001b[0m\u001b[1;33m)\u001b[0m\u001b[1;33m\u001b[0m\u001b[1;33m\u001b[0m\u001b[0m\n\u001b[0m\u001b[0;32m    576\u001b[0m \u001b[1;33m\u001b[0m\u001b[0m\n\u001b[0;32m    577\u001b[0m     \u001b[1;32mif\u001b[0m \u001b[0mchunksize\u001b[0m \u001b[1;32mor\u001b[0m \u001b[0miterator\u001b[0m\u001b[1;33m:\u001b[0m\u001b[1;33m\u001b[0m\u001b[1;33m\u001b[0m\u001b[0m\n",
      "\u001b[1;32m~\\anaconda3\\lib\\site-packages\\pandas\\io\\parsers\\readers.py\u001b[0m in \u001b[0;36m__init__\u001b[1;34m(self, f, engine, **kwds)\u001b[0m\n\u001b[0;32m    930\u001b[0m \u001b[1;33m\u001b[0m\u001b[0m\n\u001b[0;32m    931\u001b[0m         \u001b[0mself\u001b[0m\u001b[1;33m.\u001b[0m\u001b[0mhandles\u001b[0m\u001b[1;33m:\u001b[0m \u001b[0mIOHandles\u001b[0m \u001b[1;33m|\u001b[0m \u001b[1;32mNone\u001b[0m \u001b[1;33m=\u001b[0m \u001b[1;32mNone\u001b[0m\u001b[1;33m\u001b[0m\u001b[1;33m\u001b[0m\u001b[0m\n\u001b[1;32m--> 932\u001b[1;33m         \u001b[0mself\u001b[0m\u001b[1;33m.\u001b[0m\u001b[0m_engine\u001b[0m \u001b[1;33m=\u001b[0m \u001b[0mself\u001b[0m\u001b[1;33m.\u001b[0m\u001b[0m_make_engine\u001b[0m\u001b[1;33m(\u001b[0m\u001b[0mf\u001b[0m\u001b[1;33m,\u001b[0m \u001b[0mself\u001b[0m\u001b[1;33m.\u001b[0m\u001b[0mengine\u001b[0m\u001b[1;33m)\u001b[0m\u001b[1;33m\u001b[0m\u001b[1;33m\u001b[0m\u001b[0m\n\u001b[0m\u001b[0;32m    933\u001b[0m \u001b[1;33m\u001b[0m\u001b[0m\n\u001b[0;32m    934\u001b[0m     \u001b[1;32mdef\u001b[0m \u001b[0mclose\u001b[0m\u001b[1;33m(\u001b[0m\u001b[0mself\u001b[0m\u001b[1;33m)\u001b[0m\u001b[1;33m:\u001b[0m\u001b[1;33m\u001b[0m\u001b[1;33m\u001b[0m\u001b[0m\n",
      "\u001b[1;32m~\\anaconda3\\lib\\site-packages\\pandas\\io\\parsers\\readers.py\u001b[0m in \u001b[0;36m_make_engine\u001b[1;34m(self, f, engine)\u001b[0m\n\u001b[0;32m   1214\u001b[0m             \u001b[1;31m# \"Union[str, PathLike[str], ReadCsvBuffer[bytes], ReadCsvBuffer[str]]\"\u001b[0m\u001b[1;33m\u001b[0m\u001b[1;33m\u001b[0m\u001b[0m\n\u001b[0;32m   1215\u001b[0m             \u001b[1;31m# , \"str\", \"bool\", \"Any\", \"Any\", \"Any\", \"Any\", \"Any\"\u001b[0m\u001b[1;33m\u001b[0m\u001b[1;33m\u001b[0m\u001b[0m\n\u001b[1;32m-> 1216\u001b[1;33m             self.handles = get_handle(  # type: ignore[call-overload]\n\u001b[0m\u001b[0;32m   1217\u001b[0m                 \u001b[0mf\u001b[0m\u001b[1;33m,\u001b[0m\u001b[1;33m\u001b[0m\u001b[1;33m\u001b[0m\u001b[0m\n\u001b[0;32m   1218\u001b[0m                 \u001b[0mmode\u001b[0m\u001b[1;33m,\u001b[0m\u001b[1;33m\u001b[0m\u001b[1;33m\u001b[0m\u001b[0m\n",
      "\u001b[1;32m~\\anaconda3\\lib\\site-packages\\pandas\\io\\common.py\u001b[0m in \u001b[0;36mget_handle\u001b[1;34m(path_or_buf, mode, encoding, compression, memory_map, is_text, errors, storage_options)\u001b[0m\n\u001b[0;32m    784\u001b[0m         \u001b[1;32mif\u001b[0m \u001b[0mioargs\u001b[0m\u001b[1;33m.\u001b[0m\u001b[0mencoding\u001b[0m \u001b[1;32mand\u001b[0m \u001b[1;34m\"b\"\u001b[0m \u001b[1;32mnot\u001b[0m \u001b[1;32min\u001b[0m \u001b[0mioargs\u001b[0m\u001b[1;33m.\u001b[0m\u001b[0mmode\u001b[0m\u001b[1;33m:\u001b[0m\u001b[1;33m\u001b[0m\u001b[1;33m\u001b[0m\u001b[0m\n\u001b[0;32m    785\u001b[0m             \u001b[1;31m# Encoding\u001b[0m\u001b[1;33m\u001b[0m\u001b[1;33m\u001b[0m\u001b[0m\n\u001b[1;32m--> 786\u001b[1;33m             handle = open(\n\u001b[0m\u001b[0;32m    787\u001b[0m                 \u001b[0mhandle\u001b[0m\u001b[1;33m,\u001b[0m\u001b[1;33m\u001b[0m\u001b[1;33m\u001b[0m\u001b[0m\n\u001b[0;32m    788\u001b[0m                 \u001b[0mioargs\u001b[0m\u001b[1;33m.\u001b[0m\u001b[0mmode\u001b[0m\u001b[1;33m,\u001b[0m\u001b[1;33m\u001b[0m\u001b[1;33m\u001b[0m\u001b[0m\n",
      "\u001b[1;31mFileNotFoundError\u001b[0m: [Errno 2] No such file or directory: '/aiffel/aiffel/000_aiffelthon_230111/3김연수/002_data_dir/004_node_data/20210823_socar_zone.csv'"
     ]
    }
   ],
   "source": [
    "#2. 프로젝트(1)  ... data load\n",
    "#path = os.getenv('HOME') + '/aiffel/socar_gis/data/20210823_socar_zone.csv'\n",
    "path = '/aiffel/aiffel/000_aiffelthon_230111/3김연수/002_data_dir/004_node_data/20210823_socar_zone.csv'\n",
    "\n",
    "\n",
    "socar_zone_info_df = pd.read_csv(path)\n",
    "socar_zone_info_df.head()"
   ]
  },
  {
   "cell_type": "code",
   "execution_count": null,
   "id": "b0a22208",
   "metadata": {},
   "outputs": [],
   "source": [
    "socar_zone_info_df[socar_zone_info_df['region1'] == '서울특별시']"
   ]
  },
  {
   "cell_type": "code",
   "execution_count": null,
   "id": "8029fe45",
   "metadata": {},
   "outputs": [],
   "source": [
    "seoul_group_data = socar_zone_info_df.loc[socar_zone_info_df['region1'] == '서울특별시'].groupby('region2')['region2'].count()"
   ]
  },
  {
   "cell_type": "code",
   "execution_count": null,
   "id": "01f6171b",
   "metadata": {},
   "outputs": [],
   "source": [
    "seoul_group_data"
   ]
  },
  {
   "cell_type": "markdown",
   "id": "91e9ffe2",
   "metadata": {},
   "source": [
    "    2. 프로젝트(1) 서울시 쏘카존 데이터를 활용한 시각화\n",
    "       1) data load : socar zone data\n",
    "       2) 시각화"
   ]
  },
  {
   "cell_type": "code",
   "execution_count": null,
   "id": "7dbf9d23",
   "metadata": {},
   "outputs": [],
   "source": [
    "#2. 프로젝트(1)  # base nap : 서울시 중심부 위도, 경도\n",
    "center = [37.541, 126.986]\n",
    "\n",
    "map = folium.Map(\n",
    "    location=center,\n",
    "    zoom_start=10,\n",
    "    )\n",
    "print('슝~')"
   ]
  },
  {
   "cell_type": "code",
   "execution_count": null,
   "id": "ea1878f6",
   "metadata": {
    "scrolled": true
   },
   "outputs": [],
   "source": [
    "#2. 프로젝트(1)  # MarkerCluster 객체 \n",
    "marker_cluster = MarkerCluster().add_to(map)\n",
    "\n",
    "#maker 객체 추가\n",
    "for idx, row in socar_zone_info_df.iterrows():\n",
    "    try:\n",
    "        folium.Marker(\n",
    "            location=[socar_zone_info_df.loc[idx, \"lat\"], socar_zone_info_df.loc[idx, \"lng\"]],\n",
    "            popup=socar_zone_info_df.loc[idx, \"zone_name\"],\n",
    "            icon=folium.Icon(color=\"cadetblue\", icon=\"car\", prefix=\"fa\")            \n",
    "        ).add_to(marker_cluster)\n",
    "    except:\n",
    "        pass\n",
    "\n",
    "print('슝~')"
   ]
  },
  {
   "cell_type": "code",
   "execution_count": null,
   "id": "4157460b",
   "metadata": {
    "scrolled": false
   },
   "outputs": [],
   "source": [
    "#2. 프로젝트(1)  # map draw\n",
    "map"
   ]
  },
  {
   "cell_type": "markdown",
   "id": "759bacd3",
   "metadata": {},
   "source": [
    "    3. 프로젝트(2) 서울시 카페와 버스 정류장 밀도 데이터를 이용한 시각화\n",
    "           1) 카페data 정리\n",
    "              - data load\n",
    "              - 카페data 전처리 : 업종data분류\n",
    "              - 카페 위치데이터 리스트 만들기\n",
    "           2) 버스data 정리\n",
    "              - data load\n",
    "              - 버스data 전처리 .. 컬럼명 변경\n",
    "              - 버스 정류장 위치데이터 리스트 만들기\n",
    "           3) 시각화 \n",
    "              - Folium 초기 Map 객체 생성\n",
    "              - 레이어 적용을 위한 그룹 만들기\n",
    "              - 카페 밀도\n",
    "              - 버스정류장 밀도\n",
    "           4) 생성한 map 확인"
   ]
  },
  {
   "cell_type": "code",
   "execution_count": null,
   "id": "353062d5",
   "metadata": {},
   "outputs": [],
   "source": [
    "# #3. 프로젝트(2) ... 1) 카페data load\n",
    "# temp_seoul_store_df = pd.read_csv(os. getenv('HOME') + '/aiffel/socar_gis/data/seoul_store_info_202106.csv')\n",
    "\n",
    "# temp_seoul_store_df.head(3)"
   ]
  },
  {
   "cell_type": "code",
   "execution_count": null,
   "id": "ec5c7d8c",
   "metadata": {},
   "outputs": [],
   "source": [
    "# #3. 프로젝트(2) ... 1) 카페data 전처리 \n",
    "# seoul_cafe_store_df = temp_seoul_store_df[temp_seoul_store_df[\"상권업종소분류코드\"] == \"Q12A01\"]\n",
    "\n",
    "# seoul_cafe_store_df.head()"
   ]
  },
  {
   "cell_type": "code",
   "execution_count": null,
   "id": "b161b169",
   "metadata": {},
   "outputs": [],
   "source": [
    "#3. 프로젝트(2) ... 1) 카페data 전처리 확인 \n",
    "# seoul_cafe_store_df.info()"
   ]
  },
  {
   "cell_type": "code",
   "execution_count": null,
   "id": "1bebc4ca",
   "metadata": {},
   "outputs": [],
   "source": [
    "# #3. 프로젝트(2) ... 1) 카페data 전처리 ... # 카페 위치데이터 리스트 만들기\n",
    "# seoul_cafe_location_data = [[row[\"위도\"], row[\"경도\"]] for _, row in seoul_cafe_store_df.iterrows()]\n",
    "\n",
    "# print(\"슝~\")"
   ]
  },
  {
   "cell_type": "code",
   "execution_count": null,
   "id": "7cad36e3",
   "metadata": {},
   "outputs": [],
   "source": [
    "#3. 프로젝트(2) ... 2) 버스data load  \n",
    "path = os.getenv('HOME') + '/aiffel/000_aiffelthon_230111/3김연수/002_data_dir/004_node_data/seoul_bus_line_info.csv'\n",
    "bus_line_info_df =  pd.read_csv(path)\n",
    "bus_line_info_df.head()"
   ]
  },
  {
   "cell_type": "code",
   "execution_count": null,
   "id": "96071d31",
   "metadata": {},
   "outputs": [],
   "source": [
    "#3. 프로젝트(2) ... 2) 버스data 전처리 .. 컬럼명 변경\n",
    "bus_line_info_df.rename(\n",
    "    columns={\n",
    "        \"Y좌표\": \"lat\",\n",
    "        \"X좌표\": \"lng\",\n",
    "    },\n",
    "    inplace=True\n",
    ")\n",
    "\n",
    "bus_line_info_df.info()"
   ]
  },
  {
   "cell_type": "code",
   "execution_count": null,
   "id": "5e0d71d0",
   "metadata": {},
   "outputs": [],
   "source": [
    "#3. 프로젝트(2) ... 2) 버스 정류장 위치데이터 리스트 만들기\n",
    "bus_station_location_data = [[row[\"lat\"], row[\"lng\"]] for _, row in bus_line_info_df.iterrows()]\n",
    "print('슝~')\n",
    "#bus_station_location_data"
   ]
  },
  {
   "cell_type": "code",
   "execution_count": null,
   "id": "759d44d2",
   "metadata": {},
   "outputs": [],
   "source": [
    "#3. 프로젝트(2) ... 3)시각화  ... # Folium 초기 Map 객체 생성 \n",
    "\n",
    "center = [37.541, 126.986]\n",
    "\n",
    "map = folium.Map(\n",
    "    location=center,\n",
    "    tiles= \"Stamen Terrain\", \n",
    "    zoom_start= 15\n",
    ")\n",
    "print('슝~')"
   ]
  },
  {
   "cell_type": "code",
   "execution_count": null,
   "id": "1db66199",
   "metadata": {},
   "outputs": [],
   "source": [
    "#3. 프로젝트(2) ... 3) 시각화 # 레이어 적용을 위한 그룹 만들기\n",
    "# 대표 그룹 만들기\n",
    "fg = folium.FeatureGroup(name=\"groups\")\n",
    "map.add_child(fg)\n",
    "\n",
    "# 카페 그룹 만들기\n",
    "cafe = plugins.FeatureGroupSubGroup(fg, \"cafe_density\")\n",
    "map.add_child(cafe)\n",
    "\n",
    "# 버스정류장 그룹 만들기\n",
    "bus = plugins.FeatureGroupSubGroup(fg, \"bus_group\")\n",
    "map.add_child(bus)\n",
    "\n",
    "# 레이어 콘트롤 박스 만들기\n",
    "folium.LayerControl(collapsed=False).add_to(map)"
   ]
  },
  {
   "cell_type": "code",
   "execution_count": null,
   "id": "ede5607b",
   "metadata": {},
   "outputs": [],
   "source": [
    "# #3. 프로젝트(2) ... 3) 시각화 .. # 카페 밀도\n",
    "# plugins.HeatMap(seoul_cafe_location_data).add_to(cafe)"
   ]
  },
  {
   "cell_type": "code",
   "execution_count": null,
   "id": "7ffa2493",
   "metadata": {},
   "outputs": [],
   "source": [
    "#3. 프로젝트(2) ... 3) 시각화 ... # 버스정류장 밀도\n",
    "plugins.HeatMap(bus_station_location_data).add_to(bus)"
   ]
  },
  {
   "cell_type": "code",
   "execution_count": null,
   "id": "5cfee40f",
   "metadata": {
    "scrolled": false
   },
   "outputs": [],
   "source": [
    "#3. 프로젝트(2) ... 3) 시각화 ... # 생성한 맵 확인\n",
    "map"
   ]
  },
  {
   "cell_type": "markdown",
   "id": "86d10247",
   "metadata": {},
   "source": [
    "    4. 프로젝트(3) 시각화 자료에 쏘카존 데이터 추가하기\n",
    "        1) 초기 Map 객체를 생성\n",
    "        2) 레이어 적용을 위한 그룹 만들기\n",
    "        3) 쏘카존 마커 클러스터 만들기\n",
    "        4) 카페 밀도\n",
    "        5) 버스정류장 밀도\n",
    "        6) 생성한 map 확인"
   ]
  },
  {
   "cell_type": "code",
   "execution_count": null,
   "id": "62b7940a",
   "metadata": {},
   "outputs": [],
   "source": [
    "#4. 프로젝트(3) # 1)Folium 초기 Map 객체를 생성 합니다.\n",
    "\n",
    "# 서울시 중심부 위도, 경도\n",
    "center = [37.541, 126.986]\n",
    "\n",
    "map = folium.Map(\n",
    "    location=center,\n",
    "    zoom_start=10,\n",
    "    )\n",
    "print('슝~')"
   ]
  },
  {
   "cell_type": "code",
   "execution_count": null,
   "id": "6bf96ebf",
   "metadata": {},
   "outputs": [],
   "source": [
    "#4. 프로젝트(3)  .. # 2)레이어 적용을 위한 그룹 만들기\n",
    "# 대표 그룹 만들기\n",
    "fg = folium.FeatureGroup(name=\"groups\")\n",
    "map.add_child(fg)\n",
    "\n",
    "# 카페 그룹 만들기\n",
    "cafe = plugins.FeatureGroupSubGroup(fg, \"cafe_density\")\n",
    "map.add_child(cafe)\n",
    "\n",
    "# 버스정류장 그룹 만들기\n",
    "bus = plugins.FeatureGroupSubGroup(fg, \"bus_group\")\n",
    "map.add_child(bus)\n",
    "\n",
    "# 쏘카 그룹 만들기\n",
    "soacr = plugins.FeatureGroupSubGroup(fg, \"socar_zone\")\n",
    "map.add_child(soacr)\n",
    "\n",
    "# 레이어 콘트롤 박스 만들기\n",
    "folium.LayerControl(collapsed=False).add_to(map)"
   ]
  },
  {
   "cell_type": "code",
   "execution_count": null,
   "id": "e1cd6791",
   "metadata": {},
   "outputs": [],
   "source": [
    "#4. 프로젝트(3)  ..3) 쏘카존 마커 클러스터 만들기\n",
    "socar_zone_data = [[row[\"lat\"], row[\"lng\"]] for _, row in socar_zone_info_df.iterrows()]\n",
    "popups = [socar_zone_info_df.loc[idx, \"zone_name\"] for idx, row in socar_zone_info_df.iterrows()] #popup시 표시 될 주소\n",
    "\n",
    "mg = plugins.MarkerCluster( socar_zone_data, popups=popups,control=False)\n",
    "\n",
    "map.add_child(mg)"
   ]
  },
  {
   "cell_type": "code",
   "execution_count": null,
   "id": "3a6b6f82",
   "metadata": {},
   "outputs": [],
   "source": [
    "# #4. 프로젝트(3)  ..#4) 카페 밀도\n",
    "# plugins.HeatMap(seoul_cafe_location_data).add_to(cafe)"
   ]
  },
  {
   "cell_type": "code",
   "execution_count": null,
   "id": "c411f8b2",
   "metadata": {},
   "outputs": [],
   "source": [
    "#4. 프로젝트(3)  ..#5) 버스정류장 밀도\n",
    "plugins.HeatMap(bus_station_location_data).add_to(bus)"
   ]
  },
  {
   "cell_type": "code",
   "execution_count": null,
   "id": "ca7e18e9",
   "metadata": {
    "scrolled": false
   },
   "outputs": [],
   "source": [
    "# #4. 프로젝트(3)  ..6) 생성한 map 확인\n",
    "\n",
    "# map"
   ]
  }
 ],
 "metadata": {
  "kernelspec": {
   "display_name": "Python 3 (ipykernel)",
   "language": "python",
   "name": "python3"
  },
  "language_info": {
   "codemirror_mode": {
    "name": "ipython",
    "version": 3
   },
   "file_extension": ".py",
   "mimetype": "text/x-python",
   "name": "python",
   "nbconvert_exporter": "python",
   "pygments_lexer": "ipython3",
   "version": "3.9.13"
  }
 },
 "nbformat": 4,
 "nbformat_minor": 5
}
