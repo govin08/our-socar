{
 "cells": [
  {
   "cell_type": "code",
   "execution_count": 50,
   "id": "0f5a5272",
   "metadata": {
    "canvas": {
     "comments": [],
     "componentType": "CodeCell",
     "copiedOriginId": null,
     "diskcache": false,
     "headerColor": "none",
     "id": "55f81917-ef2c-4fa8-94e3-96a87231d70d",
     "isComponent": false,
     "name": "",
     "parents": []
    },
    "tags": []
   },
   "outputs": [],
   "source": [
    "import pandas as pd\n",
    "import numpy as np\n",
    "import dataframe_image as dfi"
   ]
  },
  {
   "cell_type": "code",
   "execution_count": 3,
   "id": "1500cc81",
   "metadata": {},
   "outputs": [],
   "source": [
    "# 데이터프레임을 그림 파일로 저장\n",
    "option = 3 # 1 : dfi / 2 : df2img / 3 : do nothing\n",
    "import df2img\n",
    "def savedf(df, path):\n",
    "    if option == 1:\n",
    "        dfi.export(df, path)\n",
    "    if option == 2:\n",
    "        df2img.save_dataframe(fig=df2img.plot_dataframe(df), filename=path)\n",
    "    if option == 3:\n",
    "        pass"
   ]
  },
  {
   "attachments": {},
   "cell_type": "markdown",
   "id": "81fbec43",
   "metadata": {},
   "source": [
    "# 데이터 작업"
   ]
  },
  {
   "attachments": {},
   "cell_type": "markdown",
   "id": "390d056f",
   "metadata": {},
   "source": [
    "## 공영주차장"
   ]
  },
  {
   "cell_type": "code",
   "execution_count": 35,
   "id": "e10fc6d7",
   "metadata": {},
   "outputs": [
    {
     "data": {
      "text/html": [
       "<div>\n",
       "<style scoped>\n",
       "    .dataframe tbody tr th:only-of-type {\n",
       "        vertical-align: middle;\n",
       "    }\n",
       "\n",
       "    .dataframe tbody tr th {\n",
       "        vertical-align: top;\n",
       "    }\n",
       "\n",
       "    .dataframe thead th {\n",
       "        text-align: right;\n",
       "    }\n",
       "</style>\n",
       "<table border=\"1\" class=\"dataframe\">\n",
       "  <thead>\n",
       "    <tr style=\"text-align: right;\">\n",
       "      <th></th>\n",
       "      <th>x</th>\n",
       "      <th>y</th>\n",
       "    </tr>\n",
       "  </thead>\n",
       "  <tbody>\n",
       "    <tr>\n",
       "      <th>0</th>\n",
       "      <td>126.775974</td>\n",
       "      <td>37.602341</td>\n",
       "    </tr>\n",
       "    <tr>\n",
       "      <th>1</th>\n",
       "      <td>126.773183</td>\n",
       "      <td>37.603747</td>\n",
       "    </tr>\n",
       "    <tr>\n",
       "      <th>2</th>\n",
       "      <td>126.771655</td>\n",
       "      <td>37.599860</td>\n",
       "    </tr>\n",
       "    <tr>\n",
       "      <th>3</th>\n",
       "      <td>126.771655</td>\n",
       "      <td>37.599860</td>\n",
       "    </tr>\n",
       "    <tr>\n",
       "      <th>4</th>\n",
       "      <td>126.764535</td>\n",
       "      <td>37.604175</td>\n",
       "    </tr>\n",
       "    <tr>\n",
       "      <th>5</th>\n",
       "      <td>126.722716</td>\n",
       "      <td>37.623533</td>\n",
       "    </tr>\n",
       "    <tr>\n",
       "      <th>6</th>\n",
       "      <td>126.721375</td>\n",
       "      <td>37.621440</td>\n",
       "    </tr>\n",
       "    <tr>\n",
       "      <th>7</th>\n",
       "      <td>126.721284</td>\n",
       "      <td>37.618403</td>\n",
       "    </tr>\n",
       "    <tr>\n",
       "      <th>8</th>\n",
       "      <td>126.720870</td>\n",
       "      <td>37.622733</td>\n",
       "    </tr>\n",
       "    <tr>\n",
       "      <th>9</th>\n",
       "      <td>126.719731</td>\n",
       "      <td>37.619008</td>\n",
       "    </tr>\n",
       "    <tr>\n",
       "      <th>10</th>\n",
       "      <td>126.718457</td>\n",
       "      <td>37.619929</td>\n",
       "    </tr>\n",
       "    <tr>\n",
       "      <th>11</th>\n",
       "      <td>126.717401</td>\n",
       "      <td>37.619740</td>\n",
       "    </tr>\n",
       "    <tr>\n",
       "      <th>12</th>\n",
       "      <td>126.716497</td>\n",
       "      <td>37.619773</td>\n",
       "    </tr>\n",
       "    <tr>\n",
       "      <th>13</th>\n",
       "      <td>126.729982</td>\n",
       "      <td>37.619153</td>\n",
       "    </tr>\n",
       "    <tr>\n",
       "      <th>14</th>\n",
       "      <td>126.729982</td>\n",
       "      <td>37.619153</td>\n",
       "    </tr>\n",
       "    <tr>\n",
       "      <th>15</th>\n",
       "      <td>126.729982</td>\n",
       "      <td>37.619153</td>\n",
       "    </tr>\n",
       "    <tr>\n",
       "      <th>16</th>\n",
       "      <td>126.729982</td>\n",
       "      <td>37.619153</td>\n",
       "    </tr>\n",
       "    <tr>\n",
       "      <th>17</th>\n",
       "      <td>126.729982</td>\n",
       "      <td>37.619153</td>\n",
       "    </tr>\n",
       "    <tr>\n",
       "      <th>18</th>\n",
       "      <td>126.716299</td>\n",
       "      <td>37.613608</td>\n",
       "    </tr>\n",
       "    <tr>\n",
       "      <th>19</th>\n",
       "      <td>126.715703</td>\n",
       "      <td>37.620639</td>\n",
       "    </tr>\n",
       "    <tr>\n",
       "      <th>20</th>\n",
       "      <td>126.715559</td>\n",
       "      <td>37.621067</td>\n",
       "    </tr>\n",
       "    <tr>\n",
       "      <th>21</th>\n",
       "      <td>126.714651</td>\n",
       "      <td>37.622142</td>\n",
       "    </tr>\n",
       "    <tr>\n",
       "      <th>22</th>\n",
       "      <td>126.713121</td>\n",
       "      <td>37.623679</td>\n",
       "    </tr>\n",
       "    <tr>\n",
       "      <th>23</th>\n",
       "      <td>126.711643</td>\n",
       "      <td>37.628451</td>\n",
       "    </tr>\n",
       "    <tr>\n",
       "      <th>24</th>\n",
       "      <td>126.710379</td>\n",
       "      <td>37.626936</td>\n",
       "    </tr>\n",
       "    <tr>\n",
       "      <th>25</th>\n",
       "      <td>126.702693</td>\n",
       "      <td>37.628300</td>\n",
       "    </tr>\n",
       "    <tr>\n",
       "      <th>26</th>\n",
       "      <td>126.673278</td>\n",
       "      <td>37.643229</td>\n",
       "    </tr>\n",
       "    <tr>\n",
       "      <th>27</th>\n",
       "      <td>126.672876</td>\n",
       "      <td>37.643522</td>\n",
       "    </tr>\n",
       "    <tr>\n",
       "      <th>28</th>\n",
       "      <td>126.669597</td>\n",
       "      <td>37.644906</td>\n",
       "    </tr>\n",
       "    <tr>\n",
       "      <th>29</th>\n",
       "      <td>126.669597</td>\n",
       "      <td>37.644906</td>\n",
       "    </tr>\n",
       "    <tr>\n",
       "      <th>30</th>\n",
       "      <td>126.669597</td>\n",
       "      <td>37.644906</td>\n",
       "    </tr>\n",
       "    <tr>\n",
       "      <th>31</th>\n",
       "      <td>126.669597</td>\n",
       "      <td>37.644906</td>\n",
       "    </tr>\n",
       "    <tr>\n",
       "      <th>32</th>\n",
       "      <td>126.667719</td>\n",
       "      <td>37.644063</td>\n",
       "    </tr>\n",
       "    <tr>\n",
       "      <th>33</th>\n",
       "      <td>126.634361</td>\n",
       "      <td>37.720244</td>\n",
       "    </tr>\n",
       "    <tr>\n",
       "      <th>34</th>\n",
       "      <td>126.630955</td>\n",
       "      <td>37.720276</td>\n",
       "    </tr>\n",
       "    <tr>\n",
       "      <th>35</th>\n",
       "      <td>126.600172</td>\n",
       "      <td>37.693810</td>\n",
       "    </tr>\n",
       "    <tr>\n",
       "      <th>36</th>\n",
       "      <td>126.552515</td>\n",
       "      <td>37.717104</td>\n",
       "    </tr>\n",
       "    <tr>\n",
       "      <th>37</th>\n",
       "      <td>126.545197</td>\n",
       "      <td>37.639831</td>\n",
       "    </tr>\n",
       "  </tbody>\n",
       "</table>\n",
       "</div>"
      ],
      "text/plain": [
       "             x          y\n",
       "0   126.775974  37.602341\n",
       "1   126.773183  37.603747\n",
       "2   126.771655  37.599860\n",
       "3   126.771655  37.599860\n",
       "4   126.764535  37.604175\n",
       "5   126.722716  37.623533\n",
       "6   126.721375  37.621440\n",
       "7   126.721284  37.618403\n",
       "8   126.720870  37.622733\n",
       "9   126.719731  37.619008\n",
       "10  126.718457  37.619929\n",
       "11  126.717401  37.619740\n",
       "12  126.716497  37.619773\n",
       "13  126.729982  37.619153\n",
       "14  126.729982  37.619153\n",
       "15  126.729982  37.619153\n",
       "16  126.729982  37.619153\n",
       "17  126.729982  37.619153\n",
       "18  126.716299  37.613608\n",
       "19  126.715703  37.620639\n",
       "20  126.715559  37.621067\n",
       "21  126.714651  37.622142\n",
       "22  126.713121  37.623679\n",
       "23  126.711643  37.628451\n",
       "24  126.710379  37.626936\n",
       "25  126.702693  37.628300\n",
       "26  126.673278  37.643229\n",
       "27  126.672876  37.643522\n",
       "28  126.669597  37.644906\n",
       "29  126.669597  37.644906\n",
       "30  126.669597  37.644906\n",
       "31  126.669597  37.644906\n",
       "32  126.667719  37.644063\n",
       "33  126.634361  37.720244\n",
       "34  126.630955  37.720276\n",
       "35  126.600172  37.693810\n",
       "36  126.552515  37.717104\n",
       "37  126.545197  37.639831"
      ]
     },
     "execution_count": 35,
     "metadata": {},
     "output_type": "execute_result"
    }
   ],
   "source": [
    "park = pd.read_csv(\"../../data/data_b_raw/2b208_0202_한국교통안전공단_전국공영주차장정보_20191224.csv\", encoding='CP949')\n",
    "park = park[park['지역구분']=='경기도']\n",
    "park = park[park['지역구분_sub']=='김포시'].reset_index(drop=True)\n",
    "park = park[['경도', '위도']].rename(columns={'경도':'x','위도':'y'})\n",
    "park"
   ]
  },
  {
   "attachments": {},
   "cell_type": "markdown",
   "id": "e9508326",
   "metadata": {
    "canvas": {
     "comments": [],
     "componentType": "CodeCell",
     "copiedOriginId": null,
     "diskcache": false,
     "headerColor": "none",
     "id": "6ab45911-2383-40e2-b5e3-4701fa505655",
     "isComponent": false,
     "name": "",
     "parents": []
    }
   },
   "source": [
    "## 쏘카존"
   ]
  },
  {
   "cell_type": "code",
   "execution_count": 20,
   "id": "05597a9c",
   "metadata": {
    "canvas": {
     "comments": [],
     "componentType": "CodeCell",
     "copiedOriginId": null,
     "diskcache": false,
     "headerColor": "none",
     "id": "2af4647c-af8b-4416-b4f3-e000614bb199",
     "isComponent": false,
     "name": "",
     "parents": []
    }
   },
   "outputs": [
    {
     "data": {
      "text/html": [
       "<div>\n",
       "<style scoped>\n",
       "    .dataframe tbody tr th:only-of-type {\n",
       "        vertical-align: middle;\n",
       "    }\n",
       "\n",
       "    .dataframe tbody tr th {\n",
       "        vertical-align: top;\n",
       "    }\n",
       "\n",
       "    .dataframe thead th {\n",
       "        text-align: right;\n",
       "    }\n",
       "</style>\n",
       "<table border=\"1\" class=\"dataframe\">\n",
       "  <thead>\n",
       "    <tr style=\"text-align: right;\">\n",
       "      <th></th>\n",
       "      <th>x</th>\n",
       "      <th>y</th>\n",
       "    </tr>\n",
       "  </thead>\n",
       "  <tbody>\n",
       "    <tr>\n",
       "      <th>0</th>\n",
       "      <td>126.623019</td>\n",
       "      <td>37.617659</td>\n",
       "    </tr>\n",
       "    <tr>\n",
       "      <th>1</th>\n",
       "      <td>126.704527</td>\n",
       "      <td>37.632688</td>\n",
       "    </tr>\n",
       "    <tr>\n",
       "      <th>2</th>\n",
       "      <td>126.704275</td>\n",
       "      <td>37.632106</td>\n",
       "    </tr>\n",
       "    <tr>\n",
       "      <th>3</th>\n",
       "      <td>126.685626</td>\n",
       "      <td>37.645857</td>\n",
       "    </tr>\n",
       "    <tr>\n",
       "      <th>4</th>\n",
       "      <td>126.726845</td>\n",
       "      <td>37.602009</td>\n",
       "    </tr>\n",
       "  </tbody>\n",
       "</table>\n",
       "</div>"
      ],
      "text/plain": [
       "            x          y\n",
       "0  126.623019  37.617659\n",
       "1  126.704527  37.632688\n",
       "2  126.704275  37.632106\n",
       "3  126.685626  37.645857\n",
       "4  126.726845  37.602009"
      ]
     },
     "execution_count": 20,
     "metadata": {},
     "output_type": "execute_result"
    }
   ],
   "source": [
    "# 쏘카존 갯수 데이터(김선중)\n",
    "# 출처 : https://d3s0tskafalll9.cloudfront.net/media/documents/20210823_socar_zone.csv (going deeper 4-6)\n",
    "zones = pd.read_csv(\"../../data/data_b_raw/2b201_1228_20210823_socar_zone.csv\")\n",
    "zones = zones[zones['region2']=='김포시'][['lng','lat']].reset_index(drop=True)\n",
    "zones.rename(columns={'lng':'x','lat':'y'}, inplace=True)\n",
    "zones.head()"
   ]
  },
  {
   "cell_type": "code",
   "execution_count": 5,
   "id": "d2e19768",
   "metadata": {},
   "outputs": [
    {
     "data": {
      "text/plain": [
       "55"
      ]
     },
     "execution_count": 5,
     "metadata": {},
     "output_type": "execute_result"
    }
   ],
   "source": [
    "len(zones)"
   ]
  },
  {
   "attachments": {},
   "cell_type": "markdown",
   "id": "cbe7e4c6-d939-41b9-862d-3793e14bdeb3",
   "metadata": {
    "canvas": {
     "comments": [],
     "componentType": "CodeCell",
     "copiedOriginId": null,
     "diskcache": false,
     "headerColor": "inherit",
     "id": "d5c3617c-3ef2-41d6-97ec-352f2cb34acb",
     "isComponent": false,
     "name": "",
     "parents": []
    }
   },
   "source": [
    "## 지하철역"
   ]
  },
  {
   "cell_type": "code",
   "execution_count": 22,
   "id": "8d9a3cf5",
   "metadata": {},
   "outputs": [
    {
     "data": {
      "text/html": [
       "<div>\n",
       "<style scoped>\n",
       "    .dataframe tbody tr th:only-of-type {\n",
       "        vertical-align: middle;\n",
       "    }\n",
       "\n",
       "    .dataframe tbody tr th {\n",
       "        vertical-align: top;\n",
       "    }\n",
       "\n",
       "    .dataframe thead th {\n",
       "        text-align: right;\n",
       "    }\n",
       "</style>\n",
       "<table border=\"1\" class=\"dataframe\">\n",
       "  <thead>\n",
       "    <tr style=\"text-align: right;\">\n",
       "      <th></th>\n",
       "      <th>x</th>\n",
       "      <th>y</th>\n",
       "    </tr>\n",
       "  </thead>\n",
       "  <tbody>\n",
       "    <tr>\n",
       "      <th>0</th>\n",
       "      <td>126.770345</td>\n",
       "      <td>37.601243</td>\n",
       "    </tr>\n",
       "    <tr>\n",
       "      <th>1</th>\n",
       "      <td>126.732387</td>\n",
       "      <td>37.612488</td>\n",
       "    </tr>\n",
       "    <tr>\n",
       "      <th>2</th>\n",
       "      <td>126.719731</td>\n",
       "      <td>37.620249</td>\n",
       "    </tr>\n",
       "    <tr>\n",
       "      <th>3</th>\n",
       "      <td>126.705975</td>\n",
       "      <td>37.631650</td>\n",
       "    </tr>\n",
       "    <tr>\n",
       "      <th>4</th>\n",
       "      <td>126.683930</td>\n",
       "      <td>37.653867</td>\n",
       "    </tr>\n",
       "    <tr>\n",
       "      <th>5</th>\n",
       "      <td>126.669017</td>\n",
       "      <td>37.643986</td>\n",
       "    </tr>\n",
       "    <tr>\n",
       "      <th>6</th>\n",
       "      <td>126.644344</td>\n",
       "      <td>37.640732</td>\n",
       "    </tr>\n",
       "    <tr>\n",
       "      <th>7</th>\n",
       "      <td>126.628633</td>\n",
       "      <td>37.645384</td>\n",
       "    </tr>\n",
       "    <tr>\n",
       "      <th>8</th>\n",
       "      <td>126.614309</td>\n",
       "      <td>37.642379</td>\n",
       "    </tr>\n",
       "  </tbody>\n",
       "</table>\n",
       "</div>"
      ],
      "text/plain": [
       "            x          y\n",
       "0  126.770345  37.601243\n",
       "1  126.732387  37.612488\n",
       "2  126.719731  37.620249\n",
       "3  126.705975  37.631650\n",
       "4  126.683930  37.653867\n",
       "5  126.669017  37.643986\n",
       "6  126.644344  37.640732\n",
       "7  126.628633  37.645384\n",
       "8  126.614309  37.642379"
      ]
     },
     "execution_count": 22,
     "metadata": {},
     "output_type": "execute_result"
    }
   ],
   "source": [
    "subway = pd.read_csv(\"../../data/data_b_raw/2b207_0202_서울시 역사마스터 정보.csv\", encoding='CP949')\n",
    "subway = subway[subway['호선']=='김포골드라인']\n",
    "subway = subway[1:][['위도', '경도']].reset_index(drop=True).rename(columns={'위도':'x','경도':'y'})\n",
    "subway"
   ]
  },
  {
   "cell_type": "code",
   "execution_count": 23,
   "id": "12aed107",
   "metadata": {},
   "outputs": [
    {
     "data": {
      "text/plain": [
       "9"
      ]
     },
     "execution_count": 23,
     "metadata": {},
     "output_type": "execute_result"
    }
   ],
   "source": [
    "len(subway)"
   ]
  },
  {
   "attachments": {},
   "cell_type": "markdown",
   "id": "6204f6d2",
   "metadata": {},
   "source": [
    "## 행복주택"
   ]
  },
  {
   "cell_type": "code",
   "execution_count": 29,
   "id": "e5849cbc",
   "metadata": {},
   "outputs": [
    {
     "data": {
      "text/html": [
       "<div>\n",
       "<style scoped>\n",
       "    .dataframe tbody tr th:only-of-type {\n",
       "        vertical-align: middle;\n",
       "    }\n",
       "\n",
       "    .dataframe tbody tr th {\n",
       "        vertical-align: top;\n",
       "    }\n",
       "\n",
       "    .dataframe thead th {\n",
       "        text-align: right;\n",
       "    }\n",
       "</style>\n",
       "<table border=\"1\" class=\"dataframe\">\n",
       "  <thead>\n",
       "    <tr style=\"text-align: right;\">\n",
       "      <th></th>\n",
       "      <th>x</th>\n",
       "      <th>y</th>\n",
       "    </tr>\n",
       "  </thead>\n",
       "  <tbody>\n",
       "    <tr>\n",
       "      <th>0</th>\n",
       "      <td>126.666760</td>\n",
       "      <td>37.637106</td>\n",
       "    </tr>\n",
       "    <tr>\n",
       "      <th>1</th>\n",
       "      <td>126.606499</td>\n",
       "      <td>37.688402</td>\n",
       "    </tr>\n",
       "    <tr>\n",
       "      <th>2</th>\n",
       "      <td>126.631548</td>\n",
       "      <td>37.658746</td>\n",
       "    </tr>\n",
       "    <tr>\n",
       "      <th>3</th>\n",
       "      <td>126.606511</td>\n",
       "      <td>37.689339</td>\n",
       "    </tr>\n",
       "    <tr>\n",
       "      <th>4</th>\n",
       "      <td>126.630224</td>\n",
       "      <td>37.660630</td>\n",
       "    </tr>\n",
       "    <tr>\n",
       "      <th>5</th>\n",
       "      <td>126.663865</td>\n",
       "      <td>37.636994</td>\n",
       "    </tr>\n",
       "    <tr>\n",
       "      <th>6</th>\n",
       "      <td>126.620401</td>\n",
       "      <td>37.646692</td>\n",
       "    </tr>\n",
       "  </tbody>\n",
       "</table>\n",
       "</div>"
      ],
      "text/plain": [
       "            x          y\n",
       "0  126.666760  37.637106\n",
       "1  126.606499  37.688402\n",
       "2  126.631548  37.658746\n",
       "3  126.606511  37.689339\n",
       "4  126.630224  37.660630\n",
       "5  126.663865  37.636994\n",
       "6  126.620401  37.646692"
      ]
     },
     "execution_count": 29,
     "metadata": {},
     "output_type": "execute_result"
    }
   ],
   "source": [
    "happyhouse = pd.read_csv(\"../../data/data_b_raw/2b206_0111_경기도 행복주택주거지현황.csv\")\n",
    "happyhouse = happyhouse[happyhouse['지역']=='김포시'].reset_index(drop=True)\n",
    "happyhouse = happyhouse[['경도', '위도']].rename(columns={'경도':'x', '위도':'y'})\n",
    "happyhouse"
   ]
  },
  {
   "attachments": {},
   "cell_type": "markdown",
   "id": "bdb3cc05",
   "metadata": {},
   "source": [
    "# 제안"
   ]
  },
  {
   "cell_type": "code",
   "execution_count": 38,
   "id": "d6839c36",
   "metadata": {},
   "outputs": [
    {
     "name": "stdout",
     "output_type": "stream",
     "text": [
      "n_park : 38\n",
      "n_zones : 55\n",
      "n_subway : 9\n",
      "n_happyhouse : 7\n"
     ]
    }
   ],
   "source": [
    "n_park = len(park)\n",
    "n_zones = len(zones)\n",
    "n_subway = len(subway)\n",
    "n_happyhouse = len(happyhouse)\n",
    "print(\"n_park :\",n_park)\n",
    "print(\"n_zones :\",n_zones)\n",
    "print(\"n_subway :\",n_subway)\n",
    "print(\"n_happyhouse :\",n_happyhouse)"
   ]
  },
  {
   "cell_type": "code",
   "execution_count": 61,
   "id": "4caf57c3",
   "metadata": {},
   "outputs": [
    {
     "data": {
      "text/plain": [
       "5.0"
      ]
     },
     "execution_count": 61,
     "metadata": {},
     "output_type": "execute_result"
    }
   ],
   "source": [
    "# euclidean distance\n",
    "def d(x:np.array, y:np.array)->float:\n",
    "    return np.linalg.norm(x-y)\n",
    "x = np.array([0,3])\n",
    "y = np.array([4,0])\n",
    "d(x,y)"
   ]
  },
  {
   "cell_type": "code",
   "execution_count": null,
   "id": "554a430c",
   "metadata": {},
   "outputs": [],
   "source": [
    "map()"
   ]
  },
  {
   "cell_type": "code",
   "execution_count": 68,
   "id": "74860e0a",
   "metadata": {},
   "outputs": [
    {
     "name": "stdout",
     "output_type": "stream",
     "text": [
      " The original array :  [1 2 3 4 5]\n",
      " The array after applying function :  [11 12 13 14 15]\n"
     ]
    }
   ],
   "source": [
    "import numpy as np\n",
    "# function to be applied to the array\n",
    "def add(num):\n",
    "    return num+10\n",
    "# creating  numpy array\n",
    "arr = np.array([1, 2, 3, 4, 5])\n",
    "# printing the original array\n",
    "print(\" The original array : \" , arr)\n",
    "# Apply add() function to array. \n",
    "arr = np.array(list(map(add, arr)))\n",
    "# printing the array after applying function\n",
    "print(\" The array after applying function : \" , arr)\n"
   ]
  },
  {
   "cell_type": "code",
   "execution_count": 67,
   "id": "aae8e033",
   "metadata": {},
   "outputs": [
    {
     "data": {
      "text/plain": [
       "array([126.775974,  37.602341])"
      ]
     },
     "execution_count": 67,
     "metadata": {},
     "output_type": "execute_result"
    }
   ],
   "source": [
    "park.values[0]"
   ]
  },
  {
   "cell_type": "code",
   "execution_count": 65,
   "id": "845dc7eb",
   "metadata": {},
   "outputs": [
    {
     "name": "stdout",
     "output_type": "stream",
     "text": [
      "[126.775974  37.602341]\n",
      "[126.773183  37.603747]\n",
      "[126.771655  37.59986 ]\n",
      "[126.771655  37.59986 ]\n",
      "[126.764535  37.604175]\n",
      "[126.722716  37.623533]\n",
      "[126.721375  37.62144 ]\n",
      "[126.721284  37.618403]\n",
      "[126.72087   37.622733]\n",
      "[126.719731  37.619008]\n",
      "[126.718457  37.619929]\n",
      "[126.717401  37.61974 ]\n",
      "[126.716497  37.619773]\n",
      "[126.729982  37.619153]\n",
      "[126.729982  37.619153]\n",
      "[126.729982  37.619153]\n",
      "[126.729982  37.619153]\n",
      "[126.729982  37.619153]\n",
      "[126.7162993  37.6136077]\n",
      "[126.715703  37.620639]\n",
      "[126.715559  37.621067]\n",
      "[126.714651  37.622142]\n",
      "[126.713121  37.623679]\n",
      "[126.711643  37.628451]\n",
      "[126.710379  37.626936]\n",
      "[126.702693  37.6283  ]\n",
      "[126.673278  37.643229]\n",
      "[126.672876  37.643522]\n",
      "[126.669597  37.644906]\n",
      "[126.669597  37.644906]\n",
      "[126.669597  37.644906]\n",
      "[126.669597  37.644906]\n",
      "[126.667719  37.644063]\n",
      "[126.634361  37.720244]\n",
      "[126.630955  37.720276]\n",
      "[126.600172  37.69381 ]\n",
      "[126.552515  37.717104]\n",
      "[126.545197  37.639831]\n"
     ]
    }
   ],
   "source": [
    "i=0\n",
    "for i in park.values:\n",
    "    print(i)"
   ]
  }
 ],
 "metadata": {
  "canvas": {
   "colorPalette": [
    "inherit",
    "inherit",
    "inherit",
    "inherit",
    "inherit",
    "inherit",
    "inherit",
    "inherit",
    "inherit",
    "inherit"
   ],
   "parameters": [],
   "version": "1.0"
  },
  "kernelspec": {
   "display_name": "Python 3",
   "language": "python",
   "name": "python3"
  },
  "language_info": {
   "codemirror_mode": {
    "name": "ipython",
    "version": 3
   },
   "file_extension": ".py",
   "mimetype": "text/x-python",
   "name": "python",
   "nbconvert_exporter": "python",
   "pygments_lexer": "ipython3",
   "version": "3.9.15"
  },
  "toc": {
   "base_numbering": 1,
   "nav_menu": {},
   "number_sections": true,
   "sideBar": true,
   "skip_h1_title": false,
   "title_cell": "Table of Contents",
   "title_sidebar": "Contents",
   "toc_cell": false,
   "toc_position": {
    "height": "calc(100% - 180px)",
    "left": "10px",
    "top": "150px",
    "width": "384px"
   },
   "toc_section_display": true,
   "toc_window_display": true
  },
  "toc-autonumbering": true,
  "varInspector": {
   "cols": {
    "lenName": 16,
    "lenType": 16,
    "lenVar": 40
   },
   "kernels_config": {
    "python": {
     "delete_cmd_postfix": "",
     "delete_cmd_prefix": "del ",
     "library": "var_list.py",
     "varRefreshCmd": "print(var_dic_list())"
    },
    "r": {
     "delete_cmd_postfix": ") ",
     "delete_cmd_prefix": "rm(",
     "library": "var_list.r",
     "varRefreshCmd": "cat(var_dic_list()) "
    }
   },
   "types_to_exclude": [
    "module",
    "function",
    "builtin_function_or_method",
    "instance",
    "_Feature"
   ],
   "window_display": false
  },
  "vscode": {
   "interpreter": {
    "hash": "b7a60c8f2c8d29e3138bb6141818b2f9370cc55944ffe85f7c0c63df44a79ba1"
   }
  }
 },
 "nbformat": 4,
 "nbformat_minor": 5
}
