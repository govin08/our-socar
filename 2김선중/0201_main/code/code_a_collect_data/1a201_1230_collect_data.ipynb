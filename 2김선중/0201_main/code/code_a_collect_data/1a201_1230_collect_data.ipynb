{
 "cells": [
  {
   "cell_type": "code",
   "execution_count": 66,
   "id": "0f5a5272",
   "metadata": {
    "canvas": {
     "comments": [],
     "componentType": "CodeCell",
     "copiedOriginId": null,
     "diskcache": false,
     "headerColor": "none",
     "id": "55f81917-ef2c-4fa8-94e3-96a87231d70d",
     "isComponent": false,
     "name": "",
     "parents": []
    },
    "tags": []
   },
   "outputs": [],
   "source": [
    "import pandas as pd\n",
    "import numpy as np\n",
    "import dataframe_image as dfi"
   ]
  },
  {
   "cell_type": "code",
   "execution_count": 67,
   "id": "1500cc81",
   "metadata": {},
   "outputs": [],
   "source": [
    "# 데이터프레임을 그림 파일로 저장\n",
    "option = 1 # 1 : dfi / 2 : df2img / 3 : do nothing\n",
    "import df2img\n",
    "def savedf(df, path):\n",
    "    if option == 1:\n",
    "        dfi.export(df, path)\n",
    "    if option == 2:\n",
    "        df2img.save_dataframe(fig=df2img.plot_dataframe(df), filename=path)\n",
    "    if option == 3:\n",
    "        pass"
   ]
  },
  {
   "attachments": {},
   "cell_type": "markdown",
   "id": "75a835a5",
   "metadata": {},
   "source": [
    "# 경기도 42개 지역(시, 군, 구) 선정"
   ]
  },
  {
   "cell_type": "code",
   "execution_count": 68,
   "id": "9bd68d67",
   "metadata": {
    "canvas": {
     "comments": [],
     "componentType": "CodeCell",
     "copiedOriginId": null,
     "diskcache": false,
     "headerColor": "none",
     "id": "74c9f54c-374f-4c3c-b90b-fae859732167",
     "isComponent": false,
     "name": "",
     "parents": []
    }
   },
   "outputs": [],
   "source": [
    "# 행정구역상 경기도에 소속되어 있는 지역들 중\n",
    "# 구(區)가 존재하지 않는 시(市)의 경우에는 시를\n",
    "# 구가 존재하는 시는 구를 고려하면, 총 42개의 지역을 선정할 수 있다.\n",
    "# 출처 : https://www.gg.go.kr/contents/contents.do?ciIdx=468&menuId=1831\n",
    "regions = pd.read_csv(\"../../data/data_b_raw/2b200_1230_rows.csv\")"
   ]
  },
  {
   "cell_type": "code",
   "execution_count": 69,
   "id": "3985ae4d-a3c7-42e2-b124-cbd219f50ad1",
   "metadata": {
    "canvas": {
     "comments": [],
     "componentType": "CodeCell",
     "copiedOriginId": null,
     "diskcache": false,
     "headerColor": "inherit",
     "id": "c7bd68f7-df3e-41aa-9a1f-9cde6b90ae48",
     "isComponent": false,
     "name": "",
     "parents": []
    }
   },
   "outputs": [
    {
     "data": {
      "text/plain": [
       "['가평군',\n",
       " '고양시 덕양구',\n",
       " '고양시 일산동구',\n",
       " '고양시 일산서구',\n",
       " '과천시',\n",
       " '광명시',\n",
       " '광주시',\n",
       " '구리시',\n",
       " '군포시',\n",
       " '김포시',\n",
       " '남양주시',\n",
       " '동두천시',\n",
       " '부천시',\n",
       " '성남시 분당구',\n",
       " '성남시 수정구',\n",
       " '성남시 중원구',\n",
       " '수원시 권선구',\n",
       " '수원시 영통구',\n",
       " '수원시 장안구',\n",
       " '수원시 팔달구',\n",
       " '시흥시',\n",
       " '안산시 단원구',\n",
       " '안산시 상록구',\n",
       " '안성시',\n",
       " '안양시 동안구',\n",
       " '안양시 만안구',\n",
       " '양주시',\n",
       " '양평군',\n",
       " '여주시',\n",
       " '연천군',\n",
       " '오산시',\n",
       " '용인시 기흥구',\n",
       " '용인시 수지구',\n",
       " '용인시 처인구',\n",
       " '의왕시',\n",
       " '의정부시',\n",
       " '이천시',\n",
       " '파주시',\n",
       " '평택시',\n",
       " '포천시',\n",
       " '하남시',\n",
       " '화성시']"
      ]
     },
     "execution_count": 69,
     "metadata": {},
     "output_type": "execute_result"
    }
   ],
   "source": [
    "# 지역목록 1 ; \"xx시\", \"xx군\", \"xx시 xx구\"\n",
    "regions = sorted(list(regions['지역']))\n",
    "regions"
   ]
  },
  {
   "cell_type": "code",
   "execution_count": 70,
   "id": "6357b6b8-fd12-4149-bb39-e34964a8c902",
   "metadata": {
    "canvas": {
     "comments": [],
     "componentType": "CodeCell",
     "copiedOriginId": null,
     "diskcache": false,
     "headerColor": "inherit",
     "id": "1dfd5dc9-1102-4683-be9b-d1bf664e59e7",
     "isComponent": false,
     "name": "",
     "parents": []
    }
   },
   "outputs": [
    {
     "data": {
      "text/plain": [
       "['가평군',\n",
       " '덕양구',\n",
       " '일산동구',\n",
       " '일산서구',\n",
       " '과천시',\n",
       " '광명시',\n",
       " '광주시',\n",
       " '구리시',\n",
       " '군포시',\n",
       " '김포시',\n",
       " '남양주시',\n",
       " '동두천시',\n",
       " '부천시',\n",
       " '분당구',\n",
       " '수정구',\n",
       " '중원구',\n",
       " '권선구',\n",
       " '영통구',\n",
       " '장안구',\n",
       " '팔달구',\n",
       " '시흥시',\n",
       " '단원구',\n",
       " '상록구',\n",
       " '안성시',\n",
       " '동안구',\n",
       " '만안구',\n",
       " '양주시',\n",
       " '양평군',\n",
       " '여주시',\n",
       " '연천군',\n",
       " '오산시',\n",
       " '기흥구',\n",
       " '수지구',\n",
       " '처인구',\n",
       " '의왕시',\n",
       " '의정부시',\n",
       " '이천시',\n",
       " '파주시',\n",
       " '평택시',\n",
       " '포천시',\n",
       " '하남시',\n",
       " '화성시']"
      ]
     },
     "execution_count": 70,
     "metadata": {},
     "output_type": "execute_result"
    }
   ],
   "source": [
    "# 지역목록 2 ; \"xx시\", \"xx군\", \"xx구\"\n",
    "regions_ = [i.split() for i in list(regions)] # list of lists\n",
    "regions_ = sum(regions_, []) # flattening\n",
    "regions_ = [region for region in regions_ if region not in ['고양시', '성남시', '수원시', '안산시', '안양시', '용인시']]\n",
    "regions_"
   ]
  },
  {
   "cell_type": "code",
   "execution_count": 71,
   "id": "19c5693b-1f87-4502-8b05-73e5918ebd29",
   "metadata": {
    "canvas": {
     "comments": [],
     "componentType": "CodeCell",
     "copiedOriginId": null,
     "diskcache": false,
     "headerColor": "inherit",
     "id": "c4475a49-d468-4f5e-be5d-41e3a6fc5ae6",
     "isComponent": false,
     "name": "",
     "parents": []
    }
   },
   "outputs": [
    {
     "name": "stdout",
     "output_type": "stream",
     "text": [
      "팔달구\n",
      "수원시 팔달구\n",
      "의왕시\n",
      "의왕시\n"
     ]
    }
   ],
   "source": [
    "dict1 = dict(zip(regions, regions_)) # \"xx시 xx구\"를 \"xx구\"로 바꾼다.\n",
    "dict2 = dict(zip(regions_, regions)) # \"xx구\"를 \"xx시 xx구\"로 바꾼다.\n",
    "print(dict1['수원시 팔달구'])\n",
    "print(dict2['팔달구'])\n",
    "print(dict1['의왕시'])\n",
    "print(dict2['의왕시'])"
   ]
  },
  {
   "cell_type": "code",
   "execution_count": 72,
   "id": "01383dc7",
   "metadata": {
    "canvas": {
     "comments": [],
     "componentType": "CodeCell",
     "copiedOriginId": null,
     "diskcache": false,
     "headerColor": "none",
     "id": "1ea10314-0f44-49a9-80b5-4f58926c5716",
     "isComponent": false,
     "name": "",
     "parents": []
    }
   },
   "outputs": [
    {
     "data": {
      "text/plain": [
       "['덕양구',\n",
       " '일산동구',\n",
       " '일산서구',\n",
       " '분당구',\n",
       " '수정구',\n",
       " '중원구',\n",
       " '권선구',\n",
       " '영통구',\n",
       " '장안구',\n",
       " '팔달구',\n",
       " '단원구',\n",
       " '상록구',\n",
       " '동안구',\n",
       " '만안구',\n",
       " '기흥구',\n",
       " '수지구',\n",
       " '처인구']"
      ]
     },
     "execution_count": 72,
     "metadata": {},
     "output_type": "execute_result"
    }
   ],
   "source": [
    "# 시 목록 # 25개\n",
    "city_list = ['가평군', '과천시', '광명시', '광주시', '구리시', '군포시', '김포시', '남양주시', '동두천시', '부천시', '시흥시', '안성시',\n",
    "             '양주시', '양평군', '여주시', '연천군', '오산시', '의왕시', '의정부시', '이천시', '파주시', '평택시', '포천시', '하남시', '화성시']\n",
    "# 구 목록 1 # 17개\n",
    "district_list = [ '고양시 덕양구', '고양시 일산동구', '고양시 일산서구', # 고양\n",
    "                 '성남시 분당구', '성남시 수정구', '성남시 중원구', # 성남\n",
    "                 '수원시 권선구',  '수원시 영통구', '수원시 장안구', '수원시 팔달구', # 수원\n",
    "                 '안산시 단원구', '안산시 상록구', # 안산\n",
    "                 '안양시 동안구', '안양시 만안구', # 안양\n",
    "                 '용인시 기흥구', '용인시 수지구', '용인시 처인구'] # 용인\n",
    "# # 구 목록 2 # 17개\n",
    "district_list_ = [dict1[region] for region in district_list]\n",
    "district_list_"
   ]
  },
  {
   "cell_type": "code",
   "execution_count": 73,
   "id": "ed1d25d9",
   "metadata": {
    "canvas": {
     "comments": [],
     "componentType": "CodeCell",
     "copiedOriginId": null,
     "diskcache": false,
     "headerColor": "none",
     "id": "8d659c27-1c84-451f-847c-1ce4d99f0168",
     "isComponent": false,
     "name": "",
     "parents": []
    }
   },
   "outputs": [
    {
     "name": "stdout",
     "output_type": "stream",
     "text": [
      "25 + 17 = 42\n"
     ]
    }
   ],
   "source": [
    "# sanity check\n",
    "print(len(city_list),'+',len(district_list),'=', len(regions))"
   ]
  },
  {
   "attachments": {},
   "cell_type": "markdown",
   "id": "ff685da1",
   "metadata": {},
   "source": [
    "## 지역별 위도, 경도"
   ]
  },
  {
   "cell_type": "code",
   "execution_count": 74,
   "id": "d4e93f84",
   "metadata": {},
   "outputs": [
    {
     "data": {
      "text/html": [
       "<div>\n",
       "<style scoped>\n",
       "    .dataframe tbody tr th:only-of-type {\n",
       "        vertical-align: middle;\n",
       "    }\n",
       "\n",
       "    .dataframe tbody tr th {\n",
       "        vertical-align: top;\n",
       "    }\n",
       "\n",
       "    .dataframe thead th {\n",
       "        text-align: right;\n",
       "    }\n",
       "</style>\n",
       "<table border=\"1\" class=\"dataframe\">\n",
       "  <thead>\n",
       "    <tr style=\"text-align: right;\">\n",
       "      <th></th>\n",
       "      <th>위도</th>\n",
       "      <th>경도</th>\n",
       "    </tr>\n",
       "    <tr>\n",
       "      <th>지역</th>\n",
       "      <th></th>\n",
       "      <th></th>\n",
       "    </tr>\n",
       "  </thead>\n",
       "  <tbody>\n",
       "    <tr>\n",
       "      <th>수원시 장안구</th>\n",
       "      <td>37.303971</td>\n",
       "      <td>127.001743</td>\n",
       "    </tr>\n",
       "    <tr>\n",
       "      <th>수원시 권선구</th>\n",
       "      <td>37.257687</td>\n",
       "      <td>126.963532</td>\n",
       "    </tr>\n",
       "    <tr>\n",
       "      <th>수원시 팔달구</th>\n",
       "      <td>37.282570</td>\n",
       "      <td>127.011718</td>\n",
       "    </tr>\n",
       "    <tr>\n",
       "      <th>수원시 영통구</th>\n",
       "      <td>37.259600</td>\n",
       "      <td>127.042341</td>\n",
       "    </tr>\n",
       "    <tr>\n",
       "      <th>용인시 처인구</th>\n",
       "      <td>37.234346</td>\n",
       "      <td>127.192965</td>\n",
       "    </tr>\n",
       "  </tbody>\n",
       "</table>\n",
       "</div>"
      ],
      "text/plain": [
       "                위도          경도\n",
       "지역                            \n",
       "수원시 장안구  37.303971  127.001743\n",
       "수원시 권선구  37.257687  126.963532\n",
       "수원시 팔달구  37.282570  127.011718\n",
       "수원시 영통구  37.259600  127.042341\n",
       "용인시 처인구  37.234346  127.192965"
      ]
     },
     "execution_count": 74,
     "metadata": {},
     "output_type": "execute_result"
    }
   ],
   "source": [
    "locations = pd.read_csv(\"../../data/data_b_raw/2b205_0110_locations.csv\")\n",
    "locations.set_index(\"지역\", inplace=True)\n",
    "locations.rename(columns={'latitude':'위도', 'longitude':'경도'}, inplace=True)\n",
    "locations.head()"
   ]
  },
  {
   "attachments": {},
   "cell_type": "markdown",
   "id": "9903ad7e",
   "metadata": {
    "canvas": {
     "comments": [],
     "componentType": "CodeCell",
     "copiedOriginId": null,
     "diskcache": false,
     "headerColor": "none",
     "id": "a13bb361-9a20-430f-8e99-042a7d428c21",
     "isComponent": false,
     "name": "",
     "parents": []
    }
   },
   "source": [
    "# 각 feature별 데이터 수집"
   ]
  },
  {
   "cell_type": "markdown",
   "id": "e9508326",
   "metadata": {
    "canvas": {
     "comments": [],
     "componentType": "CodeCell",
     "copiedOriginId": null,
     "diskcache": false,
     "headerColor": "none",
     "id": "6ab45911-2383-40e2-b5e3-4701fa505655",
     "isComponent": false,
     "name": "",
     "parents": []
    }
   },
   "source": [
    "## 쏘카존 수 : `zcount`"
   ]
  },
  {
   "cell_type": "code",
   "execution_count": 75,
   "id": "05597a9c",
   "metadata": {
    "canvas": {
     "comments": [],
     "componentType": "CodeCell",
     "copiedOriginId": null,
     "diskcache": false,
     "headerColor": "none",
     "id": "2af4647c-af8b-4416-b4f3-e000614bb199",
     "isComponent": false,
     "name": "",
     "parents": []
    }
   },
   "outputs": [
    {
     "data": {
      "text/html": [
       "<div>\n",
       "<style scoped>\n",
       "    .dataframe tbody tr th:only-of-type {\n",
       "        vertical-align: middle;\n",
       "    }\n",
       "\n",
       "    .dataframe tbody tr th {\n",
       "        vertical-align: top;\n",
       "    }\n",
       "\n",
       "    .dataframe thead th {\n",
       "        text-align: right;\n",
       "    }\n",
       "</style>\n",
       "<table border=\"1\" class=\"dataframe\">\n",
       "  <thead>\n",
       "    <tr style=\"text-align: right;\">\n",
       "      <th></th>\n",
       "      <th>zone_name</th>\n",
       "      <th>lng</th>\n",
       "      <th>lat</th>\n",
       "      <th>region1</th>\n",
       "      <th>region2</th>\n",
       "      <th>region3</th>\n",
       "    </tr>\n",
       "  </thead>\n",
       "  <tbody>\n",
       "    <tr>\n",
       "      <th>0</th>\n",
       "      <td>비전2 파출소사거리</td>\n",
       "      <td>127.102939</td>\n",
       "      <td>36.995989</td>\n",
       "      <td>경기도</td>\n",
       "      <td>평택시</td>\n",
       "      <td>비전동</td>\n",
       "    </tr>\n",
       "    <tr>\n",
       "      <th>1</th>\n",
       "      <td>수원시청역 9번출구</td>\n",
       "      <td>127.032953</td>\n",
       "      <td>37.262378</td>\n",
       "      <td>경기도</td>\n",
       "      <td>수원시　팔달구</td>\n",
       "      <td>인계동</td>\n",
       "    </tr>\n",
       "    <tr>\n",
       "      <th>2</th>\n",
       "      <td>목포 상동현대아파트 앞</td>\n",
       "      <td>126.415655</td>\n",
       "      <td>34.811289</td>\n",
       "      <td>전라남도</td>\n",
       "      <td>목포시</td>\n",
       "      <td>상동</td>\n",
       "    </tr>\n",
       "    <tr>\n",
       "      <th>3</th>\n",
       "      <td>단국대 산학협력관 앞</td>\n",
       "      <td>127.166626</td>\n",
       "      <td>36.832965</td>\n",
       "      <td>충청남도</td>\n",
       "      <td>천안시　동남구</td>\n",
       "      <td>신부동</td>\n",
       "    </tr>\n",
       "    <tr>\n",
       "      <th>4</th>\n",
       "      <td>목원대학교 앞</td>\n",
       "      <td>127.337858</td>\n",
       "      <td>36.329906</td>\n",
       "      <td>대전광역시</td>\n",
       "      <td>서구</td>\n",
       "      <td>도안동</td>\n",
       "    </tr>\n",
       "  </tbody>\n",
       "</table>\n",
       "</div>"
      ],
      "text/plain": [
       "      zone_name         lng        lat region1  region2 region3\n",
       "0    비전2 파출소사거리  127.102939  36.995989     경기도      평택시     비전동\n",
       "1    수원시청역 9번출구  127.032953  37.262378     경기도  수원시　팔달구     인계동\n",
       "2  목포 상동현대아파트 앞  126.415655  34.811289    전라남도      목포시      상동\n",
       "3   단국대 산학협력관 앞  127.166626  36.832965    충청남도  천안시　동남구     신부동\n",
       "4       목원대학교 앞  127.337858  36.329906   대전광역시       서구     도안동"
      ]
     },
     "execution_count": 75,
     "metadata": {},
     "output_type": "execute_result"
    }
   ],
   "source": [
    "# 쏘카존 갯수 데이터(김선중)\n",
    "# 출처 : https://d3s0tskafalll9.cloudfront.net/media/documents/20210823_socar_zone.csv (going deeper 4-6)\n",
    "zones = pd.read_csv(\"../../data/data_b_raw/2b201_1228_20210823_socar_zone.csv\")\n",
    "zones.head()"
   ]
  },
  {
   "cell_type": "code",
   "execution_count": 76,
   "id": "be246556",
   "metadata": {
    "canvas": {
     "comments": [],
     "componentType": "CodeCell",
     "copiedOriginId": null,
     "diskcache": false,
     "headerColor": "none",
     "id": "8280bd93-398a-44fe-8c35-d3f8bad53b01",
     "isComponent": false,
     "name": "",
     "parents": []
    }
   },
   "outputs": [
    {
     "data": {
      "text/html": [
       "<div>\n",
       "<style scoped>\n",
       "    .dataframe tbody tr th:only-of-type {\n",
       "        vertical-align: middle;\n",
       "    }\n",
       "\n",
       "    .dataframe tbody tr th {\n",
       "        vertical-align: top;\n",
       "    }\n",
       "\n",
       "    .dataframe thead th {\n",
       "        text-align: right;\n",
       "    }\n",
       "</style>\n",
       "<table border=\"1\" class=\"dataframe\">\n",
       "  <thead>\n",
       "    <tr style=\"text-align: right;\">\n",
       "      <th></th>\n",
       "      <th>zone_name</th>\n",
       "      <th>lng</th>\n",
       "      <th>lat</th>\n",
       "      <th>region1</th>\n",
       "      <th>region2</th>\n",
       "      <th>region3</th>\n",
       "    </tr>\n",
       "  </thead>\n",
       "  <tbody>\n",
       "    <tr>\n",
       "      <th>0</th>\n",
       "      <td>비전2 파출소사거리</td>\n",
       "      <td>127.102939</td>\n",
       "      <td>36.995989</td>\n",
       "      <td>경기도</td>\n",
       "      <td>평택시</td>\n",
       "      <td>비전동</td>\n",
       "    </tr>\n",
       "    <tr>\n",
       "      <th>1</th>\n",
       "      <td>수원시청역 9번출구</td>\n",
       "      <td>127.032953</td>\n",
       "      <td>37.262378</td>\n",
       "      <td>경기도</td>\n",
       "      <td>수원시　팔달구</td>\n",
       "      <td>인계동</td>\n",
       "    </tr>\n",
       "    <tr>\n",
       "      <th>2</th>\n",
       "      <td>수원대 쪽문(평생교육원 뒤)</td>\n",
       "      <td>126.980617</td>\n",
       "      <td>37.213111</td>\n",
       "      <td>경기도</td>\n",
       "      <td>화성시</td>\n",
       "      <td>봉담읍</td>\n",
       "    </tr>\n",
       "    <tr>\n",
       "      <th>3</th>\n",
       "      <td>수원시청역 1번출구</td>\n",
       "      <td>127.034731</td>\n",
       "      <td>37.258294</td>\n",
       "      <td>경기도</td>\n",
       "      <td>수원시　팔달구</td>\n",
       "      <td>인계동</td>\n",
       "    </tr>\n",
       "    <tr>\n",
       "      <th>4</th>\n",
       "      <td>판곡초등학교 앞</td>\n",
       "      <td>127.240318</td>\n",
       "      <td>37.657671</td>\n",
       "      <td>경기도</td>\n",
       "      <td>남양주시</td>\n",
       "      <td>호평동</td>\n",
       "    </tr>\n",
       "  </tbody>\n",
       "</table>\n",
       "</div>"
      ],
      "text/plain": [
       "         zone_name         lng        lat region1  region2 region3\n",
       "0       비전2 파출소사거리  127.102939  36.995989     경기도      평택시     비전동\n",
       "1       수원시청역 9번출구  127.032953  37.262378     경기도  수원시　팔달구     인계동\n",
       "2  수원대 쪽문(평생교육원 뒤)  126.980617  37.213111     경기도      화성시     봉담읍\n",
       "3       수원시청역 1번출구  127.034731  37.258294     경기도  수원시　팔달구     인계동\n",
       "4         판곡초등학교 앞  127.240318  37.657671     경기도     남양주시     호평동"
      ]
     },
     "execution_count": 76,
     "metadata": {},
     "output_type": "execute_result"
    }
   ],
   "source": [
    "zones = zones[zones['region1']==\"경기도\"] # 경기도 자료만 자르기\n",
    "zones = zones.reset_index(drop=True)\n",
    "zones.head()"
   ]
  },
  {
   "cell_type": "code",
   "execution_count": 77,
   "id": "e9c24046",
   "metadata": {
    "canvas": {
     "comments": [],
     "componentType": "CodeCell",
     "copiedOriginId": null,
     "diskcache": false,
     "headerColor": "none",
     "id": "b021f4fc-c1a7-4591-a596-185ce74ffd79",
     "isComponent": false,
     "name": "",
     "parents": []
    }
   },
   "outputs": [
    {
     "name": "stdout",
     "output_type": "stream",
     "text": [
      "['평택시' '수원시\\u3000팔달구' '화성시' '남양주시' '하남시' '수원시\\u3000영통구' '용인시\\u3000기흥구'\n",
      " '부천시' '이천시' '광명시' '고양시\\u3000일산동구' '양주시' '여주시' '안양시\\u3000동안구' '파주시' '구리시'\n",
      " '시흥시' '고양시\\u3000일산서구' '성남시\\u3000수정구' '의정부시' '오산시' '수원시\\u3000장안구'\n",
      " '성남시\\u3000중원구' '안산시\\u3000단원구' '광주시' '용인시\\u3000수지구' '고양시\\u3000덕양구'\n",
      " '용인시\\u3000처인구' '안양시\\u3000만안구' '김포시' '포천시' '군포시' '성남시\\u3000분당구'\n",
      " '수원시\\u3000권선구' '양평군' '안산시\\u3000상록구' '동두천시' '가평군' '안성시' '의왕시' '연천군' '과천시']\n",
      "42\n"
     ]
    }
   ],
   "source": [
    "print(zones['region2'].unique())\n",
    "print(zones['region2'].nunique()) # region2의 갯수는 42개"
   ]
  },
  {
   "cell_type": "code",
   "execution_count": 78,
   "id": "d9c90484",
   "metadata": {
    "canvas": {
     "comments": [],
     "componentType": "CodeCell",
     "copiedOriginId": null,
     "diskcache": false,
     "headerColor": "none",
     "id": "a569686d-dc97-4448-9427-604a8366842c",
     "isComponent": false,
     "name": "",
     "parents": []
    }
   },
   "outputs": [],
   "source": [
    "zones['region2'].replace({ \n",
    "    '수원시\\u3000팔달구':'수원시 팔달구', '수원시\\u3000영통구':'수원시 영통구', '용인시\\u3000기흥구':'용인시 기흥구',\n",
    "    '고양시\\u3000일산동구':'고양시 일산동구', '안양시\\u3000동안구':'안양시 동안구', '고양시\\u3000일산서구':'고양시 일산서구',\n",
    "    '성남시\\u3000수정구':'성남시 수정구', '수원시\\u3000장안구':'수원시 장안구', '성남시\\u3000중원구':'성남시 중원구',\n",
    "    '안산시\\u3000단원구':'안산시 단원구', '용인시\\u3000수지구':'용인시 수지구', '고양시\\u3000덕양구':'고양시 덕양구',\n",
    "    '용인시\\u3000처인구':'용인시 처인구', '안양시\\u3000만안구':'안양시 만안구', '성남시\\u3000분당구':'성남시 분당구',\n",
    "    '수원시\\u3000권선구':'수원시 권선구', '안산시\\u3000상록구':'안산시 상록구',}, inplace=True)\n",
    "# \\u3000을 space로 변환 (더 좋은 코딩방법이 있을 것 같다.)\n",
    "# l  = ['element1\\t0238.94', 'element2', 'element3\\t0139847']\n",
    "# [i.split('\\t', 1)[0] for i in l]"
   ]
  },
  {
   "cell_type": "code",
   "execution_count": 79,
   "id": "6218a745",
   "metadata": {
    "canvas": {
     "comments": [],
     "componentType": "CodeCell",
     "copiedOriginId": null,
     "diskcache": false,
     "headerColor": "none",
     "id": "35c7f3ef-c9db-47e5-ad6c-c4e19b3b2c50",
     "isComponent": false,
     "name": "",
     "parents": []
    }
   },
   "outputs": [
    {
     "data": {
      "text/plain": [
       "True"
      ]
     },
     "execution_count": 79,
     "metadata": {},
     "output_type": "execute_result"
    }
   ],
   "source": [
    "sorted(zones['region2'].unique()) == regions # 앞서 선정한 42개 지역 목록과 일치한다."
   ]
  },
  {
   "cell_type": "code",
   "execution_count": 80,
   "id": "9890069f",
   "metadata": {
    "canvas": {
     "comments": [],
     "componentType": "CodeCell",
     "copiedOriginId": null,
     "diskcache": false,
     "headerColor": "none",
     "id": "df049917-f236-4f67-aee0-203cab0c9c42",
     "isComponent": false,
     "name": "",
     "parents": []
    }
   },
   "outputs": [
    {
     "data": {
      "text/html": [
       "<div>\n",
       "<style scoped>\n",
       "    .dataframe tbody tr th:only-of-type {\n",
       "        vertical-align: middle;\n",
       "    }\n",
       "\n",
       "    .dataframe tbody tr th {\n",
       "        vertical-align: top;\n",
       "    }\n",
       "\n",
       "    .dataframe thead th {\n",
       "        text-align: right;\n",
       "    }\n",
       "</style>\n",
       "<table border=\"1\" class=\"dataframe\">\n",
       "  <thead>\n",
       "    <tr style=\"text-align: right;\">\n",
       "      <th></th>\n",
       "      <th>쏘카존 수</th>\n",
       "    </tr>\n",
       "  </thead>\n",
       "  <tbody>\n",
       "    <tr>\n",
       "      <th>가평군</th>\n",
       "      <td>7</td>\n",
       "    </tr>\n",
       "    <tr>\n",
       "      <th>고양시 덕양구</th>\n",
       "      <td>48</td>\n",
       "    </tr>\n",
       "    <tr>\n",
       "      <th>고양시 일산동구</th>\n",
       "      <td>51</td>\n",
       "    </tr>\n",
       "    <tr>\n",
       "      <th>고양시 일산서구</th>\n",
       "      <td>29</td>\n",
       "    </tr>\n",
       "    <tr>\n",
       "      <th>과천시</th>\n",
       "      <td>3</td>\n",
       "    </tr>\n",
       "  </tbody>\n",
       "</table>\n",
       "</div>"
      ],
      "text/plain": [
       "          쏘카존 수\n",
       "가평군           7\n",
       "고양시 덕양구      48\n",
       "고양시 일산동구     51\n",
       "고양시 일산서구     29\n",
       "과천시           3"
      ]
     },
     "execution_count": 80,
     "metadata": {},
     "output_type": "execute_result"
    }
   ],
   "source": [
    "# 각 지역별 쏘카존 수 데이터 생성\n",
    "zcount = pd.DataFrame(zones['region2'].value_counts())\n",
    "zcount.columns = ['쏘카존 수']\n",
    "zcount = zcount.reindex(regions)\n",
    "zcount.head()"
   ]
  },
  {
   "cell_type": "markdown",
   "id": "da7e1d5b",
   "metadata": {
    "canvas": {
     "comments": [],
     "componentType": "CodeCell",
     "copiedOriginId": null,
     "diskcache": false,
     "headerColor": "none",
     "id": "0d8ad814-11ae-4696-bbf6-da95fc141721",
     "isComponent": false,
     "name": "",
     "parents": []
    }
   },
   "source": [
    "## 토지용도 : `land_use_`"
   ]
  },
  {
   "cell_type": "code",
   "execution_count": 81,
   "id": "48dc1e04",
   "metadata": {
    "canvas": {
     "comments": [],
     "componentType": "CodeCell",
     "copiedOriginId": null,
     "diskcache": false,
     "headerColor": "none",
     "id": "ecfb8561-6dce-4d79-bcfd-bfe663019f93",
     "isComponent": false,
     "name": "",
     "parents": []
    }
   },
   "outputs": [
    {
     "data": {
      "text/html": [
       "<div>\n",
       "<style scoped>\n",
       "    .dataframe tbody tr th:only-of-type {\n",
       "        vertical-align: middle;\n",
       "    }\n",
       "\n",
       "    .dataframe tbody tr th {\n",
       "        vertical-align: top;\n",
       "    }\n",
       "\n",
       "    .dataframe thead th {\n",
       "        text-align: right;\n",
       "    }\n",
       "</style>\n",
       "<table border=\"1\" class=\"dataframe\">\n",
       "  <thead>\n",
       "    <tr style=\"text-align: right;\">\n",
       "      <th></th>\n",
       "      <th>시, 구</th>\n",
       "      <th>동, 면</th>\n",
       "      <th>토지용도</th>\n",
       "    </tr>\n",
       "  </thead>\n",
       "  <tbody>\n",
       "    <tr>\n",
       "      <th>0</th>\n",
       "      <td>수원시 장안구</td>\n",
       "      <td>상광교동</td>\n",
       "      <td>녹지</td>\n",
       "    </tr>\n",
       "    <tr>\n",
       "      <th>1</th>\n",
       "      <td>수원시 장안구</td>\n",
       "      <td>송죽동</td>\n",
       "      <td>주거</td>\n",
       "    </tr>\n",
       "    <tr>\n",
       "      <th>2</th>\n",
       "      <td>수원시 장안구</td>\n",
       "      <td>연무동</td>\n",
       "      <td>주거</td>\n",
       "    </tr>\n",
       "    <tr>\n",
       "      <th>3</th>\n",
       "      <td>수원시 장안구</td>\n",
       "      <td>영화동</td>\n",
       "      <td>주거</td>\n",
       "    </tr>\n",
       "    <tr>\n",
       "      <th>4</th>\n",
       "      <td>수원시 장안구</td>\n",
       "      <td>율전동</td>\n",
       "      <td>주거</td>\n",
       "    </tr>\n",
       "  </tbody>\n",
       "</table>\n",
       "</div>"
      ],
      "text/plain": [
       "      시, 구  동, 면 토지용도\n",
       "0  수원시 장안구  상광교동   녹지\n",
       "1  수원시 장안구   송죽동   주거\n",
       "2  수원시 장안구   연무동   주거\n",
       "3  수원시 장안구   영화동   주거\n",
       "4  수원시 장안구   율전동   주거"
      ]
     },
     "execution_count": 81,
     "metadata": {},
     "output_type": "execute_result"
    }
   ],
   "source": [
    "# 동, 면별 토지용도 데이터 1(윤겸님)\n",
    "# 데이터를 얻은 곳 : http://gris.gg.go.kr/ost/oneStopView.do?pnu=4150010300104450002\n",
    "# 위의 웹사이트에서, 경기도 모든 지역의 동, 면에 대하여 녹지/주거/공업/상업 중 어떤 카테고리에 해당하는지를 수작업으로 조사했다.\n",
    "# 윤겸님이 보내주신 자료에 몇 지역이 누락되어 있어서 채워넣었다.\n",
    "land_use1 = pd.read_csv(\"../../data/data_b_raw/2b202_1228_토지이용계획_차윤겸_최종.csv\", encoding='CP949')\n",
    "land_use1.head()"
   ]
  },
  {
   "cell_type": "code",
   "execution_count": 82,
   "id": "62bf38a0",
   "metadata": {
    "canvas": {
     "comments": [],
     "componentType": "CodeCell",
     "copiedOriginId": null,
     "diskcache": false,
     "headerColor": "none",
     "id": "0d7ff783-4ce0-43bb-a731-6a1a9bf46de0",
     "isComponent": false,
     "name": "",
     "parents": []
    }
   },
   "outputs": [
    {
     "data": {
      "text/plain": [
       "24"
      ]
     },
     "execution_count": 82,
     "metadata": {},
     "output_type": "execute_result"
    }
   ],
   "source": [
    "len(land_use1['시, 구'].unique()) # 절반씩 조사하기로 했으므로, 21개가 되어야 하지만, 24개가 보인다. 해야 하는 것보다 더 많이 조사하셨다."
   ]
  },
  {
   "cell_type": "code",
   "execution_count": 83,
   "id": "221e8ed8",
   "metadata": {
    "canvas": {
     "comments": [],
     "componentType": "CodeCell",
     "copiedOriginId": null,
     "diskcache": false,
     "headerColor": "none",
     "id": "df761d21-198d-4923-b828-4711f45e46d7",
     "isComponent": false,
     "name": "",
     "parents": []
    },
    "scrolled": true
   },
   "outputs": [
    {
     "data": {
      "text/html": [
       "<div>\n",
       "<style scoped>\n",
       "    .dataframe tbody tr th:only-of-type {\n",
       "        vertical-align: middle;\n",
       "    }\n",
       "\n",
       "    .dataframe tbody tr th {\n",
       "        vertical-align: top;\n",
       "    }\n",
       "\n",
       "    .dataframe thead th {\n",
       "        text-align: right;\n",
       "    }\n",
       "</style>\n",
       "<table border=\"1\" class=\"dataframe\">\n",
       "  <thead>\n",
       "    <tr style=\"text-align: right;\">\n",
       "      <th></th>\n",
       "      <th>시, 구</th>\n",
       "      <th>동, 면</th>\n",
       "      <th>토지용도</th>\n",
       "    </tr>\n",
       "  </thead>\n",
       "  <tbody>\n",
       "    <tr>\n",
       "      <th>0</th>\n",
       "      <td>군포시</td>\n",
       "      <td>금정동</td>\n",
       "      <td>주거</td>\n",
       "    </tr>\n",
       "    <tr>\n",
       "      <th>1</th>\n",
       "      <td>군포시</td>\n",
       "      <td>당동</td>\n",
       "      <td>주거</td>\n",
       "    </tr>\n",
       "    <tr>\n",
       "      <th>2</th>\n",
       "      <td>군포시</td>\n",
       "      <td>당정동</td>\n",
       "      <td>공업</td>\n",
       "    </tr>\n",
       "    <tr>\n",
       "      <th>3</th>\n",
       "      <td>군포시</td>\n",
       "      <td>대야미동</td>\n",
       "      <td>녹지</td>\n",
       "    </tr>\n",
       "    <tr>\n",
       "      <th>4</th>\n",
       "      <td>군포시</td>\n",
       "      <td>도마교동</td>\n",
       "      <td>주거</td>\n",
       "    </tr>\n",
       "  </tbody>\n",
       "</table>\n",
       "</div>"
      ],
      "text/plain": [
       "  시, 구  동, 면 토지용도\n",
       "0  군포시   금정동   주거\n",
       "1  군포시    당동   주거\n",
       "2  군포시   당정동   공업\n",
       "3  군포시  대야미동   녹지\n",
       "4  군포시  도마교동   주거"
      ]
     },
     "execution_count": 83,
     "metadata": {},
     "output_type": "execute_result"
    }
   ],
   "source": [
    "land_use2 = pd.read_csv(\"../../data/data_b_raw/2b203_1228_토지이용계획_김선중_최종.csv\",encoding='CP949')\n",
    "land_use2.head()\n",
    "# 동, 면별 토지용도 데이터 2(김선중)\n",
    "# 데이터를 얻은 곳 : http://gris.gg.go.kr/ost/oneStopView.do?pnu=4150010300104450002\n",
    "# 위의 웹사이트에서, 경기도 모든 지역의 동, 면에 대하여 녹지/주거/공업/상업 중 어떤 카테고리에 해당하는지를 수작업으로 조사했다."
   ]
  },
  {
   "cell_type": "code",
   "execution_count": 84,
   "id": "d898b502",
   "metadata": {
    "canvas": {
     "comments": [],
     "componentType": "CodeCell",
     "copiedOriginId": null,
     "diskcache": false,
     "headerColor": "none",
     "id": "59536b99-944c-48e7-a436-faf0e353154e",
     "isComponent": false,
     "name": "",
     "parents": []
    }
   },
   "outputs": [
    {
     "data": {
      "text/plain": [
       "21"
      ]
     },
     "execution_count": 84,
     "metadata": {},
     "output_type": "execute_result"
    }
   ],
   "source": [
    "len(land_use2['시, 구'].unique())"
   ]
  },
  {
   "cell_type": "code",
   "execution_count": 85,
   "id": "04d1a58c",
   "metadata": {
    "canvas": {
     "comments": [],
     "componentType": "CodeCell",
     "copiedOriginId": null,
     "diskcache": false,
     "headerColor": "none",
     "id": "c1ac8de3-7d6f-4d70-b53c-8541ae5c1580",
     "isComponent": false,
     "name": "",
     "parents": []
    }
   },
   "outputs": [
    {
     "data": {
      "text/plain": [
       "{'군포시', '오산시', '하남시'}"
      ]
     },
     "execution_count": 85,
     "metadata": {},
     "output_type": "execute_result"
    }
   ],
   "source": [
    "set(land_use1['시, 구']).intersection(land_use2['시, 구']) # 두 조사자가 조사한 지역 중 세 군데가 겹친다."
   ]
  },
  {
   "cell_type": "code",
   "execution_count": 86,
   "id": "ef2c7de5",
   "metadata": {
    "canvas": {
     "comments": [],
     "componentType": "CodeCell",
     "copiedOriginId": null,
     "diskcache": false,
     "headerColor": "none",
     "id": "8b4602e7-61a6-45f5-aa31-cdb0e02765ce",
     "isComponent": false,
     "name": "",
     "parents": []
    }
   },
   "outputs": [
    {
     "data": {
      "text/plain": [
       "21"
      ]
     },
     "execution_count": 86,
     "metadata": {},
     "output_type": "execute_result"
    }
   ],
   "source": [
    "# 윤겸님이 조사한 지역들 중 겹치는 부분들을 제거했다.\n",
    "mask = land_use1['시, 구'].isin(list(set(land_use1['시, 구']).intersection(land_use2['시, 구'])))\n",
    "land_use1 = land_use1[~mask]\n",
    "land_use1['시, 구'].nunique()"
   ]
  },
  {
   "cell_type": "code",
   "execution_count": 87,
   "id": "7ba5446c",
   "metadata": {
    "canvas": {
     "comments": [],
     "componentType": "CodeCell",
     "copiedOriginId": null,
     "diskcache": false,
     "headerColor": "none",
     "id": "a346055d-f7e1-423d-8270-5dd65ee9590e",
     "isComponent": false,
     "name": "",
     "parents": []
    }
   },
   "outputs": [
    {
     "data": {
      "text/html": [
       "<div>\n",
       "<style scoped>\n",
       "    .dataframe tbody tr th:only-of-type {\n",
       "        vertical-align: middle;\n",
       "    }\n",
       "\n",
       "    .dataframe tbody tr th {\n",
       "        vertical-align: top;\n",
       "    }\n",
       "\n",
       "    .dataframe thead th {\n",
       "        text-align: right;\n",
       "    }\n",
       "</style>\n",
       "<table border=\"1\" class=\"dataframe\">\n",
       "  <thead>\n",
       "    <tr style=\"text-align: right;\">\n",
       "      <th></th>\n",
       "      <th>시, 구</th>\n",
       "      <th>동, 면</th>\n",
       "      <th>토지용도</th>\n",
       "    </tr>\n",
       "  </thead>\n",
       "  <tbody>\n",
       "    <tr>\n",
       "      <th>0</th>\n",
       "      <td>수원시 장안구</td>\n",
       "      <td>상광교동</td>\n",
       "      <td>녹지</td>\n",
       "    </tr>\n",
       "    <tr>\n",
       "      <th>1</th>\n",
       "      <td>수원시 장안구</td>\n",
       "      <td>송죽동</td>\n",
       "      <td>주거</td>\n",
       "    </tr>\n",
       "    <tr>\n",
       "      <th>2</th>\n",
       "      <td>수원시 장안구</td>\n",
       "      <td>연무동</td>\n",
       "      <td>주거</td>\n",
       "    </tr>\n",
       "    <tr>\n",
       "      <th>3</th>\n",
       "      <td>수원시 장안구</td>\n",
       "      <td>영화동</td>\n",
       "      <td>주거</td>\n",
       "    </tr>\n",
       "    <tr>\n",
       "      <th>4</th>\n",
       "      <td>수원시 장안구</td>\n",
       "      <td>율전동</td>\n",
       "      <td>주거</td>\n",
       "    </tr>\n",
       "    <tr>\n",
       "      <th>...</th>\n",
       "      <td>...</td>\n",
       "      <td>...</td>\n",
       "      <td>...</td>\n",
       "    </tr>\n",
       "    <tr>\n",
       "      <th>747</th>\n",
       "      <td>연천군</td>\n",
       "      <td>장남면</td>\n",
       "      <td>녹지</td>\n",
       "    </tr>\n",
       "    <tr>\n",
       "      <th>748</th>\n",
       "      <td>연천군</td>\n",
       "      <td>전곡읍</td>\n",
       "      <td>녹지</td>\n",
       "    </tr>\n",
       "    <tr>\n",
       "      <th>749</th>\n",
       "      <td>연천군</td>\n",
       "      <td>중면</td>\n",
       "      <td>녹지</td>\n",
       "    </tr>\n",
       "    <tr>\n",
       "      <th>750</th>\n",
       "      <td>연천군</td>\n",
       "      <td>청산면</td>\n",
       "      <td>녹지</td>\n",
       "    </tr>\n",
       "    <tr>\n",
       "      <th>751</th>\n",
       "      <td>연천군</td>\n",
       "      <td>화현면</td>\n",
       "      <td>녹지</td>\n",
       "    </tr>\n",
       "  </tbody>\n",
       "</table>\n",
       "<p>752 rows × 3 columns</p>\n",
       "</div>"
      ],
      "text/plain": [
       "        시, 구  동, 면 토지용도\n",
       "0    수원시 장안구  상광교동   녹지\n",
       "1    수원시 장안구   송죽동   주거\n",
       "2    수원시 장안구   연무동   주거\n",
       "3    수원시 장안구   영화동   주거\n",
       "4    수원시 장안구   율전동   주거\n",
       "..       ...   ...  ...\n",
       "747      연천군   장남면   녹지\n",
       "748      연천군   전곡읍   녹지\n",
       "749      연천군    중면   녹지\n",
       "750      연천군   청산면   녹지\n",
       "751      연천군   화현면   녹지\n",
       "\n",
       "[752 rows x 3 columns]"
      ]
     },
     "execution_count": 87,
     "metadata": {},
     "output_type": "execute_result"
    }
   ],
   "source": [
    "# 최종적인 동, 면별 토지용도 데이터 \n",
    "land_use = pd.concat([land_use1,land_use2])\n",
    "land_use.reset_index(inplace=True, drop=True)\n",
    "land_use"
   ]
  },
  {
   "cell_type": "code",
   "execution_count": 88,
   "id": "d565ac20",
   "metadata": {
    "canvas": {
     "comments": [],
     "componentType": "CodeCell",
     "copiedOriginId": null,
     "diskcache": false,
     "headerColor": "none",
     "id": "2468e89a-8dc6-448d-9773-db02ec1e00be",
     "isComponent": false,
     "name": "",
     "parents": []
    }
   },
   "outputs": [
    {
     "name": "stdout",
     "output_type": "stream",
     "text": [
      "42\n",
      "True\n"
     ]
    }
   ],
   "source": [
    "print(land_use['시, 구'].nunique())\n",
    "print(regions ==sorted(land_use['시, 구'].unique())) # 앞서 선정한 42개 지역 목록과 일치한다."
   ]
  },
  {
   "cell_type": "code",
   "execution_count": 89,
   "id": "8d916181",
   "metadata": {
    "canvas": {
     "comments": [],
     "componentType": "CodeCell",
     "copiedOriginId": null,
     "diskcache": false,
     "headerColor": "none",
     "id": "ef5f70ac-89fc-4cf1-8127-a2f4b30f86c3",
     "isComponent": false,
     "name": "",
     "parents": []
    }
   },
   "outputs": [],
   "source": [
    "land_use_ = pd.DataFrame(index = regions)\n",
    "nature_list = []\n",
    "dwell_list = []\n",
    "industry_list = []\n",
    "commerce_list = []\n",
    "for region in regions:\n",
    "    ratio_region = land_use[land_use['시, 구']==region]\n",
    "    total_number = len(ratio_region)\n",
    "    nature_list.append(sum(ratio_region['토지용도']=='녹지')/total_number)\n",
    "    dwell_list.append(sum(ratio_region['토지용도']=='주거')/total_number)\n",
    "    industry_list.append(sum(ratio_region['토지용도']=='공업')/total_number)\n",
    "    commerce_list.append(sum(ratio_region['토지용도']=='상업')/total_number)"
   ]
  },
  {
   "cell_type": "code",
   "execution_count": 90,
   "id": "59d55ebc",
   "metadata": {
    "canvas": {
     "comments": [],
     "componentType": "CodeCell",
     "copiedOriginId": null,
     "diskcache": false,
     "headerColor": "none",
     "id": "2d0b8fb7-b799-4276-95e1-f8461d437e91",
     "isComponent": false,
     "name": "",
     "parents": []
    }
   },
   "outputs": [
    {
     "data": {
      "text/html": [
       "<div>\n",
       "<style scoped>\n",
       "    .dataframe tbody tr th:only-of-type {\n",
       "        vertical-align: middle;\n",
       "    }\n",
       "\n",
       "    .dataframe tbody tr th {\n",
       "        vertical-align: top;\n",
       "    }\n",
       "\n",
       "    .dataframe thead th {\n",
       "        text-align: right;\n",
       "    }\n",
       "</style>\n",
       "<table border=\"1\" class=\"dataframe\">\n",
       "  <thead>\n",
       "    <tr style=\"text-align: right;\">\n",
       "      <th></th>\n",
       "      <th>녹지</th>\n",
       "      <th>주거</th>\n",
       "      <th>공업</th>\n",
       "      <th>상업</th>\n",
       "    </tr>\n",
       "  </thead>\n",
       "  <tbody>\n",
       "    <tr>\n",
       "      <th>가평군</th>\n",
       "      <td>1.000000</td>\n",
       "      <td>0.000000</td>\n",
       "      <td>0.0</td>\n",
       "      <td>0.000000</td>\n",
       "    </tr>\n",
       "    <tr>\n",
       "      <th>고양시 덕양구</th>\n",
       "      <td>0.656250</td>\n",
       "      <td>0.343750</td>\n",
       "      <td>0.0</td>\n",
       "      <td>0.000000</td>\n",
       "    </tr>\n",
       "    <tr>\n",
       "      <th>고양시 일산동구</th>\n",
       "      <td>0.461538</td>\n",
       "      <td>0.461538</td>\n",
       "      <td>0.0</td>\n",
       "      <td>0.076923</td>\n",
       "    </tr>\n",
       "    <tr>\n",
       "      <th>고양시 일산서구</th>\n",
       "      <td>0.500000</td>\n",
       "      <td>0.375000</td>\n",
       "      <td>0.0</td>\n",
       "      <td>0.125000</td>\n",
       "    </tr>\n",
       "    <tr>\n",
       "      <th>과천시</th>\n",
       "      <td>0.500000</td>\n",
       "      <td>0.500000</td>\n",
       "      <td>0.0</td>\n",
       "      <td>0.000000</td>\n",
       "    </tr>\n",
       "  </tbody>\n",
       "</table>\n",
       "</div>"
      ],
      "text/plain": [
       "                녹지        주거   공업        상업\n",
       "가평군       1.000000  0.000000  0.0  0.000000\n",
       "고양시 덕양구   0.656250  0.343750  0.0  0.000000\n",
       "고양시 일산동구  0.461538  0.461538  0.0  0.076923\n",
       "고양시 일산서구  0.500000  0.375000  0.0  0.125000\n",
       "과천시       0.500000  0.500000  0.0  0.000000"
      ]
     },
     "execution_count": 90,
     "metadata": {},
     "output_type": "execute_result"
    }
   ],
   "source": [
    "# 각 지역별 녹지/주거/공업/상업의 동/면 비율 데이터 생성\n",
    "land_use_['녹지'] = nature_list\n",
    "land_use_['주거'] = dwell_list\n",
    "land_use_['공업'] = industry_list\n",
    "land_use_['상업'] = commerce_list\n",
    "land_use_.head()"
   ]
  },
  {
   "cell_type": "markdown",
   "id": "f87b1668",
   "metadata": {
    "canvas": {
     "comments": [],
     "componentType": "CodeCell",
     "copiedOriginId": null,
     "diskcache": false,
     "headerColor": "none",
     "id": "87fae655-f1ed-4225-821a-a9f722d49cc8",
     "isComponent": false,
     "name": "",
     "parents": []
    }
   },
   "source": [
    "## 인구 : `pop`"
   ]
  },
  {
   "cell_type": "code",
   "execution_count": 91,
   "id": "18ce86d4",
   "metadata": {
    "canvas": {
     "comments": [],
     "componentType": "CodeCell",
     "copiedOriginId": null,
     "diskcache": false,
     "headerColor": "none",
     "id": "93bf10a2-7923-48ec-a206-6c273d24a68c",
     "isComponent": false,
     "name": "",
     "parents": []
    }
   },
   "outputs": [
    {
     "data": {
      "text/html": [
       "<div>\n",
       "<style scoped>\n",
       "    .dataframe tbody tr th:only-of-type {\n",
       "        vertical-align: middle;\n",
       "    }\n",
       "\n",
       "    .dataframe tbody tr th {\n",
       "        vertical-align: top;\n",
       "    }\n",
       "\n",
       "    .dataframe thead th {\n",
       "        text-align: right;\n",
       "    }\n",
       "</style>\n",
       "<table border=\"1\" class=\"dataframe\">\n",
       "  <thead>\n",
       "    <tr style=\"text-align: right;\">\n",
       "      <th></th>\n",
       "      <th>행정구역(시군구)별</th>\n",
       "      <th>2022.09</th>\n",
       "      <th>2022.09.1</th>\n",
       "      <th>2022.09.2</th>\n",
       "      <th>2022.1</th>\n",
       "      <th>2022.1.1</th>\n",
       "      <th>2022.1.2</th>\n",
       "      <th>2022.11</th>\n",
       "      <th>2022.11.1</th>\n",
       "      <th>2022.11.2</th>\n",
       "    </tr>\n",
       "  </thead>\n",
       "  <tbody>\n",
       "    <tr>\n",
       "      <th>0</th>\n",
       "      <td>행정구역(시군구)별</td>\n",
       "      <td>총인구수 (명)</td>\n",
       "      <td>남자인구수 (명)</td>\n",
       "      <td>여자인구수 (명)</td>\n",
       "      <td>총인구수 (명)</td>\n",
       "      <td>남자인구수 (명)</td>\n",
       "      <td>여자인구수 (명)</td>\n",
       "      <td>총인구수 (명)</td>\n",
       "      <td>남자인구수 (명)</td>\n",
       "      <td>여자인구수 (명)</td>\n",
       "    </tr>\n",
       "    <tr>\n",
       "      <th>1</th>\n",
       "      <td>경기도</td>\n",
       "      <td>13574353</td>\n",
       "      <td>6832856</td>\n",
       "      <td>6741497</td>\n",
       "      <td>13579508</td>\n",
       "      <td>6835151</td>\n",
       "      <td>6744357</td>\n",
       "      <td>13583238</td>\n",
       "      <td>6836309</td>\n",
       "      <td>6746929</td>\n",
       "    </tr>\n",
       "    <tr>\n",
       "      <th>2</th>\n",
       "      <td>수원시</td>\n",
       "      <td>1188234</td>\n",
       "      <td>598490</td>\n",
       "      <td>589744</td>\n",
       "      <td>1189654</td>\n",
       "      <td>599198</td>\n",
       "      <td>590456</td>\n",
       "      <td>1190368</td>\n",
       "      <td>599508</td>\n",
       "      <td>590860</td>\n",
       "    </tr>\n",
       "    <tr>\n",
       "      <th>3</th>\n",
       "      <td>장안구</td>\n",
       "      <td>271779</td>\n",
       "      <td>136804</td>\n",
       "      <td>134975</td>\n",
       "      <td>271305</td>\n",
       "      <td>136511</td>\n",
       "      <td>134794</td>\n",
       "      <td>271012</td>\n",
       "      <td>136427</td>\n",
       "      <td>134585</td>\n",
       "    </tr>\n",
       "    <tr>\n",
       "      <th>4</th>\n",
       "      <td>권선구</td>\n",
       "      <td>366832</td>\n",
       "      <td>185435</td>\n",
       "      <td>181397</td>\n",
       "      <td>366453</td>\n",
       "      <td>185270</td>\n",
       "      <td>181183</td>\n",
       "      <td>367004</td>\n",
       "      <td>185522</td>\n",
       "      <td>181482</td>\n",
       "    </tr>\n",
       "  </tbody>\n",
       "</table>\n",
       "</div>"
      ],
      "text/plain": [
       "   행정구역(시군구)별   2022.09  2022.09.1  2022.09.2    2022.1   2022.1.1   2022.1.2  \\\n",
       "0  행정구역(시군구)별  총인구수 (명)  남자인구수 (명)  여자인구수 (명)  총인구수 (명)  남자인구수 (명)  여자인구수 (명)   \n",
       "1         경기도  13574353    6832856    6741497  13579508    6835151    6744357   \n",
       "2         수원시   1188234     598490     589744   1189654     599198     590456   \n",
       "3         장안구    271779     136804     134975    271305     136511     134794   \n",
       "4         권선구    366832     185435     181397    366453     185270     181183   \n",
       "\n",
       "    2022.11  2022.11.1  2022.11.2  \n",
       "0  총인구수 (명)  남자인구수 (명)  여자인구수 (명)  \n",
       "1  13583238    6836309    6746929  \n",
       "2   1190368     599508     590860  \n",
       "3    271012     136427     134585  \n",
       "4    367004     185522     181482  "
      ]
     },
     "execution_count": 91,
     "metadata": {},
     "output_type": "execute_result"
    }
   ],
   "source": [
    "# 경기지역 행정구역별 인구 데이터(연수님)\n",
    "# 데이터를 얻은 곳 : [출처필요]\n",
    "pop = pd.read_csv(\"../../data/data_b_raw/2b301_1227_행정구역_시군구_별__성별_인구수.csv\", encoding='cp949')\n",
    "pop.head()"
   ]
  },
  {
   "cell_type": "code",
   "execution_count": 92,
   "id": "7380d2f5",
   "metadata": {
    "canvas": {
     "comments": [],
     "componentType": "CodeCell",
     "copiedOriginId": null,
     "diskcache": false,
     "headerColor": "none",
     "id": "d29b0633-d2b2-4271-b1eb-da4de5b43a25",
     "isComponent": false,
     "name": "",
     "parents": []
    }
   },
   "outputs": [
    {
     "data": {
      "text/html": [
       "<div>\n",
       "<style scoped>\n",
       "    .dataframe tbody tr th:only-of-type {\n",
       "        vertical-align: middle;\n",
       "    }\n",
       "\n",
       "    .dataframe tbody tr th {\n",
       "        vertical-align: top;\n",
       "    }\n",
       "\n",
       "    .dataframe thead th {\n",
       "        text-align: right;\n",
       "    }\n",
       "</style>\n",
       "<table border=\"1\" class=\"dataframe\">\n",
       "  <thead>\n",
       "    <tr style=\"text-align: right;\">\n",
       "      <th></th>\n",
       "      <th>인구</th>\n",
       "    </tr>\n",
       "    <tr>\n",
       "      <th>행정구역(시군구)별</th>\n",
       "      <th></th>\n",
       "    </tr>\n",
       "  </thead>\n",
       "  <tbody>\n",
       "    <tr>\n",
       "      <th>가평군</th>\n",
       "      <td>62197</td>\n",
       "    </tr>\n",
       "    <tr>\n",
       "      <th>고양시 덕양구</th>\n",
       "      <td>487874</td>\n",
       "    </tr>\n",
       "    <tr>\n",
       "      <th>고양시 일산동구</th>\n",
       "      <td>296590</td>\n",
       "    </tr>\n",
       "    <tr>\n",
       "      <th>고양시 일산서구</th>\n",
       "      <td>290738</td>\n",
       "    </tr>\n",
       "    <tr>\n",
       "      <th>과천시</th>\n",
       "      <td>77775</td>\n",
       "    </tr>\n",
       "  </tbody>\n",
       "</table>\n",
       "</div>"
      ],
      "text/plain": [
       "                인구\n",
       "행정구역(시군구)별        \n",
       "가평군          62197\n",
       "고양시 덕양구     487874\n",
       "고양시 일산동구    296590\n",
       "고양시 일산서구    290738\n",
       "과천시          77775"
      ]
     },
     "execution_count": 92,
     "metadata": {},
     "output_type": "execute_result"
    }
   ],
   "source": [
    "pop.set_index('행정구역(시군구)별',inplace=True)\n",
    "pop.drop(['행정구역(시군구)별', '경기도', '수원시', '성남시', '안양시', '송탄출장소', '안중출장소', '안산시', '고양시',\n",
    "           '풍양출장소', '용인시', '화성시동부출장소', '화성시동탄출장소'], inplace=True)\n",
    "pop = pd.DataFrame(pop['2022.11'])\n",
    "pop.reset_index(inplace=True)\n",
    "pop['행정구역(시군구)별'].replace(dict2, inplace=True) # \"xx구\"를 \"xx시 xx구\"로 바꾼다.\n",
    "pop.rename(columns={'2022.11':'인구'},inplace=True)\n",
    "pop.set_index('행정구역(시군구)별',inplace=True)\n",
    "pop = pop.reindex(regions)\n",
    "pop.head()"
   ]
  },
  {
   "cell_type": "code",
   "execution_count": 93,
   "id": "d9bb2ec6",
   "metadata": {
    "canvas": {
     "comments": [],
     "componentType": "CodeCell",
     "copiedOriginId": null,
     "diskcache": false,
     "headerColor": "none",
     "id": "da39da4e-f2d3-4ec5-9c21-a428116c6139",
     "isComponent": false,
     "name": "",
     "parents": []
    }
   },
   "outputs": [
    {
     "data": {
      "text/plain": [
       "True"
      ]
     },
     "execution_count": 93,
     "metadata": {},
     "output_type": "execute_result"
    }
   ],
   "source": [
    "sorted(pop.index.unique()) == regions # 앞서 선정한 42개 지역 목록과 일치한다."
   ]
  },
  {
   "cell_type": "markdown",
   "id": "435486f4",
   "metadata": {
    "canvas": {
     "comments": [],
     "componentType": "CodeCell",
     "copiedOriginId": null,
     "diskcache": false,
     "headerColor": "none",
     "id": "8bef1d4c-9968-40f0-a4ad-6eb28b443287",
     "isComponent": false,
     "name": "",
     "parents": []
    }
   },
   "source": [
    "## 대학교 수 : `univ_`"
   ]
  },
  {
   "cell_type": "code",
   "execution_count": 94,
   "id": "bcbef0c8",
   "metadata": {
    "canvas": {
     "comments": [],
     "componentType": "CodeCell",
     "copiedOriginId": null,
     "diskcache": false,
     "headerColor": "none",
     "id": "95dd30bf-8e43-41f4-94d4-11c081e3f476",
     "isComponent": false,
     "name": "",
     "parents": []
    }
   },
   "outputs": [
    {
     "name": "stderr",
     "output_type": "stream",
     "text": [
      "C:\\Users\\sjkim\\AppData\\Local\\Temp\\ipykernel_13352\\3819394947.py:3: DtypeWarning: Columns (0,2,3,4,5,6,7,8,9,10,11,12,13,14,15,16,17,19,20,21,22,23) have mixed types. Specify dtype option on import or set low_memory=False.\n",
      "  univ = pd.read_csv(\"../../data/data_b_raw/2b302_1229_경기대학교.csv\", encoding='cp949')\n"
     ]
    },
    {
     "data": {
      "text/html": [
       "<div>\n",
       "<style scoped>\n",
       "    .dataframe tbody tr th:only-of-type {\n",
       "        vertical-align: middle;\n",
       "    }\n",
       "\n",
       "    .dataframe tbody tr th {\n",
       "        vertical-align: top;\n",
       "    }\n",
       "\n",
       "    .dataframe thead th {\n",
       "        text-align: right;\n",
       "    }\n",
       "</style>\n",
       "<table border=\"1\" class=\"dataframe\">\n",
       "  <thead>\n",
       "    <tr style=\"text-align: right;\">\n",
       "      <th></th>\n",
       "      <th>학교구분</th>\n",
       "      <th>학교코드</th>\n",
       "      <th>학교명</th>\n",
       "      <th>본분교</th>\n",
       "      <th>학제</th>\n",
       "      <th>지역</th>\n",
       "      <th>설립구분</th>\n",
       "      <th>관련법령</th>\n",
       "      <th>법인명</th>\n",
       "      <th>학교상태</th>\n",
       "      <th>...</th>\n",
       "      <th>Unnamed: 14</th>\n",
       "      <th>Unnamed: 15</th>\n",
       "      <th>영문주소</th>\n",
       "      <th>중문주소</th>\n",
       "      <th>우편번호</th>\n",
       "      <th>학교개교일</th>\n",
       "      <th>학교홈페이지</th>\n",
       "      <th>총장(대학원장)명</th>\n",
       "      <th>학교대표\\r\\n번호</th>\n",
       "      <th>학교대표\\r\\n팩스번호</th>\n",
       "    </tr>\n",
       "  </thead>\n",
       "  <tbody>\n",
       "    <tr>\n",
       "      <th>0</th>\n",
       "      <td>대학</td>\n",
       "      <td>37.0</td>\n",
       "      <td>한경대학교</td>\n",
       "      <td>본교</td>\n",
       "      <td>대학교</td>\n",
       "      <td>경기</td>\n",
       "      <td>국립</td>\n",
       "      <td>고등교육법</td>\n",
       "      <td>해당없음</td>\n",
       "      <td>기존</td>\n",
       "      <td>...</td>\n",
       "      <td>안성시</td>\n",
       "      <td>중앙로</td>\n",
       "      <td>327, Jungang-ro, Anseong-si, Gyeonggi-do, Repu...</td>\n",
       "      <td>327, Jungang-ro, Anseong-si, Gyeonggi-do, Repu...</td>\n",
       "      <td>17579.0</td>\n",
       "      <td>2012-03-01</td>\n",
       "      <td>www.hknu.ac.kr</td>\n",
       "      <td>이원희</td>\n",
       "      <td>031-670-5114</td>\n",
       "      <td>031-670-5469</td>\n",
       "    </tr>\n",
       "    <tr>\n",
       "      <th>1</th>\n",
       "      <td>대학</td>\n",
       "      <td>46.0</td>\n",
       "      <td>가톨릭대학교</td>\n",
       "      <td>본교</td>\n",
       "      <td>대학교</td>\n",
       "      <td>경기</td>\n",
       "      <td>사립</td>\n",
       "      <td>고등교육법</td>\n",
       "      <td>가톨릭학원</td>\n",
       "      <td>기존</td>\n",
       "      <td>...</td>\n",
       "      <td>부천시</td>\n",
       "      <td>원미구</td>\n",
       "      <td>43, Jibong-ro, Bucheon-si, Gyeonggi-do, Republ...</td>\n",
       "      <td>43, Jibong-ro, Bucheon-si, Gyeonggi-do, Republ...</td>\n",
       "      <td>14662.0</td>\n",
       "      <td>1995-03-01</td>\n",
       "      <td>www.catholic.ac.kr</td>\n",
       "      <td>원종철</td>\n",
       "      <td>02-2164-4114</td>\n",
       "      <td>02-2164-4754</td>\n",
       "    </tr>\n",
       "    <tr>\n",
       "      <th>2</th>\n",
       "      <td>대학</td>\n",
       "      <td>51.0</td>\n",
       "      <td>강남대학교</td>\n",
       "      <td>본교</td>\n",
       "      <td>대학교</td>\n",
       "      <td>경기</td>\n",
       "      <td>사립</td>\n",
       "      <td>고등교육법</td>\n",
       "      <td>강남학원</td>\n",
       "      <td>기존</td>\n",
       "      <td>...</td>\n",
       "      <td>용인시</td>\n",
       "      <td>기흥구</td>\n",
       "      <td>40, Gangnam-ro, Giheung-gu, Yongin-si, Gyeongg...</td>\n",
       "      <td>40, Gangnam-ro, Giheung-gu, Yongin-si, Gyeongg...</td>\n",
       "      <td>16979.0</td>\n",
       "      <td>1948-08-12</td>\n",
       "      <td>www.kangnam.ac.kr</td>\n",
       "      <td>윤신일</td>\n",
       "      <td>031-280-3500</td>\n",
       "      <td>031-280-3173</td>\n",
       "    </tr>\n",
       "    <tr>\n",
       "      <th>3</th>\n",
       "      <td>대학</td>\n",
       "      <td>56.0</td>\n",
       "      <td>경기대학교</td>\n",
       "      <td>본교</td>\n",
       "      <td>대학교</td>\n",
       "      <td>경기</td>\n",
       "      <td>사립</td>\n",
       "      <td>고등교육법</td>\n",
       "      <td>경기학원</td>\n",
       "      <td>기존</td>\n",
       "      <td>...</td>\n",
       "      <td>수원시</td>\n",
       "      <td>영통구</td>\n",
       "      <td>154-42, Gwanggyosan-ro, Yeongtong-gu, Suwon-si...</td>\n",
       "      <td>154-42, Gwanggyosan-ro, Yeongtong-gu, Suwon-si...</td>\n",
       "      <td>16227.0</td>\n",
       "      <td>1947-11-08</td>\n",
       "      <td>www.kyonggi.ac.kr</td>\n",
       "      <td>전준철(직무대행)</td>\n",
       "      <td>031-249-9114</td>\n",
       "      <td>031-243-2194</td>\n",
       "    </tr>\n",
       "    <tr>\n",
       "      <th>4</th>\n",
       "      <td>대학</td>\n",
       "      <td>63.0</td>\n",
       "      <td>가천대학교</td>\n",
       "      <td>본교</td>\n",
       "      <td>대학교</td>\n",
       "      <td>경기</td>\n",
       "      <td>사립</td>\n",
       "      <td>고등교육법</td>\n",
       "      <td>가천학원</td>\n",
       "      <td>기존</td>\n",
       "      <td>...</td>\n",
       "      <td>성남시</td>\n",
       "      <td>수정구</td>\n",
       "      <td>1342, Seongnam-daero, Sujeong-gu, Seongnam-si,...</td>\n",
       "      <td>1342, Seongnam-daero, Sujeong-gu, Seongnam-si,...</td>\n",
       "      <td>13120.0</td>\n",
       "      <td>2012-03-01</td>\n",
       "      <td>www.gachon.ac.kr</td>\n",
       "      <td>이길여</td>\n",
       "      <td>031-750-5114</td>\n",
       "      <td>031-753-8828</td>\n",
       "    </tr>\n",
       "  </tbody>\n",
       "</table>\n",
       "<p>5 rows × 24 columns</p>\n",
       "</div>"
      ],
      "text/plain": [
       "  학교구분  학교코드     학교명 본분교   학제  지역 설립구분   관련법령    법인명 학교상태  ... Unnamed: 14  \\\n",
       "0   대학  37.0   한경대학교  본교  대학교  경기   국립  고등교육법   해당없음   기존  ...         안성시   \n",
       "1   대학  46.0  가톨릭대학교  본교  대학교  경기   사립  고등교육법  가톨릭학원   기존  ...         부천시   \n",
       "2   대학  51.0   강남대학교  본교  대학교  경기   사립  고등교육법   강남학원   기존  ...         용인시   \n",
       "3   대학  56.0   경기대학교  본교  대학교  경기   사립  고등교육법   경기학원   기존  ...         수원시   \n",
       "4   대학  63.0   가천대학교  본교  대학교  경기   사립  고등교육법   가천학원   기존  ...         성남시   \n",
       "\n",
       "  Unnamed: 15                                               영문주소  \\\n",
       "0         중앙로  327, Jungang-ro, Anseong-si, Gyeonggi-do, Repu...   \n",
       "1         원미구  43, Jibong-ro, Bucheon-si, Gyeonggi-do, Republ...   \n",
       "2         기흥구  40, Gangnam-ro, Giheung-gu, Yongin-si, Gyeongg...   \n",
       "3         영통구  154-42, Gwanggyosan-ro, Yeongtong-gu, Suwon-si...   \n",
       "4         수정구  1342, Seongnam-daero, Sujeong-gu, Seongnam-si,...   \n",
       "\n",
       "                                                중문주소     우편번호       학교개교일  \\\n",
       "0  327, Jungang-ro, Anseong-si, Gyeonggi-do, Repu...  17579.0  2012-03-01   \n",
       "1  43, Jibong-ro, Bucheon-si, Gyeonggi-do, Republ...  14662.0  1995-03-01   \n",
       "2  40, Gangnam-ro, Giheung-gu, Yongin-si, Gyeongg...  16979.0  1948-08-12   \n",
       "3  154-42, Gwanggyosan-ro, Yeongtong-gu, Suwon-si...  16227.0  1947-11-08   \n",
       "4  1342, Seongnam-daero, Sujeong-gu, Seongnam-si,...  13120.0  2012-03-01   \n",
       "\n",
       "               학교홈페이지  총장(대학원장)명    학교대표\\r\\n번호  학교대표\\r\\n팩스번호  \n",
       "0      www.hknu.ac.kr        이원희  031-670-5114  031-670-5469  \n",
       "1  www.catholic.ac.kr        원종철  02-2164-4114  02-2164-4754  \n",
       "2   www.kangnam.ac.kr        윤신일  031-280-3500  031-280-3173  \n",
       "3   www.kyonggi.ac.kr  전준철(직무대행)  031-249-9114  031-243-2194  \n",
       "4    www.gachon.ac.kr        이길여  031-750-5114  031-753-8828  \n",
       "\n",
       "[5 rows x 24 columns]"
      ]
     },
     "execution_count": 94,
     "metadata": {},
     "output_type": "execute_result"
    }
   ],
   "source": [
    "# 경기지역 대학교 목록(연수님)\n",
    "# 데이터를 얻은 곳 : [출처필요]\n",
    "univ = pd.read_csv(\"../../data/data_b_raw/2b302_1229_경기대학교.csv\", encoding='cp949')\n",
    "univ.head()"
   ]
  },
  {
   "cell_type": "code",
   "execution_count": 95,
   "id": "9ce1135a",
   "metadata": {
    "canvas": {
     "comments": [],
     "componentType": "CodeCell",
     "copiedOriginId": null,
     "diskcache": false,
     "headerColor": "none",
     "id": "83f6ac57-c0da-45fe-afbf-a6b4bf74f393",
     "isComponent": false,
     "name": "",
     "parents": []
    }
   },
   "outputs": [
    {
     "data": {
      "text/html": [
       "<div>\n",
       "<style scoped>\n",
       "    .dataframe tbody tr th:only-of-type {\n",
       "        vertical-align: middle;\n",
       "    }\n",
       "\n",
       "    .dataframe tbody tr th {\n",
       "        vertical-align: top;\n",
       "    }\n",
       "\n",
       "    .dataframe thead th {\n",
       "        text-align: right;\n",
       "    }\n",
       "</style>\n",
       "<table border=\"1\" class=\"dataframe\">\n",
       "  <thead>\n",
       "    <tr style=\"text-align: right;\">\n",
       "      <th></th>\n",
       "      <th>도</th>\n",
       "      <th>시</th>\n",
       "      <th>세부</th>\n",
       "    </tr>\n",
       "  </thead>\n",
       "  <tbody>\n",
       "    <tr>\n",
       "      <th>0</th>\n",
       "      <td>경기도</td>\n",
       "      <td>안성시</td>\n",
       "      <td>중앙로</td>\n",
       "    </tr>\n",
       "    <tr>\n",
       "      <th>1</th>\n",
       "      <td>경기도</td>\n",
       "      <td>부천시</td>\n",
       "      <td>원미구</td>\n",
       "    </tr>\n",
       "    <tr>\n",
       "      <th>2</th>\n",
       "      <td>경기도</td>\n",
       "      <td>용인시</td>\n",
       "      <td>기흥구</td>\n",
       "    </tr>\n",
       "    <tr>\n",
       "      <th>3</th>\n",
       "      <td>경기도</td>\n",
       "      <td>수원시</td>\n",
       "      <td>영통구</td>\n",
       "    </tr>\n",
       "    <tr>\n",
       "      <th>4</th>\n",
       "      <td>경기도</td>\n",
       "      <td>성남시</td>\n",
       "      <td>수정구</td>\n",
       "    </tr>\n",
       "  </tbody>\n",
       "</table>\n",
       "</div>"
      ],
      "text/plain": [
       "     도    시   세부\n",
       "0  경기도  안성시  중앙로\n",
       "1  경기도  부천시  원미구\n",
       "2  경기도  용인시  기흥구\n",
       "3  경기도  수원시  영통구\n",
       "4  경기도  성남시  수정구"
      ]
     },
     "execution_count": 95,
     "metadata": {},
     "output_type": "execute_result"
    }
   ],
   "source": [
    "univ = univ[['Unnamed: 13', 'Unnamed: 14', 'Unnamed: 15']]\n",
    "univ.dropna(inplace=True)\n",
    "univ.rename(columns={'Unnamed: 13':'도', 'Unnamed: 14':'시', 'Unnamed: 15':'세부'}, inplace=True) # 세부 : 구, 읍, 면, 로, 길\n",
    "univ.head()"
   ]
  },
  {
   "cell_type": "code",
   "execution_count": 96,
   "id": "cae4a25e",
   "metadata": {
    "canvas": {
     "comments": [],
     "componentType": "CodeCell",
     "copiedOriginId": null,
     "diskcache": false,
     "headerColor": "none",
     "id": "5ecf7b5d-8c84-4590-b537-570368f8912e",
     "isComponent": false,
     "name": "",
     "parents": []
    }
   },
   "outputs": [
    {
     "name": "stdout",
     "output_type": "stream",
     "text": [
      "도 : ['경기도']\n",
      "시 : ['안성시' '부천시' '용인시' '수원시' '성남시' '포천시' '광주시' '안양시' '화성시' '양평군' '김포시' '평택시'\n",
      " '고양시' '군포시' '오산시' '안산시' '양주시' '시흥시' '의정부시' '의왕시' '여주시' '이천시' '파주시' '가평군'\n",
      " '남양주시' '동두천시' '과천시']\n",
      "세부 : ['중앙로' '원미구' '기흥구' '영통구' '수정구' '수지구' '호국로' '처인구' '소사구' '경안로' '만안구' '봉담읍'\n",
      " '옥천면' '대덕면' '승가로' '서동대로' '해룡로' '덕양구' '한세로' '한신대길' '상록구' '은현면' '남양읍'\n",
      " '산기대학로' '서부로' '계원대학로' '월곶면' '동안구' '장안구' '삼죽면' '곤지암읍' '죽산면' '단원구' '권선구'\n",
      " '정남면' '중원구' '세종로' '마장면' '장안웃길' '경기과기대로' '신둔면' '탄현면' '순암로' '공도읍' '대월면'\n",
      " '설악면' '분당구' '진접읍' '초월읍' '청학로' '삼남로' '파평면' '벌마들로40번길' '경동대학로' '호암로' '팔탄면'\n",
      " '관악산길' '동일로' '일산동구' '지봉로' '호현로489번길']\n"
     ]
    }
   ],
   "source": [
    "print('도 :', univ['도'].unique())\n",
    "print('시 :', univ['시'].unique())\n",
    "print('세부 :', univ['세부'].unique())"
   ]
  },
  {
   "cell_type": "code",
   "execution_count": 97,
   "id": "0b7ae065",
   "metadata": {
    "canvas": {
     "comments": [],
     "componentType": "CodeCell",
     "copiedOriginId": null,
     "diskcache": false,
     "headerColor": "none",
     "id": "3474f4d1-6ced-4095-8f73-f8a457542542",
     "isComponent": false,
     "name": "",
     "parents": []
    }
   },
   "outputs": [
    {
     "name": "stdout",
     "output_type": "stream",
     "text": [
      "set()\n",
      "True\n"
     ]
    }
   ],
   "source": [
    "# sanity check\n",
    "city = set(np.where(univ['시'].isin(city_list))[0]) # 시(city_list)에 속해있는 대학교들의 index\n",
    "district = set(np.where(univ['세부'].isin(district_list_))[0]) # 구(district_list)에 속해있는 대학교들의 index\n",
    "print(set.intersection(city,district)) # city와 district는 겹치지 않는다.\n",
    "print(set(np.arange(248)) == set.union(city,district)) # city와 district를 합치면 248개가 다 나온다."
   ]
  },
  {
   "cell_type": "code",
   "execution_count": 98,
   "id": "37bc591d",
   "metadata": {
    "canvas": {
     "comments": [],
     "componentType": "CodeCell",
     "copiedOriginId": null,
     "diskcache": false,
     "headerColor": "none",
     "id": "0e47691b-8f4e-4d5a-9eef-79ac16b3f631",
     "isComponent": false,
     "name": "",
     "parents": []
    }
   },
   "outputs": [
    {
     "data": {
      "text/html": [
       "<div>\n",
       "<style scoped>\n",
       "    .dataframe tbody tr th:only-of-type {\n",
       "        vertical-align: middle;\n",
       "    }\n",
       "\n",
       "    .dataframe tbody tr th {\n",
       "        vertical-align: top;\n",
       "    }\n",
       "\n",
       "    .dataframe thead th {\n",
       "        text-align: right;\n",
       "    }\n",
       "</style>\n",
       "<table border=\"1\" class=\"dataframe\">\n",
       "  <thead>\n",
       "    <tr style=\"text-align: right;\">\n",
       "      <th></th>\n",
       "      <th>도</th>\n",
       "      <th>시</th>\n",
       "      <th>세부</th>\n",
       "      <th>지역</th>\n",
       "    </tr>\n",
       "  </thead>\n",
       "  <tbody>\n",
       "    <tr>\n",
       "      <th>0</th>\n",
       "      <td>경기도</td>\n",
       "      <td>안성시</td>\n",
       "      <td>중앙로</td>\n",
       "      <td>안성시</td>\n",
       "    </tr>\n",
       "    <tr>\n",
       "      <th>1</th>\n",
       "      <td>경기도</td>\n",
       "      <td>부천시</td>\n",
       "      <td>원미구</td>\n",
       "      <td>부천시</td>\n",
       "    </tr>\n",
       "    <tr>\n",
       "      <th>2</th>\n",
       "      <td>경기도</td>\n",
       "      <td>용인시</td>\n",
       "      <td>기흥구</td>\n",
       "      <td>기흥구</td>\n",
       "    </tr>\n",
       "    <tr>\n",
       "      <th>3</th>\n",
       "      <td>경기도</td>\n",
       "      <td>수원시</td>\n",
       "      <td>영통구</td>\n",
       "      <td>영통구</td>\n",
       "    </tr>\n",
       "    <tr>\n",
       "      <th>4</th>\n",
       "      <td>경기도</td>\n",
       "      <td>성남시</td>\n",
       "      <td>수정구</td>\n",
       "      <td>수정구</td>\n",
       "    </tr>\n",
       "  </tbody>\n",
       "</table>\n",
       "</div>"
      ],
      "text/plain": [
       "     도    시   세부   지역\n",
       "0  경기도  안성시  중앙로  안성시\n",
       "1  경기도  부천시  원미구  부천시\n",
       "2  경기도  용인시  기흥구  기흥구\n",
       "3  경기도  수원시  영통구  영통구\n",
       "4  경기도  성남시  수정구  수정구"
      ]
     },
     "execution_count": 98,
     "metadata": {},
     "output_type": "execute_result"
    }
   ],
   "source": [
    "# 지역 컬럼 생성 : 구가 없는 시면 시 이름을, 구가 있는 시면 구 이름을 배정한다.\n",
    "city_series = univ['시'][univ['시'].isin(city_list)]\n",
    "district_series = univ['세부'][univ['세부'].isin(district_list_)]\n",
    "univ['지역'] = pd.concat([city_series, district_series])\n",
    "univ.head()"
   ]
  },
  {
   "cell_type": "code",
   "execution_count": 99,
   "id": "35b2d207",
   "metadata": {
    "canvas": {
     "comments": [],
     "componentType": "CodeCell",
     "copiedOriginId": null,
     "diskcache": false,
     "headerColor": "none",
     "id": "69dd512f-2bad-4502-962b-9e85f6b61481",
     "isComponent": false,
     "name": "",
     "parents": []
    }
   },
   "outputs": [
    {
     "name": "stdout",
     "output_type": "stream",
     "text": [
      "False\n",
      "36\n",
      "True\n"
     ]
    }
   ],
   "source": [
    "# 앞서 선정한 42개 지역 목록에 포함된다. 즉, 일치하지는 않는다. 왜냐하면, 대학교가 없는 지역이 존재하기 때문이다.\n",
    "print(sorted(univ['지역'].unique())==regions_)\n",
    "print(len(univ['지역'].unique()))\n",
    "print(set(univ['지역'].unique()).issubset(set(regions_)))"
   ]
  },
  {
   "cell_type": "code",
   "execution_count": 100,
   "id": "c7371b11",
   "metadata": {
    "canvas": {
     "comments": [],
     "componentType": "CodeCell",
     "copiedOriginId": null,
     "diskcache": false,
     "headerColor": "none",
     "id": "2e1f4f43-4be7-4e2e-8db1-33f5b33d4691",
     "isComponent": false,
     "name": "",
     "parents": []
    }
   },
   "outputs": [
    {
     "data": {
      "text/html": [
       "<div>\n",
       "<style scoped>\n",
       "    .dataframe tbody tr th:only-of-type {\n",
       "        vertical-align: middle;\n",
       "    }\n",
       "\n",
       "    .dataframe tbody tr th {\n",
       "        vertical-align: top;\n",
       "    }\n",
       "\n",
       "    .dataframe thead th {\n",
       "        text-align: right;\n",
       "    }\n",
       "</style>\n",
       "<table border=\"1\" class=\"dataframe\">\n",
       "  <thead>\n",
       "    <tr style=\"text-align: right;\">\n",
       "      <th></th>\n",
       "      <th>도</th>\n",
       "      <th>시</th>\n",
       "      <th>세부</th>\n",
       "      <th>지역</th>\n",
       "    </tr>\n",
       "  </thead>\n",
       "  <tbody>\n",
       "    <tr>\n",
       "      <th>0</th>\n",
       "      <td>경기도</td>\n",
       "      <td>안성시</td>\n",
       "      <td>중앙로</td>\n",
       "      <td>안성시</td>\n",
       "    </tr>\n",
       "    <tr>\n",
       "      <th>1</th>\n",
       "      <td>경기도</td>\n",
       "      <td>부천시</td>\n",
       "      <td>원미구</td>\n",
       "      <td>부천시</td>\n",
       "    </tr>\n",
       "    <tr>\n",
       "      <th>2</th>\n",
       "      <td>경기도</td>\n",
       "      <td>용인시</td>\n",
       "      <td>기흥구</td>\n",
       "      <td>용인시 기흥구</td>\n",
       "    </tr>\n",
       "    <tr>\n",
       "      <th>3</th>\n",
       "      <td>경기도</td>\n",
       "      <td>수원시</td>\n",
       "      <td>영통구</td>\n",
       "      <td>수원시 영통구</td>\n",
       "    </tr>\n",
       "    <tr>\n",
       "      <th>4</th>\n",
       "      <td>경기도</td>\n",
       "      <td>성남시</td>\n",
       "      <td>수정구</td>\n",
       "      <td>성남시 수정구</td>\n",
       "    </tr>\n",
       "  </tbody>\n",
       "</table>\n",
       "</div>"
      ],
      "text/plain": [
       "     도    시   세부       지역\n",
       "0  경기도  안성시  중앙로      안성시\n",
       "1  경기도  부천시  원미구      부천시\n",
       "2  경기도  용인시  기흥구  용인시 기흥구\n",
       "3  경기도  수원시  영통구  수원시 영통구\n",
       "4  경기도  성남시  수정구  성남시 수정구"
      ]
     },
     "execution_count": 100,
     "metadata": {},
     "output_type": "execute_result"
    }
   ],
   "source": [
    "# 지역 컬럼의 이름을 regions에서의 양식과 일치시킨다.\n",
    "univ['지역'].replace(dict2, inplace=True) \n",
    "univ.head()"
   ]
  },
  {
   "cell_type": "code",
   "execution_count": 101,
   "id": "98662faa",
   "metadata": {
    "canvas": {
     "comments": [],
     "componentType": "CodeCell",
     "copiedOriginId": null,
     "diskcache": false,
     "headerColor": "none",
     "id": "421c5fb0-0af6-4ec8-97d1-322d258d01a3",
     "isComponent": false,
     "name": "",
     "parents": []
    }
   },
   "outputs": [
    {
     "data": {
      "text/html": [
       "<div>\n",
       "<style scoped>\n",
       "    .dataframe tbody tr th:only-of-type {\n",
       "        vertical-align: middle;\n",
       "    }\n",
       "\n",
       "    .dataframe tbody tr th {\n",
       "        vertical-align: top;\n",
       "    }\n",
       "\n",
       "    .dataframe thead th {\n",
       "        text-align: right;\n",
       "    }\n",
       "</style>\n",
       "<table border=\"1\" class=\"dataframe\">\n",
       "  <thead>\n",
       "    <tr style=\"text-align: right;\">\n",
       "      <th></th>\n",
       "      <th>대학교 수</th>\n",
       "    </tr>\n",
       "  </thead>\n",
       "  <tbody>\n",
       "    <tr>\n",
       "      <th>가평군</th>\n",
       "      <td>1</td>\n",
       "    </tr>\n",
       "    <tr>\n",
       "      <th>고양시 덕양구</th>\n",
       "      <td>6</td>\n",
       "    </tr>\n",
       "    <tr>\n",
       "      <th>고양시 일산동구</th>\n",
       "      <td>1</td>\n",
       "    </tr>\n",
       "    <tr>\n",
       "      <th>고양시 일산서구</th>\n",
       "      <td>0</td>\n",
       "    </tr>\n",
       "    <tr>\n",
       "      <th>과천시</th>\n",
       "      <td>1</td>\n",
       "    </tr>\n",
       "  </tbody>\n",
       "</table>\n",
       "</div>"
      ],
      "text/plain": [
       "          대학교 수\n",
       "가평군           1\n",
       "고양시 덕양구       6\n",
       "고양시 일산동구      1\n",
       "고양시 일산서구      0\n",
       "과천시           1"
      ]
     },
     "execution_count": 101,
     "metadata": {},
     "output_type": "execute_result"
    }
   ],
   "source": [
    "# 각 지역별 대학교의 개수 데이터 생성\n",
    "univ_ = pd.DataFrame(index = regions)\n",
    "univ_['대학교 수'] = [sum(univ['지역']==region) for region in regions]\n",
    "univ_.head()"
   ]
  },
  {
   "cell_type": "markdown",
   "id": "d393b31d",
   "metadata": {
    "canvas": {
     "comments": [],
     "componentType": "CodeCell",
     "copiedOriginId": null,
     "diskcache": false,
     "headerColor": "none",
     "id": "5732802a-08f6-441e-80f1-bd5cedff133e",
     "isComponent": false,
     "name": "",
     "parents": []
    }
   },
   "source": [
    "## 아파트 수 : `apartment`"
   ]
  },
  {
   "cell_type": "code",
   "execution_count": 102,
   "id": "8f3f66bd",
   "metadata": {
    "canvas": {
     "comments": [],
     "componentType": "CodeCell",
     "copiedOriginId": null,
     "diskcache": false,
     "headerColor": "none",
     "id": "6db0fc8f-fb0f-49e7-b257-08b477c34c04",
     "isComponent": false,
     "name": "",
     "parents": []
    }
   },
   "outputs": [
    {
     "data": {
      "text/plain": [
       "True"
      ]
     },
     "execution_count": 102,
     "metadata": {},
     "output_type": "execute_result"
    }
   ],
   "source": [
    "apartment = pd.read_csv(\"../../data/data_b_raw/2b101_1229_경기도 아파트 현황.csv\")\n",
    "sorted(apartment['경기도 아파트현황'].unique()) == regions # 앞서 선정한 42개 지역 목록과 일치한다.\n",
    "# 경기지역 아파트 목록(윤겸님)\n",
    "# 데이터를 얻은 곳 : https://data.gg.go.kr/portal/data/service/selectServicePage.do?infId=VUPYJVKMYEYIKOQDILSR30099546&infSeq=1"
   ]
  },
  {
   "cell_type": "code",
   "execution_count": 103,
   "id": "972e97d6",
   "metadata": {
    "canvas": {
     "comments": [],
     "componentType": "CodeCell",
     "copiedOriginId": null,
     "diskcache": false,
     "headerColor": "none",
     "id": "30c6093c-e046-43db-a837-ded66b9d2d41",
     "isComponent": false,
     "name": "",
     "parents": []
    }
   },
   "outputs": [
    {
     "data": {
      "text/html": [
       "<div>\n",
       "<style scoped>\n",
       "    .dataframe tbody tr th:only-of-type {\n",
       "        vertical-align: middle;\n",
       "    }\n",
       "\n",
       "    .dataframe tbody tr th {\n",
       "        vertical-align: top;\n",
       "    }\n",
       "\n",
       "    .dataframe thead th {\n",
       "        text-align: right;\n",
       "    }\n",
       "</style>\n",
       "<table border=\"1\" class=\"dataframe\">\n",
       "  <thead>\n",
       "    <tr style=\"text-align: right;\">\n",
       "      <th></th>\n",
       "      <th>아파트 수</th>\n",
       "    </tr>\n",
       "    <tr>\n",
       "      <th>지역</th>\n",
       "      <th></th>\n",
       "    </tr>\n",
       "  </thead>\n",
       "  <tbody>\n",
       "    <tr>\n",
       "      <th>가평군</th>\n",
       "      <td>39</td>\n",
       "    </tr>\n",
       "    <tr>\n",
       "      <th>고양시 덕양구</th>\n",
       "      <td>274</td>\n",
       "    </tr>\n",
       "    <tr>\n",
       "      <th>고양시 일산동구</th>\n",
       "      <td>133</td>\n",
       "    </tr>\n",
       "    <tr>\n",
       "      <th>고양시 일산서구</th>\n",
       "      <td>140</td>\n",
       "    </tr>\n",
       "    <tr>\n",
       "      <th>과천시</th>\n",
       "      <td>15</td>\n",
       "    </tr>\n",
       "  </tbody>\n",
       "</table>\n",
       "</div>"
      ],
      "text/plain": [
       "          아파트 수\n",
       "지역             \n",
       "가평군          39\n",
       "고양시 덕양구     274\n",
       "고양시 일산동구    133\n",
       "고양시 일산서구    140\n",
       "과천시          15"
      ]
     },
     "execution_count": 103,
     "metadata": {},
     "output_type": "execute_result"
    }
   ],
   "source": [
    "apartment.rename(columns={'경기도 아파트현황':'지역', '아파트수':'아파트 수'}, inplace=True)\n",
    "apartment.set_index('지역',inplace=True)\n",
    "apartment = apartment.reindex(regions)\n",
    "apartment.head()"
   ]
  },
  {
   "cell_type": "markdown",
   "id": "cbe7e4c6-d939-41b9-862d-3793e14bdeb3",
   "metadata": {
    "canvas": {
     "comments": [],
     "componentType": "CodeCell",
     "copiedOriginId": null,
     "diskcache": false,
     "headerColor": "inherit",
     "id": "d5c3617c-3ef2-41d6-97ec-352f2cb34acb",
     "isComponent": false,
     "name": "",
     "parents": []
    }
   },
   "source": [
    "## 지하철역 수 : `subway_`"
   ]
  },
  {
   "cell_type": "code",
   "execution_count": 104,
   "id": "f3b8f634-ab48-470a-868d-1532d4b753ec",
   "metadata": {
    "canvas": {
     "comments": [],
     "componentType": "CodeCell",
     "copiedOriginId": null,
     "diskcache": false,
     "headerColor": "inherit",
     "id": "e2070b4c-6f0e-4f45-aec2-63db178352c9",
     "isComponent": false,
     "name": "",
     "parents": []
    }
   },
   "outputs": [
    {
     "data": {
      "text/html": [
       "<div>\n",
       "<style scoped>\n",
       "    .dataframe tbody tr th:only-of-type {\n",
       "        vertical-align: middle;\n",
       "    }\n",
       "\n",
       "    .dataframe tbody tr th {\n",
       "        vertical-align: top;\n",
       "    }\n",
       "\n",
       "    .dataframe thead th {\n",
       "        text-align: right;\n",
       "    }\n",
       "</style>\n",
       "<table border=\"1\" class=\"dataframe\">\n",
       "  <thead>\n",
       "    <tr style=\"text-align: right;\">\n",
       "      <th></th>\n",
       "      <th>철도운영기관명</th>\n",
       "      <th>선명</th>\n",
       "      <th>역명</th>\n",
       "      <th>지번주소</th>\n",
       "      <th>도로명주소</th>\n",
       "      <th>Unnamed: 5</th>\n",
       "      <th>Unnamed: 6</th>\n",
       "      <th>Unnamed: 7</th>\n",
       "      <th>Unnamed: 8</th>\n",
       "      <th>Unnamed: 9</th>\n",
       "      <th>Unnamed: 10</th>\n",
       "      <th>Unnamed: 11</th>\n",
       "      <th>Unnamed: 12</th>\n",
       "    </tr>\n",
       "  </thead>\n",
       "  <tbody>\n",
       "    <tr>\n",
       "      <th>0</th>\n",
       "      <td>코레일</td>\n",
       "      <td>1호선</td>\n",
       "      <td>가능</td>\n",
       "      <td>경기도 의정부시 가능동 197-1</td>\n",
       "      <td>경기도 의정부시 평화로 633</td>\n",
       "      <td>경기도</td>\n",
       "      <td>의정부시</td>\n",
       "      <td>평화로</td>\n",
       "      <td>633</td>\n",
       "      <td>NaN</td>\n",
       "      <td>NaN</td>\n",
       "      <td>NaN</td>\n",
       "      <td>NaN</td>\n",
       "    </tr>\n",
       "    <tr>\n",
       "      <th>1</th>\n",
       "      <td>코레일</td>\n",
       "      <td>1호선</td>\n",
       "      <td>가산디지털단지</td>\n",
       "      <td>서울특별시 금천구 가산동 468-4</td>\n",
       "      <td>서울특별시 금천구 벚꽃로 309</td>\n",
       "      <td>서울특별시</td>\n",
       "      <td>금천구</td>\n",
       "      <td>벚꽃로</td>\n",
       "      <td>309</td>\n",
       "      <td>NaN</td>\n",
       "      <td>NaN</td>\n",
       "      <td>NaN</td>\n",
       "      <td>NaN</td>\n",
       "    </tr>\n",
       "    <tr>\n",
       "      <th>2</th>\n",
       "      <td>코레일</td>\n",
       "      <td>1호선</td>\n",
       "      <td>간석</td>\n",
       "      <td>인천광역시 남동구 간석4동 762번지</td>\n",
       "      <td>인천광역시 남동구 석정로 522-14</td>\n",
       "      <td>인천광역시</td>\n",
       "      <td>남동구</td>\n",
       "      <td>석정로</td>\n",
       "      <td>522-14</td>\n",
       "      <td>NaN</td>\n",
       "      <td>NaN</td>\n",
       "      <td>NaN</td>\n",
       "      <td>NaN</td>\n",
       "    </tr>\n",
       "    <tr>\n",
       "      <th>3</th>\n",
       "      <td>코레일</td>\n",
       "      <td>1호선</td>\n",
       "      <td>개봉</td>\n",
       "      <td>서울특별시 구로구 개보동 415</td>\n",
       "      <td>서울특별시 구로구 경인로40길 47</td>\n",
       "      <td>서울특별시</td>\n",
       "      <td>구로구</td>\n",
       "      <td>경인로40길</td>\n",
       "      <td>47</td>\n",
       "      <td>NaN</td>\n",
       "      <td>NaN</td>\n",
       "      <td>NaN</td>\n",
       "      <td>NaN</td>\n",
       "    </tr>\n",
       "    <tr>\n",
       "      <th>4</th>\n",
       "      <td>코레일</td>\n",
       "      <td>1호선</td>\n",
       "      <td>관악</td>\n",
       "      <td>경기도 안양시 만악구 석수동 101-16</td>\n",
       "      <td>경기도 안양시 만안구 경수대로1273번길 46</td>\n",
       "      <td>경기도</td>\n",
       "      <td>안양시</td>\n",
       "      <td>만안구</td>\n",
       "      <td>경수대로1273번길</td>\n",
       "      <td>46</td>\n",
       "      <td>NaN</td>\n",
       "      <td>NaN</td>\n",
       "      <td>NaN</td>\n",
       "    </tr>\n",
       "  </tbody>\n",
       "</table>\n",
       "</div>"
      ],
      "text/plain": [
       "  철도운영기관명   선명       역명                    지번주소                      도로명주소  \\\n",
       "0     코레일  1호선       가능      경기도 의정부시 가능동 197-1           경기도 의정부시 평화로 633   \n",
       "1     코레일  1호선  가산디지털단지     서울특별시 금천구 가산동 468-4          서울특별시 금천구 벚꽃로 309   \n",
       "2     코레일  1호선       간석    인천광역시 남동구 간석4동 762번지       인천광역시 남동구 석정로 522-14   \n",
       "3     코레일  1호선       개봉       서울특별시 구로구 개보동 415        서울특별시 구로구 경인로40길 47   \n",
       "4     코레일  1호선       관악  경기도 안양시 만악구 석수동 101-16  경기도 안양시 만안구 경수대로1273번길 46   \n",
       "\n",
       "  Unnamed: 5 Unnamed: 6 Unnamed: 7  Unnamed: 8 Unnamed: 9 Unnamed: 10  \\\n",
       "0        경기도       의정부시        평화로         633        NaN         NaN   \n",
       "1      서울특별시        금천구        벚꽃로         309        NaN         NaN   \n",
       "2      인천광역시        남동구        석정로      522-14        NaN         NaN   \n",
       "3      서울특별시        구로구     경인로40길          47        NaN         NaN   \n",
       "4        경기도        안양시        만안구  경수대로1273번길         46         NaN   \n",
       "\n",
       "  Unnamed: 11 Unnamed: 12  \n",
       "0         NaN         NaN  \n",
       "1         NaN         NaN  \n",
       "2         NaN         NaN  \n",
       "3         NaN         NaN  \n",
       "4         NaN         NaN  "
      ]
     },
     "execution_count": 104,
     "metadata": {},
     "output_type": "execute_result"
    }
   ],
   "source": [
    "subway = pd.read_csv(\"../../data/data_b_raw/2b204_1229_국가철도공단_1_9_경전철.csv\", encoding='CP949')\n",
    "subway.head()\n",
    "# 경기지역 지하철역 목록(연수님)\n",
    "# 데이터를 얻은 곳 : https://www.data.go.kr/data/15041113/fileData.do 등 다수"
   ]
  },
  {
   "cell_type": "code",
   "execution_count": 105,
   "id": "be516626-7bbe-4497-a7b4-d1af9e8891fb",
   "metadata": {
    "canvas": {
     "comments": [],
     "componentType": "CodeCell",
     "copiedOriginId": null,
     "diskcache": false,
     "headerColor": "inherit",
     "id": "a6881b2f-4c25-474f-b743-18e208084021",
     "isComponent": false,
     "name": "",
     "parents": []
    }
   },
   "outputs": [
    {
     "data": {
      "text/html": [
       "<div>\n",
       "<style scoped>\n",
       "    .dataframe tbody tr th:only-of-type {\n",
       "        vertical-align: middle;\n",
       "    }\n",
       "\n",
       "    .dataframe tbody tr th {\n",
       "        vertical-align: top;\n",
       "    }\n",
       "\n",
       "    .dataframe thead th {\n",
       "        text-align: right;\n",
       "    }\n",
       "</style>\n",
       "<table border=\"1\" class=\"dataframe\">\n",
       "  <thead>\n",
       "    <tr style=\"text-align: right;\">\n",
       "      <th></th>\n",
       "      <th>Unnamed: 5</th>\n",
       "      <th>Unnamed: 6</th>\n",
       "      <th>Unnamed: 7</th>\n",
       "    </tr>\n",
       "  </thead>\n",
       "  <tbody>\n",
       "    <tr>\n",
       "      <th>0</th>\n",
       "      <td>경기도</td>\n",
       "      <td>의정부시</td>\n",
       "      <td>평화로</td>\n",
       "    </tr>\n",
       "    <tr>\n",
       "      <th>1</th>\n",
       "      <td>서울특별시</td>\n",
       "      <td>금천구</td>\n",
       "      <td>벚꽃로</td>\n",
       "    </tr>\n",
       "    <tr>\n",
       "      <th>2</th>\n",
       "      <td>인천광역시</td>\n",
       "      <td>남동구</td>\n",
       "      <td>석정로</td>\n",
       "    </tr>\n",
       "    <tr>\n",
       "      <th>3</th>\n",
       "      <td>서울특별시</td>\n",
       "      <td>구로구</td>\n",
       "      <td>경인로40길</td>\n",
       "    </tr>\n",
       "    <tr>\n",
       "      <th>4</th>\n",
       "      <td>경기도</td>\n",
       "      <td>안양시</td>\n",
       "      <td>만안구</td>\n",
       "    </tr>\n",
       "  </tbody>\n",
       "</table>\n",
       "</div>"
      ],
      "text/plain": [
       "  Unnamed: 5 Unnamed: 6 Unnamed: 7\n",
       "0        경기도       의정부시        평화로\n",
       "1      서울특별시        금천구        벚꽃로\n",
       "2      인천광역시        남동구        석정로\n",
       "3      서울특별시        구로구     경인로40길\n",
       "4        경기도        안양시        만안구"
      ]
     },
     "execution_count": 105,
     "metadata": {},
     "output_type": "execute_result"
    }
   ],
   "source": [
    "cmask = subway.isin(regions+regions_).any(axis='rows') # column mask\n",
    "# subway의 원소들 중 '42개 지역'을 하나라도 포함하고 있는 열들에 대한 mask\n",
    "cmask = np.where(cmask)[0] # [5,6,7]\n",
    "subway = subway.iloc[:,cmask] # subway에서 5, 6, 7번에 해당하는 열들만 추린다.\n",
    "subway.head()"
   ]
  },
  {
   "cell_type": "code",
   "execution_count": 106,
   "id": "59e3bab9-377d-447f-bd10-3103f2ce2ea1",
   "metadata": {
    "canvas": {
     "comments": [],
     "componentType": "CodeCell",
     "copiedOriginId": null,
     "diskcache": false,
     "headerColor": "inherit",
     "id": "2f42c6e8-7860-4d08-8ef2-e8cf2d513458",
     "isComponent": false,
     "name": "",
     "parents": []
    }
   },
   "outputs": [
    {
     "data": {
      "text/html": [
       "<div>\n",
       "<style scoped>\n",
       "    .dataframe tbody tr th:only-of-type {\n",
       "        vertical-align: middle;\n",
       "    }\n",
       "\n",
       "    .dataframe tbody tr th {\n",
       "        vertical-align: top;\n",
       "    }\n",
       "\n",
       "    .dataframe thead th {\n",
       "        text-align: right;\n",
       "    }\n",
       "</style>\n",
       "<table border=\"1\" class=\"dataframe\">\n",
       "  <thead>\n",
       "    <tr style=\"text-align: right;\">\n",
       "      <th></th>\n",
       "      <th>도</th>\n",
       "      <th>시</th>\n",
       "      <th>세부</th>\n",
       "    </tr>\n",
       "  </thead>\n",
       "  <tbody>\n",
       "    <tr>\n",
       "      <th>0</th>\n",
       "      <td>경기도</td>\n",
       "      <td>의정부시</td>\n",
       "      <td>평화로</td>\n",
       "    </tr>\n",
       "    <tr>\n",
       "      <th>4</th>\n",
       "      <td>경기도</td>\n",
       "      <td>안양시</td>\n",
       "      <td>만안구</td>\n",
       "    </tr>\n",
       "    <tr>\n",
       "      <th>5</th>\n",
       "      <td>경기도</td>\n",
       "      <td>광명시</td>\n",
       "      <td>광명역로</td>\n",
       "    </tr>\n",
       "    <tr>\n",
       "      <th>9</th>\n",
       "      <td>경기도</td>\n",
       "      <td>군포시</td>\n",
       "      <td>군포역1길</td>\n",
       "    </tr>\n",
       "    <tr>\n",
       "      <th>10</th>\n",
       "      <td>경기도</td>\n",
       "      <td>군포시</td>\n",
       "      <td>군포로</td>\n",
       "    </tr>\n",
       "  </tbody>\n",
       "</table>\n",
       "</div>"
      ],
      "text/plain": [
       "      도     시     세부\n",
       "0   경기도  의정부시    평화로\n",
       "4   경기도   안양시    만안구\n",
       "5   경기도   광명시   광명역로\n",
       "9   경기도   군포시  군포역1길\n",
       "10  경기도   군포시    군포로"
      ]
     },
     "execution_count": 106,
     "metadata": {},
     "output_type": "execute_result"
    }
   ],
   "source": [
    "rmask = subway.isin(regions+regions_).any(axis='columns') # row mask\n",
    "# subway의 원소들 중 '42개 지역'을 하나라도 포함하고 있는 행들에 대한 mask\n",
    "subway = subway[rmask] # subway에서 '42개 지역'을 하나라도 포함하고 있는 행들만 추린다.\n",
    "subway.rename(columns={'Unnamed: 5':'도', 'Unnamed: 6':'시', 'Unnamed: 7':'세부'}, inplace=True) # 컬럼 명을 '도'와 '시', '세부'로 변경\n",
    "subway.head()"
   ]
  },
  {
   "cell_type": "code",
   "execution_count": 107,
   "id": "dec1005d-b11f-4c7f-abeb-96b33e68bf71",
   "metadata": {
    "canvas": {
     "comments": [],
     "componentType": "CodeCell",
     "copiedOriginId": "46485b7f-2a1f-462a-bd4e-e1f739f5b693",
     "diskcache": false,
     "headerColor": "inherit",
     "id": "a9a2f3b9-57ae-4a9f-991f-356082cf6acd",
     "isComponent": false,
     "name": "",
     "parents": []
    }
   },
   "outputs": [
    {
     "name": "stdout",
     "output_type": "stream",
     "text": [
      "2\n",
      "166\n",
      "85\n",
      "2\n",
      "144\n",
      "0\n",
      "0\n"
     ]
    }
   ],
   "source": [
    "# sanity check\n",
    "# 244 = 2+166+76 = 2+(144+22)+76, 잘 됐다.\n",
    "print(subway.isin(regions+regions_)[\"도\"].sum()) # 2\n",
    "print(subway.isin(regions+regions_)[\"시\"].sum()) # 166\n",
    "print(subway.isin(regions+regions_)[\"세부\"].sum()) # 76\n",
    "print(subway.isin(city_list)[\"도\"].sum()) # 2\n",
    "print(subway.isin(city_list)[\"시\"].sum()) # 144\n",
    "print(subway.isin(district_list)[\"시\"].sum()) # 22\n",
    "print(subway.isin(district_list)[\"세부\"].sum()) # 76"
   ]
  },
  {
   "cell_type": "code",
   "execution_count": 108,
   "id": "5aa1b0af-c049-49f8-9c1c-a2552a4aa15b",
   "metadata": {
    "canvas": {
     "comments": [],
     "componentType": "CodeCell",
     "copiedOriginId": null,
     "diskcache": false,
     "headerColor": "inherit",
     "id": "293fad08-b7ba-49b0-844f-1ff70e028331",
     "isComponent": false,
     "name": "",
     "parents": []
    }
   },
   "outputs": [
    {
     "name": "stdout",
     "output_type": "stream",
     "text": [
      "set()\n",
      "False\n"
     ]
    }
   ],
   "source": [
    "city1 = set(np.where(subway['도'].isin(city_list))[0])\n",
    "city2 = set(np.where(subway['시'].isin(city_list))[0])\n",
    "city = set.union(city1,city2) # '시'에 속해있는 지하철역들의 index\n",
    "district1 = set(np.where(subway['시'].isin(district_list))[0])\n",
    "district2 = set(np.where(subway['세부'].isin(district_list))[0])\n",
    "district = set.union(district1, district2) # '구'에 속해있는 지하철역들의 index\n",
    "print(set.intersection(city,district)) # city와 district는 겹치지 않는다.\n",
    "print(set(np.arange(244)) == set.union(city,district)) # city와 district를 합치면 244개가 다 나온다."
   ]
  },
  {
   "cell_type": "code",
   "execution_count": 109,
   "id": "bcd01fbf-2558-4b4c-b980-9ddfc3ad268c",
   "metadata": {
    "canvas": {
     "comments": [],
     "componentType": "CodeCell",
     "copiedOriginId": null,
     "diskcache": false,
     "headerColor": "inherit",
     "id": "9f08e2fa-7596-4b04-8805-cb25c48e6e32",
     "isComponent": false,
     "name": "",
     "parents": []
    }
   },
   "outputs": [
    {
     "data": {
      "text/html": [
       "<div>\n",
       "<style scoped>\n",
       "    .dataframe tbody tr th:only-of-type {\n",
       "        vertical-align: middle;\n",
       "    }\n",
       "\n",
       "    .dataframe tbody tr th {\n",
       "        vertical-align: top;\n",
       "    }\n",
       "\n",
       "    .dataframe thead th {\n",
       "        text-align: right;\n",
       "    }\n",
       "</style>\n",
       "<table border=\"1\" class=\"dataframe\">\n",
       "  <thead>\n",
       "    <tr style=\"text-align: right;\">\n",
       "      <th></th>\n",
       "      <th>도</th>\n",
       "      <th>시</th>\n",
       "      <th>세부</th>\n",
       "      <th>지역</th>\n",
       "    </tr>\n",
       "  </thead>\n",
       "  <tbody>\n",
       "    <tr>\n",
       "      <th>0</th>\n",
       "      <td>경기도</td>\n",
       "      <td>의정부시</td>\n",
       "      <td>평화로</td>\n",
       "      <td>의정부시</td>\n",
       "    </tr>\n",
       "    <tr>\n",
       "      <th>4</th>\n",
       "      <td>경기도</td>\n",
       "      <td>안양시</td>\n",
       "      <td>만안구</td>\n",
       "      <td>만안구</td>\n",
       "    </tr>\n",
       "    <tr>\n",
       "      <th>5</th>\n",
       "      <td>경기도</td>\n",
       "      <td>광명시</td>\n",
       "      <td>광명역로</td>\n",
       "      <td>광명시</td>\n",
       "    </tr>\n",
       "    <tr>\n",
       "      <th>9</th>\n",
       "      <td>경기도</td>\n",
       "      <td>군포시</td>\n",
       "      <td>군포역1길</td>\n",
       "      <td>군포시</td>\n",
       "    </tr>\n",
       "    <tr>\n",
       "      <th>10</th>\n",
       "      <td>경기도</td>\n",
       "      <td>군포시</td>\n",
       "      <td>군포로</td>\n",
       "      <td>군포시</td>\n",
       "    </tr>\n",
       "    <tr>\n",
       "      <th>...</th>\n",
       "      <td>...</td>\n",
       "      <td>...</td>\n",
       "      <td>...</td>\n",
       "      <td>...</td>\n",
       "    </tr>\n",
       "    <tr>\n",
       "      <th>655</th>\n",
       "      <td>경기도</td>\n",
       "      <td>김포시</td>\n",
       "      <td>NaN</td>\n",
       "      <td>김포시</td>\n",
       "    </tr>\n",
       "    <tr>\n",
       "      <th>656</th>\n",
       "      <td>경기도</td>\n",
       "      <td>김포시</td>\n",
       "      <td>NaN</td>\n",
       "      <td>김포시</td>\n",
       "    </tr>\n",
       "    <tr>\n",
       "      <th>657</th>\n",
       "      <td>경기도</td>\n",
       "      <td>김포시</td>\n",
       "      <td>NaN</td>\n",
       "      <td>김포시</td>\n",
       "    </tr>\n",
       "    <tr>\n",
       "      <th>658</th>\n",
       "      <td>경기도</td>\n",
       "      <td>김포시</td>\n",
       "      <td>NaN</td>\n",
       "      <td>김포시</td>\n",
       "    </tr>\n",
       "    <tr>\n",
       "      <th>659</th>\n",
       "      <td>경기도</td>\n",
       "      <td>김포시</td>\n",
       "      <td>NaN</td>\n",
       "      <td>김포시</td>\n",
       "    </tr>\n",
       "  </tbody>\n",
       "</table>\n",
       "<p>253 rows × 4 columns</p>\n",
       "</div>"
      ],
      "text/plain": [
       "       도     시     세부    지역\n",
       "0    경기도  의정부시    평화로  의정부시\n",
       "4    경기도   안양시    만안구   만안구\n",
       "5    경기도   광명시   광명역로   광명시\n",
       "9    경기도   군포시  군포역1길   군포시\n",
       "10   경기도   군포시    군포로   군포시\n",
       "..   ...   ...    ...   ...\n",
       "655  경기도   김포시    NaN   김포시\n",
       "656  경기도   김포시    NaN   김포시\n",
       "657  경기도   김포시    NaN   김포시\n",
       "658  경기도   김포시    NaN   김포시\n",
       "659  경기도   김포시    NaN   김포시\n",
       "\n",
       "[253 rows x 4 columns]"
      ]
     },
     "execution_count": 109,
     "metadata": {},
     "output_type": "execute_result"
    }
   ],
   "source": [
    "# 지역 컬럼 생성 : 구가 없는 시면 시 이름을, 구가 있는 시면 구 이름을 배정한다.\n",
    "city_series1 = subway['도'][subway['도'].isin(city_list)]\n",
    "city_series2 = subway['시'][subway['시'].isin(city_list)]\n",
    "district_series1 = subway['시'][subway['시'].isin(district_list_)]\n",
    "district_series2 = subway['세부'][subway['세부'].isin(district_list_)]\n",
    "subway['지역'] = pd.concat([city_series1, city_series2, district_series1, district_series2])\n",
    "subway"
   ]
  },
  {
   "cell_type": "code",
   "execution_count": 110,
   "id": "e51bf99e-9a34-45d6-b32a-1a8faa6ba934",
   "metadata": {
    "canvas": {
     "comments": [],
     "componentType": "CodeCell",
     "copiedOriginId": "69dd512f-2bad-4502-962b-9e85f6b61481",
     "diskcache": false,
     "headerColor": "none",
     "id": "055226b9-79f4-490c-a854-dbcbf83701a4",
     "isComponent": false,
     "name": "",
     "parents": []
    }
   },
   "outputs": [
    {
     "name": "stdout",
     "output_type": "stream",
     "text": [
      "False\n",
      "39\n",
      "True\n"
     ]
    }
   ],
   "source": [
    "# 앞서 선정한 42개 지역 목록에 포함된다. 즉, 일치하지는 않는다. 왜냐하면, 대학교가 없는 지역이 존재하기 때문이다.\n",
    "print(sorted(subway['지역'].unique())==regions_)\n",
    "print(len(subway['지역'].unique()))\n",
    "print(set(subway['지역'].unique()).issubset(set(regions_)))"
   ]
  },
  {
   "cell_type": "code",
   "execution_count": 111,
   "id": "bb3274d6-8d09-4e59-9b6a-872ee9b61f59",
   "metadata": {
    "canvas": {
     "comments": [],
     "componentType": "CodeCell",
     "copiedOriginId": "2e1f4f43-4be7-4e2e-8db1-33f5b33d4691",
     "diskcache": false,
     "headerColor": "none",
     "id": "f7851b64-06e7-4e7f-b8c2-46bf815aab9f",
     "isComponent": false,
     "name": "",
     "parents": []
    }
   },
   "outputs": [
    {
     "data": {
      "text/html": [
       "<div>\n",
       "<style scoped>\n",
       "    .dataframe tbody tr th:only-of-type {\n",
       "        vertical-align: middle;\n",
       "    }\n",
       "\n",
       "    .dataframe tbody tr th {\n",
       "        vertical-align: top;\n",
       "    }\n",
       "\n",
       "    .dataframe thead th {\n",
       "        text-align: right;\n",
       "    }\n",
       "</style>\n",
       "<table border=\"1\" class=\"dataframe\">\n",
       "  <thead>\n",
       "    <tr style=\"text-align: right;\">\n",
       "      <th></th>\n",
       "      <th>도</th>\n",
       "      <th>시</th>\n",
       "      <th>세부</th>\n",
       "      <th>지역</th>\n",
       "    </tr>\n",
       "  </thead>\n",
       "  <tbody>\n",
       "    <tr>\n",
       "      <th>0</th>\n",
       "      <td>경기도</td>\n",
       "      <td>의정부시</td>\n",
       "      <td>평화로</td>\n",
       "      <td>의정부시</td>\n",
       "    </tr>\n",
       "    <tr>\n",
       "      <th>4</th>\n",
       "      <td>경기도</td>\n",
       "      <td>안양시</td>\n",
       "      <td>만안구</td>\n",
       "      <td>안양시 만안구</td>\n",
       "    </tr>\n",
       "    <tr>\n",
       "      <th>5</th>\n",
       "      <td>경기도</td>\n",
       "      <td>광명시</td>\n",
       "      <td>광명역로</td>\n",
       "      <td>광명시</td>\n",
       "    </tr>\n",
       "    <tr>\n",
       "      <th>9</th>\n",
       "      <td>경기도</td>\n",
       "      <td>군포시</td>\n",
       "      <td>군포역1길</td>\n",
       "      <td>군포시</td>\n",
       "    </tr>\n",
       "    <tr>\n",
       "      <th>10</th>\n",
       "      <td>경기도</td>\n",
       "      <td>군포시</td>\n",
       "      <td>군포로</td>\n",
       "      <td>군포시</td>\n",
       "    </tr>\n",
       "  </tbody>\n",
       "</table>\n",
       "</div>"
      ],
      "text/plain": [
       "      도     시     세부       지역\n",
       "0   경기도  의정부시    평화로     의정부시\n",
       "4   경기도   안양시    만안구  안양시 만안구\n",
       "5   경기도   광명시   광명역로      광명시\n",
       "9   경기도   군포시  군포역1길      군포시\n",
       "10  경기도   군포시    군포로      군포시"
      ]
     },
     "execution_count": 111,
     "metadata": {},
     "output_type": "execute_result"
    }
   ],
   "source": [
    "# 지역 컬럼의 이름을 regions에서의 양식과 일치시킨다.\n",
    "subway['지역'].replace(dict2, inplace=True) \n",
    "subway.head()"
   ]
  },
  {
   "cell_type": "code",
   "execution_count": 112,
   "id": "fb83ea33-99d5-4293-b955-9ac381d0e4fc",
   "metadata": {
    "canvas": {
     "comments": [],
     "componentType": "CodeCell",
     "copiedOriginId": "421c5fb0-0af6-4ec8-97d1-322d258d01a3",
     "diskcache": false,
     "headerColor": "none",
     "id": "7e1e461f-516f-435f-bf1a-e2319fc4de42",
     "isComponent": false,
     "name": "",
     "parents": []
    }
   },
   "outputs": [
    {
     "data": {
      "text/html": [
       "<div>\n",
       "<style scoped>\n",
       "    .dataframe tbody tr th:only-of-type {\n",
       "        vertical-align: middle;\n",
       "    }\n",
       "\n",
       "    .dataframe tbody tr th {\n",
       "        vertical-align: top;\n",
       "    }\n",
       "\n",
       "    .dataframe thead th {\n",
       "        text-align: right;\n",
       "    }\n",
       "</style>\n",
       "<table border=\"1\" class=\"dataframe\">\n",
       "  <thead>\n",
       "    <tr style=\"text-align: right;\">\n",
       "      <th></th>\n",
       "      <th>지하철역 수</th>\n",
       "    </tr>\n",
       "  </thead>\n",
       "  <tbody>\n",
       "    <tr>\n",
       "      <th>가평군</th>\n",
       "      <td>4</td>\n",
       "    </tr>\n",
       "    <tr>\n",
       "      <th>고양시 덕양구</th>\n",
       "      <td>9</td>\n",
       "    </tr>\n",
       "    <tr>\n",
       "      <th>고양시 일산동구</th>\n",
       "      <td>6</td>\n",
       "    </tr>\n",
       "    <tr>\n",
       "      <th>고양시 일산서구</th>\n",
       "      <td>4</td>\n",
       "    </tr>\n",
       "    <tr>\n",
       "      <th>과천시</th>\n",
       "      <td>5</td>\n",
       "    </tr>\n",
       "  </tbody>\n",
       "</table>\n",
       "</div>"
      ],
      "text/plain": [
       "          지하철역 수\n",
       "가평군            4\n",
       "고양시 덕양구        9\n",
       "고양시 일산동구       6\n",
       "고양시 일산서구       4\n",
       "과천시            5"
      ]
     },
     "execution_count": 112,
     "metadata": {},
     "output_type": "execute_result"
    }
   ],
   "source": [
    "# 각 지역별 대학교의 개수 데이터 생성\n",
    "subway_ = pd.DataFrame(index = regions)\n",
    "subway_['지하철역 수'] = [sum(subway['지역']==region) for region in regions]\n",
    "subway_.head()"
   ]
  },
  {
   "cell_type": "markdown",
   "id": "459e65bc",
   "metadata": {},
   "source": [
    "## 버스정류장 수 : `busstop`"
   ]
  },
  {
   "cell_type": "code",
   "execution_count": 113,
   "id": "f3b8f634-ab48-470a-868d-1532d4b753ec",
   "metadata": {
    "canvas": {
     "comments": [],
     "componentType": "CodeCell",
     "copiedOriginId": null,
     "diskcache": false,
     "headerColor": "inherit",
     "id": "e2070b4c-6f0e-4f45-aec2-63db178352c9",
     "isComponent": false,
     "name": "",
     "parents": []
    }
   },
   "outputs": [
    {
     "data": {
      "text/html": [
       "<div>\n",
       "<style scoped>\n",
       "    .dataframe tbody tr th:only-of-type {\n",
       "        vertical-align: middle;\n",
       "    }\n",
       "\n",
       "    .dataframe tbody tr th {\n",
       "        vertical-align: top;\n",
       "    }\n",
       "\n",
       "    .dataframe thead th {\n",
       "        text-align: right;\n",
       "    }\n",
       "</style>\n",
       "<table border=\"1\" class=\"dataframe\">\n",
       "  <thead>\n",
       "    <tr style=\"text-align: right;\">\n",
       "      <th></th>\n",
       "      <th>지역</th>\n",
       "      <th>정류장 수</th>\n",
       "    </tr>\n",
       "  </thead>\n",
       "  <tbody>\n",
       "    <tr>\n",
       "      <th>0</th>\n",
       "      <td>가평군</td>\n",
       "      <td>928</td>\n",
       "    </tr>\n",
       "    <tr>\n",
       "      <th>1</th>\n",
       "      <td>고양시_덕양구</td>\n",
       "      <td>1205</td>\n",
       "    </tr>\n",
       "    <tr>\n",
       "      <th>2</th>\n",
       "      <td>고양시_일산동구</td>\n",
       "      <td>454</td>\n",
       "    </tr>\n",
       "    <tr>\n",
       "      <th>3</th>\n",
       "      <td>고양시_일산서구</td>\n",
       "      <td>635</td>\n",
       "    </tr>\n",
       "    <tr>\n",
       "      <th>4</th>\n",
       "      <td>과천시</td>\n",
       "      <td>111</td>\n",
       "    </tr>\n",
       "  </tbody>\n",
       "</table>\n",
       "</div>"
      ],
      "text/plain": [
       "         지역  정류장 수\n",
       "0       가평군    928\n",
       "1   고양시_덕양구   1205\n",
       "2  고양시_일산동구    454\n",
       "3  고양시_일산서구    635\n",
       "4       과천시    111"
      ]
     },
     "execution_count": 113,
     "metadata": {},
     "output_type": "execute_result"
    }
   ],
   "source": [
    "busstop = pd.read_csv(\"../../data/data_b_raw/2b401_0104_Bus_Stop_final.csv\", encoding='CP949')\n",
    "busstop.rename(columns={'Unnamed: 0':'지역','정류장수':'정류장 수'}, inplace=True)\n",
    "busstop.head()\n",
    "# 경기지역 버스정류장 목록(현우님)\n",
    "# 데이터를 얻은 곳 : [출처필요]"
   ]
  },
  {
   "cell_type": "code",
   "execution_count": 114,
   "id": "92d517b1",
   "metadata": {},
   "outputs": [
    {
     "data": {
      "text/html": [
       "<div>\n",
       "<style scoped>\n",
       "    .dataframe tbody tr th:only-of-type {\n",
       "        vertical-align: middle;\n",
       "    }\n",
       "\n",
       "    .dataframe tbody tr th {\n",
       "        vertical-align: top;\n",
       "    }\n",
       "\n",
       "    .dataframe thead th {\n",
       "        text-align: right;\n",
       "    }\n",
       "</style>\n",
       "<table border=\"1\" class=\"dataframe\">\n",
       "  <thead>\n",
       "    <tr style=\"text-align: right;\">\n",
       "      <th></th>\n",
       "      <th>정류장 수</th>\n",
       "    </tr>\n",
       "    <tr>\n",
       "      <th>지역</th>\n",
       "      <th></th>\n",
       "    </tr>\n",
       "  </thead>\n",
       "  <tbody>\n",
       "    <tr>\n",
       "      <th>가평군</th>\n",
       "      <td>928</td>\n",
       "    </tr>\n",
       "    <tr>\n",
       "      <th>고양시 덕양구</th>\n",
       "      <td>1205</td>\n",
       "    </tr>\n",
       "    <tr>\n",
       "      <th>고양시 일산동구</th>\n",
       "      <td>454</td>\n",
       "    </tr>\n",
       "    <tr>\n",
       "      <th>고양시 일산서구</th>\n",
       "      <td>635</td>\n",
       "    </tr>\n",
       "    <tr>\n",
       "      <th>과천시</th>\n",
       "      <td>111</td>\n",
       "    </tr>\n",
       "  </tbody>\n",
       "</table>\n",
       "</div>"
      ],
      "text/plain": [
       "          정류장 수\n",
       "지역             \n",
       "가평군         928\n",
       "고양시 덕양구    1205\n",
       "고양시 일산동구    454\n",
       "고양시 일산서구    635\n",
       "과천시         111"
      ]
     },
     "execution_count": 114,
     "metadata": {},
     "output_type": "execute_result"
    }
   ],
   "source": [
    "regions_temp = list(busstop['지역'])\n",
    "# regions == [region.replace('_', ' ') for region in regions_temp] # True\n",
    "busstop['지역'].replace(dict(zip(regions_temp, regions)), inplace=True)\n",
    "busstop.set_index('지역', inplace=True)\n",
    "busstop.head()"
   ]
  },
  {
   "attachments": {},
   "cell_type": "markdown",
   "id": "e3b92032",
   "metadata": {},
   "source": [
    "## 환승역 수 : transfer"
   ]
  },
  {
   "cell_type": "code",
   "execution_count": 115,
   "id": "94bc33e9",
   "metadata": {},
   "outputs": [
    {
     "data": {
      "text/html": [
       "<div>\n",
       "<style scoped>\n",
       "    .dataframe tbody tr th:only-of-type {\n",
       "        vertical-align: middle;\n",
       "    }\n",
       "\n",
       "    .dataframe tbody tr th {\n",
       "        vertical-align: top;\n",
       "    }\n",
       "\n",
       "    .dataframe thead th {\n",
       "        text-align: right;\n",
       "    }\n",
       "</style>\n",
       "<table border=\"1\" class=\"dataframe\">\n",
       "  <thead>\n",
       "    <tr style=\"text-align: right;\">\n",
       "      <th></th>\n",
       "      <th>환승역 수</th>\n",
       "    </tr>\n",
       "    <tr>\n",
       "      <th>지역</th>\n",
       "      <th></th>\n",
       "    </tr>\n",
       "  </thead>\n",
       "  <tbody>\n",
       "    <tr>\n",
       "      <th>수원시 장안구</th>\n",
       "      <td>0</td>\n",
       "    </tr>\n",
       "    <tr>\n",
       "      <th>수원시 권선구</th>\n",
       "      <td>0</td>\n",
       "    </tr>\n",
       "    <tr>\n",
       "      <th>수원시 팔달구</th>\n",
       "      <td>2</td>\n",
       "    </tr>\n",
       "    <tr>\n",
       "      <th>수원시 영통구</th>\n",
       "      <td>0</td>\n",
       "    </tr>\n",
       "    <tr>\n",
       "      <th>용인시 처인구</th>\n",
       "      <td>0</td>\n",
       "    </tr>\n",
       "  </tbody>\n",
       "</table>\n",
       "</div>"
      ],
      "text/plain": [
       "         환승역 수\n",
       "지역            \n",
       "수원시 장안구      0\n",
       "수원시 권선구      0\n",
       "수원시 팔달구      2\n",
       "수원시 영통구      0\n",
       "용인시 처인구      0"
      ]
     },
     "execution_count": 115,
     "metadata": {},
     "output_type": "execute_result"
    }
   ],
   "source": [
    "transfer = pd.read_csv(\"../../data/data_b_raw/2b501_0104_환승역.csv\", encoding='CP949')\n",
    "transfer.set_index('지역', inplace=True)\n",
    "transfer.head()"
   ]
  },
  {
   "attachments": {},
   "cell_type": "markdown",
   "id": "6204f6d2",
   "metadata": {},
   "source": [
    "## 행복주택 : `happyhouse_`"
   ]
  },
  {
   "cell_type": "code",
   "execution_count": 116,
   "id": "e5849cbc",
   "metadata": {},
   "outputs": [
    {
     "data": {
      "text/html": [
       "<div>\n",
       "<style scoped>\n",
       "    .dataframe tbody tr th:only-of-type {\n",
       "        vertical-align: middle;\n",
       "    }\n",
       "\n",
       "    .dataframe tbody tr th {\n",
       "        vertical-align: top;\n",
       "    }\n",
       "\n",
       "    .dataframe thead th {\n",
       "        text-align: right;\n",
       "    }\n",
       "</style>\n",
       "<table border=\"1\" class=\"dataframe\">\n",
       "  <thead>\n",
       "    <tr style=\"text-align: right;\">\n",
       "      <th></th>\n",
       "      <th>지역</th>\n",
       "      <th>단지</th>\n",
       "      <th>세대수</th>\n",
       "      <th>주소</th>\n",
       "      <th>위도</th>\n",
       "      <th>경도</th>\n",
       "    </tr>\n",
       "  </thead>\n",
       "  <tbody>\n",
       "    <tr>\n",
       "      <th>0</th>\n",
       "      <td>고양시 덕양구</td>\n",
       "      <td>삼송11단지</td>\n",
       "      <td>832</td>\n",
       "      <td>경기도 고양시 덕양구 원흥1로 25</td>\n",
       "      <td>37.650992</td>\n",
       "      <td>126.865491</td>\n",
       "    </tr>\n",
       "    <tr>\n",
       "      <th>1</th>\n",
       "      <td>고양시 덕양구</td>\n",
       "      <td>고양지축 A-1블록 신혼희망타운 행복주택</td>\n",
       "      <td>250</td>\n",
       "      <td>경기도 고양시 덕양구 오부자로 99</td>\n",
       "      <td>37.653331</td>\n",
       "      <td>126.921037</td>\n",
       "    </tr>\n",
       "    <tr>\n",
       "      <th>2</th>\n",
       "      <td>고양시 덕양구</td>\n",
       "      <td>고양지축 A-4BL 행복주택</td>\n",
       "      <td>473</td>\n",
       "      <td>경기도 고양시 덕양구 오부자로 43</td>\n",
       "      <td>37.654038</td>\n",
       "      <td>126.914946</td>\n",
       "    </tr>\n",
       "    <tr>\n",
       "      <th>3</th>\n",
       "      <td>고양시 덕양구</td>\n",
       "      <td>고양삼송 LH원흥마을13단지</td>\n",
       "      <td>947</td>\n",
       "      <td>경기도 고양시 덕양구 원흥1로 35</td>\n",
       "      <td>37.652631</td>\n",
       "      <td>126.868888</td>\n",
       "    </tr>\n",
       "    <tr>\n",
       "      <th>4</th>\n",
       "      <td>고양시 덕양구</td>\n",
       "      <td>서정마을LH12단지</td>\n",
       "      <td>276</td>\n",
       "      <td>경기도 고양시 덕양구 서정마을2로 17</td>\n",
       "      <td>37.621215</td>\n",
       "      <td>126.847648</td>\n",
       "    </tr>\n",
       "  </tbody>\n",
       "</table>\n",
       "</div>"
      ],
      "text/plain": [
       "        지역                      단지  세대수                     주소         위도  \\\n",
       "0  고양시 덕양구                  삼송11단지  832    경기도 고양시 덕양구 원흥1로 25  37.650992   \n",
       "1  고양시 덕양구  고양지축 A-1블록 신혼희망타운 행복주택  250    경기도 고양시 덕양구 오부자로 99  37.653331   \n",
       "2  고양시 덕양구         고양지축 A-4BL 행복주택  473    경기도 고양시 덕양구 오부자로 43  37.654038   \n",
       "3  고양시 덕양구         고양삼송 LH원흥마을13단지  947    경기도 고양시 덕양구 원흥1로 35  37.652631   \n",
       "4  고양시 덕양구              서정마을LH12단지  276  경기도 고양시 덕양구 서정마을2로 17  37.621215   \n",
       "\n",
       "           경도  \n",
       "0  126.865491  \n",
       "1  126.921037  \n",
       "2  126.914946  \n",
       "3  126.868888  \n",
       "4  126.847648  "
      ]
     },
     "execution_count": 116,
     "metadata": {},
     "output_type": "execute_result"
    }
   ],
   "source": [
    "happyhouse = pd.read_csv(\"../../data/data_b_raw/2b206_0111_경기도 행복주택주거지현황.csv\")\n",
    "# set(happy['지역']).issubset(set(regions)) # True\n",
    "# happy['지역'].nunique() # 25\n",
    "happyhouse.head()"
   ]
  },
  {
   "cell_type": "code",
   "execution_count": 117,
   "id": "773bc500",
   "metadata": {},
   "outputs": [
    {
     "data": {
      "text/html": [
       "<div>\n",
       "<style scoped>\n",
       "    .dataframe tbody tr th:only-of-type {\n",
       "        vertical-align: middle;\n",
       "    }\n",
       "\n",
       "    .dataframe tbody tr th {\n",
       "        vertical-align: top;\n",
       "    }\n",
       "\n",
       "    .dataframe thead th {\n",
       "        text-align: right;\n",
       "    }\n",
       "</style>\n",
       "<table border=\"1\" class=\"dataframe\">\n",
       "  <thead>\n",
       "    <tr style=\"text-align: right;\">\n",
       "      <th></th>\n",
       "      <th>행복주택 수</th>\n",
       "    </tr>\n",
       "  </thead>\n",
       "  <tbody>\n",
       "    <tr>\n",
       "      <th>가평군</th>\n",
       "      <td>0</td>\n",
       "    </tr>\n",
       "    <tr>\n",
       "      <th>고양시 덕양구</th>\n",
       "      <td>8</td>\n",
       "    </tr>\n",
       "    <tr>\n",
       "      <th>고양시 일산동구</th>\n",
       "      <td>0</td>\n",
       "    </tr>\n",
       "    <tr>\n",
       "      <th>고양시 일산서구</th>\n",
       "      <td>0</td>\n",
       "    </tr>\n",
       "    <tr>\n",
       "      <th>과천시</th>\n",
       "      <td>0</td>\n",
       "    </tr>\n",
       "  </tbody>\n",
       "</table>\n",
       "</div>"
      ],
      "text/plain": [
       "          행복주택 수\n",
       "가평군            0\n",
       "고양시 덕양구        8\n",
       "고양시 일산동구       0\n",
       "고양시 일산서구       0\n",
       "과천시            0"
      ]
     },
     "execution_count": 117,
     "metadata": {},
     "output_type": "execute_result"
    }
   ],
   "source": [
    "happyhouse_ = pd.DataFrame(index=regions)\n",
    "happyhouse_['행복주택 수'] = happyhouse['지역'].value_counts()\n",
    "happyhouse_ = happyhouse_.fillna(0)\n",
    "happyhouse_['행복주택 수'] = happyhouse_['행복주택 수'].astype(int)\n",
    "happyhouse_.head()"
   ]
  },
  {
   "attachments": {},
   "cell_type": "markdown",
   "id": "c5358e6b",
   "metadata": {},
   "source": [
    "## 20-30대 인구, 대학생 수"
   ]
  },
  {
   "cell_type": "code",
   "execution_count": 118,
   "id": "192e7157",
   "metadata": {},
   "outputs": [
    {
     "data": {
      "text/html": [
       "<div>\n",
       "<style scoped>\n",
       "    .dataframe tbody tr th:only-of-type {\n",
       "        vertical-align: middle;\n",
       "    }\n",
       "\n",
       "    .dataframe tbody tr th {\n",
       "        vertical-align: top;\n",
       "    }\n",
       "\n",
       "    .dataframe thead th {\n",
       "        text-align: right;\n",
       "    }\n",
       "</style>\n",
       "<table border=\"1\" class=\"dataframe\">\n",
       "  <thead>\n",
       "    <tr style=\"text-align: right;\">\n",
       "      <th></th>\n",
       "      <th>대학생 수</th>\n",
       "    </tr>\n",
       "    <tr>\n",
       "      <th>지역</th>\n",
       "      <th></th>\n",
       "    </tr>\n",
       "  </thead>\n",
       "  <tbody>\n",
       "    <tr>\n",
       "      <th>수원시 장안구</th>\n",
       "      <td>34441</td>\n",
       "    </tr>\n",
       "    <tr>\n",
       "      <th>수원시 권선구</th>\n",
       "      <td>11033</td>\n",
       "    </tr>\n",
       "    <tr>\n",
       "      <th>수원시 팔달구</th>\n",
       "      <td>0</td>\n",
       "    </tr>\n",
       "    <tr>\n",
       "      <th>수원시 영통구</th>\n",
       "      <td>22911</td>\n",
       "    </tr>\n",
       "    <tr>\n",
       "      <th>용인시 처인구</th>\n",
       "      <td>13084</td>\n",
       "    </tr>\n",
       "  </tbody>\n",
       "</table>\n",
       "</div>"
      ],
      "text/plain": [
       "         대학생 수\n",
       "지역            \n",
       "수원시 장안구  34441\n",
       "수원시 권선구  11033\n",
       "수원시 팔달구      0\n",
       "수원시 영통구  22911\n",
       "용인시 처인구  13084"
      ]
     },
     "execution_count": 118,
     "metadata": {},
     "output_type": "execute_result"
    }
   ],
   "source": [
    "undergraduate = pd.read_csv(\"../../data/data_b_raw/2b106_0120_대학생수.csv\", index_col='지역')\n",
    "undergraduate.columns = ['대학생 수']\n",
    "undergraduate.head()"
   ]
  },
  {
   "cell_type": "code",
   "execution_count": 119,
   "id": "7c746e00",
   "metadata": {},
   "outputs": [
    {
     "data": {
      "text/html": [
       "<div>\n",
       "<style scoped>\n",
       "    .dataframe tbody tr th:only-of-type {\n",
       "        vertical-align: middle;\n",
       "    }\n",
       "\n",
       "    .dataframe tbody tr th {\n",
       "        vertical-align: top;\n",
       "    }\n",
       "\n",
       "    .dataframe thead th {\n",
       "        text-align: right;\n",
       "    }\n",
       "</style>\n",
       "<table border=\"1\" class=\"dataframe\">\n",
       "  <thead>\n",
       "    <tr style=\"text-align: right;\">\n",
       "      <th></th>\n",
       "      <th>인구</th>\n",
       "      <th>20-30인구</th>\n",
       "      <th>전체인구</th>\n",
       "      <th>구별 인구</th>\n",
       "    </tr>\n",
       "    <tr>\n",
       "      <th>지역</th>\n",
       "      <th></th>\n",
       "      <th></th>\n",
       "      <th></th>\n",
       "      <th></th>\n",
       "    </tr>\n",
       "  </thead>\n",
       "  <tbody>\n",
       "    <tr>\n",
       "      <th>수원시 장안구</th>\n",
       "      <td>271012</td>\n",
       "      <td>361463.0</td>\n",
       "      <td>1190368.0</td>\n",
       "      <td>82294.55980</td>\n",
       "    </tr>\n",
       "    <tr>\n",
       "      <th>수원시 권선구</th>\n",
       "      <td>367004</td>\n",
       "      <td>NaN</td>\n",
       "      <td>NaN</td>\n",
       "      <td>111443.15610</td>\n",
       "    </tr>\n",
       "    <tr>\n",
       "      <th>수원시 팔달구</th>\n",
       "      <td>192225</td>\n",
       "      <td>NaN</td>\n",
       "      <td>NaN</td>\n",
       "      <td>58370.37385</td>\n",
       "    </tr>\n",
       "    <tr>\n",
       "      <th>수원시 영통구</th>\n",
       "      <td>360127</td>\n",
       "      <td>NaN</td>\n",
       "      <td>NaN</td>\n",
       "      <td>109354.91020</td>\n",
       "    </tr>\n",
       "    <tr>\n",
       "      <th>용인시 처인구</th>\n",
       "      <td>259872</td>\n",
       "      <td>278423.0</td>\n",
       "      <td>1075570.0</td>\n",
       "      <td>67270.69540</td>\n",
       "    </tr>\n",
       "  </tbody>\n",
       "</table>\n",
       "</div>"
      ],
      "text/plain": [
       "             인구   20-30인구       전체인구         구별 인구\n",
       "지역                                                \n",
       "수원시 장안구  271012  361463.0  1190368.0   82294.55980\n",
       "수원시 권선구  367004       NaN        NaN  111443.15610\n",
       "수원시 팔달구  192225       NaN        NaN   58370.37385\n",
       "수원시 영통구  360127       NaN        NaN  109354.91020\n",
       "용인시 처인구  259872  278423.0  1075570.0   67270.69540"
      ]
     },
     "execution_count": 119,
     "metadata": {},
     "output_type": "execute_result"
    }
   ],
   "source": [
    "pop2030 = pd.read_csv(\"../../data/data_b_raw/2b105_0120_2030인구.csv\", encoding='cp949', index_col='지역')\n",
    "pop2030.head()"
   ]
  },
  {
   "cell_type": "code",
   "execution_count": 120,
   "id": "537f3f2b",
   "metadata": {},
   "outputs": [
    {
     "data": {
      "text/html": [
       "<div>\n",
       "<style scoped>\n",
       "    .dataframe tbody tr th:only-of-type {\n",
       "        vertical-align: middle;\n",
       "    }\n",
       "\n",
       "    .dataframe tbody tr th {\n",
       "        vertical-align: top;\n",
       "    }\n",
       "\n",
       "    .dataframe thead th {\n",
       "        text-align: right;\n",
       "    }\n",
       "</style>\n",
       "<table border=\"1\" class=\"dataframe\">\n",
       "  <thead>\n",
       "    <tr style=\"text-align: right;\">\n",
       "      <th></th>\n",
       "      <th>2030인구</th>\n",
       "    </tr>\n",
       "    <tr>\n",
       "      <th>지역</th>\n",
       "      <th></th>\n",
       "    </tr>\n",
       "  </thead>\n",
       "  <tbody>\n",
       "    <tr>\n",
       "      <th>수원시 장안구</th>\n",
       "      <td>82294.55980</td>\n",
       "    </tr>\n",
       "    <tr>\n",
       "      <th>수원시 권선구</th>\n",
       "      <td>111443.15610</td>\n",
       "    </tr>\n",
       "    <tr>\n",
       "      <th>수원시 팔달구</th>\n",
       "      <td>58370.37385</td>\n",
       "    </tr>\n",
       "    <tr>\n",
       "      <th>수원시 영통구</th>\n",
       "      <td>109354.91020</td>\n",
       "    </tr>\n",
       "    <tr>\n",
       "      <th>용인시 처인구</th>\n",
       "      <td>67270.69540</td>\n",
       "    </tr>\n",
       "  </tbody>\n",
       "</table>\n",
       "</div>"
      ],
      "text/plain": [
       "               2030인구\n",
       "지역                   \n",
       "수원시 장안구   82294.55980\n",
       "수원시 권선구  111443.15610\n",
       "수원시 팔달구   58370.37385\n",
       "수원시 영통구  109354.91020\n",
       "용인시 처인구   67270.69540"
      ]
     },
     "execution_count": 120,
     "metadata": {},
     "output_type": "execute_result"
    }
   ],
   "source": [
    "pop2030 = pop2030[['구별 인구']]\n",
    "pop2030.columns = ['2030인구']\n",
    "pop2030.head()"
   ]
  },
  {
   "attachments": {},
   "cell_type": "markdown",
   "id": "cbcc9435",
   "metadata": {},
   "source": [
    "## 면적"
   ]
  },
  {
   "cell_type": "code",
   "execution_count": 121,
   "id": "fb4eae15",
   "metadata": {},
   "outputs": [
    {
     "data": {
      "text/html": [
       "<div>\n",
       "<style scoped>\n",
       "    .dataframe tbody tr th:only-of-type {\n",
       "        vertical-align: middle;\n",
       "    }\n",
       "\n",
       "    .dataframe tbody tr th {\n",
       "        vertical-align: top;\n",
       "    }\n",
       "\n",
       "    .dataframe thead th {\n",
       "        text-align: right;\n",
       "    }\n",
       "</style>\n",
       "<table border=\"1\" class=\"dataframe\">\n",
       "  <thead>\n",
       "    <tr style=\"text-align: right;\">\n",
       "      <th></th>\n",
       "      <th>면적</th>\n",
       "    </tr>\n",
       "    <tr>\n",
       "      <th>지역</th>\n",
       "      <th></th>\n",
       "    </tr>\n",
       "  </thead>\n",
       "  <tbody>\n",
       "    <tr>\n",
       "      <th>수원시 장안구</th>\n",
       "      <td>33.34</td>\n",
       "    </tr>\n",
       "    <tr>\n",
       "      <th>수원시 권선구</th>\n",
       "      <td>47.17</td>\n",
       "    </tr>\n",
       "    <tr>\n",
       "      <th>수원시 팔달구</th>\n",
       "      <td>12.86</td>\n",
       "    </tr>\n",
       "    <tr>\n",
       "      <th>수원시 영통구</th>\n",
       "      <td>27.72</td>\n",
       "    </tr>\n",
       "    <tr>\n",
       "      <th>용인시 처인구</th>\n",
       "      <td>467.65</td>\n",
       "    </tr>\n",
       "  </tbody>\n",
       "</table>\n",
       "</div>"
      ],
      "text/plain": [
       "             면적\n",
       "지역             \n",
       "수원시 장안구   33.34\n",
       "수원시 권선구   47.17\n",
       "수원시 팔달구   12.86\n",
       "수원시 영통구   27.72\n",
       "용인시 처인구  467.65"
      ]
     },
     "execution_count": 121,
     "metadata": {},
     "output_type": "execute_result"
    }
   ],
   "source": [
    "areas = pd.read_excel(\"../../data/data_b_raw/2b512_0131_areas.xls\")\n",
    "areas.columns = ['지역', '면적']\n",
    "areas['면적'] = areas['면적'].apply(lambda Str:Str[:len(Str)-1])\n",
    "areas['면적'] = areas['면적'].apply(lambda x:float(x))\n",
    "areas.set_index('지역', inplace=True)\n",
    "areas.head()"
   ]
  },
  {
   "attachments": {},
   "cell_type": "markdown",
   "id": "b0ea01e9",
   "metadata": {
    "canvas": {
     "comments": [],
     "componentType": "CodeCell",
     "copiedOriginId": null,
     "diskcache": false,
     "headerColor": "none",
     "id": "6cb385c8-6d1c-48d0-a02b-3a5c199329ef",
     "isComponent": false,
     "name": "",
     "parents": []
    }
   },
   "source": [
    "# feature 데이터를 하나로 통합"
   ]
  },
  {
   "cell_type": "code",
   "execution_count": 122,
   "id": "71f834e6",
   "metadata": {
    "canvas": {
     "comments": [],
     "componentType": "CodeCell",
     "copiedOriginId": null,
     "diskcache": false,
     "headerColor": "none",
     "id": "e5907618-a261-414c-8a05-c218171c7a0f",
     "isComponent": false,
     "name": "",
     "parents": []
    }
   },
   "outputs": [
    {
     "data": {
      "text/html": [
       "<div>\n",
       "<style scoped>\n",
       "    .dataframe tbody tr th:only-of-type {\n",
       "        vertical-align: middle;\n",
       "    }\n",
       "\n",
       "    .dataframe tbody tr th {\n",
       "        vertical-align: top;\n",
       "    }\n",
       "\n",
       "    .dataframe thead th {\n",
       "        text-align: right;\n",
       "    }\n",
       "</style>\n",
       "<table border=\"1\" class=\"dataframe\">\n",
       "  <thead>\n",
       "    <tr style=\"text-align: right;\">\n",
       "      <th></th>\n",
       "      <th>위도</th>\n",
       "      <th>경도</th>\n",
       "      <th>쏘카존 수</th>\n",
       "      <th>녹지</th>\n",
       "      <th>주거</th>\n",
       "      <th>공업</th>\n",
       "      <th>상업</th>\n",
       "      <th>인구</th>\n",
       "      <th>대학교 수</th>\n",
       "      <th>아파트 수</th>\n",
       "      <th>지하철역 수</th>\n",
       "      <th>정류장 수</th>\n",
       "      <th>환승역 수</th>\n",
       "      <th>행복주택 수</th>\n",
       "      <th>대학생 수</th>\n",
       "      <th>2030인구</th>\n",
       "      <th>면적</th>\n",
       "    </tr>\n",
       "    <tr>\n",
       "      <th>지역</th>\n",
       "      <th></th>\n",
       "      <th></th>\n",
       "      <th></th>\n",
       "      <th></th>\n",
       "      <th></th>\n",
       "      <th></th>\n",
       "      <th></th>\n",
       "      <th></th>\n",
       "      <th></th>\n",
       "      <th></th>\n",
       "      <th></th>\n",
       "      <th></th>\n",
       "      <th></th>\n",
       "      <th></th>\n",
       "      <th></th>\n",
       "      <th></th>\n",
       "      <th></th>\n",
       "    </tr>\n",
       "  </thead>\n",
       "  <tbody>\n",
       "    <tr>\n",
       "      <th>수원시 장안구</th>\n",
       "      <td>37.303971</td>\n",
       "      <td>127.001743</td>\n",
       "      <td>18</td>\n",
       "      <td>0.272727</td>\n",
       "      <td>0.727273</td>\n",
       "      <td>0.000000</td>\n",
       "      <td>0.000000</td>\n",
       "      <td>271012</td>\n",
       "      <td>4</td>\n",
       "      <td>200</td>\n",
       "      <td>1</td>\n",
       "      <td>409</td>\n",
       "      <td>0</td>\n",
       "      <td>0</td>\n",
       "      <td>34441</td>\n",
       "      <td>82294.55980</td>\n",
       "      <td>33.34</td>\n",
       "    </tr>\n",
       "    <tr>\n",
       "      <th>수원시 권선구</th>\n",
       "      <td>37.257687</td>\n",
       "      <td>126.963532</td>\n",
       "      <td>16</td>\n",
       "      <td>0.625000</td>\n",
       "      <td>0.312500</td>\n",
       "      <td>0.062500</td>\n",
       "      <td>0.000000</td>\n",
       "      <td>367004</td>\n",
       "      <td>1</td>\n",
       "      <td>159</td>\n",
       "      <td>4</td>\n",
       "      <td>537</td>\n",
       "      <td>0</td>\n",
       "      <td>1</td>\n",
       "      <td>11033</td>\n",
       "      <td>111443.15610</td>\n",
       "      <td>47.17</td>\n",
       "    </tr>\n",
       "    <tr>\n",
       "      <th>수원시 팔달구</th>\n",
       "      <td>37.282570</td>\n",
       "      <td>127.011718</td>\n",
       "      <td>20</td>\n",
       "      <td>0.136364</td>\n",
       "      <td>0.409091</td>\n",
       "      <td>0.000000</td>\n",
       "      <td>0.454545</td>\n",
       "      <td>192225</td>\n",
       "      <td>0</td>\n",
       "      <td>65</td>\n",
       "      <td>4</td>\n",
       "      <td>185</td>\n",
       "      <td>2</td>\n",
       "      <td>1</td>\n",
       "      <td>0</td>\n",
       "      <td>58370.37385</td>\n",
       "      <td>12.86</td>\n",
       "    </tr>\n",
       "    <tr>\n",
       "      <th>수원시 영통구</th>\n",
       "      <td>37.259600</td>\n",
       "      <td>127.042341</td>\n",
       "      <td>34</td>\n",
       "      <td>0.142857</td>\n",
       "      <td>0.571429</td>\n",
       "      <td>0.285714</td>\n",
       "      <td>0.000000</td>\n",
       "      <td>360127</td>\n",
       "      <td>21</td>\n",
       "      <td>129</td>\n",
       "      <td>6</td>\n",
       "      <td>380</td>\n",
       "      <td>0</td>\n",
       "      <td>3</td>\n",
       "      <td>22911</td>\n",
       "      <td>109354.91020</td>\n",
       "      <td>27.72</td>\n",
       "    </tr>\n",
       "    <tr>\n",
       "      <th>용인시 처인구</th>\n",
       "      <td>37.234346</td>\n",
       "      <td>127.192965</td>\n",
       "      <td>29</td>\n",
       "      <td>0.823529</td>\n",
       "      <td>0.058824</td>\n",
       "      <td>0.000000</td>\n",
       "      <td>0.117647</td>\n",
       "      <td>259872</td>\n",
       "      <td>15</td>\n",
       "      <td>112</td>\n",
       "      <td>9</td>\n",
       "      <td>1234</td>\n",
       "      <td>0</td>\n",
       "      <td>1</td>\n",
       "      <td>13084</td>\n",
       "      <td>67270.69540</td>\n",
       "      <td>467.65</td>\n",
       "    </tr>\n",
       "  </tbody>\n",
       "</table>\n",
       "</div>"
      ],
      "text/plain": [
       "                위도          경도  쏘카존 수        녹지        주거        공업        상업  \\\n",
       "지역                                                                              \n",
       "수원시 장안구  37.303971  127.001743     18  0.272727  0.727273  0.000000  0.000000   \n",
       "수원시 권선구  37.257687  126.963532     16  0.625000  0.312500  0.062500  0.000000   \n",
       "수원시 팔달구  37.282570  127.011718     20  0.136364  0.409091  0.000000  0.454545   \n",
       "수원시 영통구  37.259600  127.042341     34  0.142857  0.571429  0.285714  0.000000   \n",
       "용인시 처인구  37.234346  127.192965     29  0.823529  0.058824  0.000000  0.117647   \n",
       "\n",
       "             인구  대학교 수  아파트 수  지하철역 수  정류장 수  환승역 수  행복주택 수  대학생 수  \\\n",
       "지역                                                                   \n",
       "수원시 장안구  271012      4    200       1    409      0       0  34441   \n",
       "수원시 권선구  367004      1    159       4    537      0       1  11033   \n",
       "수원시 팔달구  192225      0     65       4    185      2       1      0   \n",
       "수원시 영통구  360127     21    129       6    380      0       3  22911   \n",
       "용인시 처인구  259872     15    112       9   1234      0       1  13084   \n",
       "\n",
       "               2030인구      면적  \n",
       "지역                             \n",
       "수원시 장안구   82294.55980   33.34  \n",
       "수원시 권선구  111443.15610   47.17  \n",
       "수원시 팔달구   58370.37385   12.86  \n",
       "수원시 영통구  109354.91020   27.72  \n",
       "용인시 처인구   67270.69540  467.65  "
      ]
     },
     "execution_count": 122,
     "metadata": {},
     "output_type": "execute_result"
    }
   ],
   "source": [
    "collected_data = pd.concat([locations, zcount, land_use_, pop, univ_, apartment, subway_, busstop, transfer, happyhouse_,\n",
    "                            undergraduate, pop2030, areas], axis = 1)\n",
    "collected_data.index.name = '지역'\n",
    "collected_data.head()"
   ]
  },
  {
   "cell_type": "code",
   "execution_count": 123,
   "id": "a829af28",
   "metadata": {},
   "outputs": [
    {
     "data": {
      "text/html": [
       "<div>\n",
       "<style scoped>\n",
       "    .dataframe tbody tr th:only-of-type {\n",
       "        vertical-align: middle;\n",
       "    }\n",
       "\n",
       "    .dataframe tbody tr th {\n",
       "        vertical-align: top;\n",
       "    }\n",
       "\n",
       "    .dataframe thead th {\n",
       "        text-align: right;\n",
       "    }\n",
       "</style>\n",
       "<table border=\"1\" class=\"dataframe\">\n",
       "  <thead>\n",
       "    <tr style=\"text-align: right;\">\n",
       "      <th></th>\n",
       "      <th>쏘카존 수</th>\n",
       "      <th>인구</th>\n",
       "      <th>2030인구</th>\n",
       "      <th>아파트 수</th>\n",
       "      <th>행복주택 수</th>\n",
       "      <th>지하철역 수</th>\n",
       "      <th>환승역 수</th>\n",
       "      <th>정류장 수</th>\n",
       "      <th>대학교 수</th>\n",
       "      <th>대학생 수</th>\n",
       "      <th>녹지</th>\n",
       "      <th>주거</th>\n",
       "      <th>공업</th>\n",
       "      <th>상업</th>\n",
       "      <th>위도</th>\n",
       "      <th>경도</th>\n",
       "      <th>면적</th>\n",
       "    </tr>\n",
       "    <tr>\n",
       "      <th>지역</th>\n",
       "      <th></th>\n",
       "      <th></th>\n",
       "      <th></th>\n",
       "      <th></th>\n",
       "      <th></th>\n",
       "      <th></th>\n",
       "      <th></th>\n",
       "      <th></th>\n",
       "      <th></th>\n",
       "      <th></th>\n",
       "      <th></th>\n",
       "      <th></th>\n",
       "      <th></th>\n",
       "      <th></th>\n",
       "      <th></th>\n",
       "      <th></th>\n",
       "      <th></th>\n",
       "    </tr>\n",
       "  </thead>\n",
       "  <tbody>\n",
       "    <tr>\n",
       "      <th>수원시 장안구</th>\n",
       "      <td>18</td>\n",
       "      <td>271012</td>\n",
       "      <td>82294.55980</td>\n",
       "      <td>200</td>\n",
       "      <td>0</td>\n",
       "      <td>1</td>\n",
       "      <td>0</td>\n",
       "      <td>409</td>\n",
       "      <td>4</td>\n",
       "      <td>34441</td>\n",
       "      <td>0.272727</td>\n",
       "      <td>0.727273</td>\n",
       "      <td>0.000000</td>\n",
       "      <td>0.000000</td>\n",
       "      <td>37.303971</td>\n",
       "      <td>127.001743</td>\n",
       "      <td>33.34</td>\n",
       "    </tr>\n",
       "    <tr>\n",
       "      <th>수원시 권선구</th>\n",
       "      <td>16</td>\n",
       "      <td>367004</td>\n",
       "      <td>111443.15610</td>\n",
       "      <td>159</td>\n",
       "      <td>1</td>\n",
       "      <td>4</td>\n",
       "      <td>0</td>\n",
       "      <td>537</td>\n",
       "      <td>1</td>\n",
       "      <td>11033</td>\n",
       "      <td>0.625000</td>\n",
       "      <td>0.312500</td>\n",
       "      <td>0.062500</td>\n",
       "      <td>0.000000</td>\n",
       "      <td>37.257687</td>\n",
       "      <td>126.963532</td>\n",
       "      <td>47.17</td>\n",
       "    </tr>\n",
       "    <tr>\n",
       "      <th>수원시 팔달구</th>\n",
       "      <td>20</td>\n",
       "      <td>192225</td>\n",
       "      <td>58370.37385</td>\n",
       "      <td>65</td>\n",
       "      <td>1</td>\n",
       "      <td>4</td>\n",
       "      <td>2</td>\n",
       "      <td>185</td>\n",
       "      <td>0</td>\n",
       "      <td>0</td>\n",
       "      <td>0.136364</td>\n",
       "      <td>0.409091</td>\n",
       "      <td>0.000000</td>\n",
       "      <td>0.454545</td>\n",
       "      <td>37.282570</td>\n",
       "      <td>127.011718</td>\n",
       "      <td>12.86</td>\n",
       "    </tr>\n",
       "    <tr>\n",
       "      <th>수원시 영통구</th>\n",
       "      <td>34</td>\n",
       "      <td>360127</td>\n",
       "      <td>109354.91020</td>\n",
       "      <td>129</td>\n",
       "      <td>3</td>\n",
       "      <td>6</td>\n",
       "      <td>0</td>\n",
       "      <td>380</td>\n",
       "      <td>21</td>\n",
       "      <td>22911</td>\n",
       "      <td>0.142857</td>\n",
       "      <td>0.571429</td>\n",
       "      <td>0.285714</td>\n",
       "      <td>0.000000</td>\n",
       "      <td>37.259600</td>\n",
       "      <td>127.042341</td>\n",
       "      <td>27.72</td>\n",
       "    </tr>\n",
       "    <tr>\n",
       "      <th>용인시 처인구</th>\n",
       "      <td>29</td>\n",
       "      <td>259872</td>\n",
       "      <td>67270.69540</td>\n",
       "      <td>112</td>\n",
       "      <td>1</td>\n",
       "      <td>9</td>\n",
       "      <td>0</td>\n",
       "      <td>1234</td>\n",
       "      <td>15</td>\n",
       "      <td>13084</td>\n",
       "      <td>0.823529</td>\n",
       "      <td>0.058824</td>\n",
       "      <td>0.000000</td>\n",
       "      <td>0.117647</td>\n",
       "      <td>37.234346</td>\n",
       "      <td>127.192965</td>\n",
       "      <td>467.65</td>\n",
       "    </tr>\n",
       "  </tbody>\n",
       "</table>\n",
       "</div>"
      ],
      "text/plain": [
       "         쏘카존 수      인구        2030인구  아파트 수  행복주택 수  지하철역 수  환승역 수  정류장 수  \\\n",
       "지역                                                                          \n",
       "수원시 장안구     18  271012   82294.55980    200       0       1      0    409   \n",
       "수원시 권선구     16  367004  111443.15610    159       1       4      0    537   \n",
       "수원시 팔달구     20  192225   58370.37385     65       1       4      2    185   \n",
       "수원시 영통구     34  360127  109354.91020    129       3       6      0    380   \n",
       "용인시 처인구     29  259872   67270.69540    112       1       9      0   1234   \n",
       "\n",
       "         대학교 수  대학생 수        녹지        주거        공업        상업         위도  \\\n",
       "지역                                                                         \n",
       "수원시 장안구      4  34441  0.272727  0.727273  0.000000  0.000000  37.303971   \n",
       "수원시 권선구      1  11033  0.625000  0.312500  0.062500  0.000000  37.257687   \n",
       "수원시 팔달구      0      0  0.136364  0.409091  0.000000  0.454545  37.282570   \n",
       "수원시 영통구     21  22911  0.142857  0.571429  0.285714  0.000000  37.259600   \n",
       "용인시 처인구     15  13084  0.823529  0.058824  0.000000  0.117647  37.234346   \n",
       "\n",
       "                 경도      면적  \n",
       "지역                           \n",
       "수원시 장안구  127.001743   33.34  \n",
       "수원시 권선구  126.963532   47.17  \n",
       "수원시 팔달구  127.011718   12.86  \n",
       "수원시 영통구  127.042341   27.72  \n",
       "용인시 처인구  127.192965  467.65  "
      ]
     },
     "execution_count": 123,
     "metadata": {},
     "output_type": "execute_result"
    }
   ],
   "source": [
    "\n",
    "collected_data = collected_data.reindex(columns = ['쏘카존 수', '인구', '2030인구', '아파트 수', '행복주택 수', '지하철역 수', '환승역 수', '정류장 수', '대학교 수', '대학생 수',\n",
    "                                                   '녹지', '주거', '공업', '상업', '위도', '경도', '면적'])\n",
    "collected_data.head()"
   ]
  },
  {
   "cell_type": "code",
   "execution_count": 124,
   "id": "35e40f4a",
   "metadata": {},
   "outputs": [
    {
     "data": {
      "text/plain": [
       "(42, 17)"
      ]
     },
     "execution_count": 124,
     "metadata": {},
     "output_type": "execute_result"
    }
   ],
   "source": [
    "collected_data.shape"
   ]
  },
  {
   "cell_type": "code",
   "execution_count": 125,
   "id": "1ebbd567",
   "metadata": {
    "canvas": {
     "comments": [],
     "componentType": "CodeCell",
     "copiedOriginId": null,
     "diskcache": false,
     "headerColor": "none",
     "id": "f124a3cd-d9fa-4ece-b11f-e83e14dd74db",
     "isComponent": false,
     "name": "",
     "parents": []
    }
   },
   "outputs": [],
   "source": [
    "collected_data.to_csv(\"../../data/data_c_final/2c201_1230_collected_data.csv\", encoding=\"utf-8-sig\")\n",
    "savedf(collected_data, \"../../data/data_c_final/2c202_1230_collected_data.png\")\n",
    "collected_data.to_csv(\"results/1b201_1230_collected_data.csv\", encoding=\"utf-8-sig\")\n",
    "savedf(collected_data, \"results/1b202_1230_collected_data.png\")"
   ]
  }
 ],
 "metadata": {
  "canvas": {
   "colorPalette": [
    "inherit",
    "inherit",
    "inherit",
    "inherit",
    "inherit",
    "inherit",
    "inherit",
    "inherit",
    "inherit",
    "inherit"
   ],
   "parameters": [],
   "version": "1.0"
  },
  "kernelspec": {
   "display_name": "base",
   "language": "python",
   "name": "python3"
  },
  "language_info": {
   "codemirror_mode": {
    "name": "ipython",
    "version": 3
   },
   "file_extension": ".py",
   "mimetype": "text/x-python",
   "name": "python",
   "nbconvert_exporter": "python",
   "pygments_lexer": "ipython3",
   "version": "3.9.7"
  },
  "toc": {
   "base_numbering": 1,
   "nav_menu": {},
   "number_sections": true,
   "sideBar": true,
   "skip_h1_title": false,
   "title_cell": "Table of Contents",
   "title_sidebar": "Contents",
   "toc_cell": false,
   "toc_position": {
    "height": "calc(100% - 180px)",
    "left": "10px",
    "top": "150px",
    "width": "384px"
   },
   "toc_section_display": true,
   "toc_window_display": true
  },
  "toc-autonumbering": true,
  "varInspector": {
   "cols": {
    "lenName": 16,
    "lenType": 16,
    "lenVar": 40
   },
   "kernels_config": {
    "python": {
     "delete_cmd_postfix": "",
     "delete_cmd_prefix": "del ",
     "library": "var_list.py",
     "varRefreshCmd": "print(var_dic_list())"
    },
    "r": {
     "delete_cmd_postfix": ") ",
     "delete_cmd_prefix": "rm(",
     "library": "var_list.r",
     "varRefreshCmd": "cat(var_dic_list()) "
    }
   },
   "types_to_exclude": [
    "module",
    "function",
    "builtin_function_or_method",
    "instance",
    "_Feature"
   ],
   "window_display": false
  },
  "vscode": {
   "interpreter": {
    "hash": "605504cc72a6196b601fd59a6f100e2f2f6566d7f03ec54616e8cc0410bc03be"
   }
  }
 },
 "nbformat": 4,
 "nbformat_minor": 5
}
