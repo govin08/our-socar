{
 "cells": [
  {
   "cell_type": "code",
   "execution_count": 2,
   "metadata": {
    "colab": {
     "base_uri": "https://localhost:8080/",
     "height": 125
    },
    "colab_type": "code",
    "executionInfo": {
     "elapsed": 18260,
     "status": "ok",
     "timestamp": 1598285340399,
     "user": {
      "displayName": "김상권",
      "photoUrl": "",
      "userId": "10817167205999319030"
     },
     "user_tz": -540
    },
    "id": "QTLYbcNa10rL",
    "outputId": "8d296570-d66b-4ec8-a455-95f6d1498b08"
   },
   "outputs": [],
   "source": [
    "import keras\n",
    "import pandas as pd\n",
    "import numpy as np\n",
    "import math\n",
    "from matplotlib import pyplot as plt\n",
    "from keras.models import Sequential, Model\n",
    "from keras.layers import Dense, Dropout, Activation, LSTM, Input, CuDNNLSTM\n",
    "from keras.optimizers import Adam\n",
    "from scipy import stats\n",
    "from sklearn.metrics import confusion_matrix\n",
    "import tensorflow as tf\n",
    "# np.random.seed(1234)\n",
    "# tf.random.set_seed(1234)"
   ]
  },
  {
   "cell_type": "code",
   "execution_count": 6,
   "metadata": {},
   "outputs": [
    {
     "data": {
      "text/html": [
       "<div>\n",
       "<style scoped>\n",
       "    .dataframe tbody tr th:only-of-type {\n",
       "        vertical-align: middle;\n",
       "    }\n",
       "\n",
       "    .dataframe tbody tr th {\n",
       "        vertical-align: top;\n",
       "    }\n",
       "\n",
       "    .dataframe thead th {\n",
       "        text-align: right;\n",
       "    }\n",
       "</style>\n",
       "<table border=\"1\" class=\"dataframe\">\n",
       "  <thead>\n",
       "    <tr style=\"text-align: right;\">\n",
       "      <th></th>\n",
       "      <th>1</th>\n",
       "      <th>2</th>\n",
       "      <th>3</th>\n",
       "      <th>4</th>\n",
       "      <th>5</th>\n",
       "      <th>6</th>\n",
       "      <th>7</th>\n",
       "      <th>8</th>\n",
       "      <th>9</th>\n",
       "      <th>10</th>\n",
       "      <th>...</th>\n",
       "      <th>43</th>\n",
       "      <th>44</th>\n",
       "      <th>45</th>\n",
       "      <th>46</th>\n",
       "      <th>47</th>\n",
       "      <th>48</th>\n",
       "      <th>49</th>\n",
       "      <th>50</th>\n",
       "      <th>51</th>\n",
       "      <th>52</th>\n",
       "    </tr>\n",
       "  </thead>\n",
       "  <tbody>\n",
       "    <tr>\n",
       "      <th>0</th>\n",
       "      <td>72.156843</td>\n",
       "      <td>72.679548</td>\n",
       "      <td>73.137053</td>\n",
       "      <td>73.536925</td>\n",
       "      <td>73.875597</td>\n",
       "      <td>74.138146</td>\n",
       "      <td>74.294249</td>\n",
       "      <td>74.335228</td>\n",
       "      <td>74.279909</td>\n",
       "      <td>74.152373</td>\n",
       "      <td>...</td>\n",
       "      <td>66.118288</td>\n",
       "      <td>66.771242</td>\n",
       "      <td>67.471419</td>\n",
       "      <td>68.182800</td>\n",
       "      <td>68.890996</td>\n",
       "      <td>69.587529</td>\n",
       "      <td>70.271491</td>\n",
       "      <td>70.940678</td>\n",
       "      <td>71.572341</td>\n",
       "      <td>73.20</td>\n",
       "    </tr>\n",
       "    <tr>\n",
       "      <th>1</th>\n",
       "      <td>68.110240</td>\n",
       "      <td>67.460332</td>\n",
       "      <td>66.856603</td>\n",
       "      <td>66.305601</td>\n",
       "      <td>65.796264</td>\n",
       "      <td>65.327460</td>\n",
       "      <td>64.891928</td>\n",
       "      <td>64.501064</td>\n",
       "      <td>64.176832</td>\n",
       "      <td>63.929009</td>\n",
       "      <td>...</td>\n",
       "      <td>75.788770</td>\n",
       "      <td>75.931664</td>\n",
       "      <td>76.052782</td>\n",
       "      <td>76.151534</td>\n",
       "      <td>76.238121</td>\n",
       "      <td>76.311848</td>\n",
       "      <td>76.369820</td>\n",
       "      <td>76.405812</td>\n",
       "      <td>76.419163</td>\n",
       "      <td>66.31</td>\n",
       "    </tr>\n",
       "    <tr>\n",
       "      <th>2</th>\n",
       "      <td>65.414463</td>\n",
       "      <td>65.788523</td>\n",
       "      <td>66.238216</td>\n",
       "      <td>66.744549</td>\n",
       "      <td>67.301790</td>\n",
       "      <td>67.904195</td>\n",
       "      <td>68.543535</td>\n",
       "      <td>69.218359</td>\n",
       "      <td>69.914829</td>\n",
       "      <td>70.611722</td>\n",
       "      <td>...</td>\n",
       "      <td>75.004865</td>\n",
       "      <td>74.708214</td>\n",
       "      <td>74.396448</td>\n",
       "      <td>74.086279</td>\n",
       "      <td>73.784942</td>\n",
       "      <td>73.488658</td>\n",
       "      <td>73.191799</td>\n",
       "      <td>72.879598</td>\n",
       "      <td>72.558549</td>\n",
       "      <td>69.83</td>\n",
       "    </tr>\n",
       "    <tr>\n",
       "      <th>3</th>\n",
       "      <td>75.491594</td>\n",
       "      <td>75.664301</td>\n",
       "      <td>75.824537</td>\n",
       "      <td>75.960697</td>\n",
       "      <td>76.071852</td>\n",
       "      <td>76.160932</td>\n",
       "      <td>76.238881</td>\n",
       "      <td>76.306062</td>\n",
       "      <td>76.360876</td>\n",
       "      <td>76.396083</td>\n",
       "      <td>...</td>\n",
       "      <td>68.450306</td>\n",
       "      <td>68.118999</td>\n",
       "      <td>67.806499</td>\n",
       "      <td>67.526319</td>\n",
       "      <td>67.274883</td>\n",
       "      <td>67.052610</td>\n",
       "      <td>66.871211</td>\n",
       "      <td>66.740938</td>\n",
       "      <td>66.681958</td>\n",
       "      <td>58.36</td>\n",
       "    </tr>\n",
       "    <tr>\n",
       "      <th>4</th>\n",
       "      <td>75.535799</td>\n",
       "      <td>75.280786</td>\n",
       "      <td>75.004863</td>\n",
       "      <td>74.707916</td>\n",
       "      <td>74.396235</td>\n",
       "      <td>74.085912</td>\n",
       "      <td>73.784564</td>\n",
       "      <td>73.488371</td>\n",
       "      <td>73.191601</td>\n",
       "      <td>72.879571</td>\n",
       "      <td>...</td>\n",
       "      <td>69.726275</td>\n",
       "      <td>70.026747</td>\n",
       "      <td>70.302626</td>\n",
       "      <td>70.534523</td>\n",
       "      <td>70.701968</td>\n",
       "      <td>70.798931</td>\n",
       "      <td>70.814282</td>\n",
       "      <td>70.738479</td>\n",
       "      <td>70.577335</td>\n",
       "      <td>64.54</td>\n",
       "    </tr>\n",
       "  </tbody>\n",
       "</table>\n",
       "<p>5 rows × 52 columns</p>\n",
       "</div>"
      ],
      "text/plain": [
       "          1          2          3          4          5          6   \\\n",
       "0  72.156843  72.679548  73.137053  73.536925  73.875597  74.138146   \n",
       "1  68.110240  67.460332  66.856603  66.305601  65.796264  65.327460   \n",
       "2  65.414463  65.788523  66.238216  66.744549  67.301790  67.904195   \n",
       "3  75.491594  75.664301  75.824537  75.960697  76.071852  76.160932   \n",
       "4  75.535799  75.280786  75.004863  74.707916  74.396235  74.085912   \n",
       "\n",
       "          7          8          9          10  ...         43         44  \\\n",
       "0  74.294249  74.335228  74.279909  74.152373  ...  66.118288  66.771242   \n",
       "1  64.891928  64.501064  64.176832  63.929009  ...  75.788770  75.931664   \n",
       "2  68.543535  69.218359  69.914829  70.611722  ...  75.004865  74.708214   \n",
       "3  76.238881  76.306062  76.360876  76.396083  ...  68.450306  68.118999   \n",
       "4  73.784564  73.488371  73.191601  72.879571  ...  69.726275  70.026747   \n",
       "\n",
       "          45         46         47         48         49         50  \\\n",
       "0  67.471419  68.182800  68.890996  69.587529  70.271491  70.940678   \n",
       "1  76.052782  76.151534  76.238121  76.311848  76.369820  76.405812   \n",
       "2  74.396448  74.086279  73.784942  73.488658  73.191799  72.879598   \n",
       "3  67.806499  67.526319  67.274883  67.052610  66.871211  66.740938   \n",
       "4  70.302626  70.534523  70.701968  70.798931  70.814282  70.738479   \n",
       "\n",
       "          51     52  \n",
       "0  71.572341  73.20  \n",
       "1  76.419163  66.31  \n",
       "2  72.558549  69.83  \n",
       "3  66.681958  58.36  \n",
       "4  70.577335  64.54  \n",
       "\n",
       "[5 rows x 52 columns]"
      ]
     },
     "execution_count": 6,
     "metadata": {},
     "output_type": "execute_result"
    }
   ],
   "source": [
    "lookback = 50\n",
    "filepath = 'KOSPI_200_lg20_lb50_la20_S+labels.csv'\n",
    "data=pd.read_csv(filepath, names=range(1,lookback+3))\n",
    "data.head()"
   ]
  },
  {
   "cell_type": "code",
   "execution_count": 7,
   "metadata": {},
   "outputs": [
    {
     "name": "stdout",
     "output_type": "stream",
     "text": [
      "(238, 52)\n"
     ]
    }
   ],
   "source": [
    "stockdata = np.array(data)\n",
    "print(stockdata.shape)"
   ]
  },
  {
   "cell_type": "code",
   "execution_count": 8,
   "metadata": {
    "colab": {},
    "colab_type": "code",
    "id": "mW-NFeao10rj"
   },
   "outputs": [],
   "source": [
    "def create_dataset(StockData, Ratio_train=0.7,Standardization=False):\n",
    "    from sklearn.preprocessing import minmax_scale\n",
    "    StockData = minmax_scale(StockData, axis=1, copy=True,feature_range=(1.0E-5,1))\n",
    "    Input_arr, Label_arr = [], [],\n",
    "    nb_data, LookBack = StockData.shape[0],StockData.shape[1]-2\n",
    "    for i in range(nb_data):\n",
    "        temp=[]\n",
    "        for j in range(LookBack,0,-1):\n",
    "            temp.append((StockData[i-2]-StockData[i,LookBack-j])/StockData[i,LookBack-j])\n",
    "        Input_arr.append(temp)\n",
    "        Label_arr.append((StockData[i,-1]-StockData[i,-2])/StockData[i,-2])\n",
    "    \n",
    "    Input_arr = np.array(Input_arr)\n",
    "    Label_arr = np.array(Label_arr)\n",
    "    nb_train = int(nb_data*Ratio_train)\n",
    "    Input_train, Label_train = Input_arr[:nb_train], Label_arr[:nb_train]\n",
    "    Input_test, Label_test = Input_arr[nb_train:], Label_arr[nb_train:]\n",
    "    \n",
    "    if (Standardization):\n",
    "        Input_train=stats.zscore(np.array(Input_train).reshape(-1, 1))\n",
    "        Label_train=stats.zscore(np.array(Label_train).reshape(-1, 1))\n",
    "        Input_test=stats.zscore(np.array(Input_test).reshape(-1, 1))\n",
    "        Label_test=stats.zscore(np.array(Label_test).reshape(-1, 1))\n",
    "    \n",
    "    Input_train, Label_train=np.array(Input_train).reshape(-1,LookBack,1), np.array(Label_train).flatten()\n",
    "    Input_test, Label_test=np.array(Input_test).reshape(-1,LookBack,1), np.array(Label_test).flatten()\n",
    "    Input_data, Label_data=np.array(Input_arr).reshape(-1,LookBack,1), np.array(Label_arr).flatten()\n",
    "    \n",
    "    return Input_data, Label_data, Input_train, Label_train, Input_test, Label_test\n"
   ]
  },
  {
   "cell_type": "code",
   "execution_count": 9,
   "metadata": {
    "colab": {
     "base_uri": "https://localhost:8080/",
     "height": 52
    },
    "colab_type": "code",
    "executionInfo": {
     "elapsed": 19485,
     "status": "ok",
     "timestamp": 1598285341700,
     "user": {
      "displayName": "김상권",
      "photoUrl": "",
      "userId": "10817167205999319030"
     },
     "user_tz": -540
    },
    "id": "jBfSsl0k10rm",
    "outputId": "d2f746bd-e2f4-4c6d-eede-ebc26b773082"
   },
   "outputs": [
    {
     "name": "stdout",
     "output_type": "stream",
     "text": [
      "shape of data set is  (12376, 50, 1) (238,)\n",
      "shape of training set is  (8632, 50, 1) (166,)\n",
      "shape of test set is  (3744, 50, 1) (72,)\n"
     ]
    }
   ],
   "source": [
    "standardization=False\n",
    "ratio = 0.7\n",
    "input_data, label_data, input_train, label_train, input_test, label_test = create_dataset(stockdata,Ratio_train=ratio,Standardization=standardization)\n",
    "print('shape of data set is ',input_data.shape, label_data.shape)\n",
    "print('shape of training set is ',input_train.shape, label_train.shape)\n",
    "print('shape of test set is ',input_test.shape, label_test.shape)"
   ]
  },
  {
   "cell_type": "code",
   "execution_count": 10,
   "metadata": {
    "colab": {
     "base_uri": "https://localhost:8080/",
     "height": 34
    },
    "colab_type": "code",
    "executionInfo": {
     "elapsed": 19474,
     "status": "ok",
     "timestamp": 1598285341701,
     "user": {
      "displayName": "김상권",
      "photoUrl": "",
      "userId": "10817167205999319030"
     },
     "user_tz": -540
    },
    "id": "bR6e0R2K10rp",
    "outputId": "4843f1c4-8e8e-4944-a2be-20e8152f7e0f"
   },
   "outputs": [
    {
     "name": "stdout",
     "output_type": "stream",
     "text": [
      "[1 0 0 0 0 1 1 1 1 1 1]\n"
     ]
    }
   ],
   "source": [
    "# Run, if Classification\n",
    "def trans_binary(data):\n",
    "    binary=[]\n",
    "    for i in range(len(data)):\n",
    "        binary.append( (lambda p: 1 if p>=0 else 0)(data[i]) )\n",
    "    return np.array(binary)\n",
    "label_data_binary=trans_binary(label_data)\n",
    "label_train_binary=trans_binary(label_train)\n",
    "label_test_binary=trans_binary(label_test)\n",
    "print(label_train_binary[:11])"
   ]
  },
  {
   "cell_type": "code",
   "execution_count": 11,
   "metadata": {
    "colab": {},
    "colab_type": "code",
    "id": "vrK74Et0kzSa"
   },
   "outputs": [],
   "source": [
    "class LossHistory(keras.callbacks.Callback):\n",
    "    def init(self):\n",
    "        self.loss = []\n",
    "        self.accuracy = []\n",
    "        self.val_loss = []\n",
    "        self.val_accuracy = []\n",
    "        \n",
    "        \n",
    "    def on_epoch_end(self, batch, logs={}):\n",
    "        self.loss.append(logs.get('loss'))\n",
    "        self.accuracy.append(logs.get('acc'))\n",
    "        self.val_loss.append(logs.get('val_loss'))\n",
    "        self.val_accuracy.append(logs.get('val_acc'))\n",
    "\n",
    "history = LossHistory()\n",
    "history.init()"
   ]
  },
  {
   "cell_type": "code",
   "execution_count": 14,
   "metadata": {
    "colab": {
     "base_uri": "https://localhost:8080/",
     "height": 1000
    },
    "colab_type": "code",
    "executionInfo": {
     "elapsed": 87200,
     "status": "ok",
     "timestamp": 1598285409450,
     "user": {
      "displayName": "김상권",
      "photoUrl": "",
      "userId": "10817167205999319030"
     },
     "user_tz": -540
    },
    "id": "iXonGBI810rt",
    "outputId": "89936618-e1ef-4255-f61d-68ea5edef779",
    "scrolled": false
   },
   "outputs": [],
   "source": [
    "# Model with Classification\n",
    "nb_LSTM1 = 20\n",
    "nb_LSTM2 = 15\n",
    "nb_LSTM3 = 10\n",
    "dropout=0.3\n",
    "epoch_train = 100\n",
    "epoch_test = 10\n",
    "\n",
    "model = Sequential()\n",
    "model.add(LSTM(nb_LSTM1, batch_input_shape=(1, lookback, 1),stateful=True,return_sequences=True))\n",
    "model.add(Dropout(dropout))\n",
    "model.add(LSTM(nb_LSTM2,stateful=True,return_sequences=True))\n",
    "model.add(Dropout(dropout))\n",
    "model.add(LSTM(nb_LSTM3,stateful=True))\n",
    "model.add(Dense(1, activation='sigmoid'))\n",
    "model.compile(loss='binary_crossentropy',optimizer=Adam(lr=0.00001),metrics=['accuracy'])\n",
    "\n",
    "\n",
    "for epoch_idx in range(epoch_train):\n",
    "    print ('epochs : ' + str(epoch_idx+1) + ' / ' + str(epoch_train))\n",
    "    model.fit(input_train, label_train_binary, epochs=1, batch_size=1, verbose=1, shuffle=False,\n",
    "              validation_data=(input_test, label_test_binary), callbacks=[history])\n",
    "    model.reset_states()"
   ]
  },
  {
   "cell_type": "code",
   "execution_count": null,
   "metadata": {
    "colab": {
     "base_uri": "https://localhost:8080/",
     "height": 265
    },
    "colab_type": "code",
    "executionInfo": {
     "elapsed": 768,
     "status": "ok",
     "timestamp": 1598285469656,
     "user": {
      "displayName": "김상권",
      "photoUrl": "",
      "userId": "10817167205999319030"
     },
     "user_tz": -540
    },
    "id": "K5cN1J1l10r2",
    "outputId": "a4d12ffd-e209-47ec-9bcd-858fbfd1b0d0"
   },
   "outputs": [],
   "source": [
    "plt.plot(history.loss, label='train')\n",
    "plt.plot(history.val_loss, label='test')\n",
    "plt.legend()\n",
    "plt.show()"
   ]
  },
  {
   "cell_type": "code",
   "execution_count": null,
   "metadata": {
    "colab": {
     "base_uri": "https://localhost:8080/",
     "height": 267
    },
    "colab_type": "code",
    "executionInfo": {
     "elapsed": 760,
     "status": "ok",
     "timestamp": 1598285470948,
     "user": {
      "displayName": "김상권",
      "photoUrl": "",
      "userId": "10817167205999319030"
     },
     "user_tz": -540
    },
    "id": "xhVbKx1K10r4",
    "outputId": "95d253be-666b-4133-d667-d3f69528ca9f"
   },
   "outputs": [],
   "source": [
    "plt.plot(history.accuracy, label='train')\n",
    "plt.plot(history.val_accuracy, label='test')\n",
    "plt.legend()\n",
    "plt.show()"
   ]
  },
  {
   "cell_type": "code",
   "execution_count": null,
   "metadata": {
    "colab": {
     "base_uri": "https://localhost:8080/",
     "height": 52
    },
    "colab_type": "code",
    "executionInfo": {
     "elapsed": 689,
     "status": "ok",
     "timestamp": 1598285472703,
     "user": {
      "displayName": "김상권",
      "photoUrl": "",
      "userId": "10817167205999319030"
     },
     "user_tz": -540
    },
    "id": "LaM4BovIF1h5",
    "outputId": "9b358d1f-4af4-441b-c9e3-ff951e17a4ba"
   },
   "outputs": [],
   "source": [
    "Loss, Accuray = model.evaluate(input_test,label_test_binary,batch_size=1)\n",
    "print('ACCURACY IS ',Accuray*100,'%')"
   ]
  },
  {
   "cell_type": "code",
   "execution_count": null,
   "metadata": {
    "colab": {
     "base_uri": "https://localhost:8080/",
     "height": 1000
    },
    "colab_type": "code",
    "executionInfo": {
     "elapsed": 16185,
     "status": "ok",
     "timestamp": 1598285489503,
     "user": {
      "displayName": "김상권",
      "photoUrl": "",
      "userId": "10817167205999319030"
     },
     "user_tz": -540
    },
    "id": "cxxty9Gv10r7",
    "outputId": "b94e4ce7-03bc-4ee7-fc73-2ee1e42991c9"
   },
   "outputs": [],
   "source": [
    "# prediction=[]\n",
    "# prediction_binary=[]\n",
    "# for i in range(input_test.shape[0]):\n",
    "#   p=model.predict(input_test[i:(i+1)],batch_size=1)\n",
    "#   prediction.append(p[0,0])\n",
    "#   p=(lambda p: 1 if p>=0.5 else 0)(p[0])\n",
    "#   prediction_binary.append(p)\n",
    "#   print('prediction : ',p,' actual: ',label_test_binary[i])\n",
    "#   for epoch_idx in range(epoch_test):\n",
    "#     model.fit(input_data[:input_train.shape[0]+(i+1)],label_data_binary[:input_train.shape[0]+(i+1)],batch_size=1,epochs=1,verbose=0,shuffle=False)\n",
    "#     model.reset_states()\n",
    "#   print(i+1,'th update /',input_test.shape[0])\n",
    "\n",
    "# score=[1 if a==b else 0 for a,b in zip(prediction_binary, label_test_binary)]\n",
    "# print('ACCURACY IS ', sum(score)/len(score)*100,'%')\n",
    "# print(prediction)"
   ]
  },
  {
   "cell_type": "code",
   "execution_count": null,
   "metadata": {
    "colab": {
     "base_uri": "https://localhost:8080/",
     "height": 105
    },
    "colab_type": "code",
    "executionInfo": {
     "elapsed": 14727,
     "status": "ok",
     "timestamp": 1598285489506,
     "user": {
      "displayName": "김상권",
      "photoUrl": "",
      "userId": "10817167205999319030"
     },
     "user_tz": -540
    },
    "id": "9uwDv6lgF-C7",
    "outputId": "60db673e-7b91-46cd-c75b-b2c54045e386"
   },
   "outputs": [],
   "source": [
    "# matrix = confusion_matrix( label_test_binary, prediction_binary)\n",
    "# print('Confusion Matrix')\n",
    "# print('     Predicted    Positive      Negative')\n",
    "# print('Actual')\n",
    "# print('Positive           ',matrix[1][1],'          ',matrix[1][0] )\n",
    "# print('Negative           ',matrix[0][1],'          ',matrix[0][0] )"
   ]
  },
  {
   "cell_type": "code",
   "execution_count": null,
   "metadata": {
    "colab": {},
    "colab_type": "code",
    "id": "AgkWGF4F10sB"
   },
   "outputs": [],
   "source": [
    "# Model with Regression\n",
    "# nb_LSTM1 = 50\n",
    "# nb_LSTM2 = 20\n",
    "# dropout=0.3\n",
    "# epoch = 50\n",
    "\n",
    "# model = Sequential()\n",
    "# model.add(LSTM(nb_LSTM1, batch_input_shape=(1, lookback, 1),stateful=True,return_sequences=True))\n",
    "# model.add(Dropout(dropout))\n",
    "# model.add(LSTM(nb_LSTM2, batch_input_shape=(1, nb_LSTM1, 1),stateful=True))\n",
    "# model.add(Dense(1, activation='sigmoid'))\n",
    "# model.compile(loss='binary_crossentropy',optimizer='rmsprop',metrics=['accuracy']) \n",
    "# print(model.summary())\n",
    "\n",
    "# history = model.fit(input_train,label_train_binary, batch_size=1, epochs=epoch, verbose=2,shuffle=False)\n"
   ]
  }
 ],
 "metadata": {
  "accelerator": "GPU",
  "colab": {
   "collapsed_sections": [],
   "name": "Rawdata_1D2.ipynb",
   "provenance": []
  },
  "kernelspec": {
   "display_name": "Python 3",
   "language": "python",
   "name": "python3"
  },
  "language_info": {
   "codemirror_mode": {
    "name": "ipython",
    "version": 3
   },
   "file_extension": ".py",
   "mimetype": "text/x-python",
   "name": "python",
   "nbconvert_exporter": "python",
   "pygments_lexer": "ipython3",
   "version": "3.9.15"
  },
  "vscode": {
   "interpreter": {
    "hash": "b7a60c8f2c8d29e3138bb6141818b2f9370cc55944ffe85f7c0c63df44a79ba1"
   }
  }
 },
 "nbformat": 4,
 "nbformat_minor": 1
}
